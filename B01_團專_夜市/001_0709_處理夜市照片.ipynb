{
  "nbformat": 4,
  "nbformat_minor": 0,
  "metadata": {
    "colab": {
      "provenance": [],
      "mount_file_id": "1WJcJ0-2wbeBcmF_xlsa5S2ZTK2Ed7bTn",
      "authorship_tag": "ABX9TyPaOhDwAnlnfCogol0aanpR",
      "include_colab_link": true
    },
    "kernelspec": {
      "name": "python3",
      "display_name": "Python 3"
    },
    "language_info": {
      "name": "python"
    }
  },
  "cells": [
    {
      "cell_type": "markdown",
      "metadata": {
        "id": "view-in-github",
        "colab_type": "text"
      },
      "source": [
        "<a href=\"https://colab.research.google.com/github/Sandwhaletree/2023.05_Tibame/blob/main/B01_%E5%9C%98%E5%B0%88_%E5%A4%9C%E5%B8%82/001_0709_%E8%99%95%E7%90%86%E5%A4%9C%E5%B8%82%E7%85%A7%E7%89%87.ipynb\" target=\"_parent\"><img src=\"https://colab.research.google.com/assets/colab-badge.svg\" alt=\"Open In Colab\"/></a>"
      ]
    },
    {
      "cell_type": "markdown",
      "source": [
        "### 查看目前路徑"
      ],
      "metadata": {
        "id": "fBemJjLzQ20B"
      }
    },
    {
      "cell_type": "code",
      "source": [
        "import os\n",
        "os.getcwd()"
      ],
      "metadata": {
        "colab": {
          "base_uri": "https://localhost:8080/",
          "height": 35
        },
        "id": "AQM4o0fcQ4r8",
        "outputId": "40bc8dae-1f4c-459e-9d01-859a9127ddd4"
      },
      "execution_count": 21,
      "outputs": [
        {
          "output_type": "execute_result",
          "data": {
            "text/plain": [
              "'/content/drive/MyDrive/locostall_0804/8_東發號'"
            ],
            "application/vnd.google.colaboratory.intrinsic+json": {
              "type": "string"
            }
          },
          "metadata": {},
          "execution_count": 21
        }
      ]
    },
    {
      "cell_type": "markdown",
      "source": [
        "### 查看資料夾檔案個數"
      ],
      "metadata": {
        "id": "2RZ9ZUvhRyMQ"
      }
    },
    {
      "cell_type": "code",
      "source": [
        "#查看資料夾內檔案格式個數\n",
        "import cv2\n",
        "from glob import glob\n",
        "\n",
        "folder_path='/content/drive/MyDrive/locostall_0804/1_老芋仔'\n",
        "os.chdir(folder_path)\n",
        "\n",
        "paths_JPG = sorted(glob(folder_path+'/*.JPG'))\n",
        "paths_jpg = sorted(glob(folder_path+'/*.jpg'))\n",
        "paths_png = sorted(glob(folder_path+'/*.png'))\n",
        "paths_mp4 = sorted(glob(folder_path+'/*.mp4'))\n",
        "\n",
        "# 你可以使用len()函數來計算每個列表的長度，這將給出每種類型的文件數量。\n",
        "print(\"Number of .JPG files: \", len(paths_JPG))\n",
        "print(\"Number of .jpg files: \", len(paths_jpg))\n",
        "print(\"Number of .png files: \", len(paths_png))\n",
        "print(\"Number of .mp4 files: \", len(paths_mp4))\n"
      ],
      "metadata": {
        "colab": {
          "base_uri": "https://localhost:8080/"
        },
        "id": "8cqRoBQoX3jw",
        "outputId": "8470a993-bd65-4945-90e0-f80602f64358"
      },
      "execution_count": 26,
      "outputs": [
        {
          "output_type": "stream",
          "name": "stdout",
          "text": [
            "Number of .JPG files:  0\n",
            "Number of .jpg files:  152\n",
            "Number of .png files:  0\n",
            "Number of .mp4 files:  0\n"
          ]
        }
      ]
    },
    {
      "cell_type": "markdown",
      "source": [
        "### 讀取資料夾所有檔案(.mp4)，針對每0.5秒作截圖"
      ],
      "metadata": {
        "id": "SHaXEZLdTG5B"
      }
    },
    {
      "cell_type": "code",
      "source": [
        "from moviepy.editor import *\n",
        "import os\n",
        "import numpy as np\n",
        "\n",
        "# 設定資料夾路徑(前面已設定)\n",
        "# r=\"/content/drive/MyDrive/AI應用程式工程師/團專/Night_market/名彭下港臭豆腐\"\n",
        "# os.chdir(r) #更改路徑至想要路徑\n",
        "# folder_path = r #設定資料夾路徑\n",
        "\n",
        "# 獲取所有影片名稱\n",
        "video_files = [f for f in os.listdir(folder_path) if f.endswith('.mp4')]\n",
        "\n",
        "for video_name in video_files:\n",
        "    # 移除.mp4擴展名，只取得檔案名稱\n",
        "    name = video_name.split(\".\")[0]\n",
        "\n",
        "    video = VideoFileClip(os.path.join(folder_path, video_name))\n",
        "\n",
        "    #1_影片全長\n",
        "    duration = video.duration\n",
        "    print(\"影片長度：\", duration, \"秒\")\n",
        "    print(int(duration))\n",
        "\n",
        "    for i in np.arange(0, duration, 0.5):  # 使用numpy的arange函數，以0.5為間隔\n",
        "        frame_name = f\"{name}_{i}.jpg\"\n",
        "        frame = video.save_frame(frame_name, t = i)\n",
        "        print(frame_name)\n",
        "\n",
        "print('全部完成')"
      ],
      "metadata": {
        "id": "jBD9j28RTH8b"
      },
      "execution_count": null,
      "outputs": []
    },
    {
      "cell_type": "markdown",
      "source": [
        "### 更改檔名"
      ],
      "metadata": {
        "id": "RmC6ustlTh80"
      }
    },
    {
      "cell_type": "code",
      "source": [
        "#快速更改檔名\n",
        "import os\n",
        "\n",
        "# The directory that contains your .MOV files\n",
        "input_dir = folder_path\n",
        "\n",
        "# Get a list of all .MOV files in the input directory\n",
        "input_files = [f for f in os.listdir(input_dir) if f.endswith('.jpg')]\n",
        "\n",
        "# Sort the input files to ensure they are processed in order\n",
        "input_files.sort()\n",
        "\n",
        "# Loop over each input file\n",
        "for i, input_file in enumerate(input_files, start=1):\n",
        "    # Define the full path of the input file\n",
        "    input_path = os.path.join(input_dir, input_file)\n",
        "\n",
        "    # Define the new name of the file\n",
        "    new_file = \"MaruYaki_{:02d}.jpg\".format(i)\n",
        "\n",
        "    # Define the full path of the new file\n",
        "    new_path = os.path.join(input_dir, new_file)\n",
        "\n",
        "    # Rename the input file to the new file\n",
        "    os.rename(input_path, new_path)\n",
        "\n",
        "    # Print the new file name\n",
        "    print(new_file)\n",
        "\n",
        "print('全部完成')"
      ],
      "metadata": {
        "id": "k8bitsnNTzkr",
        "colab": {
          "base_uri": "https://localhost:8080/"
        },
        "outputId": "b1ac8200-00ed-440b-d8af-fd98f3d8d137"
      },
      "execution_count": 75,
      "outputs": [
        {
          "output_type": "stream",
          "name": "stdout",
          "text": [
            "MaruYaki_01.jpg\n",
            "MaruYaki_02.jpg\n",
            "MaruYaki_03.jpg\n",
            "MaruYaki_04.jpg\n",
            "MaruYaki_05.jpg\n",
            "MaruYaki_06.jpg\n",
            "MaruYaki_07.jpg\n",
            "MaruYaki_08.jpg\n",
            "MaruYaki_09.jpg\n",
            "MaruYaki_10.jpg\n",
            "MaruYaki_11.jpg\n",
            "MaruYaki_12.jpg\n",
            "MaruYaki_13.jpg\n",
            "MaruYaki_14.jpg\n",
            "MaruYaki_15.jpg\n",
            "MaruYaki_16.jpg\n",
            "MaruYaki_17.jpg\n",
            "MaruYaki_18.jpg\n",
            "MaruYaki_19.jpg\n",
            "MaruYaki_20.jpg\n",
            "MaruYaki_21.jpg\n",
            "MaruYaki_22.jpg\n",
            "MaruYaki_23.jpg\n",
            "MaruYaki_24.jpg\n",
            "MaruYaki_25.jpg\n",
            "MaruYaki_26.jpg\n",
            "MaruYaki_27.jpg\n",
            "MaruYaki_28.jpg\n",
            "MaruYaki_29.jpg\n",
            "MaruYaki_30.jpg\n",
            "MaruYaki_31.jpg\n",
            "MaruYaki_32.jpg\n",
            "MaruYaki_33.jpg\n",
            "MaruYaki_34.jpg\n",
            "MaruYaki_35.jpg\n",
            "MaruYaki_36.jpg\n",
            "MaruYaki_37.jpg\n",
            "MaruYaki_38.jpg\n",
            "MaruYaki_39.jpg\n",
            "MaruYaki_40.jpg\n",
            "MaruYaki_41.jpg\n",
            "MaruYaki_42.jpg\n",
            "MaruYaki_43.jpg\n",
            "MaruYaki_44.jpg\n",
            "MaruYaki_45.jpg\n",
            "MaruYaki_46.jpg\n",
            "MaruYaki_47.jpg\n",
            "MaruYaki_48.jpg\n",
            "MaruYaki_49.jpg\n",
            "MaruYaki_50.jpg\n",
            "MaruYaki_51.jpg\n",
            "MaruYaki_52.jpg\n",
            "MaruYaki_53.jpg\n",
            "MaruYaki_54.jpg\n",
            "MaruYaki_55.jpg\n",
            "MaruYaki_56.jpg\n",
            "MaruYaki_57.jpg\n",
            "MaruYaki_58.jpg\n",
            "MaruYaki_59.jpg\n",
            "MaruYaki_60.jpg\n",
            "MaruYaki_61.jpg\n",
            "MaruYaki_62.jpg\n",
            "MaruYaki_63.jpg\n",
            "MaruYaki_64.jpg\n",
            "MaruYaki_65.jpg\n",
            "MaruYaki_66.jpg\n",
            "MaruYaki_67.jpg\n",
            "MaruYaki_68.jpg\n",
            "MaruYaki_69.jpg\n",
            "全部完成\n"
          ]
        }
      ]
    },
    {
      "cell_type": "markdown",
      "source": [
        "### 壓縮檔案"
      ],
      "metadata": {
        "id": "iaiAm6VzYVIX"
      }
    },
    {
      "cell_type": "code",
      "source": [
        "#查看資料夾內檔案格式個數\n",
        "folder_path='/content/drive/MyDrive/locostall_0804/9_圓圓燒'\n",
        "os.chdir(folder_path)\n",
        "\n",
        "print(folder_path)\n",
        "paths_JPG = sorted(glob(folder_path+'/*.JPG'))\n",
        "paths_jpg = sorted(glob(folder_path+'/*.jpg'))\n",
        "paths_png = sorted(glob(folder_path+'/*.png'))\n",
        "paths_mp4 = sorted(glob(folder_path+'/*.mp4'))\n",
        "\n",
        "# 你可以使用len()函數來計算每個列表的長度，這將給出每種類型的文件數量。\n",
        "print(\"Number of .JPG files: \", len(paths_JPG))\n",
        "print(\"Number of .jpg files: \", len(paths_jpg))\n",
        "print(\"Number of .png files: \", len(paths_png))\n",
        "print(\"Number of .mp4 files: \", len(paths_mp4))"
      ],
      "metadata": {
        "colab": {
          "base_uri": "https://localhost:8080/"
        },
        "id": "ijxTWP41YWVV",
        "outputId": "cc2f1e0d-6045-4023-8488-f392a74ab588"
      },
      "execution_count": 73,
      "outputs": [
        {
          "output_type": "stream",
          "name": "stdout",
          "text": [
            "/content/drive/MyDrive/locostall_0804/9_圓圓燒\n",
            "Number of .JPG files:  0\n",
            "Number of .jpg files:  36\n",
            "Number of .png files:  0\n",
            "Number of .mp4 files:  0\n"
          ]
        }
      ]
    },
    {
      "cell_type": "code",
      "source": [
        "os.getcwd()"
      ],
      "metadata": {
        "colab": {
          "base_uri": "https://localhost:8080/",
          "height": 35
        },
        "id": "cEM2FcJehNTa",
        "outputId": "3eb44c7b-0e95-458b-c8e9-937c130556c6"
      },
      "execution_count": 62,
      "outputs": [
        {
          "output_type": "execute_result",
          "data": {
            "text/plain": [
              "'/content/drive/MyDrive/locostall_0804/5_連家清燉豬腳'"
            ],
            "application/vnd.google.colaboratory.intrinsic+json": {
              "type": "string"
            }
          },
          "metadata": {},
          "execution_count": 62
        }
      ]
    },
    {
      "cell_type": "code",
      "source": [
        "#cv2.IMWRITE_JPEG_QUALITY 0~100\n",
        "tag='MaruYaki'\n",
        "\n",
        "for i in range(0, len(paths_JPG)):\n",
        "  img = cv2.imread(paths_JPG[i])[:,:,::-1]\n",
        "  cv2.imwrite(f\"/content/drive/MyDrive/locostall_0804/1_老芋仔/{tag}_{i:03}.jpg\", img[:,:,::-1], [cv2.IMWRITE_JPEG_QUALITY, 20])\n",
        "for i in range(0, len(paths_png)):\n",
        "  img = cv2.imread(paths_png[i])[:,:,::-1]\n",
        "  cv2.imwrite(f\"/content/drive/MyDrive/locostall_0804/1_老芋仔/{tag}_{i:03}.jpg\", img[:,:,::-1], [cv2.IMWRITE_JPEG_QUALITY, 40])\n",
        "\n",
        "#jpg 可改可不改 Quality\n",
        "for i in range(0, len(paths_jpg)):\n",
        "    try:\n",
        "        img = cv2.imread(paths_jpg[i])[:,:,::-1]\n",
        "        cv2.imwrite(f\"/content/drive/MyDrive/locostall_0804/9_圓圓燒/{tag}_{i:03}.jpg\", img[:,:,::-1])\n",
        "        print(\"完成\",paths_jpg[i])\n",
        "    except TypeError:\n",
        "        print(f\"Unable to read or process image at {paths_jpg[i]}\")"
      ],
      "metadata": {
        "colab": {
          "base_uri": "https://localhost:8080/"
        },
        "id": "gz7upeaVYlZj",
        "outputId": "36ac750f-53ed-4cda-8d54-23e565b11382"
      },
      "execution_count": 74,
      "outputs": [
        {
          "output_type": "stream",
          "name": "stdout",
          "text": [
            "Unable to read or process image at /content/drive/MyDrive/locostall_0804/9_圓圓燒/MaruYaki_036.jpg\n",
            "Unable to read or process image at /content/drive/MyDrive/locostall_0804/9_圓圓燒/MaruYaki_037.jpg\n",
            "完成 /content/drive/MyDrive/locostall_0804/9_圓圓燒/MaruYaki_039.jpg\n",
            "完成 /content/drive/MyDrive/locostall_0804/9_圓圓燒/MaruYaki_040.jpg\n",
            "完成 /content/drive/MyDrive/locostall_0804/9_圓圓燒/MaruYaki_041.jpg\n",
            "完成 /content/drive/MyDrive/locostall_0804/9_圓圓燒/MaruYaki_042.jpg\n",
            "完成 /content/drive/MyDrive/locostall_0804/9_圓圓燒/MaruYaki_043.jpg\n",
            "完成 /content/drive/MyDrive/locostall_0804/9_圓圓燒/MaruYaki_044.jpg\n",
            "完成 /content/drive/MyDrive/locostall_0804/9_圓圓燒/MaruYaki_045.jpg\n",
            "完成 /content/drive/MyDrive/locostall_0804/9_圓圓燒/MaruYaki_046.jpg\n",
            "完成 /content/drive/MyDrive/locostall_0804/9_圓圓燒/MaruYaki_047.jpg\n",
            "完成 /content/drive/MyDrive/locostall_0804/9_圓圓燒/MaruYaki_048.jpg\n",
            "完成 /content/drive/MyDrive/locostall_0804/9_圓圓燒/MaruYaki_049.jpg\n",
            "完成 /content/drive/MyDrive/locostall_0804/9_圓圓燒/MaruYaki_050.jpg\n",
            "完成 /content/drive/MyDrive/locostall_0804/9_圓圓燒/MaruYaki_051.jpg\n",
            "完成 /content/drive/MyDrive/locostall_0804/9_圓圓燒/MaruYaki_052.jpg\n",
            "完成 /content/drive/MyDrive/locostall_0804/9_圓圓燒/MaruYaki_053.jpg\n",
            "完成 /content/drive/MyDrive/locostall_0804/9_圓圓燒/MaruYaki_054.jpg\n",
            "完成 /content/drive/MyDrive/locostall_0804/9_圓圓燒/MaruYaki_055.jpg\n",
            "完成 /content/drive/MyDrive/locostall_0804/9_圓圓燒/MaruYaki_056.jpg\n",
            "完成 /content/drive/MyDrive/locostall_0804/9_圓圓燒/MaruYaki_057.jpg\n",
            "完成 /content/drive/MyDrive/locostall_0804/9_圓圓燒/MaruYaki_058.jpg\n",
            "完成 /content/drive/MyDrive/locostall_0804/9_圓圓燒/MaruYaki_059.jpg\n",
            "完成 /content/drive/MyDrive/locostall_0804/9_圓圓燒/MaruYaki_060.jpg\n",
            "完成 /content/drive/MyDrive/locostall_0804/9_圓圓燒/MaruYaki_061.jpg\n",
            "完成 /content/drive/MyDrive/locostall_0804/9_圓圓燒/MaruYaki_062.jpg\n",
            "完成 /content/drive/MyDrive/locostall_0804/9_圓圓燒/MaruYaki_063.jpg\n",
            "完成 /content/drive/MyDrive/locostall_0804/9_圓圓燒/MaruYaki_064.jpg\n",
            "完成 /content/drive/MyDrive/locostall_0804/9_圓圓燒/MaruYaki_065.jpg\n",
            "完成 /content/drive/MyDrive/locostall_0804/9_圓圓燒/MaruYaki_066.jpg\n",
            "完成 /content/drive/MyDrive/locostall_0804/9_圓圓燒/MaruYaki_067.jpg\n",
            "完成 /content/drive/MyDrive/locostall_0804/9_圓圓燒/MaruYaki_068.jpg\n",
            "完成 /content/drive/MyDrive/locostall_0804/9_圓圓燒/MaruYaki_069.jpg\n",
            "完成 /content/drive/MyDrive/locostall_0804/9_圓圓燒/MaruYaki_070.jpg\n",
            "完成 /content/drive/MyDrive/locostall_0804/9_圓圓燒/MaruYaki_071.jpg\n",
            "完成 /content/drive/MyDrive/locostall_0804/9_圓圓燒/MaruYaki_072.jpg\n"
          ]
        }
      ]
    },
    {
      "cell_type": "markdown",
      "source": [
        "### 針對新檔案重新編碼"
      ],
      "metadata": {
        "id": "pr5FPVIxzXxv"
      }
    },
    {
      "cell_type": "code",
      "source": [
        "import os\n",
        "\n",
        "folder_path='/content/drive/MyDrive/locostall_0804/9_圓圓燒/file'\n",
        "os.chdir(folder_path)\n",
        "\n",
        "# The directory that contains your .jpg files\n",
        "input_dir = folder_path\n",
        "\n",
        "# Get a list of all .jpg files in the input directory\n",
        "input_files = [f for f in os.listdir(input_dir) if f.endswith('.jpg')]\n",
        "\n",
        "# Sort the input files to ensure they are processed in order\n",
        "input_files.sort()\n",
        "\n",
        "# Get the starting index for renaming\n",
        "start_index = 100  # you can change this to suit your needs\n",
        "\n",
        "# Loop over each input file\n",
        "for i, input_file in enumerate(input_files, start=start_index):\n",
        "    # Define the full path of the input file\n",
        "    input_path = os.path.join(input_dir, input_file)\n",
        "\n",
        "    # Define the new name of the file\n",
        "    new_file = \"MaruYaki_{:03d}.jpg\".format(i)\n",
        "\n",
        "    # Define the full path of the new file\n",
        "    new_path = os.path.join(input_dir, new_file)\n",
        "\n",
        "    # Rename the input file to the new file\n",
        "    os.rename(input_path, new_path)\n",
        "\n",
        "    # Print the new file name\n",
        "    print(new_file)\n",
        "\n",
        "print('全部完成')"
      ],
      "metadata": {
        "id": "zx8qHD-vxrX9",
        "outputId": "e0a8a453-5d9c-4a28-a1d1-04ae4704c642",
        "colab": {
          "base_uri": "https://localhost:8080/"
        }
      },
      "execution_count": 76,
      "outputs": [
        {
          "output_type": "stream",
          "name": "stdout",
          "text": [
            "MaruYaki_100.jpg\n",
            "MaruYaki_101.jpg\n",
            "MaruYaki_102.jpg\n",
            "MaruYaki_103.jpg\n",
            "MaruYaki_104.jpg\n",
            "MaruYaki_105.jpg\n",
            "全部完成\n"
          ]
        }
      ]
    }
  ]
}