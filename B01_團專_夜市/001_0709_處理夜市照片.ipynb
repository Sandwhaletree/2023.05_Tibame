{
  "nbformat": 4,
  "nbformat_minor": 0,
  "metadata": {
    "colab": {
      "provenance": [],
      "mount_file_id": "1WJcJ0-2wbeBcmF_xlsa5S2ZTK2Ed7bTn",
      "authorship_tag": "ABX9TyPfkdHZxAwAkr/fkRfpeG0l",
      "include_colab_link": true
    },
    "kernelspec": {
      "name": "python3",
      "display_name": "Python 3"
    },
    "language_info": {
      "name": "python"
    }
  },
  "cells": [
    {
      "cell_type": "markdown",
      "metadata": {
        "id": "view-in-github",
        "colab_type": "text"
      },
      "source": [
        "<a href=\"https://colab.research.google.com/github/Sandwhaletree/2023.05_Tibame/blob/main/B01_%E5%9C%98%E5%B0%88_%E5%A4%9C%E5%B8%82/001_0709_%E8%99%95%E7%90%86%E5%A4%9C%E5%B8%82%E7%85%A7%E7%89%87.ipynb\" target=\"_parent\"><img src=\"https://colab.research.google.com/assets/colab-badge.svg\" alt=\"Open In Colab\"/></a>"
      ]
    },
    {
      "cell_type": "markdown",
      "source": [
        "### 查看目前路徑"
      ],
      "metadata": {
        "id": "fBemJjLzQ20B"
      }
    },
    {
      "cell_type": "code",
      "source": [
        "import os\n",
        "os.getcwd()"
      ],
      "metadata": {
        "colab": {
          "base_uri": "https://localhost:8080/",
          "height": 35
        },
        "id": "AQM4o0fcQ4r8",
        "outputId": "40bc8dae-1f4c-459e-9d01-859a9127ddd4"
      },
      "execution_count": 21,
      "outputs": [
        {
          "output_type": "execute_result",
          "data": {
            "text/plain": [
              "'/content/drive/MyDrive/locostall_0804/8_東發號'"
            ],
            "application/vnd.google.colaboratory.intrinsic+json": {
              "type": "string"
            }
          },
          "metadata": {},
          "execution_count": 21
        }
      ]
    },
    {
      "cell_type": "markdown",
      "source": [
        "### 查看資料夾檔案個數"
      ],
      "metadata": {
        "id": "2RZ9ZUvhRyMQ"
      }
    },
    {
      "cell_type": "code",
      "source": [
        "#查看資料夾內檔案格式個數\n",
        "import cv2\n",
        "from glob import glob\n",
        "\n",
        "folder_path='/content/drive/MyDrive/locostall_0804/1_老芋仔'\n",
        "os.chdir(folder_path)\n",
        "\n",
        "paths_JPG = sorted(glob(folder_path+'/*.JPG'))\n",
        "paths_jpg = sorted(glob(folder_path+'/*.jpg'))\n",
        "paths_png = sorted(glob(folder_path+'/*.png'))\n",
        "paths_mp4 = sorted(glob(folder_path+'/*.mp4'))\n",
        "\n",
        "# 你可以使用len()函數來計算每個列表的長度，這將給出每種類型的文件數量。\n",
        "print(\"Number of .JPG files: \", len(paths_JPG))\n",
        "print(\"Number of .jpg files: \", len(paths_jpg))\n",
        "print(\"Number of .png files: \", len(paths_png))\n",
        "print(\"Number of .mp4 files: \", len(paths_mp4))\n"
      ],
      "metadata": {
        "colab": {
          "base_uri": "https://localhost:8080/"
        },
        "id": "8cqRoBQoX3jw",
        "outputId": "8470a993-bd65-4945-90e0-f80602f64358"
      },
      "execution_count": 26,
      "outputs": [
        {
          "output_type": "stream",
          "name": "stdout",
          "text": [
            "Number of .JPG files:  0\n",
            "Number of .jpg files:  152\n",
            "Number of .png files:  0\n",
            "Number of .mp4 files:  0\n"
          ]
        }
      ]
    },
    {
      "cell_type": "markdown",
      "source": [
        "### 讀取資料夾所有檔案(.mp4)，針對每0.5秒作截圖"
      ],
      "metadata": {
        "id": "SHaXEZLdTG5B"
      }
    },
    {
      "cell_type": "code",
      "source": [
        "from moviepy.editor import *\n",
        "import os\n",
        "import numpy as np\n",
        "\n",
        "# 設定資料夾路徑(前面已設定)\n",
        "# r=\"/content/drive/MyDrive/AI應用程式工程師/團專/Night_market/名彭下港臭豆腐\"\n",
        "# os.chdir(r) #更改路徑至想要路徑\n",
        "# folder_path = r #設定資料夾路徑\n",
        "\n",
        "# 獲取所有影片名稱\n",
        "video_files = [f for f in os.listdir(folder_path) if f.endswith('.mp4')]\n",
        "\n",
        "for video_name in video_files:\n",
        "    # 移除.mp4擴展名，只取得檔案名稱\n",
        "    name = video_name.split(\".\")[0]\n",
        "\n",
        "    video = VideoFileClip(os.path.join(folder_path, video_name))\n",
        "\n",
        "    #1_影片全長\n",
        "    duration = video.duration\n",
        "    print(\"影片長度：\", duration, \"秒\")\n",
        "    print(int(duration))\n",
        "\n",
        "    for i in np.arange(0, duration, 0.5):  # 使用numpy的arange函數，以0.5為間隔\n",
        "        frame_name = f\"{name}_{i}.jpg\"\n",
        "        frame = video.save_frame(frame_name, t = i)\n",
        "        print(frame_name)\n",
        "\n",
        "print('全部完成')"
      ],
      "metadata": {
        "id": "jBD9j28RTH8b"
      },
      "execution_count": null,
      "outputs": []
    },
    {
      "cell_type": "markdown",
      "source": [
        "### 更改檔名"
      ],
      "metadata": {
        "id": "RmC6ustlTh80"
      }
    },
    {
      "cell_type": "code",
      "source": [
        "#快速更改檔名\n",
        "import os\n",
        "\n",
        "# The directory that contains your .MOV files\n",
        "input_dir = folder_path\n",
        "\n",
        "# Get a list of all .MOV files in the input directory\n",
        "input_files = [f for f in os.listdir(input_dir) if f.endswith('.jpg')]\n",
        "\n",
        "# Sort the input files to ensure they are processed in order\n",
        "input_files.sort()\n",
        "\n",
        "# Loop over each input file\n",
        "for i, input_file in enumerate(input_files, start=1):\n",
        "    # Define the full path of the input file\n",
        "    input_path = os.path.join(input_dir, input_file)\n",
        "\n",
        "    # Define the new name of the file\n",
        "    new_file = \"8_{:02d}.jpg\".format(i)\n",
        "\n",
        "    # Define the full path of the new file\n",
        "    new_path = os.path.join(input_dir, new_file)\n",
        "\n",
        "    # Rename the input file to the new file\n",
        "    os.rename(input_path, new_path)\n",
        "\n",
        "    # Print the new file name\n",
        "    print(new_file)\n",
        "\n",
        "print('全部完成')"
      ],
      "metadata": {
        "id": "k8bitsnNTzkr"
      },
      "execution_count": null,
      "outputs": []
    },
    {
      "cell_type": "markdown",
      "source": [
        "### 壓縮檔案"
      ],
      "metadata": {
        "id": "iaiAm6VzYVIX"
      }
    },
    {
      "cell_type": "code",
      "source": [
        "#查看資料夾內檔案格式個數\n",
        "folder_path='/content/drive/MyDrive/locostall_0804/3_名彭下港臭豆腐'\n",
        "os.chdir(folder_path)\n",
        "\n",
        "print(folder_path)\n",
        "paths_JPG = sorted(glob(folder_path+'/*.JPG'))\n",
        "paths_jpg = sorted(glob(folder_path+'/*.jpg'))\n",
        "paths_png = sorted(glob(folder_path+'/*.png'))\n",
        "paths_mp4 = sorted(glob(folder_path+'/*.mp4'))\n",
        "\n",
        "# 你可以使用len()函數來計算每個列表的長度，這將給出每種類型的文件數量。\n",
        "print(\"Number of .JPG files: \", len(paths_JPG))\n",
        "print(\"Number of .jpg files: \", len(paths_jpg))\n",
        "print(\"Number of .png files: \", len(paths_png))\n",
        "print(\"Number of .mp4 files: \", len(paths_mp4))"
      ],
      "metadata": {
        "id": "ijxTWP41YWVV",
        "outputId": "fe44c287-1e74-44f4-9584-5cb58802ba9d",
        "colab": {
          "base_uri": "https://localhost:8080/"
        }
      },
      "execution_count": 69,
      "outputs": [
        {
          "output_type": "stream",
          "name": "stdout",
          "text": [
            "/content/drive/MyDrive/locostall_0804/3_名彭下港臭豆腐\n",
            "Number of .JPG files:  0\n",
            "Number of .jpg files:  93\n",
            "Number of .png files:  0\n",
            "Number of .mp4 files:  0\n"
          ]
        }
      ]
    },
    {
      "cell_type": "code",
      "source": [
        "os.getcwd()"
      ],
      "metadata": {
        "id": "cEM2FcJehNTa",
        "outputId": "3eb44c7b-0e95-458b-c8e9-937c130556c6",
        "colab": {
          "base_uri": "https://localhost:8080/",
          "height": 35
        }
      },
      "execution_count": 62,
      "outputs": [
        {
          "output_type": "execute_result",
          "data": {
            "text/plain": [
              "'/content/drive/MyDrive/locostall_0804/5_連家清燉豬腳'"
            ],
            "application/vnd.google.colaboratory.intrinsic+json": {
              "type": "string"
            }
          },
          "metadata": {},
          "execution_count": 62
        }
      ]
    },
    {
      "cell_type": "code",
      "source": [
        "#cv2.IMWRITE_JPEG_QUALITY 0~100\n",
        "tag='Tofu'\n",
        "\n",
        "for i in range(0, len(paths_JPG)):\n",
        "  img = cv2.imread(paths_JPG[i])[:,:,::-1]\n",
        "  cv2.imwrite(f\"/content/drive/MyDrive/locostall_0804/1_老芋仔/{tag}_{i:03}.jpg\", img[:,:,::-1], [cv2.IMWRITE_JPEG_QUALITY, 20])\n",
        "for i in range(0, len(paths_png)):\n",
        "  img = cv2.imread(paths_png[i])[:,:,::-1]\n",
        "  cv2.imwrite(f\"/content/drive/MyDrive/locostall_0804/1_老芋仔/{tag}_{i:03}.jpg\", img[:,:,::-1], [cv2.IMWRITE_JPEG_QUALITY, 40])\n",
        "\n",
        "#jpg 可改可不改 Quality\n",
        "for i in range(0, len(paths_jpg)):\n",
        "    try:\n",
        "        img = cv2.imread(paths_jpg[i])[:,:,::-1]\n",
        "        cv2.imwrite(f\"/content/drive/MyDrive/locostall_0804/3_名彭下港臭豆腐/{tag}_{i:03}.jpg\", img[:,:,::-1])\n",
        "        print(\"完成\",paths_jpg[i])\n",
        "    except TypeError:\n",
        "        print(f\"Unable to read or process image at {paths_jpg[i]}\")"
      ],
      "metadata": {
        "id": "gz7upeaVYlZj",
        "outputId": "c02b2b9a-9467-4dc4-ed2c-163addc427a6",
        "colab": {
          "base_uri": "https://localhost:8080/"
        }
      },
      "execution_count": 70,
      "outputs": [
        {
          "output_type": "stream",
          "name": "stdout",
          "text": [
            "完成 /content/drive/MyDrive/locostall_0804/3_名彭下港臭豆腐/3_01.jpg\n",
            "完成 /content/drive/MyDrive/locostall_0804/3_名彭下港臭豆腐/3_02.jpg\n",
            "完成 /content/drive/MyDrive/locostall_0804/3_名彭下港臭豆腐/3_04.jpg\n",
            "完成 /content/drive/MyDrive/locostall_0804/3_名彭下港臭豆腐/3_06.jpg\n",
            "完成 /content/drive/MyDrive/locostall_0804/3_名彭下港臭豆腐/3_08.jpg\n",
            "完成 /content/drive/MyDrive/locostall_0804/3_名彭下港臭豆腐/3_10.jpg\n",
            "完成 /content/drive/MyDrive/locostall_0804/3_名彭下港臭豆腐/3_101.jpg\n",
            "完成 /content/drive/MyDrive/locostall_0804/3_名彭下港臭豆腐/3_102.jpg\n",
            "完成 /content/drive/MyDrive/locostall_0804/3_名彭下港臭豆腐/3_103.jpg\n",
            "完成 /content/drive/MyDrive/locostall_0804/3_名彭下港臭豆腐/3_104.jpg\n",
            "完成 /content/drive/MyDrive/locostall_0804/3_名彭下港臭豆腐/3_105.jpg\n",
            "完成 /content/drive/MyDrive/locostall_0804/3_名彭下港臭豆腐/3_106.jpg\n",
            "完成 /content/drive/MyDrive/locostall_0804/3_名彭下港臭豆腐/3_107.jpg\n",
            "完成 /content/drive/MyDrive/locostall_0804/3_名彭下港臭豆腐/3_108.jpg\n",
            "完成 /content/drive/MyDrive/locostall_0804/3_名彭下港臭豆腐/3_109.jpg\n",
            "完成 /content/drive/MyDrive/locostall_0804/3_名彭下港臭豆腐/3_110.jpg\n",
            "完成 /content/drive/MyDrive/locostall_0804/3_名彭下港臭豆腐/3_111.jpg\n",
            "完成 /content/drive/MyDrive/locostall_0804/3_名彭下港臭豆腐/3_113.jpg\n",
            "完成 /content/drive/MyDrive/locostall_0804/3_名彭下港臭豆腐/3_114.jpg\n",
            "完成 /content/drive/MyDrive/locostall_0804/3_名彭下港臭豆腐/3_116.jpg\n",
            "完成 /content/drive/MyDrive/locostall_0804/3_名彭下港臭豆腐/3_117.jpg\n",
            "完成 /content/drive/MyDrive/locostall_0804/3_名彭下港臭豆腐/3_118.jpg\n",
            "完成 /content/drive/MyDrive/locostall_0804/3_名彭下港臭豆腐/3_119.jpg\n",
            "完成 /content/drive/MyDrive/locostall_0804/3_名彭下港臭豆腐/3_12.jpg\n",
            "完成 /content/drive/MyDrive/locostall_0804/3_名彭下港臭豆腐/3_135.jpg\n",
            "完成 /content/drive/MyDrive/locostall_0804/3_名彭下港臭豆腐/3_136.jpg\n",
            "完成 /content/drive/MyDrive/locostall_0804/3_名彭下港臭豆腐/3_14.jpg\n",
            "完成 /content/drive/MyDrive/locostall_0804/3_名彭下港臭豆腐/3_16.jpg\n",
            "完成 /content/drive/MyDrive/locostall_0804/3_名彭下港臭豆腐/3_169.jpg\n",
            "完成 /content/drive/MyDrive/locostall_0804/3_名彭下港臭豆腐/3_17.jpg\n",
            "完成 /content/drive/MyDrive/locostall_0804/3_名彭下港臭豆腐/3_170.jpg\n",
            "完成 /content/drive/MyDrive/locostall_0804/3_名彭下港臭豆腐/3_178.jpg\n",
            "完成 /content/drive/MyDrive/locostall_0804/3_名彭下港臭豆腐/3_179.jpg\n",
            "完成 /content/drive/MyDrive/locostall_0804/3_名彭下港臭豆腐/3_180.jpg\n",
            "完成 /content/drive/MyDrive/locostall_0804/3_名彭下港臭豆腐/3_181.jpg\n",
            "完成 /content/drive/MyDrive/locostall_0804/3_名彭下港臭豆腐/3_183.jpg\n",
            "完成 /content/drive/MyDrive/locostall_0804/3_名彭下港臭豆腐/3_184.jpg\n",
            "完成 /content/drive/MyDrive/locostall_0804/3_名彭下港臭豆腐/3_185.jpg\n",
            "完成 /content/drive/MyDrive/locostall_0804/3_名彭下港臭豆腐/3_19.jpg\n",
            "完成 /content/drive/MyDrive/locostall_0804/3_名彭下港臭豆腐/3_21.jpg\n",
            "完成 /content/drive/MyDrive/locostall_0804/3_名彭下港臭豆腐/3_22.jpg\n",
            "完成 /content/drive/MyDrive/locostall_0804/3_名彭下港臭豆腐/3_24.jpg\n",
            "完成 /content/drive/MyDrive/locostall_0804/3_名彭下港臭豆腐/3_25.jpg\n",
            "完成 /content/drive/MyDrive/locostall_0804/3_名彭下港臭豆腐/3_27.jpg\n",
            "完成 /content/drive/MyDrive/locostall_0804/3_名彭下港臭豆腐/3_29.jpg\n",
            "完成 /content/drive/MyDrive/locostall_0804/3_名彭下港臭豆腐/3_31.jpg\n",
            "完成 /content/drive/MyDrive/locostall_0804/3_名彭下港臭豆腐/3_33.jpg\n",
            "完成 /content/drive/MyDrive/locostall_0804/3_名彭下港臭豆腐/3_35.jpg\n",
            "完成 /content/drive/MyDrive/locostall_0804/3_名彭下港臭豆腐/3_36.jpg\n",
            "完成 /content/drive/MyDrive/locostall_0804/3_名彭下港臭豆腐/3_37.jpg\n",
            "完成 /content/drive/MyDrive/locostall_0804/3_名彭下港臭豆腐/3_38.jpg\n",
            "完成 /content/drive/MyDrive/locostall_0804/3_名彭下港臭豆腐/3_39.jpg\n",
            "完成 /content/drive/MyDrive/locostall_0804/3_名彭下港臭豆腐/3_40.jpg\n",
            "完成 /content/drive/MyDrive/locostall_0804/3_名彭下港臭豆腐/3_41.jpg\n",
            "完成 /content/drive/MyDrive/locostall_0804/3_名彭下港臭豆腐/3_42.jpg\n",
            "完成 /content/drive/MyDrive/locostall_0804/3_名彭下港臭豆腐/3_43.jpg\n",
            "完成 /content/drive/MyDrive/locostall_0804/3_名彭下港臭豆腐/3_44.jpg\n",
            "完成 /content/drive/MyDrive/locostall_0804/3_名彭下港臭豆腐/3_47.jpg\n",
            "完成 /content/drive/MyDrive/locostall_0804/3_名彭下港臭豆腐/3_48.jpg\n",
            "完成 /content/drive/MyDrive/locostall_0804/3_名彭下港臭豆腐/3_49.jpg\n",
            "完成 /content/drive/MyDrive/locostall_0804/3_名彭下港臭豆腐/3_50.jpg\n",
            "完成 /content/drive/MyDrive/locostall_0804/3_名彭下港臭豆腐/3_53.jpg\n",
            "完成 /content/drive/MyDrive/locostall_0804/3_名彭下港臭豆腐/3_54.jpg\n",
            "完成 /content/drive/MyDrive/locostall_0804/3_名彭下港臭豆腐/3_57.jpg\n",
            "完成 /content/drive/MyDrive/locostall_0804/3_名彭下港臭豆腐/3_62.jpg\n",
            "完成 /content/drive/MyDrive/locostall_0804/3_名彭下港臭豆腐/3_63.jpg\n",
            "完成 /content/drive/MyDrive/locostall_0804/3_名彭下港臭豆腐/3_64.jpg\n",
            "完成 /content/drive/MyDrive/locostall_0804/3_名彭下港臭豆腐/3_65.jpg\n",
            "完成 /content/drive/MyDrive/locostall_0804/3_名彭下港臭豆腐/3_66.jpg\n",
            "完成 /content/drive/MyDrive/locostall_0804/3_名彭下港臭豆腐/3_67.jpg\n",
            "完成 /content/drive/MyDrive/locostall_0804/3_名彭下港臭豆腐/3_68.jpg\n",
            "完成 /content/drive/MyDrive/locostall_0804/3_名彭下港臭豆腐/3_69.jpg\n",
            "完成 /content/drive/MyDrive/locostall_0804/3_名彭下港臭豆腐/3_70.jpg\n",
            "完成 /content/drive/MyDrive/locostall_0804/3_名彭下港臭豆腐/3_71.jpg\n",
            "完成 /content/drive/MyDrive/locostall_0804/3_名彭下港臭豆腐/3_72.jpg\n",
            "完成 /content/drive/MyDrive/locostall_0804/3_名彭下港臭豆腐/3_73.jpg\n",
            "完成 /content/drive/MyDrive/locostall_0804/3_名彭下港臭豆腐/3_74.jpg\n",
            "完成 /content/drive/MyDrive/locostall_0804/3_名彭下港臭豆腐/3_75.jpg\n",
            "完成 /content/drive/MyDrive/locostall_0804/3_名彭下港臭豆腐/3_76.jpg\n",
            "完成 /content/drive/MyDrive/locostall_0804/3_名彭下港臭豆腐/3_77.jpg\n",
            "完成 /content/drive/MyDrive/locostall_0804/3_名彭下港臭豆腐/3_78.jpg\n",
            "完成 /content/drive/MyDrive/locostall_0804/3_名彭下港臭豆腐/3_79.jpg\n",
            "完成 /content/drive/MyDrive/locostall_0804/3_名彭下港臭豆腐/3_80.jpg\n",
            "完成 /content/drive/MyDrive/locostall_0804/3_名彭下港臭豆腐/3_81.jpg\n",
            "完成 /content/drive/MyDrive/locostall_0804/3_名彭下港臭豆腐/3_87.jpg\n",
            "完成 /content/drive/MyDrive/locostall_0804/3_名彭下港臭豆腐/3_88.jpg\n",
            "完成 /content/drive/MyDrive/locostall_0804/3_名彭下港臭豆腐/3_89.jpg\n",
            "完成 /content/drive/MyDrive/locostall_0804/3_名彭下港臭豆腐/3_90.jpg\n",
            "完成 /content/drive/MyDrive/locostall_0804/3_名彭下港臭豆腐/3_91.jpg\n",
            "完成 /content/drive/MyDrive/locostall_0804/3_名彭下港臭豆腐/3_92.jpg\n",
            "完成 /content/drive/MyDrive/locostall_0804/3_名彭下港臭豆腐/3_94.jpg\n",
            "完成 /content/drive/MyDrive/locostall_0804/3_名彭下港臭豆腐/3_95.jpg\n",
            "完成 /content/drive/MyDrive/locostall_0804/3_名彭下港臭豆腐/3_96.jpg\n"
          ]
        }
      ]
    }
  ]
}