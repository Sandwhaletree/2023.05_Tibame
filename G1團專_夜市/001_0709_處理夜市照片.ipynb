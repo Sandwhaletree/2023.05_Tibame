{
  "nbformat": 4,
  "nbformat_minor": 0,
  "metadata": {
    "colab": {
      "provenance": [],
      "mount_file_id": "1WJcJ0-2wbeBcmF_xlsa5S2ZTK2Ed7bTn",
      "authorship_tag": "ABX9TyNowsLKz5r65TEJzOcoM7Pf",
      "include_colab_link": true
    },
    "kernelspec": {
      "name": "python3",
      "display_name": "Python 3"
    },
    "language_info": {
      "name": "python"
    }
  },
  "cells": [
    {
      "cell_type": "markdown",
      "metadata": {
        "id": "view-in-github",
        "colab_type": "text"
      },
      "source": [
        "<a href=\"https://colab.research.google.com/github/Sandwhaletree/2023.05_Tibame/blob/main/G1%E5%9C%98%E5%B0%88_%E5%A4%9C%E5%B8%82/001_0709_%E8%99%95%E7%90%86%E5%A4%9C%E5%B8%82%E7%85%A7%E7%89%87.ipynb\" target=\"_parent\"><img src=\"https://colab.research.google.com/assets/colab-badge.svg\" alt=\"Open In Colab\"/></a>"
      ]
    },
    {
      "cell_type": "markdown",
      "source": [
        "### 查看目前路徑"
      ],
      "metadata": {
        "id": "fBemJjLzQ20B"
      }
    },
    {
      "cell_type": "code",
      "source": [
        "import os\n",
        "os.getcwd()"
      ],
      "metadata": {
        "colab": {
          "base_uri": "https://localhost:8080/",
          "height": 35
        },
        "id": "AQM4o0fcQ4r8",
        "outputId": "d2bdfacf-2a45-4cf0-e23f-4f037e557683"
      },
      "execution_count": 1,
      "outputs": [
        {
          "output_type": "execute_result",
          "data": {
            "text/plain": [
              "'/content'"
            ],
            "application/vnd.google.colaboratory.intrinsic+json": {
              "type": "string"
            }
          },
          "metadata": {},
          "execution_count": 1
        }
      ]
    },
    {
      "cell_type": "markdown",
      "source": [
        "### 查看資料夾檔案個數"
      ],
      "metadata": {
        "id": "2RZ9ZUvhRyMQ"
      }
    },
    {
      "cell_type": "code",
      "source": [
        "import os\n",
        "\n",
        "r=\"/content/drive/MyDrive/AI應用程式工程師/團專/Night_market/名彭下港臭豆腐\"\n",
        "\n",
        "os.chdir(r) #更改路徑至想要路徑\n",
        "folder_path = r #設定資料夾路徑\n",
        "\n",
        "# 取得資料夾中的檔案列表\n",
        "file_list = os.listdir(folder_path)\n",
        "\n",
        "# 計算檔案列表的長度\n",
        "num_files = len(file_list)\n",
        "\n",
        "# 印出資料夾中的檔案數量\n",
        "print(f\"資料夾中有 {num_files} 個檔案\")\n",
        "# print(type(file_list)) #list\n",
        "# print(type(file_list[0])) #str"
      ],
      "metadata": {
        "colab": {
          "base_uri": "https://localhost:8080/"
        },
        "id": "iKi99p28R3eP",
        "outputId": "50bd3634-5a53-4237-86f8-425d0878315b"
      },
      "execution_count": 3,
      "outputs": [
        {
          "output_type": "stream",
          "name": "stdout",
          "text": [
            "資料夾中有 211 個檔案\n"
          ]
        }
      ]
    },
    {
      "cell_type": "markdown",
      "source": [
        "### 讀取資料夾所有檔案(.mp4)，針對每0.5秒作截圖"
      ],
      "metadata": {
        "id": "SHaXEZLdTG5B"
      }
    },
    {
      "cell_type": "code",
      "source": [
        "from moviepy.editor import *\n",
        "import os\n",
        "import numpy as np\n",
        "\n",
        "# 設定資料夾路徑(前面已設定)\n",
        "# r=\"/content/drive/MyDrive/AI應用程式工程師/團專/Night_market/名彭下港臭豆腐\"\n",
        "# os.chdir(r) #更改路徑至想要路徑\n",
        "# folder_path = r #設定資料夾路徑\n",
        "\n",
        "# 獲取所有影片名稱\n",
        "video_files = [f for f in os.listdir(folder_path) if f.endswith('.mp4')]\n",
        "\n",
        "for video_name in video_files:\n",
        "    # 移除.mp4擴展名，只取得檔案名稱\n",
        "    name = video_name.split(\".\")[0]\n",
        "\n",
        "    video = VideoFileClip(os.path.join(folder_path, video_name))\n",
        "\n",
        "    #1_影片全長\n",
        "    duration = video.duration\n",
        "    print(\"影片長度：\", duration, \"秒\")\n",
        "    print(int(duration))\n",
        "\n",
        "    for i in np.arange(0, duration, 0.5):  # 使用numpy的arange函數，以0.5為間隔\n",
        "        frame_name = f\"{name}_{i}.jpg\"\n",
        "        frame = video.save_frame(frame_name, t = i)\n",
        "        print(frame_name)\n",
        "\n",
        "print('全部完成')"
      ],
      "metadata": {
        "id": "jBD9j28RTH8b"
      },
      "execution_count": null,
      "outputs": []
    },
    {
      "cell_type": "markdown",
      "source": [
        "### 更改檔名"
      ],
      "metadata": {
        "id": "RmC6ustlTh80"
      }
    },
    {
      "cell_type": "code",
      "source": [
        "#查看資料夾內有多少jpg檔案\n",
        "import os\n",
        "def count_jpg_files(directory):\n",
        "    return len([f for f in os.listdir(directory) if f.endswith('.jpg')])\n",
        "print(count_jpg_files(folder_path))"
      ],
      "metadata": {
        "colab": {
          "base_uri": "https://localhost:8080/"
        },
        "id": "hOhDRFUsTjWR",
        "outputId": "6c4501be-803a-4771-ab1f-05ffebd023d6"
      },
      "execution_count": 4,
      "outputs": [
        {
          "output_type": "stream",
          "name": "stdout",
          "text": [
            "203\n"
          ]
        }
      ]
    },
    {
      "cell_type": "code",
      "source": [
        "#快速更改檔名\n",
        "import os\n",
        "\n",
        "# The directory that contains your .MOV files\n",
        "input_dir = folder_path\n",
        "\n",
        "# Get a list of all .MOV files in the input directory\n",
        "input_files = [f for f in os.listdir(input_dir) if f.endswith('.jpg')]\n",
        "\n",
        "# Sort the input files to ensure they are processed in order\n",
        "input_files.sort()\n",
        "\n",
        "# Loop over each input file\n",
        "for i, input_file in enumerate(input_files, start=1):\n",
        "    # Define the full path of the input file\n",
        "    input_path = os.path.join(input_dir, input_file)\n",
        "\n",
        "    # Define the new name of the file\n",
        "    new_file = \"japenCake_{:02d}.jpg\".format(i)\n",
        "\n",
        "    # Define the full path of the new file\n",
        "    new_path = os.path.join(input_dir, new_file)\n",
        "\n",
        "    # Rename the input file to the new file\n",
        "    os.rename(input_path, new_path)\n",
        "\n",
        "    # Print the new file name\n",
        "    print(new_file)\n",
        "\n",
        "print('全部完成')"
      ],
      "metadata": {
        "id": "k8bitsnNTzkr"
      },
      "execution_count": null,
      "outputs": []
    }
  ]
}