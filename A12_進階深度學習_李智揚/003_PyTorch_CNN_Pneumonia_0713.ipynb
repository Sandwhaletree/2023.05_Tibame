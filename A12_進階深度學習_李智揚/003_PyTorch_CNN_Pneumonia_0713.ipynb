{
  "nbformat": 4,
  "nbformat_minor": 0,
  "metadata": {
    "colab": {
      "provenance": [],
      "authorship_tag": "ABX9TyOgagh1WS7pl9t7DF6KFeqw",
      "include_colab_link": true
    },
    "kernelspec": {
      "name": "python3",
      "display_name": "Python 3"
    },
    "language_info": {
      "name": "python"
    }
  },
  "cells": [
    {
      "cell_type": "markdown",
      "metadata": {
        "id": "view-in-github",
        "colab_type": "text"
      },
      "source": [
        "<a href=\"https://colab.research.google.com/github/Sandwhaletree/2023.05_Tibame/blob/main/A12_%E9%80%B2%E9%9A%8E%E6%B7%B1%E5%BA%A6%E5%AD%B8%E7%BF%92_%E6%9D%8E%E6%99%BA%E6%8F%9A/003_PyTorch_CNN_Pneumonia_0713.ipynb\" target=\"_parent\"><img src=\"https://colab.research.google.com/assets/colab-badge.svg\" alt=\"Open In Colab\"/></a>"
      ]
    },
    {
      "cell_type": "code",
      "execution_count": 1,
      "metadata": {
        "id": "OFioqH4Ft5eD"
      },
      "outputs": [],
      "source": [
        "import cv2\n",
        "import matplotlib.pyplot as plt\n",
        "import numpy as np\n",
        "import os # path\n",
        "from glob import glob # search file paths\n",
        "from tqdm.auto import tqdm # (optional) progress bar\n",
        "from sklearn.model_selection import train_test_split\n",
        "\n",
        "# PyTorch\n",
        "import torch\n",
        "from torch import nn\n",
        "import torchvision\n",
        "from torchsummary import summary # model summary"
      ]
    },
    {
      "cell_type": "code",
      "source": [
        "torch.__version__"
      ],
      "metadata": {
        "id": "8IuxCh1Mt9y4",
        "outputId": "88469a12-2ba0-4417-aa01-85929b6c7a85",
        "colab": {
          "base_uri": "https://localhost:8080/",
          "height": 36
        }
      },
      "execution_count": 2,
      "outputs": [
        {
          "output_type": "execute_result",
          "data": {
            "text/plain": [
              "'2.0.1+cu118'"
            ],
            "application/vnd.google.colaboratory.intrinsic+json": {
              "type": "string"
            }
          },
          "metadata": {},
          "execution_count": 2
        }
      ]
    },
    {
      "cell_type": "code",
      "source": [
        "# Get cpu or gpu device for training.\n",
        "device = \"cuda\" if torch.cuda.is_available() else \"cpu\"\n",
        "print(f\"Using: {device}\")"
      ],
      "metadata": {
        "id": "P3Owj14jt-gM",
        "outputId": "bd79a063-9f8c-499f-bce4-b3f2a6c8e0ab",
        "colab": {
          "base_uri": "https://localhost:8080/"
        }
      },
      "execution_count": 3,
      "outputs": [
        {
          "output_type": "stream",
          "name": "stdout",
          "text": [
            "Using: cpu\n"
          ]
        }
      ]
    },
    {
      "cell_type": "markdown",
      "source": [
        "#### Download dataset"
      ],
      "metadata": {
        "id": "EPl5tN6Jt_zH"
      }
    },
    {
      "cell_type": "code",
      "source": [
        "# download from google drive\n",
        "!pip install --upgrade gdown\n",
        "!gdown --fuzzy 1fIViA1w8MVJJZJcAjMwapHIYazuyTczE --output pneumonia.zip #pneumonia肺炎分類\n",
        "# unzip dataset file\n",
        "!unzip -q pneumonia.zip"
      ],
      "metadata": {
        "id": "hjB9dOgruA3I"
      },
      "execution_count": null,
      "outputs": []
    },
    {
      "cell_type": "markdown",
      "source": [
        "### Data"
      ],
      "metadata": {
        "id": "TefoA_zeuD-4"
      }
    },
    {
      "cell_type": "markdown",
      "source": [
        "#### Check your data first"
      ],
      "metadata": {
        "id": "MgesZdxZuGaZ"
      }
    },
    {
      "cell_type": "code",
      "source": [
        "IMG_SIZE = 256 # 32x, 16x\n",
        "all_class = ['normal', 'bacteria', 'virus'] #正常肺炎 #細菌肺炎 #病毒肺炎\n",
        "class_map = {cls: i for i, cls in enumerate(all_class)}\n",
        "#  'normal':0, 'bacteria': 1, 'virus':2\n",
        "class_map"
      ],
      "metadata": {
        "id": "q0hucKsiuHZb"
      },
      "execution_count": null,
      "outputs": []
    },
    {
      "cell_type": "code",
      "source": [
        "# read all paths\n",
        "# *: all\n",
        "img_paths_train = sorted(glob('pneumonia/train/*/*.jpeg'))\n",
        "# img_paths_train = glob('pneumonia/train/normal/*.jpeg') + glob('pneumonia/train/pneumonia/*.jpeg')\n",
        "\n",
        "img_paths_test = sorted(glob('pneumonia/val/*/*.jpeg'))"
      ],
      "metadata": {
        "id": "fso4lOxluIKs"
      },
      "execution_count": null,
      "outputs": []
    },
    {
      "cell_type": "code",
      "source": [
        "img_paths_train[:3]"
      ],
      "metadata": {
        "id": "dbPtJnZpuI8P"
      },
      "execution_count": null,
      "outputs": []
    },
    {
      "cell_type": "code",
      "source": [
        "# number of images\n",
        "len(img_paths_train), len(img_paths_test)"
      ],
      "metadata": {
        "id": "11u0tAa8uJie"
      },
      "execution_count": null,
      "outputs": []
    },
    {
      "cell_type": "code",
      "source": [
        "# show image\n",
        "path = img_paths_train[100]\n",
        "img = cv2.imread(path)\n",
        "print(path)\n",
        "print(img.shape)\n",
        "plt.imshow(img)\n",
        "plt.show()"
      ],
      "metadata": {
        "id": "dXuN-NdtuKM2"
      },
      "execution_count": null,
      "outputs": []
    },
    {
      "cell_type": "code",
      "source": [
        "# Extract img class\n",
        "# os.sep: /\n",
        "print(path)\n",
        "print(path.split(os.sep))\n",
        "cls = path.split(os.sep)[-2]\n",
        "print(cls)"
      ],
      "metadata": {
        "id": "2pzTWyrKuLKO"
      },
      "execution_count": null,
      "outputs": []
    },
    {
      "cell_type": "code",
      "source": [
        "# Get file class index\n",
        "\n",
        "# for pneumonia class\n",
        "if cls == 'pneumonia':\n",
        "    # get filename\n",
        "    filename = path.split(os.sep)[-1]\n",
        "    print(filename)\n",
        "    # get pneumonia class\n",
        "    cls_pneumonia = filename.split('_')[1]\n",
        "    print(cls_pneumonia)\n",
        "    cls_idx = class_map[cls_pneumonia]\n",
        "    print(cls_idx)\n",
        "# for normal class\n",
        "else:\n",
        "    cls_idx = class_map[cls]"
      ],
      "metadata": {
        "id": "mqZi3LMbuMJ-"
      },
      "execution_count": null,
      "outputs": []
    },
    {
      "cell_type": "code",
      "source": [
        "cls_idx"
      ],
      "metadata": {
        "id": "wz6ecZyfuMqo"
      },
      "execution_count": null,
      "outputs": []
    },
    {
      "cell_type": "markdown",
      "source": [
        "#### Dataset & DataLoader 客製化資料集\n",
        "\n",
        "1.   List item\n",
        "2.   List item\n",
        "\n",
        "\n",
        "\n",
        "\n",
        "*   [torch.utils.data.Dataset](https://pytorch.org/docs/stable/data.html?highlight=dataset#torch.utils.data.Dataset)\n",
        "\n",
        "\n",
        "\n",
        "*   Must implement\n",
        "\n",
        "    1.   **\\_\\_len\\_\\_()**: size of dataset\n",
        "    2.   **\\_\\_getitem\\_\\_()**: load a data sample for a given index\n",
        "\n",
        "*   __getitem__() steps:\n",
        "    1. Get image path\n",
        "    2. Read image, resize\n",
        "    3. Real image label\n",
        "    4. convert image to tesnor and rescale to 0~1\n",
        "\n",
        "\n",
        "ref: [Datasets & DataLoaders](https://pytorch.org/tutorials/beginner/basics/data_tutorial.html)"
      ],
      "metadata": {
        "id": "OMem2o1YuOHk"
      }
    },
    {
      "cell_type": "markdown",
      "source": [
        "Pixel value rescale\n",
        "\n",
        "*   0~1\n",
        "*   -1~+1 : (x/127.5) - 1\n",
        "* (x-x.mean()) / x.std()"
      ],
      "metadata": {
        "id": "kHkpF2gvuPhU"
      }
    },
    {
      "cell_type": "code",
      "source": [
        "class Dataset(torch.utils.data.Dataset):\n",
        "    def __init__(self, img_paths, img_size, class_map):\n",
        "        self.img_paths = img_paths\n",
        "        self.img_size = img_size\n",
        "        self.class_map = class_map\n",
        "    def __len__(self):\n",
        "        \"\"\"number of samples\"\"\"\n",
        "        return len(self.img_paths)\n",
        "\n",
        "    def __getitem__(self, idx):\n",
        "        \"\"\"read 1 sample\"\"\"\n",
        "        # Read img\n",
        "        path = self.img_paths[idx] # get img path\n",
        "        img = cv2.imread(path) # read img\n",
        "        img = cv2.cvtColor(img, cv2.COLOR_BGR2RGB) # Convert to RGB\n",
        "        img = cv2.resize(img, (self.img_size, self.img_size)) # Resize iamge\n",
        "        img = img / 255. # 0~255 -> 0.~1. #將色彩轉為0~1\n",
        "\n",
        "        # Read class index->正確答案讀取\n",
        "        cls = path.split(os.sep)[-2]\n",
        "        # for pneumonia class\n",
        "        if cls == 'pneumonia':\n",
        "            # get filename\n",
        "            filename = path.split(os.sep)[-1]\n",
        "            # get pneumonia class\n",
        "            cls = filename.split('_')[1]\n",
        "        cls_idx = self.class_map[cls]\n",
        "\n",
        "        # transform img to tensor>將圖片格式轉成tensor\n",
        "        img = torch.tensor(img, dtype=torch.float)\n",
        "        # channel last -> channel first\n",
        "        # np.swapaxis()\n",
        "        img = img.permute(2, 0, 1) # (H, W, C) -> (C, H, W)\n",
        "\n",
        "        cls_idx = torch.tensor(cls_idx, dtype=torch.long)\n",
        "\n",
        "        return img, cls_idx"
      ],
      "metadata": {
        "id": "WCSrszq8uQu8"
      },
      "execution_count": null,
      "outputs": []
    },
    {
      "cell_type": "code",
      "source": [
        "# Build dataset\n",
        "train_ds = Dataset(img_paths_train, IMG_SIZE, class_map)\n",
        "val_ds = Dataset(img_paths_test, IMG_SIZE, class_map)"
      ],
      "metadata": {
        "id": "ODmR93QCuRi8"
      },
      "execution_count": null,
      "outputs": []
    },
    {
      "cell_type": "code",
      "source": [
        "# Number of samples\n",
        "len(train_ds), len(val_ds)"
      ],
      "metadata": {
        "id": "mVJ6PIwauSC9"
      },
      "execution_count": null,
      "outputs": []
    },
    {
      "cell_type": "code",
      "source": [
        "img, label = train_ds[0]\n",
        "print(img.shape, label, all_class[label])\n",
        "\n",
        "img = img.permute(1, 2, 0) # (C, H, W) -> (H, W, C)\n",
        "plt.imshow(img)\n",
        "plt.show()"
      ],
      "metadata": {
        "id": "Fp5fg8OGuS5E"
      },
      "execution_count": null,
      "outputs": []
    },
    {
      "cell_type": "code",
      "source": [
        "img, label"
      ],
      "metadata": {
        "id": "SFz1ZR8FuTyA"
      },
      "execution_count": null,
      "outputs": []
    },
    {
      "cell_type": "code",
      "source": [
        "# Build DataLoaders\n",
        "BATCH_SIZE = 32\n",
        "train_loader = torch.utils.data.DataLoader(train_ds, BATCH_SIZE,\n",
        "                                           shuffle=True)\n",
        "val_loader = torch.utils.data.DataLoader(val_ds, BATCH_SIZE)"
      ],
      "metadata": {
        "id": "RwOtaTMYuUmk"
      },
      "execution_count": null,
      "outputs": []
    },
    {
      "cell_type": "code",
      "source": [
        "for (x, y) in val_loader:\n",
        "    print(x.shape, y)"
      ],
      "metadata": {
        "id": "L2rC_gBCuVJi"
      },
      "execution_count": null,
      "outputs": []
    },
    {
      "cell_type": "markdown",
      "source": [
        "### Model\n",
        "\n",
        "\n",
        "\n",
        "*   Must implement\n",
        "    1.   **\\_\\_init\\_\\_**(): layer **initialization**\n",
        "    2.   **forward**(): connect **Input** to **Output**\n",
        "\n",
        "\n",
        "\n",
        "*   Model architecture 結構\n",
        "    1.   Feature extractor (encoder) 特徵萃取\n",
        "    2.   Flatten\n",
        "    3.   Classifier"
      ],
      "metadata": {
        "id": "ImvUu1VluWGX"
      }
    },
    {
      "cell_type": "code",
      "source": [
        "# Define Model class\n",
        "class CNN(nn.Module):\n",
        "    def __init__(self, kernel_size=3):\n",
        "        super().__init__()\n",
        "        self.feature_extractor = nn.Sequential(\n",
        "            nn.Conv2d(in_channels=3, out_channels=32,\n",
        "                      kernel_size=kernel_size,\n",
        "                      padding='same'),\n",
        "            nn.ReLU(),\n",
        "            nn.Conv2d(32, 32, kernel_size, padding='same'),\n",
        "            nn.ReLU(),\n",
        "            nn.MaxPool2d(kernel_size=2), # img_size/2\n",
        "\n",
        "            nn.Conv2d(32, 64, kernel_size, padding='same'),\n",
        "            nn.ReLU(),\n",
        "            nn.Conv2d(64, 64, kernel_size, padding='same'),\n",
        "            nn.ReLU(),\n",
        "            nn.MaxPool2d(2), # img_size/4\n",
        "\n",
        "            nn.Conv2d(64, 128, kernel_size, padding='same'),\n",
        "            nn.ReLU(),\n",
        "            nn.Conv2d(128, 128, kernel_size, padding='same'),\n",
        "            nn.ReLU(),\n",
        "            nn.MaxPool2d(2), # img_size/8\n",
        "\n",
        "            nn.Conv2d(128, 256, kernel_size, padding='same'),\n",
        "            nn.ReLU(),\n",
        "            nn.Conv2d(256, 256, kernel_size, padding='same'),\n",
        "            nn.ReLU(),\n",
        "            nn.MaxPool2d(2), # img_size/16\n",
        "        )\n",
        "        self.flatten = nn.Flatten() # (256, 16, 16) -> (256*16*16)\n",
        "        self.classifier = nn.Sequential(\n",
        "            nn.Linear(256*16*16, 3),\n",
        "        )\n",
        "    def forward(self, x):\n",
        "        x = self.feature_extractor(x) # img to feature maps\n",
        "        x = self.flatten(x) # feature maps -> feature vectors\n",
        "        x = self.classifier(x) # classification\n",
        "        return x"
      ],
      "metadata": {
        "id": "tgxbxj4tuXF1"
      },
      "execution_count": null,
      "outputs": []
    },
    {
      "cell_type": "code",
      "source": [
        "# Build a model and move to GPU device\n",
        "model = CNN(kernel_size=7).to(device)"
      ],
      "metadata": {
        "id": "Ec8B9WNnuX47"
      },
      "execution_count": null,
      "outputs": []
    },
    {
      "cell_type": "code",
      "source": [
        "print(model)"
      ],
      "metadata": {
        "id": "Gnhl-_FXuYYN"
      },
      "execution_count": null,
      "outputs": []
    },
    {
      "cell_type": "code",
      "source": [
        "# Model summary\n",
        "summary(model, (3, IMG_SIZE, IMG_SIZE))"
      ],
      "metadata": {
        "id": "9FK9pZmguZCj"
      },
      "execution_count": null,
      "outputs": []
    },
    {
      "cell_type": "markdown",
      "source": [
        "### Training"
      ],
      "metadata": {
        "id": "ZZe0wYO7uaJR"
      }
    },
    {
      "cell_type": "code",
      "source": [
        "loss_fn = nn.CrossEntropyLoss()\n",
        "optimizer = torch.optim.SGD(model.parameters(),\n",
        "                            lr=1e-2)"
      ],
      "metadata": {
        "id": "QW447BybuaYO"
      },
      "execution_count": null,
      "outputs": []
    },
    {
      "cell_type": "code",
      "source": [
        "def train(dataloader, model, loss_fn, optimizer):\n",
        "    size = len(dataloader.dataset) # number of samples\n",
        "    num_batches = len(dataloader) # batches per epoch\n",
        "\n",
        "    model.train() # to training mode.\n",
        "    epoch_loss, epoch_correct = 0, 0\n",
        "    for batch_i, (x, y) in enumerate(tqdm(dataloader, leave=False)):\n",
        "        x, y = x.to(device), y.to(device) # move data to GPU\n",
        "\n",
        "        # zero the parameter gradients\n",
        "        optimizer.zero_grad()\n",
        "\n",
        "        # Compute prediction loss\n",
        "        pred = model(x)\n",
        "        loss = loss_fn(pred, y)\n",
        "\n",
        "        # Optimization by gradients\n",
        "        loss.backward() # backpropagation to compute gradients\n",
        "        optimizer.step() # update model params\n",
        "\n",
        "        # write to logs\n",
        "        epoch_loss += loss.item() # tensor -> python value\n",
        "        # (N, Class)\n",
        "        epoch_correct += (pred.argmax(dim=1) == y).sum().item()\n",
        "\n",
        "    # return avg loss of epoch, acc of epoch\n",
        "    return epoch_loss/num_batches, epoch_correct/size\n",
        "\n",
        "\n",
        "def test(dataloader, model, loss_fn):\n",
        "    size = len(dataloader.dataset) # number of samples\n",
        "    num_batches = len(dataloader) # batches per epoch\n",
        "\n",
        "    model.eval() # model to test mode.\n",
        "    epoch_loss, epoch_correct = 0, 0\n",
        "\n",
        "    # No gradient for test data\n",
        "    with torch.no_grad():\n",
        "        for batch_i, (x, y) in enumerate(dataloader):\n",
        "            x, y = x.to(device), y.to(device)\n",
        "\n",
        "            # Compute prediction loss\n",
        "            pred = model(x)\n",
        "            loss = loss_fn(pred, y)\n",
        "\n",
        "            # write to logs\n",
        "            epoch_loss += loss.item()\n",
        "            epoch_correct += (pred.argmax(1) == y).sum().item()\n",
        "\n",
        "    return epoch_loss/num_batches, epoch_correct/size"
      ],
      "metadata": {
        "id": "0hJKHxXqucY4"
      },
      "execution_count": null,
      "outputs": []
    },
    {
      "cell_type": "code",
      "source": [
        "EPOCHS = 100\n",
        "logs = {\n",
        "    'train_loss': [], 'train_acc': [], 'val_loss': [], 'val_acc': []\n",
        "}\n",
        "for epoch in tqdm(range(EPOCHS)):\n",
        "    train_loss, train_acc = train(train_loader, model, loss_fn, optimizer)\n",
        "    val_loss, val_acc = test(val_loader, model, loss_fn)\n",
        "\n",
        "    print(f'EPOCH: {epoch:04d} \\\n",
        "    train_loss: {train_loss:.4f}, train_acc: {train_acc:.3f} \\\n",
        "    val_loss: {val_loss:.4f}, val_acc: {val_acc:.3f} ')\n",
        "\n",
        "    logs['train_loss'].append(train_loss)\n",
        "    logs['train_acc'].append(train_acc)\n",
        "    logs['val_loss'].append(val_loss)\n",
        "    logs['val_acc'].append(val_acc)"
      ],
      "metadata": {
        "id": "kWNSxbTUudg5"
      },
      "execution_count": null,
      "outputs": []
    },
    {
      "cell_type": "markdown",
      "source": [
        "#### Logs"
      ],
      "metadata": {
        "id": "2eeUII7Euf5c"
      }
    },
    {
      "cell_type": "code",
      "source": [
        "# Plot loss curve\n",
        "plt.figure(figsize=(10, 5))\n",
        "plt.subplot(1, 2, 1)\n",
        "plt.title('Loss')\n",
        "plt.plot(logs['train_loss'])\n",
        "plt.plot(logs['val_loss'])\n",
        "plt.legend(['train_loss', 'val_loss'])\n",
        "# plot acc\n",
        "plt.subplot(1, 2, 2)\n",
        "plt.title('Accuracy')\n",
        "plt.plot(logs['train_acc'])\n",
        "plt.plot(logs['val_acc'])\n",
        "plt.legend(['train_acc', 'val_acc'])\n",
        "plt.show()"
      ],
      "metadata": {
        "id": "ZhP-eMsRugv7"
      },
      "execution_count": null,
      "outputs": []
    },
    {
      "cell_type": "markdown",
      "source": [
        "#### Save and load the model\n",
        "\n",
        "\n",
        "\n",
        "1.   Save model weights only\n",
        "2.   Save with model class architecture\n"
      ],
      "metadata": {
        "id": "EItlBFvZuh-t"
      }
    },
    {
      "cell_type": "markdown",
      "source": [
        "1. Save model weights only"
      ],
      "metadata": {
        "id": "KCjTq9amujpY"
      }
    },
    {
      "cell_type": "code",
      "source": [
        "# Save model weights\n",
        "PATH = './model_weights.pth'\n",
        "torch.save(model.state_dict(), PATH)"
      ],
      "metadata": {
        "id": "VjD_lO5xujQv"
      },
      "execution_count": null,
      "outputs": []
    },
    {
      "cell_type": "code",
      "source": [
        "# load model weights\n",
        "model = CNN(kernel_size=7)\n",
        "model.load_state_dict(torch.load(PATH))"
      ],
      "metadata": {
        "id": "5w1NOj96ulm0"
      },
      "execution_count": null,
      "outputs": []
    },
    {
      "cell_type": "markdown",
      "source": [
        "2. Save with model class architecture"
      ],
      "metadata": {
        "id": "nlxpZGe3umlP"
      }
    },
    {
      "cell_type": "code",
      "source": [
        "torch.save(model, 'model.pth')\n",
        "\n",
        "model = torch.load('model.pth')"
      ],
      "metadata": {
        "id": "YZP9a3iRunbA"
      },
      "execution_count": null,
      "outputs": []
    },
    {
      "cell_type": "markdown",
      "source": [
        "#### Evaluation"
      ],
      "metadata": {
        "id": "936qsgT6uodM"
      }
    },
    {
      "cell_type": "code",
      "source": [
        "model = model.to(device) # move model to GPU\n",
        "model.eval() # Set model to evaluation mode\n",
        "# Create temp tensor\n",
        "y_true = torch.tensor([], dtype=torch.long).to(device)\n",
        "y_pred_logits = torch.tensor([]).to(device)\n",
        "\n",
        "# deactivate autograd engine and reduce memory usage and speed up computations\n",
        "with torch.no_grad():\n",
        "    for x, y in val_loader:\n",
        "        x, y = x.to(device), y.to(device)\n",
        "\n",
        "        pred = model(x)\n",
        "        # Concatenate Ground truth and prediction\n",
        "        y_true = torch.cat((y_true, y), dim=0)\n",
        "        y_pred_logits = torch.cat((y_pred_logits, pred), dim=0)\n",
        "\n",
        "y_pred_cls = y_pred_logits.argmax(1) # get class idx with max prob (100, 3) -> (100, )\n",
        "y_pred_probs = nn.Softmax(dim=1)(y_pred_logits) # convert logits to probability\n",
        "\n",
        "# Move tensor to CPU and convert to np.ndarray\n",
        "y_true = y_true.cpu().numpy()\n",
        "y_pred_cls = y_pred_cls.cpu().numpy()\n",
        "y_pred_probs = y_pred_probs.cpu().numpy()\n"
      ],
      "metadata": {
        "id": "XAXXPYEJupV3"
      },
      "execution_count": null,
      "outputs": []
    },
    {
      "cell_type": "code",
      "source": [
        "# Shape\n",
        "y_true.shape, y_pred_probs.shape, y_pred_cls.shape"
      ],
      "metadata": {
        "id": "m3vFhGR4urA9"
      },
      "execution_count": null,
      "outputs": []
    },
    {
      "cell_type": "code",
      "source": [
        "# calculate ACC\n",
        "acc = sum(y_true == y_pred_cls) / len(y_true)\n",
        "acc"
      ],
      "metadata": {
        "id": "n5pLU2SOuryC"
      },
      "execution_count": null,
      "outputs": []
    }
  ]
}