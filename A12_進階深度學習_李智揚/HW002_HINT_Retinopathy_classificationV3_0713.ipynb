{
  "nbformat": 4,
  "nbformat_minor": 0,
  "metadata": {
    "colab": {
      "provenance": [],
      "include_colab_link": true
    },
    "kernelspec": {
      "name": "python3",
      "display_name": "Python 3"
    },
    "accelerator": "GPU"
  },
  "cells": [
    {
      "cell_type": "markdown",
      "metadata": {
        "id": "view-in-github",
        "colab_type": "text"
      },
      "source": [
        "<a href=\"https://colab.research.google.com/github/Sandwhaletree/2023.05_Tibame/blob/main/A12_%E9%80%B2%E9%9A%8E%E6%B7%B1%E5%BA%A6%E5%AD%B8%E7%BF%92_%E6%9D%8E%E6%99%BA%E6%8F%9A/HW002_HINT_Retinopathy_classificationV3_0713.ipynb\" target=\"_parent\"><img src=\"https://colab.research.google.com/assets/colab-badge.svg\" alt=\"Open In Colab\"/></a>"
      ]
    },
    {
      "cell_type": "code",
      "metadata": {
        "id": "yv09J78pHBwZ"
      },
      "source": [
        "# download from google drive or upload file by yourself\n",
        "!pip install --upgrade gdown\n",
        "!gdown --fuzzy '1jXEzNJr7iYJzhzl7695_0scTqJB0_5L7' --output retina-dataset.zip\n",
        "!unzip -q retina-dataset.zip"
      ],
      "execution_count": null,
      "outputs": []
    },
    {
      "cell_type": "code",
      "metadata": {
        "id": "rfo9NM6DG3FX"
      },
      "source": [
        "import torch\n",
        "import torch.nn as nn\n",
        "import numpy as np\n",
        "import matplotlib.pyplot as plt\n",
        "import cv2\n",
        "import os\n",
        "from glob import glob\n",
        "from tqdm.auto import tqdm\n",
        "from sklearn.model_selection import train_test_split\n",
        "import pandas as pd"
      ],
      "execution_count": null,
      "outputs": []
    },
    {
      "cell_type": "code",
      "metadata": {
        "id": "mKmZtVNKG5nZ"
      },
      "source": [
        "# Define Parameters\n",
        "NUM_CLASS = 5\n",
        "IMG_SIZE = 224\n",
        "BS = 64\n",
        "device = 'cuda' if torch.cuda.is_available() else 'cpu'\n",
        "device"
      ],
      "execution_count": null,
      "outputs": []
    },
    {
      "cell_type": "markdown",
      "metadata": {
        "id": "BHRgSYG8H6hQ"
      },
      "source": [
        "#### Data Visualization"
      ]
    },
    {
      "cell_type": "code",
      "source": [
        "df = pd.read_csv(\"kaggle_retina/train.csv\")\n",
        "df.head()"
      ],
      "metadata": {
        "id": "N2swXMcoW4CW"
      },
      "execution_count": null,
      "outputs": []
    },
    {
      "cell_type": "code",
      "metadata": {
        "id": "so0Up92MH9US"
      },
      "source": [
        "paths = glob('kaggle_retina/train/*.png')\n",
        "paths_test = sorted(glob('kaggle_retina/test/*.png'))\n",
        "len(paths), len(paths_test)"
      ],
      "execution_count": null,
      "outputs": []
    },
    {
      "cell_type": "code",
      "metadata": {
        "id": "0EE1Y6puIDSG"
      },
      "source": [
        "idx = np.random.randint(0, len(df))\n",
        "row = df.iloc[idx]\n",
        "filename = row[\"id_code\"]\n",
        "path = f\"kaggle_retina/train/{filename}.png\"\n",
        "img = cv2.imread(path)[:,:,::-1]\n",
        "plt.imshow(img)\n",
        "print(path)\n",
        "print(f'label: {row[\"diagnosis\"]}')"
      ],
      "execution_count": null,
      "outputs": []
    },
    {
      "cell_type": "code",
      "metadata": {
        "id": "p9d7TljgIki7"
      },
      "source": [
        "all_cls = df['diagnosis'].tolist()\n",
        "print(all_cls[:3])"
      ],
      "execution_count": null,
      "outputs": []
    },
    {
      "cell_type": "code",
      "metadata": {
        "id": "Hpyh1JPjKJnr"
      },
      "source": [
        "# Class distribution\n",
        "cls, count = np.unique(all_cls, return_counts=True)\n",
        "plt.bar(cls, count)"
      ],
      "execution_count": null,
      "outputs": []
    },
    {
      "cell_type": "markdown",
      "metadata": {
        "id": "Fs4ABS3_H1g-"
      },
      "source": [
        "#### Dataset, DataLoader"
      ]
    },
    {
      "cell_type": "code",
      "source": [
        "import imgaug.augmenters as iaa\n",
        "import imgaug as ia\n",
        "\n",
        "class RetinaDataset(torch.utils.data.Dataset):\n",
        "    def __init__(self, df, aug, img_size=224):\n",
        "        self.df = df\n",
        "        self.transform = iaa.Sequential([\n",
        "            iaa.Fliplr(0.5), # 50% horizontal flip\n",
        "            iaa.Flipud(0.5), # 50% vertical flip\n",
        "            iaa.Affine(\n",
        "                rotate=(-45, 45),\n",
        "                shear=(-16,16),\n",
        "                scale={\"x\": (0.8, 1.2), \"y\": (0.8, 1.2)}\n",
        "            ),\n",
        "        ])\n",
        "        self.aug = aug\n",
        "        self.img_size = img_size\n",
        "\n",
        "    def __len__(self):\n",
        "        return len(self.df)\n",
        "\n",
        "    def __getitem__(self, idx):\n",
        "        row = self.df.iloc[idx]\n",
        "        filename = row[\"id_code\"]\n",
        "        path = f\"kaggle_retina/train/{filename}.png\"\n",
        "        img = cv2.imread(path)[:,:,::-1]\n",
        "        img = cv2.resize(img, (self.img_size, self.img_size))\n",
        "        if self.aug:\n",
        "            img = self.transform.augment_image(image=img)\n",
        "        img = img / 255.\n",
        "        label = row[\"diagnosis\"]\n",
        "\n",
        "        img = torch.tensor(img, dtype=torch.float).permute(2, 0, 1)\n",
        "        label = torch.tensor(label, dtype=torch.long)\n",
        "\n",
        "        return img, label"
      ],
      "metadata": {
        "id": "ctb1Fc762aFP"
      },
      "execution_count": null,
      "outputs": []
    },
    {
      "cell_type": "code",
      "source": [
        "df = pd.read_csv(\"kaggle_retina/train.csv\")\n",
        "train_df, val_df = train_test_split(df,\n",
        "                                    test_size=0.2,\n",
        "                                    random_state=5566)"
      ],
      "metadata": {
        "id": "qA9FwazT2-ZP"
      },
      "execution_count": null,
      "outputs": []
    },
    {
      "cell_type": "code",
      "source": [
        "train_ds = RetinaDataset(train_df, aug=True, img_size=IMG_SIZE)\n",
        "val_ds = RetinaDataset(val_df, aug=False, img_size=IMG_SIZE)"
      ],
      "metadata": {
        "id": "fReUxW4K3Rzx"
      },
      "execution_count": null,
      "outputs": []
    },
    {
      "cell_type": "code",
      "source": [
        "idx = np.random.randint(0, len(train_ds))\n",
        "img, label = train_ds[idx]\n",
        "print(idx, label)\n",
        "plt.imshow(img.permute(1, 2, 0))\n",
        "plt.show()"
      ],
      "metadata": {
        "id": "8GR7ag-64ogY"
      },
      "execution_count": null,
      "outputs": []
    },
    {
      "cell_type": "code",
      "source": [
        "train_loader = torch.utils.data.DataLoader(train_ds, BS, shuffle=True)\n",
        "val_loader = torch.utils.data.DataLoader(val_ds, BS)"
      ],
      "metadata": {
        "id": "YHZ-47eW9BYM"
      },
      "execution_count": null,
      "outputs": []
    },
    {
      "cell_type": "markdown",
      "metadata": {
        "id": "SQCQwXL_8YI4"
      },
      "source": [
        "#### [TODO] Model"
      ]
    },
    {
      "cell_type": "markdown",
      "source": [
        "#### Training"
      ],
      "metadata": {
        "id": "VrgX3Wksckar"
      }
    },
    {
      "cell_type": "code",
      "source": [
        "loss_fn = nn.CrossEntropyLoss()\n",
        "optimizer = torch.optim.Adam(model.parameters())"
      ],
      "metadata": {
        "id": "B9Rz3QqA8423"
      },
      "execution_count": null,
      "outputs": []
    },
    {
      "cell_type": "code",
      "source": [
        "def train(dataloader, model, loss_fn, optimizer):\n",
        "    size = len(dataloader.dataset) # number of samples\n",
        "    num_batches = len(dataloader) # batches per epoch\n",
        "\n",
        "    model.train() # to training mode.\n",
        "    epoch_loss, epoch_correct = 0, 0\n",
        "    for batch_i, (x, y) in enumerate(tqdm(dataloader, leave=False)):\n",
        "        x, y = x.to(device), y.to(device) # move data to GPU\n",
        "\n",
        "        # zero the parameter gradients\n",
        "        optimizer.zero_grad()\n",
        "\n",
        "        # Compute prediction loss\n",
        "        pred = model(x)\n",
        "        loss = loss_fn(pred, y)\n",
        "\n",
        "        # Optimization by gradients\n",
        "        loss.backward() # backpropagation to compute gradients\n",
        "        optimizer.step() # update model params\n",
        "\n",
        "        # write to logs\n",
        "        epoch_loss += loss.item() # tensor -> python value\n",
        "        # (N, Class)\n",
        "        epoch_correct += (pred.argmax(dim=1) == y).sum().item()\n",
        "\n",
        "    # return avg loss of epoch, acc of epoch\n",
        "    return epoch_loss/num_batches, epoch_correct/size\n",
        "\n",
        "\n",
        "def test(dataloader, model, loss_fn):\n",
        "    size = len(dataloader.dataset) # number of samples\n",
        "    num_batches = len(dataloader) # batches per epoch\n",
        "\n",
        "    model.eval() # model to test mode.\n",
        "    epoch_loss, epoch_correct = 0, 0\n",
        "\n",
        "    # No gradient for test data\n",
        "    with torch.no_grad():\n",
        "        for batch_i, (x, y) in enumerate(dataloader):\n",
        "            x, y = x.to(device), y.to(device)\n",
        "\n",
        "            # Compute prediction loss\n",
        "            pred = model(x)\n",
        "            loss = loss_fn(pred, y)\n",
        "\n",
        "            # write to logs\n",
        "            epoch_loss += loss.item()\n",
        "            epoch_correct += (pred.argmax(1) == y).sum().item()\n",
        "\n",
        "    return epoch_loss/num_batches, epoch_correct/size"
      ],
      "metadata": {
        "id": "QLQHfpZG854w"
      },
      "execution_count": null,
      "outputs": []
    },
    {
      "cell_type": "code",
      "source": [
        "EPOCHS = 100\n",
        "logs = {\n",
        "    'train_loss': [], 'train_acc': [], 'val_loss': [], 'val_acc': []\n",
        "}\n",
        "# Earlystopping\n",
        "patience = 5\n",
        "counter = 0\n",
        "best_loss = np.inf\n",
        "\n",
        "for epoch in tqdm(range(EPOCHS)):\n",
        "    train_loss, train_acc = train(train_loader, model, loss_fn, optimizer)\n",
        "    val_loss, val_acc = test(val_loader, model, loss_fn)\n",
        "\n",
        "    print(f'EPOCH: {epoch:04d} \\\n",
        "    train_loss: {train_loss:.4f}, train_acc: {train_acc:.3f} \\\n",
        "    val_loss: {val_loss:.4f}, val_acc: {val_acc:.3f} ')\n",
        "\n",
        "    logs['train_loss'].append(train_loss)\n",
        "    logs['train_acc'].append(train_acc)\n",
        "    logs['val_loss'].append(val_loss)\n",
        "    logs['val_acc'].append(val_acc)\n",
        "\n",
        "    torch.save(model.state_dict(), \"last.pth\")\n",
        "    # chcek improvement\n",
        "    if val_loss < best_loss:\n",
        "        counter = 0\n",
        "        best_loss = val_loss\n",
        "        torch.save(model.state_dict(), \"best.pth\")\n",
        "    else:\n",
        "        counter += 1\n",
        "    if counter >= patience:\n",
        "        print(\"Earlystop!\")\n",
        "        break"
      ],
      "metadata": {
        "id": "erk9TbDA89ac"
      },
      "execution_count": null,
      "outputs": []
    },
    {
      "cell_type": "markdown",
      "metadata": {
        "id": "GciqGz0G8SIo"
      },
      "source": [
        "#### Kaggle Submission\n",
        "\n",
        "https://www.kaggle.com/competitions/diabetic-retinopathy-classification-3/overview"
      ]
    },
    {
      "cell_type": "code",
      "metadata": {
        "id": "V1zohpNw1KMj"
      },
      "source": [
        "model.load_state_dict(torch.load('best.pth'))\n",
        "_ = model.eval().to(device)"
      ],
      "execution_count": null,
      "outputs": []
    },
    {
      "cell_type": "code",
      "source": [
        "class TestDataset(torch.utils.data.Dataset):\n",
        "    def __init__(self, df, img_size=224):\n",
        "        self.df = df\n",
        "        self.img_size = img_size\n",
        "\n",
        "    def __len__(self):\n",
        "        return len(self.df)\n",
        "\n",
        "    def __getitem__(self, idx):\n",
        "        row = self.df.iloc[idx]\n",
        "        filename = row[\"id_code\"]\n",
        "        path = f\"kaggle_retina/test/{filename}.png\"\n",
        "        img = cv2.imread(path)[:,:,::-1]\n",
        "        img = cv2.resize(img, (self.img_size, self.img_size))\n",
        "        img = img / 255.\n",
        "        img = torch.tensor(img, dtype=torch.float).permute(2, 0, 1)\n",
        "        return img\n",
        "\n",
        "df = pd.read_csv('kaggle_retina/submission.csv')\n",
        "test_ds = TestDataset(df, IMG_SIZE)\n",
        "test_loader = torch.utils.data.DataLoader(test_ds, BS)"
      ],
      "metadata": {
        "id": "0WVPXIVSAsiI"
      },
      "execution_count": null,
      "outputs": []
    },
    {
      "cell_type": "code",
      "source": [
        "# Inference\n",
        "y_pred = []\n",
        "with torch.no_grad():\n",
        "    for x in test_loader:\n",
        "        x = x.to(device)\n",
        "        pred = model(x)\n",
        "        y_pred.append(pred.argmax(dim=1))\n",
        "\n",
        "y_pred = torch.cat(y_pred, dim=0).cpu().numpy()"
      ],
      "metadata": {
        "id": "RZvItAhmBM4f"
      },
      "execution_count": null,
      "outputs": []
    },
    {
      "cell_type": "code",
      "source": [
        "df['diagnosis'] = y_pred\n",
        "df.to_csv('submission.csv', index=None)"
      ],
      "metadata": {
        "id": "R8MkUXbQBuwe"
      },
      "execution_count": null,
      "outputs": []
    },
    {
      "cell_type": "code",
      "source": [],
      "metadata": {
        "id": "H93wnfpCCjZ0"
      },
      "execution_count": null,
      "outputs": []
    },
    {
      "cell_type": "code",
      "source": [],
      "metadata": {
        "id": "pzDTUdClCLC-"
      },
      "execution_count": null,
      "outputs": []
    }
  ]
}