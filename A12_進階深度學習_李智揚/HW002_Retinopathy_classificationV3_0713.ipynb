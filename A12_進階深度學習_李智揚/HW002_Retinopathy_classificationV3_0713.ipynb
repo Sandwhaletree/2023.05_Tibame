{
  "nbformat": 4,
  "nbformat_minor": 0,
  "metadata": {
    "colab": {
      "provenance": [],
      "include_colab_link": true
    },
    "kernelspec": {
      "name": "python3",
      "display_name": "Python 3"
    },
    "accelerator": "GPU"
  },
  "cells": [
    {
      "cell_type": "markdown",
      "metadata": {
        "id": "view-in-github",
        "colab_type": "text"
      },
      "source": [
        "<a href=\"https://colab.research.google.com/github/Sandwhaletree/2023.05_Tibame/blob/main/%E9%80%B2%E9%9A%8EDL_%E6%9D%8E%E6%99%BA%E6%8F%9A_Class/HW002_Retinopathy_classificationV3_0713.ipynb\" target=\"_parent\"><img src=\"https://colab.research.google.com/assets/colab-badge.svg\" alt=\"Open In Colab\"/></a>"
      ]
    },
    {
      "cell_type": "code",
      "metadata": {
        "id": "rfo9NM6DG3FX"
      },
      "source": [
        "import torch\n",
        "import torch.nn as nn\n",
        "import numpy as np\n",
        "import matplotlib.pyplot as plt\n",
        "import cv2\n",
        "import os\n",
        "from glob import glob\n",
        "from tqdm import tqdm\n",
        "from sklearn.model_selection import train_test_split\n",
        "import pandas as pd"
      ],
      "execution_count": null,
      "outputs": []
    },
    {
      "cell_type": "code",
      "metadata": {
        "id": "mKmZtVNKG5nZ"
      },
      "source": [
        "# Define Parameters\n",
        "num_classes = 5\n",
        "IMG_SIZE = 224"
      ],
      "execution_count": null,
      "outputs": []
    },
    {
      "cell_type": "code",
      "metadata": {
        "id": "yv09J78pHBwZ"
      },
      "source": [
        "# download from google drive or upload file by yourself\n",
        "!pip install --upgrade gdown\n",
        "!gdown --fuzzy '1jXEzNJr7iYJzhzl7695_0scTqJB0_5L7' --output retina-dataset.zip"
      ],
      "execution_count": null,
      "outputs": []
    },
    {
      "cell_type": "code",
      "metadata": {
        "id": "fFK-NYVeHMom"
      },
      "source": [
        "# unzip dataset file\n",
        "!unzip -q retina-dataset.zip"
      ],
      "execution_count": null,
      "outputs": []
    },
    {
      "cell_type": "markdown",
      "metadata": {
        "id": "BHRgSYG8H6hQ"
      },
      "source": [
        "#### Data Visualization"
      ]
    },
    {
      "cell_type": "code",
      "source": [
        "df = pd.read_csv(\"kaggle_retina/train.csv\")\n",
        "df.head()"
      ],
      "metadata": {
        "id": "N2swXMcoW4CW"
      },
      "execution_count": null,
      "outputs": []
    },
    {
      "cell_type": "code",
      "metadata": {
        "id": "so0Up92MH9US"
      },
      "source": [
        "paths = glob('kaggle_retina/train/*.png')\n",
        "paths_test = sorted(glob('kaggle_retina/test/*.png'))\n",
        "len(paths), len(paths_test)"
      ],
      "execution_count": null,
      "outputs": []
    },
    {
      "cell_type": "code",
      "metadata": {
        "id": "0EE1Y6puIDSG"
      },
      "source": [
        "idx = np.random.randint(0, len(df))\n",
        "row = df.iloc[idx]\n",
        "filename = row[\"id_code\"]\n",
        "path = f\"kaggle_retina/train/{filename}.png\"\n",
        "img = cv2.imread(path)[:,:,::-1]\n",
        "plt.imshow(img)\n",
        "print(path)\n",
        "print(f'label: {row[\"diagnosis\"]}')"
      ],
      "execution_count": null,
      "outputs": []
    },
    {
      "cell_type": "code",
      "metadata": {
        "id": "p9d7TljgIki7"
      },
      "source": [
        "all_cls = df['diagnosis'].tolist()\n",
        "print(all_cls[:3])"
      ],
      "execution_count": null,
      "outputs": []
    },
    {
      "cell_type": "code",
      "metadata": {
        "id": "Hpyh1JPjKJnr"
      },
      "source": [
        "# Class distribution\n",
        "cls, count = np.unique(all_cls, return_counts=True)\n",
        "plt.bar(cls, count)"
      ],
      "execution_count": null,
      "outputs": []
    },
    {
      "cell_type": "markdown",
      "metadata": {
        "id": "Fs4ABS3_H1g-"
      },
      "source": [
        "#### [TODO] Dataset, DataLoader"
      ]
    },
    {
      "cell_type": "markdown",
      "metadata": {
        "id": "SQCQwXL_8YI4"
      },
      "source": [
        "#### [TODO] Model"
      ]
    },
    {
      "cell_type": "markdown",
      "source": [
        "#### [TODO] Training"
      ],
      "metadata": {
        "id": "VrgX3Wksckar"
      }
    },
    {
      "cell_type": "markdown",
      "metadata": {
        "id": "GciqGz0G8SIo"
      },
      "source": [
        "#### Kaggle Submission\n",
        "\n",
        "https://www.kaggle.com/competitions/diabetic-retinopathy-classification-3/overview"
      ]
    },
    {
      "cell_type": "code",
      "metadata": {
        "id": "V1zohpNw1KMj"
      },
      "source": [],
      "execution_count": null,
      "outputs": []
    }
  ]
}