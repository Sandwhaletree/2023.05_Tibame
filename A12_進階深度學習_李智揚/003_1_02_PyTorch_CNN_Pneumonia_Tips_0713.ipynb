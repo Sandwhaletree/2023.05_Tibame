{
  "nbformat": 4,
  "nbformat_minor": 0,
  "metadata": {
    "colab": {
      "provenance": [],
      "gpuType": "T4",
      "include_colab_link": true
    },
    "kernelspec": {
      "name": "python3",
      "display_name": "Python 3"
    },
    "language_info": {
      "name": "python"
    },
    "accelerator": "GPU",
    "widgets": {
      "application/vnd.jupyter.widget-state+json": {
        "3d6e66816fb34fedb222fdda06be068e": {
          "model_module": "@jupyter-widgets/controls",
          "model_name": "HBoxModel",
          "model_module_version": "1.5.0",
          "state": {
            "_dom_classes": [],
            "_model_module": "@jupyter-widgets/controls",
            "_model_module_version": "1.5.0",
            "_model_name": "HBoxModel",
            "_view_count": null,
            "_view_module": "@jupyter-widgets/controls",
            "_view_module_version": "1.5.0",
            "_view_name": "HBoxView",
            "box_style": "",
            "children": [
              "IPY_MODEL_40c57198ded644858545f8802495684f",
              "IPY_MODEL_aaf8e221c6ee4b89bf793cf9844550b1",
              "IPY_MODEL_b4aef5ba504d4c34b1d5e25f3a1c9788"
            ],
            "layout": "IPY_MODEL_df544e66217441dc904f92eecdd54d17"
          }
        },
        "40c57198ded644858545f8802495684f": {
          "model_module": "@jupyter-widgets/controls",
          "model_name": "HTMLModel",
          "model_module_version": "1.5.0",
          "state": {
            "_dom_classes": [],
            "_model_module": "@jupyter-widgets/controls",
            "_model_module_version": "1.5.0",
            "_model_name": "HTMLModel",
            "_view_count": null,
            "_view_module": "@jupyter-widgets/controls",
            "_view_module_version": "1.5.0",
            "_view_name": "HTMLView",
            "description": "",
            "description_tooltip": null,
            "layout": "IPY_MODEL_77048648560c470dbb3da1fa778fceb5",
            "placeholder": "​",
            "style": "IPY_MODEL_72bd86b14f6e4eaf9963ceb0e3f40b94",
            "value": "  5%"
          }
        },
        "aaf8e221c6ee4b89bf793cf9844550b1": {
          "model_module": "@jupyter-widgets/controls",
          "model_name": "FloatProgressModel",
          "model_module_version": "1.5.0",
          "state": {
            "_dom_classes": [],
            "_model_module": "@jupyter-widgets/controls",
            "_model_module_version": "1.5.0",
            "_model_name": "FloatProgressModel",
            "_view_count": null,
            "_view_module": "@jupyter-widgets/controls",
            "_view_module_version": "1.5.0",
            "_view_name": "ProgressView",
            "bar_style": "danger",
            "description": "",
            "description_tooltip": null,
            "layout": "IPY_MODEL_3a2f63f89c0a4319aa2d889b2dca7900",
            "max": 100,
            "min": 0,
            "orientation": "horizontal",
            "style": "IPY_MODEL_2df0ce1c607c4a49b78f2e7883a6171d",
            "value": 5
          }
        },
        "b4aef5ba504d4c34b1d5e25f3a1c9788": {
          "model_module": "@jupyter-widgets/controls",
          "model_name": "HTMLModel",
          "model_module_version": "1.5.0",
          "state": {
            "_dom_classes": [],
            "_model_module": "@jupyter-widgets/controls",
            "_model_module_version": "1.5.0",
            "_model_name": "HTMLModel",
            "_view_count": null,
            "_view_module": "@jupyter-widgets/controls",
            "_view_module_version": "1.5.0",
            "_view_name": "HTMLView",
            "description": "",
            "description_tooltip": null,
            "layout": "IPY_MODEL_81f4e5048d0b4b029bfd6fbe2bc9e855",
            "placeholder": "​",
            "style": "IPY_MODEL_1feecb75681f4da8804ce2753caab5ca",
            "value": " 5/100 [00:38&lt;10:00,  6.32s/it]"
          }
        },
        "df544e66217441dc904f92eecdd54d17": {
          "model_module": "@jupyter-widgets/base",
          "model_name": "LayoutModel",
          "model_module_version": "1.2.0",
          "state": {
            "_model_module": "@jupyter-widgets/base",
            "_model_module_version": "1.2.0",
            "_model_name": "LayoutModel",
            "_view_count": null,
            "_view_module": "@jupyter-widgets/base",
            "_view_module_version": "1.2.0",
            "_view_name": "LayoutView",
            "align_content": null,
            "align_items": null,
            "align_self": null,
            "border": null,
            "bottom": null,
            "display": null,
            "flex": null,
            "flex_flow": null,
            "grid_area": null,
            "grid_auto_columns": null,
            "grid_auto_flow": null,
            "grid_auto_rows": null,
            "grid_column": null,
            "grid_gap": null,
            "grid_row": null,
            "grid_template_areas": null,
            "grid_template_columns": null,
            "grid_template_rows": null,
            "height": null,
            "justify_content": null,
            "justify_items": null,
            "left": null,
            "margin": null,
            "max_height": null,
            "max_width": null,
            "min_height": null,
            "min_width": null,
            "object_fit": null,
            "object_position": null,
            "order": null,
            "overflow": null,
            "overflow_x": null,
            "overflow_y": null,
            "padding": null,
            "right": null,
            "top": null,
            "visibility": null,
            "width": null
          }
        },
        "77048648560c470dbb3da1fa778fceb5": {
          "model_module": "@jupyter-widgets/base",
          "model_name": "LayoutModel",
          "model_module_version": "1.2.0",
          "state": {
            "_model_module": "@jupyter-widgets/base",
            "_model_module_version": "1.2.0",
            "_model_name": "LayoutModel",
            "_view_count": null,
            "_view_module": "@jupyter-widgets/base",
            "_view_module_version": "1.2.0",
            "_view_name": "LayoutView",
            "align_content": null,
            "align_items": null,
            "align_self": null,
            "border": null,
            "bottom": null,
            "display": null,
            "flex": null,
            "flex_flow": null,
            "grid_area": null,
            "grid_auto_columns": null,
            "grid_auto_flow": null,
            "grid_auto_rows": null,
            "grid_column": null,
            "grid_gap": null,
            "grid_row": null,
            "grid_template_areas": null,
            "grid_template_columns": null,
            "grid_template_rows": null,
            "height": null,
            "justify_content": null,
            "justify_items": null,
            "left": null,
            "margin": null,
            "max_height": null,
            "max_width": null,
            "min_height": null,
            "min_width": null,
            "object_fit": null,
            "object_position": null,
            "order": null,
            "overflow": null,
            "overflow_x": null,
            "overflow_y": null,
            "padding": null,
            "right": null,
            "top": null,
            "visibility": null,
            "width": null
          }
        },
        "72bd86b14f6e4eaf9963ceb0e3f40b94": {
          "model_module": "@jupyter-widgets/controls",
          "model_name": "DescriptionStyleModel",
          "model_module_version": "1.5.0",
          "state": {
            "_model_module": "@jupyter-widgets/controls",
            "_model_module_version": "1.5.0",
            "_model_name": "DescriptionStyleModel",
            "_view_count": null,
            "_view_module": "@jupyter-widgets/base",
            "_view_module_version": "1.2.0",
            "_view_name": "StyleView",
            "description_width": ""
          }
        },
        "3a2f63f89c0a4319aa2d889b2dca7900": {
          "model_module": "@jupyter-widgets/base",
          "model_name": "LayoutModel",
          "model_module_version": "1.2.0",
          "state": {
            "_model_module": "@jupyter-widgets/base",
            "_model_module_version": "1.2.0",
            "_model_name": "LayoutModel",
            "_view_count": null,
            "_view_module": "@jupyter-widgets/base",
            "_view_module_version": "1.2.0",
            "_view_name": "LayoutView",
            "align_content": null,
            "align_items": null,
            "align_self": null,
            "border": null,
            "bottom": null,
            "display": null,
            "flex": null,
            "flex_flow": null,
            "grid_area": null,
            "grid_auto_columns": null,
            "grid_auto_flow": null,
            "grid_auto_rows": null,
            "grid_column": null,
            "grid_gap": null,
            "grid_row": null,
            "grid_template_areas": null,
            "grid_template_columns": null,
            "grid_template_rows": null,
            "height": null,
            "justify_content": null,
            "justify_items": null,
            "left": null,
            "margin": null,
            "max_height": null,
            "max_width": null,
            "min_height": null,
            "min_width": null,
            "object_fit": null,
            "object_position": null,
            "order": null,
            "overflow": null,
            "overflow_x": null,
            "overflow_y": null,
            "padding": null,
            "right": null,
            "top": null,
            "visibility": null,
            "width": null
          }
        },
        "2df0ce1c607c4a49b78f2e7883a6171d": {
          "model_module": "@jupyter-widgets/controls",
          "model_name": "ProgressStyleModel",
          "model_module_version": "1.5.0",
          "state": {
            "_model_module": "@jupyter-widgets/controls",
            "_model_module_version": "1.5.0",
            "_model_name": "ProgressStyleModel",
            "_view_count": null,
            "_view_module": "@jupyter-widgets/base",
            "_view_module_version": "1.2.0",
            "_view_name": "StyleView",
            "bar_color": null,
            "description_width": ""
          }
        },
        "81f4e5048d0b4b029bfd6fbe2bc9e855": {
          "model_module": "@jupyter-widgets/base",
          "model_name": "LayoutModel",
          "model_module_version": "1.2.0",
          "state": {
            "_model_module": "@jupyter-widgets/base",
            "_model_module_version": "1.2.0",
            "_model_name": "LayoutModel",
            "_view_count": null,
            "_view_module": "@jupyter-widgets/base",
            "_view_module_version": "1.2.0",
            "_view_name": "LayoutView",
            "align_content": null,
            "align_items": null,
            "align_self": null,
            "border": null,
            "bottom": null,
            "display": null,
            "flex": null,
            "flex_flow": null,
            "grid_area": null,
            "grid_auto_columns": null,
            "grid_auto_flow": null,
            "grid_auto_rows": null,
            "grid_column": null,
            "grid_gap": null,
            "grid_row": null,
            "grid_template_areas": null,
            "grid_template_columns": null,
            "grid_template_rows": null,
            "height": null,
            "justify_content": null,
            "justify_items": null,
            "left": null,
            "margin": null,
            "max_height": null,
            "max_width": null,
            "min_height": null,
            "min_width": null,
            "object_fit": null,
            "object_position": null,
            "order": null,
            "overflow": null,
            "overflow_x": null,
            "overflow_y": null,
            "padding": null,
            "right": null,
            "top": null,
            "visibility": null,
            "width": null
          }
        },
        "1feecb75681f4da8804ce2753caab5ca": {
          "model_module": "@jupyter-widgets/controls",
          "model_name": "DescriptionStyleModel",
          "model_module_version": "1.5.0",
          "state": {
            "_model_module": "@jupyter-widgets/controls",
            "_model_module_version": "1.5.0",
            "_model_name": "DescriptionStyleModel",
            "_view_count": null,
            "_view_module": "@jupyter-widgets/base",
            "_view_module_version": "1.2.0",
            "_view_name": "StyleView",
            "description_width": ""
          }
        },
        "869762ad45e34aeaac4024c3c5a1738f": {
          "model_module": "@jupyter-widgets/controls",
          "model_name": "HBoxModel",
          "model_module_version": "1.5.0",
          "state": {
            "_dom_classes": [],
            "_model_module": "@jupyter-widgets/controls",
            "_model_module_version": "1.5.0",
            "_model_name": "HBoxModel",
            "_view_count": null,
            "_view_module": "@jupyter-widgets/controls",
            "_view_module_version": "1.5.0",
            "_view_name": "HBoxView",
            "box_style": "",
            "children": [
              "IPY_MODEL_b33b0610ab3046be81a2c9750de0f1ca",
              "IPY_MODEL_a5dcf85fbc894a50abd64385eca53e75",
              "IPY_MODEL_4c967decaa5e4abfb230781762c4d5c9"
            ],
            "layout": "IPY_MODEL_564260aa0a694bada9afc511954e7e1f"
          }
        },
        "b33b0610ab3046be81a2c9750de0f1ca": {
          "model_module": "@jupyter-widgets/controls",
          "model_name": "HTMLModel",
          "model_module_version": "1.5.0",
          "state": {
            "_dom_classes": [],
            "_model_module": "@jupyter-widgets/controls",
            "_model_module_version": "1.5.0",
            "_model_name": "HTMLModel",
            "_view_count": null,
            "_view_module": "@jupyter-widgets/controls",
            "_view_module_version": "1.5.0",
            "_view_name": "HTMLView",
            "description": "",
            "description_tooltip": null,
            "layout": "IPY_MODEL_38cffbbcd800488fb8bbd45479d9bf7f",
            "placeholder": "​",
            "style": "IPY_MODEL_ed49a8877c2046e384813b9d1c88463e",
            "value": "100%"
          }
        },
        "a5dcf85fbc894a50abd64385eca53e75": {
          "model_module": "@jupyter-widgets/controls",
          "model_name": "FloatProgressModel",
          "model_module_version": "1.5.0",
          "state": {
            "_dom_classes": [],
            "_model_module": "@jupyter-widgets/controls",
            "_model_module_version": "1.5.0",
            "_model_name": "FloatProgressModel",
            "_view_count": null,
            "_view_module": "@jupyter-widgets/controls",
            "_view_module_version": "1.5.0",
            "_view_name": "ProgressView",
            "bar_style": "",
            "description": "",
            "description_tooltip": null,
            "layout": "IPY_MODEL_58ecc9c160644728afd746cfa59fee47",
            "max": 5,
            "min": 0,
            "orientation": "horizontal",
            "style": "IPY_MODEL_f87f46ce28b242d6880f36a79048f5fa",
            "value": 5
          }
        },
        "4c967decaa5e4abfb230781762c4d5c9": {
          "model_module": "@jupyter-widgets/controls",
          "model_name": "HTMLModel",
          "model_module_version": "1.5.0",
          "state": {
            "_dom_classes": [],
            "_model_module": "@jupyter-widgets/controls",
            "_model_module_version": "1.5.0",
            "_model_name": "HTMLModel",
            "_view_count": null,
            "_view_module": "@jupyter-widgets/controls",
            "_view_module_version": "1.5.0",
            "_view_name": "HTMLView",
            "description": "",
            "description_tooltip": null,
            "layout": "IPY_MODEL_27b734482a2f49c6940e45f0afad5b0f",
            "placeholder": "​",
            "style": "IPY_MODEL_04b526b72bf241228b468c4ddcc05d64",
            "value": " 5/5 [00:03&lt;00:00,  1.94it/s]"
          }
        },
        "564260aa0a694bada9afc511954e7e1f": {
          "model_module": "@jupyter-widgets/base",
          "model_name": "LayoutModel",
          "model_module_version": "1.2.0",
          "state": {
            "_model_module": "@jupyter-widgets/base",
            "_model_module_version": "1.2.0",
            "_model_name": "LayoutModel",
            "_view_count": null,
            "_view_module": "@jupyter-widgets/base",
            "_view_module_version": "1.2.0",
            "_view_name": "LayoutView",
            "align_content": null,
            "align_items": null,
            "align_self": null,
            "border": null,
            "bottom": null,
            "display": null,
            "flex": null,
            "flex_flow": null,
            "grid_area": null,
            "grid_auto_columns": null,
            "grid_auto_flow": null,
            "grid_auto_rows": null,
            "grid_column": null,
            "grid_gap": null,
            "grid_row": null,
            "grid_template_areas": null,
            "grid_template_columns": null,
            "grid_template_rows": null,
            "height": null,
            "justify_content": null,
            "justify_items": null,
            "left": null,
            "margin": null,
            "max_height": null,
            "max_width": null,
            "min_height": null,
            "min_width": null,
            "object_fit": null,
            "object_position": null,
            "order": null,
            "overflow": null,
            "overflow_x": null,
            "overflow_y": null,
            "padding": null,
            "right": null,
            "top": null,
            "visibility": "hidden",
            "width": null
          }
        },
        "38cffbbcd800488fb8bbd45479d9bf7f": {
          "model_module": "@jupyter-widgets/base",
          "model_name": "LayoutModel",
          "model_module_version": "1.2.0",
          "state": {
            "_model_module": "@jupyter-widgets/base",
            "_model_module_version": "1.2.0",
            "_model_name": "LayoutModel",
            "_view_count": null,
            "_view_module": "@jupyter-widgets/base",
            "_view_module_version": "1.2.0",
            "_view_name": "LayoutView",
            "align_content": null,
            "align_items": null,
            "align_self": null,
            "border": null,
            "bottom": null,
            "display": null,
            "flex": null,
            "flex_flow": null,
            "grid_area": null,
            "grid_auto_columns": null,
            "grid_auto_flow": null,
            "grid_auto_rows": null,
            "grid_column": null,
            "grid_gap": null,
            "grid_row": null,
            "grid_template_areas": null,
            "grid_template_columns": null,
            "grid_template_rows": null,
            "height": null,
            "justify_content": null,
            "justify_items": null,
            "left": null,
            "margin": null,
            "max_height": null,
            "max_width": null,
            "min_height": null,
            "min_width": null,
            "object_fit": null,
            "object_position": null,
            "order": null,
            "overflow": null,
            "overflow_x": null,
            "overflow_y": null,
            "padding": null,
            "right": null,
            "top": null,
            "visibility": null,
            "width": null
          }
        },
        "ed49a8877c2046e384813b9d1c88463e": {
          "model_module": "@jupyter-widgets/controls",
          "model_name": "DescriptionStyleModel",
          "model_module_version": "1.5.0",
          "state": {
            "_model_module": "@jupyter-widgets/controls",
            "_model_module_version": "1.5.0",
            "_model_name": "DescriptionStyleModel",
            "_view_count": null,
            "_view_module": "@jupyter-widgets/base",
            "_view_module_version": "1.2.0",
            "_view_name": "StyleView",
            "description_width": ""
          }
        },
        "58ecc9c160644728afd746cfa59fee47": {
          "model_module": "@jupyter-widgets/base",
          "model_name": "LayoutModel",
          "model_module_version": "1.2.0",
          "state": {
            "_model_module": "@jupyter-widgets/base",
            "_model_module_version": "1.2.0",
            "_model_name": "LayoutModel",
            "_view_count": null,
            "_view_module": "@jupyter-widgets/base",
            "_view_module_version": "1.2.0",
            "_view_name": "LayoutView",
            "align_content": null,
            "align_items": null,
            "align_self": null,
            "border": null,
            "bottom": null,
            "display": null,
            "flex": null,
            "flex_flow": null,
            "grid_area": null,
            "grid_auto_columns": null,
            "grid_auto_flow": null,
            "grid_auto_rows": null,
            "grid_column": null,
            "grid_gap": null,
            "grid_row": null,
            "grid_template_areas": null,
            "grid_template_columns": null,
            "grid_template_rows": null,
            "height": null,
            "justify_content": null,
            "justify_items": null,
            "left": null,
            "margin": null,
            "max_height": null,
            "max_width": null,
            "min_height": null,
            "min_width": null,
            "object_fit": null,
            "object_position": null,
            "order": null,
            "overflow": null,
            "overflow_x": null,
            "overflow_y": null,
            "padding": null,
            "right": null,
            "top": null,
            "visibility": null,
            "width": null
          }
        },
        "f87f46ce28b242d6880f36a79048f5fa": {
          "model_module": "@jupyter-widgets/controls",
          "model_name": "ProgressStyleModel",
          "model_module_version": "1.5.0",
          "state": {
            "_model_module": "@jupyter-widgets/controls",
            "_model_module_version": "1.5.0",
            "_model_name": "ProgressStyleModel",
            "_view_count": null,
            "_view_module": "@jupyter-widgets/base",
            "_view_module_version": "1.2.0",
            "_view_name": "StyleView",
            "bar_color": null,
            "description_width": ""
          }
        },
        "27b734482a2f49c6940e45f0afad5b0f": {
          "model_module": "@jupyter-widgets/base",
          "model_name": "LayoutModel",
          "model_module_version": "1.2.0",
          "state": {
            "_model_module": "@jupyter-widgets/base",
            "_model_module_version": "1.2.0",
            "_model_name": "LayoutModel",
            "_view_count": null,
            "_view_module": "@jupyter-widgets/base",
            "_view_module_version": "1.2.0",
            "_view_name": "LayoutView",
            "align_content": null,
            "align_items": null,
            "align_self": null,
            "border": null,
            "bottom": null,
            "display": null,
            "flex": null,
            "flex_flow": null,
            "grid_area": null,
            "grid_auto_columns": null,
            "grid_auto_flow": null,
            "grid_auto_rows": null,
            "grid_column": null,
            "grid_gap": null,
            "grid_row": null,
            "grid_template_areas": null,
            "grid_template_columns": null,
            "grid_template_rows": null,
            "height": null,
            "justify_content": null,
            "justify_items": null,
            "left": null,
            "margin": null,
            "max_height": null,
            "max_width": null,
            "min_height": null,
            "min_width": null,
            "object_fit": null,
            "object_position": null,
            "order": null,
            "overflow": null,
            "overflow_x": null,
            "overflow_y": null,
            "padding": null,
            "right": null,
            "top": null,
            "visibility": null,
            "width": null
          }
        },
        "04b526b72bf241228b468c4ddcc05d64": {
          "model_module": "@jupyter-widgets/controls",
          "model_name": "DescriptionStyleModel",
          "model_module_version": "1.5.0",
          "state": {
            "_model_module": "@jupyter-widgets/controls",
            "_model_module_version": "1.5.0",
            "_model_name": "DescriptionStyleModel",
            "_view_count": null,
            "_view_module": "@jupyter-widgets/base",
            "_view_module_version": "1.2.0",
            "_view_name": "StyleView",
            "description_width": ""
          }
        },
        "de0290f5326f4d08baad13672b590ef2": {
          "model_module": "@jupyter-widgets/controls",
          "model_name": "HBoxModel",
          "model_module_version": "1.5.0",
          "state": {
            "_dom_classes": [],
            "_model_module": "@jupyter-widgets/controls",
            "_model_module_version": "1.5.0",
            "_model_name": "HBoxModel",
            "_view_count": null,
            "_view_module": "@jupyter-widgets/controls",
            "_view_module_version": "1.5.0",
            "_view_name": "HBoxView",
            "box_style": "",
            "children": [
              "IPY_MODEL_e0558596a71b4e75a7dd6334e0c05da0",
              "IPY_MODEL_f3ea94ebe1244f73b110ee290f0e3c43",
              "IPY_MODEL_5caf84ebb591438caa0be9eb4b4d82d3"
            ],
            "layout": "IPY_MODEL_b74adbfeb7cd4ef7984994155ac20d99"
          }
        },
        "e0558596a71b4e75a7dd6334e0c05da0": {
          "model_module": "@jupyter-widgets/controls",
          "model_name": "HTMLModel",
          "model_module_version": "1.5.0",
          "state": {
            "_dom_classes": [],
            "_model_module": "@jupyter-widgets/controls",
            "_model_module_version": "1.5.0",
            "_model_name": "HTMLModel",
            "_view_count": null,
            "_view_module": "@jupyter-widgets/controls",
            "_view_module_version": "1.5.0",
            "_view_name": "HTMLView",
            "description": "",
            "description_tooltip": null,
            "layout": "IPY_MODEL_12df1bfd03b74317990f66d3025f46a7",
            "placeholder": "​",
            "style": "IPY_MODEL_c5ac670842254e16aaea5d351ef71111",
            "value": "100%"
          }
        },
        "f3ea94ebe1244f73b110ee290f0e3c43": {
          "model_module": "@jupyter-widgets/controls",
          "model_name": "FloatProgressModel",
          "model_module_version": "1.5.0",
          "state": {
            "_dom_classes": [],
            "_model_module": "@jupyter-widgets/controls",
            "_model_module_version": "1.5.0",
            "_model_name": "FloatProgressModel",
            "_view_count": null,
            "_view_module": "@jupyter-widgets/controls",
            "_view_module_version": "1.5.0",
            "_view_name": "ProgressView",
            "bar_style": "",
            "description": "",
            "description_tooltip": null,
            "layout": "IPY_MODEL_afd934a4db7b4e45b39049e27bf05bb8",
            "max": 5,
            "min": 0,
            "orientation": "horizontal",
            "style": "IPY_MODEL_2bc1ee47b9dc46b287403877ed12719c",
            "value": 5
          }
        },
        "5caf84ebb591438caa0be9eb4b4d82d3": {
          "model_module": "@jupyter-widgets/controls",
          "model_name": "HTMLModel",
          "model_module_version": "1.5.0",
          "state": {
            "_dom_classes": [],
            "_model_module": "@jupyter-widgets/controls",
            "_model_module_version": "1.5.0",
            "_model_name": "HTMLModel",
            "_view_count": null,
            "_view_module": "@jupyter-widgets/controls",
            "_view_module_version": "1.5.0",
            "_view_name": "HTMLView",
            "description": "",
            "description_tooltip": null,
            "layout": "IPY_MODEL_a226ca34c4f74d5fb295ab72654f63df",
            "placeholder": "​",
            "style": "IPY_MODEL_e6a41577a0954d249954b66b7e9c684d",
            "value": " 5/5 [00:02&lt;00:00,  2.25it/s]"
          }
        },
        "b74adbfeb7cd4ef7984994155ac20d99": {
          "model_module": "@jupyter-widgets/base",
          "model_name": "LayoutModel",
          "model_module_version": "1.2.0",
          "state": {
            "_model_module": "@jupyter-widgets/base",
            "_model_module_version": "1.2.0",
            "_model_name": "LayoutModel",
            "_view_count": null,
            "_view_module": "@jupyter-widgets/base",
            "_view_module_version": "1.2.0",
            "_view_name": "LayoutView",
            "align_content": null,
            "align_items": null,
            "align_self": null,
            "border": null,
            "bottom": null,
            "display": null,
            "flex": null,
            "flex_flow": null,
            "grid_area": null,
            "grid_auto_columns": null,
            "grid_auto_flow": null,
            "grid_auto_rows": null,
            "grid_column": null,
            "grid_gap": null,
            "grid_row": null,
            "grid_template_areas": null,
            "grid_template_columns": null,
            "grid_template_rows": null,
            "height": null,
            "justify_content": null,
            "justify_items": null,
            "left": null,
            "margin": null,
            "max_height": null,
            "max_width": null,
            "min_height": null,
            "min_width": null,
            "object_fit": null,
            "object_position": null,
            "order": null,
            "overflow": null,
            "overflow_x": null,
            "overflow_y": null,
            "padding": null,
            "right": null,
            "top": null,
            "visibility": "hidden",
            "width": null
          }
        },
        "12df1bfd03b74317990f66d3025f46a7": {
          "model_module": "@jupyter-widgets/base",
          "model_name": "LayoutModel",
          "model_module_version": "1.2.0",
          "state": {
            "_model_module": "@jupyter-widgets/base",
            "_model_module_version": "1.2.0",
            "_model_name": "LayoutModel",
            "_view_count": null,
            "_view_module": "@jupyter-widgets/base",
            "_view_module_version": "1.2.0",
            "_view_name": "LayoutView",
            "align_content": null,
            "align_items": null,
            "align_self": null,
            "border": null,
            "bottom": null,
            "display": null,
            "flex": null,
            "flex_flow": null,
            "grid_area": null,
            "grid_auto_columns": null,
            "grid_auto_flow": null,
            "grid_auto_rows": null,
            "grid_column": null,
            "grid_gap": null,
            "grid_row": null,
            "grid_template_areas": null,
            "grid_template_columns": null,
            "grid_template_rows": null,
            "height": null,
            "justify_content": null,
            "justify_items": null,
            "left": null,
            "margin": null,
            "max_height": null,
            "max_width": null,
            "min_height": null,
            "min_width": null,
            "object_fit": null,
            "object_position": null,
            "order": null,
            "overflow": null,
            "overflow_x": null,
            "overflow_y": null,
            "padding": null,
            "right": null,
            "top": null,
            "visibility": null,
            "width": null
          }
        },
        "c5ac670842254e16aaea5d351ef71111": {
          "model_module": "@jupyter-widgets/controls",
          "model_name": "DescriptionStyleModel",
          "model_module_version": "1.5.0",
          "state": {
            "_model_module": "@jupyter-widgets/controls",
            "_model_module_version": "1.5.0",
            "_model_name": "DescriptionStyleModel",
            "_view_count": null,
            "_view_module": "@jupyter-widgets/base",
            "_view_module_version": "1.2.0",
            "_view_name": "StyleView",
            "description_width": ""
          }
        },
        "afd934a4db7b4e45b39049e27bf05bb8": {
          "model_module": "@jupyter-widgets/base",
          "model_name": "LayoutModel",
          "model_module_version": "1.2.0",
          "state": {
            "_model_module": "@jupyter-widgets/base",
            "_model_module_version": "1.2.0",
            "_model_name": "LayoutModel",
            "_view_count": null,
            "_view_module": "@jupyter-widgets/base",
            "_view_module_version": "1.2.0",
            "_view_name": "LayoutView",
            "align_content": null,
            "align_items": null,
            "align_self": null,
            "border": null,
            "bottom": null,
            "display": null,
            "flex": null,
            "flex_flow": null,
            "grid_area": null,
            "grid_auto_columns": null,
            "grid_auto_flow": null,
            "grid_auto_rows": null,
            "grid_column": null,
            "grid_gap": null,
            "grid_row": null,
            "grid_template_areas": null,
            "grid_template_columns": null,
            "grid_template_rows": null,
            "height": null,
            "justify_content": null,
            "justify_items": null,
            "left": null,
            "margin": null,
            "max_height": null,
            "max_width": null,
            "min_height": null,
            "min_width": null,
            "object_fit": null,
            "object_position": null,
            "order": null,
            "overflow": null,
            "overflow_x": null,
            "overflow_y": null,
            "padding": null,
            "right": null,
            "top": null,
            "visibility": null,
            "width": null
          }
        },
        "2bc1ee47b9dc46b287403877ed12719c": {
          "model_module": "@jupyter-widgets/controls",
          "model_name": "ProgressStyleModel",
          "model_module_version": "1.5.0",
          "state": {
            "_model_module": "@jupyter-widgets/controls",
            "_model_module_version": "1.5.0",
            "_model_name": "ProgressStyleModel",
            "_view_count": null,
            "_view_module": "@jupyter-widgets/base",
            "_view_module_version": "1.2.0",
            "_view_name": "StyleView",
            "bar_color": null,
            "description_width": ""
          }
        },
        "a226ca34c4f74d5fb295ab72654f63df": {
          "model_module": "@jupyter-widgets/base",
          "model_name": "LayoutModel",
          "model_module_version": "1.2.0",
          "state": {
            "_model_module": "@jupyter-widgets/base",
            "_model_module_version": "1.2.0",
            "_model_name": "LayoutModel",
            "_view_count": null,
            "_view_module": "@jupyter-widgets/base",
            "_view_module_version": "1.2.0",
            "_view_name": "LayoutView",
            "align_content": null,
            "align_items": null,
            "align_self": null,
            "border": null,
            "bottom": null,
            "display": null,
            "flex": null,
            "flex_flow": null,
            "grid_area": null,
            "grid_auto_columns": null,
            "grid_auto_flow": null,
            "grid_auto_rows": null,
            "grid_column": null,
            "grid_gap": null,
            "grid_row": null,
            "grid_template_areas": null,
            "grid_template_columns": null,
            "grid_template_rows": null,
            "height": null,
            "justify_content": null,
            "justify_items": null,
            "left": null,
            "margin": null,
            "max_height": null,
            "max_width": null,
            "min_height": null,
            "min_width": null,
            "object_fit": null,
            "object_position": null,
            "order": null,
            "overflow": null,
            "overflow_x": null,
            "overflow_y": null,
            "padding": null,
            "right": null,
            "top": null,
            "visibility": null,
            "width": null
          }
        },
        "e6a41577a0954d249954b66b7e9c684d": {
          "model_module": "@jupyter-widgets/controls",
          "model_name": "DescriptionStyleModel",
          "model_module_version": "1.5.0",
          "state": {
            "_model_module": "@jupyter-widgets/controls",
            "_model_module_version": "1.5.0",
            "_model_name": "DescriptionStyleModel",
            "_view_count": null,
            "_view_module": "@jupyter-widgets/base",
            "_view_module_version": "1.2.0",
            "_view_name": "StyleView",
            "description_width": ""
          }
        },
        "4889ba24f9344660aa16a4ac636e4030": {
          "model_module": "@jupyter-widgets/controls",
          "model_name": "HBoxModel",
          "model_module_version": "1.5.0",
          "state": {
            "_dom_classes": [],
            "_model_module": "@jupyter-widgets/controls",
            "_model_module_version": "1.5.0",
            "_model_name": "HBoxModel",
            "_view_count": null,
            "_view_module": "@jupyter-widgets/controls",
            "_view_module_version": "1.5.0",
            "_view_name": "HBoxView",
            "box_style": "",
            "children": [
              "IPY_MODEL_4f33ac8088be4fd9a6855dccc7a28861",
              "IPY_MODEL_ccda4b2528a648498ef5a70658ed9e99",
              "IPY_MODEL_8b7cd94c819e4f608705c040a20e5f61"
            ],
            "layout": "IPY_MODEL_a52cfb9673b645229cfa3d76818c0e60"
          }
        },
        "4f33ac8088be4fd9a6855dccc7a28861": {
          "model_module": "@jupyter-widgets/controls",
          "model_name": "HTMLModel",
          "model_module_version": "1.5.0",
          "state": {
            "_dom_classes": [],
            "_model_module": "@jupyter-widgets/controls",
            "_model_module_version": "1.5.0",
            "_model_name": "HTMLModel",
            "_view_count": null,
            "_view_module": "@jupyter-widgets/controls",
            "_view_module_version": "1.5.0",
            "_view_name": "HTMLView",
            "description": "",
            "description_tooltip": null,
            "layout": "IPY_MODEL_181324ce142e45969e2f7ba2c817ac14",
            "placeholder": "​",
            "style": "IPY_MODEL_692561c80a38408f9d3ca7e3d32525d4",
            "value": "100%"
          }
        },
        "ccda4b2528a648498ef5a70658ed9e99": {
          "model_module": "@jupyter-widgets/controls",
          "model_name": "FloatProgressModel",
          "model_module_version": "1.5.0",
          "state": {
            "_dom_classes": [],
            "_model_module": "@jupyter-widgets/controls",
            "_model_module_version": "1.5.0",
            "_model_name": "FloatProgressModel",
            "_view_count": null,
            "_view_module": "@jupyter-widgets/controls",
            "_view_module_version": "1.5.0",
            "_view_name": "ProgressView",
            "bar_style": "",
            "description": "",
            "description_tooltip": null,
            "layout": "IPY_MODEL_bf5bcb1f15544aa39a47237348da5407",
            "max": 5,
            "min": 0,
            "orientation": "horizontal",
            "style": "IPY_MODEL_d495ab7bf9c44eb9901a57cf1c828ffd",
            "value": 5
          }
        },
        "8b7cd94c819e4f608705c040a20e5f61": {
          "model_module": "@jupyter-widgets/controls",
          "model_name": "HTMLModel",
          "model_module_version": "1.5.0",
          "state": {
            "_dom_classes": [],
            "_model_module": "@jupyter-widgets/controls",
            "_model_module_version": "1.5.0",
            "_model_name": "HTMLModel",
            "_view_count": null,
            "_view_module": "@jupyter-widgets/controls",
            "_view_module_version": "1.5.0",
            "_view_name": "HTMLView",
            "description": "",
            "description_tooltip": null,
            "layout": "IPY_MODEL_17111d3981a44fbb846a13776396103f",
            "placeholder": "​",
            "style": "IPY_MODEL_c9731d5f575d4165914723880b0540a2",
            "value": " 5/5 [00:02&lt;00:00,  2.34it/s]"
          }
        },
        "a52cfb9673b645229cfa3d76818c0e60": {
          "model_module": "@jupyter-widgets/base",
          "model_name": "LayoutModel",
          "model_module_version": "1.2.0",
          "state": {
            "_model_module": "@jupyter-widgets/base",
            "_model_module_version": "1.2.0",
            "_model_name": "LayoutModel",
            "_view_count": null,
            "_view_module": "@jupyter-widgets/base",
            "_view_module_version": "1.2.0",
            "_view_name": "LayoutView",
            "align_content": null,
            "align_items": null,
            "align_self": null,
            "border": null,
            "bottom": null,
            "display": null,
            "flex": null,
            "flex_flow": null,
            "grid_area": null,
            "grid_auto_columns": null,
            "grid_auto_flow": null,
            "grid_auto_rows": null,
            "grid_column": null,
            "grid_gap": null,
            "grid_row": null,
            "grid_template_areas": null,
            "grid_template_columns": null,
            "grid_template_rows": null,
            "height": null,
            "justify_content": null,
            "justify_items": null,
            "left": null,
            "margin": null,
            "max_height": null,
            "max_width": null,
            "min_height": null,
            "min_width": null,
            "object_fit": null,
            "object_position": null,
            "order": null,
            "overflow": null,
            "overflow_x": null,
            "overflow_y": null,
            "padding": null,
            "right": null,
            "top": null,
            "visibility": "hidden",
            "width": null
          }
        },
        "181324ce142e45969e2f7ba2c817ac14": {
          "model_module": "@jupyter-widgets/base",
          "model_name": "LayoutModel",
          "model_module_version": "1.2.0",
          "state": {
            "_model_module": "@jupyter-widgets/base",
            "_model_module_version": "1.2.0",
            "_model_name": "LayoutModel",
            "_view_count": null,
            "_view_module": "@jupyter-widgets/base",
            "_view_module_version": "1.2.0",
            "_view_name": "LayoutView",
            "align_content": null,
            "align_items": null,
            "align_self": null,
            "border": null,
            "bottom": null,
            "display": null,
            "flex": null,
            "flex_flow": null,
            "grid_area": null,
            "grid_auto_columns": null,
            "grid_auto_flow": null,
            "grid_auto_rows": null,
            "grid_column": null,
            "grid_gap": null,
            "grid_row": null,
            "grid_template_areas": null,
            "grid_template_columns": null,
            "grid_template_rows": null,
            "height": null,
            "justify_content": null,
            "justify_items": null,
            "left": null,
            "margin": null,
            "max_height": null,
            "max_width": null,
            "min_height": null,
            "min_width": null,
            "object_fit": null,
            "object_position": null,
            "order": null,
            "overflow": null,
            "overflow_x": null,
            "overflow_y": null,
            "padding": null,
            "right": null,
            "top": null,
            "visibility": null,
            "width": null
          }
        },
        "692561c80a38408f9d3ca7e3d32525d4": {
          "model_module": "@jupyter-widgets/controls",
          "model_name": "DescriptionStyleModel",
          "model_module_version": "1.5.0",
          "state": {
            "_model_module": "@jupyter-widgets/controls",
            "_model_module_version": "1.5.0",
            "_model_name": "DescriptionStyleModel",
            "_view_count": null,
            "_view_module": "@jupyter-widgets/base",
            "_view_module_version": "1.2.0",
            "_view_name": "StyleView",
            "description_width": ""
          }
        },
        "bf5bcb1f15544aa39a47237348da5407": {
          "model_module": "@jupyter-widgets/base",
          "model_name": "LayoutModel",
          "model_module_version": "1.2.0",
          "state": {
            "_model_module": "@jupyter-widgets/base",
            "_model_module_version": "1.2.0",
            "_model_name": "LayoutModel",
            "_view_count": null,
            "_view_module": "@jupyter-widgets/base",
            "_view_module_version": "1.2.0",
            "_view_name": "LayoutView",
            "align_content": null,
            "align_items": null,
            "align_self": null,
            "border": null,
            "bottom": null,
            "display": null,
            "flex": null,
            "flex_flow": null,
            "grid_area": null,
            "grid_auto_columns": null,
            "grid_auto_flow": null,
            "grid_auto_rows": null,
            "grid_column": null,
            "grid_gap": null,
            "grid_row": null,
            "grid_template_areas": null,
            "grid_template_columns": null,
            "grid_template_rows": null,
            "height": null,
            "justify_content": null,
            "justify_items": null,
            "left": null,
            "margin": null,
            "max_height": null,
            "max_width": null,
            "min_height": null,
            "min_width": null,
            "object_fit": null,
            "object_position": null,
            "order": null,
            "overflow": null,
            "overflow_x": null,
            "overflow_y": null,
            "padding": null,
            "right": null,
            "top": null,
            "visibility": null,
            "width": null
          }
        },
        "d495ab7bf9c44eb9901a57cf1c828ffd": {
          "model_module": "@jupyter-widgets/controls",
          "model_name": "ProgressStyleModel",
          "model_module_version": "1.5.0",
          "state": {
            "_model_module": "@jupyter-widgets/controls",
            "_model_module_version": "1.5.0",
            "_model_name": "ProgressStyleModel",
            "_view_count": null,
            "_view_module": "@jupyter-widgets/base",
            "_view_module_version": "1.2.0",
            "_view_name": "StyleView",
            "bar_color": null,
            "description_width": ""
          }
        },
        "17111d3981a44fbb846a13776396103f": {
          "model_module": "@jupyter-widgets/base",
          "model_name": "LayoutModel",
          "model_module_version": "1.2.0",
          "state": {
            "_model_module": "@jupyter-widgets/base",
            "_model_module_version": "1.2.0",
            "_model_name": "LayoutModel",
            "_view_count": null,
            "_view_module": "@jupyter-widgets/base",
            "_view_module_version": "1.2.0",
            "_view_name": "LayoutView",
            "align_content": null,
            "align_items": null,
            "align_self": null,
            "border": null,
            "bottom": null,
            "display": null,
            "flex": null,
            "flex_flow": null,
            "grid_area": null,
            "grid_auto_columns": null,
            "grid_auto_flow": null,
            "grid_auto_rows": null,
            "grid_column": null,
            "grid_gap": null,
            "grid_row": null,
            "grid_template_areas": null,
            "grid_template_columns": null,
            "grid_template_rows": null,
            "height": null,
            "justify_content": null,
            "justify_items": null,
            "left": null,
            "margin": null,
            "max_height": null,
            "max_width": null,
            "min_height": null,
            "min_width": null,
            "object_fit": null,
            "object_position": null,
            "order": null,
            "overflow": null,
            "overflow_x": null,
            "overflow_y": null,
            "padding": null,
            "right": null,
            "top": null,
            "visibility": null,
            "width": null
          }
        },
        "c9731d5f575d4165914723880b0540a2": {
          "model_module": "@jupyter-widgets/controls",
          "model_name": "DescriptionStyleModel",
          "model_module_version": "1.5.0",
          "state": {
            "_model_module": "@jupyter-widgets/controls",
            "_model_module_version": "1.5.0",
            "_model_name": "DescriptionStyleModel",
            "_view_count": null,
            "_view_module": "@jupyter-widgets/base",
            "_view_module_version": "1.2.0",
            "_view_name": "StyleView",
            "description_width": ""
          }
        },
        "2d69e757e9fd4648a0138a502fa290f8": {
          "model_module": "@jupyter-widgets/controls",
          "model_name": "HBoxModel",
          "model_module_version": "1.5.0",
          "state": {
            "_dom_classes": [],
            "_model_module": "@jupyter-widgets/controls",
            "_model_module_version": "1.5.0",
            "_model_name": "HBoxModel",
            "_view_count": null,
            "_view_module": "@jupyter-widgets/controls",
            "_view_module_version": "1.5.0",
            "_view_name": "HBoxView",
            "box_style": "",
            "children": [
              "IPY_MODEL_d04d2d0bce55409dbba8a7938d8f9a67",
              "IPY_MODEL_27a8062c260f463cbf2c22821892fa99",
              "IPY_MODEL_2d63fddf698c4c38a0ced0e8c886ae7f"
            ],
            "layout": "IPY_MODEL_269726a6a9694a1e9db2e4cc11438d4e"
          }
        },
        "d04d2d0bce55409dbba8a7938d8f9a67": {
          "model_module": "@jupyter-widgets/controls",
          "model_name": "HTMLModel",
          "model_module_version": "1.5.0",
          "state": {
            "_dom_classes": [],
            "_model_module": "@jupyter-widgets/controls",
            "_model_module_version": "1.5.0",
            "_model_name": "HTMLModel",
            "_view_count": null,
            "_view_module": "@jupyter-widgets/controls",
            "_view_module_version": "1.5.0",
            "_view_name": "HTMLView",
            "description": "",
            "description_tooltip": null,
            "layout": "IPY_MODEL_3dbf5f0e278b419a8faf33119768549e",
            "placeholder": "​",
            "style": "IPY_MODEL_fddcfb14d4bb44ad805579467efbf45f",
            "value": "100%"
          }
        },
        "27a8062c260f463cbf2c22821892fa99": {
          "model_module": "@jupyter-widgets/controls",
          "model_name": "FloatProgressModel",
          "model_module_version": "1.5.0",
          "state": {
            "_dom_classes": [],
            "_model_module": "@jupyter-widgets/controls",
            "_model_module_version": "1.5.0",
            "_model_name": "FloatProgressModel",
            "_view_count": null,
            "_view_module": "@jupyter-widgets/controls",
            "_view_module_version": "1.5.0",
            "_view_name": "ProgressView",
            "bar_style": "",
            "description": "",
            "description_tooltip": null,
            "layout": "IPY_MODEL_ceaf55b178cf4f48979b25fa14f4c652",
            "max": 5,
            "min": 0,
            "orientation": "horizontal",
            "style": "IPY_MODEL_e05795dcc4e44ba9835809febbdf71fb",
            "value": 5
          }
        },
        "2d63fddf698c4c38a0ced0e8c886ae7f": {
          "model_module": "@jupyter-widgets/controls",
          "model_name": "HTMLModel",
          "model_module_version": "1.5.0",
          "state": {
            "_dom_classes": [],
            "_model_module": "@jupyter-widgets/controls",
            "_model_module_version": "1.5.0",
            "_model_name": "HTMLModel",
            "_view_count": null,
            "_view_module": "@jupyter-widgets/controls",
            "_view_module_version": "1.5.0",
            "_view_name": "HTMLView",
            "description": "",
            "description_tooltip": null,
            "layout": "IPY_MODEL_b6dcf8aef3324479bd5fecbb51c45e16",
            "placeholder": "​",
            "style": "IPY_MODEL_23fd5d4393fb442a84d359adf14e2f66",
            "value": " 5/5 [00:02&lt;00:00,  2.33it/s]"
          }
        },
        "269726a6a9694a1e9db2e4cc11438d4e": {
          "model_module": "@jupyter-widgets/base",
          "model_name": "LayoutModel",
          "model_module_version": "1.2.0",
          "state": {
            "_model_module": "@jupyter-widgets/base",
            "_model_module_version": "1.2.0",
            "_model_name": "LayoutModel",
            "_view_count": null,
            "_view_module": "@jupyter-widgets/base",
            "_view_module_version": "1.2.0",
            "_view_name": "LayoutView",
            "align_content": null,
            "align_items": null,
            "align_self": null,
            "border": null,
            "bottom": null,
            "display": null,
            "flex": null,
            "flex_flow": null,
            "grid_area": null,
            "grid_auto_columns": null,
            "grid_auto_flow": null,
            "grid_auto_rows": null,
            "grid_column": null,
            "grid_gap": null,
            "grid_row": null,
            "grid_template_areas": null,
            "grid_template_columns": null,
            "grid_template_rows": null,
            "height": null,
            "justify_content": null,
            "justify_items": null,
            "left": null,
            "margin": null,
            "max_height": null,
            "max_width": null,
            "min_height": null,
            "min_width": null,
            "object_fit": null,
            "object_position": null,
            "order": null,
            "overflow": null,
            "overflow_x": null,
            "overflow_y": null,
            "padding": null,
            "right": null,
            "top": null,
            "visibility": "hidden",
            "width": null
          }
        },
        "3dbf5f0e278b419a8faf33119768549e": {
          "model_module": "@jupyter-widgets/base",
          "model_name": "LayoutModel",
          "model_module_version": "1.2.0",
          "state": {
            "_model_module": "@jupyter-widgets/base",
            "_model_module_version": "1.2.0",
            "_model_name": "LayoutModel",
            "_view_count": null,
            "_view_module": "@jupyter-widgets/base",
            "_view_module_version": "1.2.0",
            "_view_name": "LayoutView",
            "align_content": null,
            "align_items": null,
            "align_self": null,
            "border": null,
            "bottom": null,
            "display": null,
            "flex": null,
            "flex_flow": null,
            "grid_area": null,
            "grid_auto_columns": null,
            "grid_auto_flow": null,
            "grid_auto_rows": null,
            "grid_column": null,
            "grid_gap": null,
            "grid_row": null,
            "grid_template_areas": null,
            "grid_template_columns": null,
            "grid_template_rows": null,
            "height": null,
            "justify_content": null,
            "justify_items": null,
            "left": null,
            "margin": null,
            "max_height": null,
            "max_width": null,
            "min_height": null,
            "min_width": null,
            "object_fit": null,
            "object_position": null,
            "order": null,
            "overflow": null,
            "overflow_x": null,
            "overflow_y": null,
            "padding": null,
            "right": null,
            "top": null,
            "visibility": null,
            "width": null
          }
        },
        "fddcfb14d4bb44ad805579467efbf45f": {
          "model_module": "@jupyter-widgets/controls",
          "model_name": "DescriptionStyleModel",
          "model_module_version": "1.5.0",
          "state": {
            "_model_module": "@jupyter-widgets/controls",
            "_model_module_version": "1.5.0",
            "_model_name": "DescriptionStyleModel",
            "_view_count": null,
            "_view_module": "@jupyter-widgets/base",
            "_view_module_version": "1.2.0",
            "_view_name": "StyleView",
            "description_width": ""
          }
        },
        "ceaf55b178cf4f48979b25fa14f4c652": {
          "model_module": "@jupyter-widgets/base",
          "model_name": "LayoutModel",
          "model_module_version": "1.2.0",
          "state": {
            "_model_module": "@jupyter-widgets/base",
            "_model_module_version": "1.2.0",
            "_model_name": "LayoutModel",
            "_view_count": null,
            "_view_module": "@jupyter-widgets/base",
            "_view_module_version": "1.2.0",
            "_view_name": "LayoutView",
            "align_content": null,
            "align_items": null,
            "align_self": null,
            "border": null,
            "bottom": null,
            "display": null,
            "flex": null,
            "flex_flow": null,
            "grid_area": null,
            "grid_auto_columns": null,
            "grid_auto_flow": null,
            "grid_auto_rows": null,
            "grid_column": null,
            "grid_gap": null,
            "grid_row": null,
            "grid_template_areas": null,
            "grid_template_columns": null,
            "grid_template_rows": null,
            "height": null,
            "justify_content": null,
            "justify_items": null,
            "left": null,
            "margin": null,
            "max_height": null,
            "max_width": null,
            "min_height": null,
            "min_width": null,
            "object_fit": null,
            "object_position": null,
            "order": null,
            "overflow": null,
            "overflow_x": null,
            "overflow_y": null,
            "padding": null,
            "right": null,
            "top": null,
            "visibility": null,
            "width": null
          }
        },
        "e05795dcc4e44ba9835809febbdf71fb": {
          "model_module": "@jupyter-widgets/controls",
          "model_name": "ProgressStyleModel",
          "model_module_version": "1.5.0",
          "state": {
            "_model_module": "@jupyter-widgets/controls",
            "_model_module_version": "1.5.0",
            "_model_name": "ProgressStyleModel",
            "_view_count": null,
            "_view_module": "@jupyter-widgets/base",
            "_view_module_version": "1.2.0",
            "_view_name": "StyleView",
            "bar_color": null,
            "description_width": ""
          }
        },
        "b6dcf8aef3324479bd5fecbb51c45e16": {
          "model_module": "@jupyter-widgets/base",
          "model_name": "LayoutModel",
          "model_module_version": "1.2.0",
          "state": {
            "_model_module": "@jupyter-widgets/base",
            "_model_module_version": "1.2.0",
            "_model_name": "LayoutModel",
            "_view_count": null,
            "_view_module": "@jupyter-widgets/base",
            "_view_module_version": "1.2.0",
            "_view_name": "LayoutView",
            "align_content": null,
            "align_items": null,
            "align_self": null,
            "border": null,
            "bottom": null,
            "display": null,
            "flex": null,
            "flex_flow": null,
            "grid_area": null,
            "grid_auto_columns": null,
            "grid_auto_flow": null,
            "grid_auto_rows": null,
            "grid_column": null,
            "grid_gap": null,
            "grid_row": null,
            "grid_template_areas": null,
            "grid_template_columns": null,
            "grid_template_rows": null,
            "height": null,
            "justify_content": null,
            "justify_items": null,
            "left": null,
            "margin": null,
            "max_height": null,
            "max_width": null,
            "min_height": null,
            "min_width": null,
            "object_fit": null,
            "object_position": null,
            "order": null,
            "overflow": null,
            "overflow_x": null,
            "overflow_y": null,
            "padding": null,
            "right": null,
            "top": null,
            "visibility": null,
            "width": null
          }
        },
        "23fd5d4393fb442a84d359adf14e2f66": {
          "model_module": "@jupyter-widgets/controls",
          "model_name": "DescriptionStyleModel",
          "model_module_version": "1.5.0",
          "state": {
            "_model_module": "@jupyter-widgets/controls",
            "_model_module_version": "1.5.0",
            "_model_name": "DescriptionStyleModel",
            "_view_count": null,
            "_view_module": "@jupyter-widgets/base",
            "_view_module_version": "1.2.0",
            "_view_name": "StyleView",
            "description_width": ""
          }
        },
        "ec909e989f4e4b4c8f73d33926336e2a": {
          "model_module": "@jupyter-widgets/controls",
          "model_name": "HBoxModel",
          "model_module_version": "1.5.0",
          "state": {
            "_dom_classes": [],
            "_model_module": "@jupyter-widgets/controls",
            "_model_module_version": "1.5.0",
            "_model_name": "HBoxModel",
            "_view_count": null,
            "_view_module": "@jupyter-widgets/controls",
            "_view_module_version": "1.5.0",
            "_view_name": "HBoxView",
            "box_style": "",
            "children": [
              "IPY_MODEL_768f8f7d1d2a4a4b8cc2c93df9b11754",
              "IPY_MODEL_76755bf4a7b94c2f8f09b3e792b2fd3e",
              "IPY_MODEL_6225eb7a260048c78980e92d7558c0ad"
            ],
            "layout": "IPY_MODEL_006b9a52ddd1478ba120942e0108f973"
          }
        },
        "768f8f7d1d2a4a4b8cc2c93df9b11754": {
          "model_module": "@jupyter-widgets/controls",
          "model_name": "HTMLModel",
          "model_module_version": "1.5.0",
          "state": {
            "_dom_classes": [],
            "_model_module": "@jupyter-widgets/controls",
            "_model_module_version": "1.5.0",
            "_model_name": "HTMLModel",
            "_view_count": null,
            "_view_module": "@jupyter-widgets/controls",
            "_view_module_version": "1.5.0",
            "_view_name": "HTMLView",
            "description": "",
            "description_tooltip": null,
            "layout": "IPY_MODEL_9df90272e3434e25925655a5930ab5d7",
            "placeholder": "​",
            "style": "IPY_MODEL_2b0f8ad1642a400ba477f141c79f2855",
            "value": "100%"
          }
        },
        "76755bf4a7b94c2f8f09b3e792b2fd3e": {
          "model_module": "@jupyter-widgets/controls",
          "model_name": "FloatProgressModel",
          "model_module_version": "1.5.0",
          "state": {
            "_dom_classes": [],
            "_model_module": "@jupyter-widgets/controls",
            "_model_module_version": "1.5.0",
            "_model_name": "FloatProgressModel",
            "_view_count": null,
            "_view_module": "@jupyter-widgets/controls",
            "_view_module_version": "1.5.0",
            "_view_name": "ProgressView",
            "bar_style": "",
            "description": "",
            "description_tooltip": null,
            "layout": "IPY_MODEL_74c6be4a4ad2491ab3087723c669f997",
            "max": 5,
            "min": 0,
            "orientation": "horizontal",
            "style": "IPY_MODEL_58598f5bdc0d41d2a325af7b9ff354ad",
            "value": 5
          }
        },
        "6225eb7a260048c78980e92d7558c0ad": {
          "model_module": "@jupyter-widgets/controls",
          "model_name": "HTMLModel",
          "model_module_version": "1.5.0",
          "state": {
            "_dom_classes": [],
            "_model_module": "@jupyter-widgets/controls",
            "_model_module_version": "1.5.0",
            "_model_name": "HTMLModel",
            "_view_count": null,
            "_view_module": "@jupyter-widgets/controls",
            "_view_module_version": "1.5.0",
            "_view_name": "HTMLView",
            "description": "",
            "description_tooltip": null,
            "layout": "IPY_MODEL_e1e0f08bbec04244a2f27c510f4be674",
            "placeholder": "​",
            "style": "IPY_MODEL_bdd367104aa3465b913dd3fe1d1019d7",
            "value": " 5/5 [00:02&lt;00:00,  2.39it/s]"
          }
        },
        "006b9a52ddd1478ba120942e0108f973": {
          "model_module": "@jupyter-widgets/base",
          "model_name": "LayoutModel",
          "model_module_version": "1.2.0",
          "state": {
            "_model_module": "@jupyter-widgets/base",
            "_model_module_version": "1.2.0",
            "_model_name": "LayoutModel",
            "_view_count": null,
            "_view_module": "@jupyter-widgets/base",
            "_view_module_version": "1.2.0",
            "_view_name": "LayoutView",
            "align_content": null,
            "align_items": null,
            "align_self": null,
            "border": null,
            "bottom": null,
            "display": null,
            "flex": null,
            "flex_flow": null,
            "grid_area": null,
            "grid_auto_columns": null,
            "grid_auto_flow": null,
            "grid_auto_rows": null,
            "grid_column": null,
            "grid_gap": null,
            "grid_row": null,
            "grid_template_areas": null,
            "grid_template_columns": null,
            "grid_template_rows": null,
            "height": null,
            "justify_content": null,
            "justify_items": null,
            "left": null,
            "margin": null,
            "max_height": null,
            "max_width": null,
            "min_height": null,
            "min_width": null,
            "object_fit": null,
            "object_position": null,
            "order": null,
            "overflow": null,
            "overflow_x": null,
            "overflow_y": null,
            "padding": null,
            "right": null,
            "top": null,
            "visibility": "hidden",
            "width": null
          }
        },
        "9df90272e3434e25925655a5930ab5d7": {
          "model_module": "@jupyter-widgets/base",
          "model_name": "LayoutModel",
          "model_module_version": "1.2.0",
          "state": {
            "_model_module": "@jupyter-widgets/base",
            "_model_module_version": "1.2.0",
            "_model_name": "LayoutModel",
            "_view_count": null,
            "_view_module": "@jupyter-widgets/base",
            "_view_module_version": "1.2.0",
            "_view_name": "LayoutView",
            "align_content": null,
            "align_items": null,
            "align_self": null,
            "border": null,
            "bottom": null,
            "display": null,
            "flex": null,
            "flex_flow": null,
            "grid_area": null,
            "grid_auto_columns": null,
            "grid_auto_flow": null,
            "grid_auto_rows": null,
            "grid_column": null,
            "grid_gap": null,
            "grid_row": null,
            "grid_template_areas": null,
            "grid_template_columns": null,
            "grid_template_rows": null,
            "height": null,
            "justify_content": null,
            "justify_items": null,
            "left": null,
            "margin": null,
            "max_height": null,
            "max_width": null,
            "min_height": null,
            "min_width": null,
            "object_fit": null,
            "object_position": null,
            "order": null,
            "overflow": null,
            "overflow_x": null,
            "overflow_y": null,
            "padding": null,
            "right": null,
            "top": null,
            "visibility": null,
            "width": null
          }
        },
        "2b0f8ad1642a400ba477f141c79f2855": {
          "model_module": "@jupyter-widgets/controls",
          "model_name": "DescriptionStyleModel",
          "model_module_version": "1.5.0",
          "state": {
            "_model_module": "@jupyter-widgets/controls",
            "_model_module_version": "1.5.0",
            "_model_name": "DescriptionStyleModel",
            "_view_count": null,
            "_view_module": "@jupyter-widgets/base",
            "_view_module_version": "1.2.0",
            "_view_name": "StyleView",
            "description_width": ""
          }
        },
        "74c6be4a4ad2491ab3087723c669f997": {
          "model_module": "@jupyter-widgets/base",
          "model_name": "LayoutModel",
          "model_module_version": "1.2.0",
          "state": {
            "_model_module": "@jupyter-widgets/base",
            "_model_module_version": "1.2.0",
            "_model_name": "LayoutModel",
            "_view_count": null,
            "_view_module": "@jupyter-widgets/base",
            "_view_module_version": "1.2.0",
            "_view_name": "LayoutView",
            "align_content": null,
            "align_items": null,
            "align_self": null,
            "border": null,
            "bottom": null,
            "display": null,
            "flex": null,
            "flex_flow": null,
            "grid_area": null,
            "grid_auto_columns": null,
            "grid_auto_flow": null,
            "grid_auto_rows": null,
            "grid_column": null,
            "grid_gap": null,
            "grid_row": null,
            "grid_template_areas": null,
            "grid_template_columns": null,
            "grid_template_rows": null,
            "height": null,
            "justify_content": null,
            "justify_items": null,
            "left": null,
            "margin": null,
            "max_height": null,
            "max_width": null,
            "min_height": null,
            "min_width": null,
            "object_fit": null,
            "object_position": null,
            "order": null,
            "overflow": null,
            "overflow_x": null,
            "overflow_y": null,
            "padding": null,
            "right": null,
            "top": null,
            "visibility": null,
            "width": null
          }
        },
        "58598f5bdc0d41d2a325af7b9ff354ad": {
          "model_module": "@jupyter-widgets/controls",
          "model_name": "ProgressStyleModel",
          "model_module_version": "1.5.0",
          "state": {
            "_model_module": "@jupyter-widgets/controls",
            "_model_module_version": "1.5.0",
            "_model_name": "ProgressStyleModel",
            "_view_count": null,
            "_view_module": "@jupyter-widgets/base",
            "_view_module_version": "1.2.0",
            "_view_name": "StyleView",
            "bar_color": null,
            "description_width": ""
          }
        },
        "e1e0f08bbec04244a2f27c510f4be674": {
          "model_module": "@jupyter-widgets/base",
          "model_name": "LayoutModel",
          "model_module_version": "1.2.0",
          "state": {
            "_model_module": "@jupyter-widgets/base",
            "_model_module_version": "1.2.0",
            "_model_name": "LayoutModel",
            "_view_count": null,
            "_view_module": "@jupyter-widgets/base",
            "_view_module_version": "1.2.0",
            "_view_name": "LayoutView",
            "align_content": null,
            "align_items": null,
            "align_self": null,
            "border": null,
            "bottom": null,
            "display": null,
            "flex": null,
            "flex_flow": null,
            "grid_area": null,
            "grid_auto_columns": null,
            "grid_auto_flow": null,
            "grid_auto_rows": null,
            "grid_column": null,
            "grid_gap": null,
            "grid_row": null,
            "grid_template_areas": null,
            "grid_template_columns": null,
            "grid_template_rows": null,
            "height": null,
            "justify_content": null,
            "justify_items": null,
            "left": null,
            "margin": null,
            "max_height": null,
            "max_width": null,
            "min_height": null,
            "min_width": null,
            "object_fit": null,
            "object_position": null,
            "order": null,
            "overflow": null,
            "overflow_x": null,
            "overflow_y": null,
            "padding": null,
            "right": null,
            "top": null,
            "visibility": null,
            "width": null
          }
        },
        "bdd367104aa3465b913dd3fe1d1019d7": {
          "model_module": "@jupyter-widgets/controls",
          "model_name": "DescriptionStyleModel",
          "model_module_version": "1.5.0",
          "state": {
            "_model_module": "@jupyter-widgets/controls",
            "_model_module_version": "1.5.0",
            "_model_name": "DescriptionStyleModel",
            "_view_count": null,
            "_view_module": "@jupyter-widgets/base",
            "_view_module_version": "1.2.0",
            "_view_name": "StyleView",
            "description_width": ""
          }
        },
        "efeb0e1a29774e40809ee80a9254cd9f": {
          "model_module": "@jupyter-widgets/controls",
          "model_name": "HBoxModel",
          "model_module_version": "1.5.0",
          "state": {
            "_dom_classes": [],
            "_model_module": "@jupyter-widgets/controls",
            "_model_module_version": "1.5.0",
            "_model_name": "HBoxModel",
            "_view_count": null,
            "_view_module": "@jupyter-widgets/controls",
            "_view_module_version": "1.5.0",
            "_view_name": "HBoxView",
            "box_style": "",
            "children": [
              "IPY_MODEL_906cde8fa9e8422b84b86c3dd36e312f",
              "IPY_MODEL_2071fcbf1f154420bacae56477ab8f51",
              "IPY_MODEL_7ef1fa7515e44616a8b9f8071dbd3c3a"
            ],
            "layout": "IPY_MODEL_2843d02620f143be932000c3b0abc56f"
          }
        },
        "906cde8fa9e8422b84b86c3dd36e312f": {
          "model_module": "@jupyter-widgets/controls",
          "model_name": "HTMLModel",
          "model_module_version": "1.5.0",
          "state": {
            "_dom_classes": [],
            "_model_module": "@jupyter-widgets/controls",
            "_model_module_version": "1.5.0",
            "_model_name": "HTMLModel",
            "_view_count": null,
            "_view_module": "@jupyter-widgets/controls",
            "_view_module_version": "1.5.0",
            "_view_name": "HTMLView",
            "description": "",
            "description_tooltip": null,
            "layout": "IPY_MODEL_65a96737a8b44bcfa261bf1aa505b12a",
            "placeholder": "​",
            "style": "IPY_MODEL_466688b9652644449ca94ffce92bf943",
            "value": "100%"
          }
        },
        "2071fcbf1f154420bacae56477ab8f51": {
          "model_module": "@jupyter-widgets/controls",
          "model_name": "FloatProgressModel",
          "model_module_version": "1.5.0",
          "state": {
            "_dom_classes": [],
            "_model_module": "@jupyter-widgets/controls",
            "_model_module_version": "1.5.0",
            "_model_name": "FloatProgressModel",
            "_view_count": null,
            "_view_module": "@jupyter-widgets/controls",
            "_view_module_version": "1.5.0",
            "_view_name": "ProgressView",
            "bar_style": "",
            "description": "",
            "description_tooltip": null,
            "layout": "IPY_MODEL_4d3c66c0f8cf4974aaa52b15b3d51821",
            "max": 5,
            "min": 0,
            "orientation": "horizontal",
            "style": "IPY_MODEL_5fc52f9b232b4f59990ab29513dbe64e",
            "value": 5
          }
        },
        "7ef1fa7515e44616a8b9f8071dbd3c3a": {
          "model_module": "@jupyter-widgets/controls",
          "model_name": "HTMLModel",
          "model_module_version": "1.5.0",
          "state": {
            "_dom_classes": [],
            "_model_module": "@jupyter-widgets/controls",
            "_model_module_version": "1.5.0",
            "_model_name": "HTMLModel",
            "_view_count": null,
            "_view_module": "@jupyter-widgets/controls",
            "_view_module_version": "1.5.0",
            "_view_name": "HTMLView",
            "description": "",
            "description_tooltip": null,
            "layout": "IPY_MODEL_f4c8f5df31514377bb6c6fb6dbd0f192",
            "placeholder": "​",
            "style": "IPY_MODEL_5e19d90a2fc243a7933763a82b5f4320",
            "value": " 5/5 [00:02&lt;00:00,  2.24it/s]"
          }
        },
        "2843d02620f143be932000c3b0abc56f": {
          "model_module": "@jupyter-widgets/base",
          "model_name": "LayoutModel",
          "model_module_version": "1.2.0",
          "state": {
            "_model_module": "@jupyter-widgets/base",
            "_model_module_version": "1.2.0",
            "_model_name": "LayoutModel",
            "_view_count": null,
            "_view_module": "@jupyter-widgets/base",
            "_view_module_version": "1.2.0",
            "_view_name": "LayoutView",
            "align_content": null,
            "align_items": null,
            "align_self": null,
            "border": null,
            "bottom": null,
            "display": null,
            "flex": null,
            "flex_flow": null,
            "grid_area": null,
            "grid_auto_columns": null,
            "grid_auto_flow": null,
            "grid_auto_rows": null,
            "grid_column": null,
            "grid_gap": null,
            "grid_row": null,
            "grid_template_areas": null,
            "grid_template_columns": null,
            "grid_template_rows": null,
            "height": null,
            "justify_content": null,
            "justify_items": null,
            "left": null,
            "margin": null,
            "max_height": null,
            "max_width": null,
            "min_height": null,
            "min_width": null,
            "object_fit": null,
            "object_position": null,
            "order": null,
            "overflow": null,
            "overflow_x": null,
            "overflow_y": null,
            "padding": null,
            "right": null,
            "top": null,
            "visibility": "hidden",
            "width": null
          }
        },
        "65a96737a8b44bcfa261bf1aa505b12a": {
          "model_module": "@jupyter-widgets/base",
          "model_name": "LayoutModel",
          "model_module_version": "1.2.0",
          "state": {
            "_model_module": "@jupyter-widgets/base",
            "_model_module_version": "1.2.0",
            "_model_name": "LayoutModel",
            "_view_count": null,
            "_view_module": "@jupyter-widgets/base",
            "_view_module_version": "1.2.0",
            "_view_name": "LayoutView",
            "align_content": null,
            "align_items": null,
            "align_self": null,
            "border": null,
            "bottom": null,
            "display": null,
            "flex": null,
            "flex_flow": null,
            "grid_area": null,
            "grid_auto_columns": null,
            "grid_auto_flow": null,
            "grid_auto_rows": null,
            "grid_column": null,
            "grid_gap": null,
            "grid_row": null,
            "grid_template_areas": null,
            "grid_template_columns": null,
            "grid_template_rows": null,
            "height": null,
            "justify_content": null,
            "justify_items": null,
            "left": null,
            "margin": null,
            "max_height": null,
            "max_width": null,
            "min_height": null,
            "min_width": null,
            "object_fit": null,
            "object_position": null,
            "order": null,
            "overflow": null,
            "overflow_x": null,
            "overflow_y": null,
            "padding": null,
            "right": null,
            "top": null,
            "visibility": null,
            "width": null
          }
        },
        "466688b9652644449ca94ffce92bf943": {
          "model_module": "@jupyter-widgets/controls",
          "model_name": "DescriptionStyleModel",
          "model_module_version": "1.5.0",
          "state": {
            "_model_module": "@jupyter-widgets/controls",
            "_model_module_version": "1.5.0",
            "_model_name": "DescriptionStyleModel",
            "_view_count": null,
            "_view_module": "@jupyter-widgets/base",
            "_view_module_version": "1.2.0",
            "_view_name": "StyleView",
            "description_width": ""
          }
        },
        "4d3c66c0f8cf4974aaa52b15b3d51821": {
          "model_module": "@jupyter-widgets/base",
          "model_name": "LayoutModel",
          "model_module_version": "1.2.0",
          "state": {
            "_model_module": "@jupyter-widgets/base",
            "_model_module_version": "1.2.0",
            "_model_name": "LayoutModel",
            "_view_count": null,
            "_view_module": "@jupyter-widgets/base",
            "_view_module_version": "1.2.0",
            "_view_name": "LayoutView",
            "align_content": null,
            "align_items": null,
            "align_self": null,
            "border": null,
            "bottom": null,
            "display": null,
            "flex": null,
            "flex_flow": null,
            "grid_area": null,
            "grid_auto_columns": null,
            "grid_auto_flow": null,
            "grid_auto_rows": null,
            "grid_column": null,
            "grid_gap": null,
            "grid_row": null,
            "grid_template_areas": null,
            "grid_template_columns": null,
            "grid_template_rows": null,
            "height": null,
            "justify_content": null,
            "justify_items": null,
            "left": null,
            "margin": null,
            "max_height": null,
            "max_width": null,
            "min_height": null,
            "min_width": null,
            "object_fit": null,
            "object_position": null,
            "order": null,
            "overflow": null,
            "overflow_x": null,
            "overflow_y": null,
            "padding": null,
            "right": null,
            "top": null,
            "visibility": null,
            "width": null
          }
        },
        "5fc52f9b232b4f59990ab29513dbe64e": {
          "model_module": "@jupyter-widgets/controls",
          "model_name": "ProgressStyleModel",
          "model_module_version": "1.5.0",
          "state": {
            "_model_module": "@jupyter-widgets/controls",
            "_model_module_version": "1.5.0",
            "_model_name": "ProgressStyleModel",
            "_view_count": null,
            "_view_module": "@jupyter-widgets/base",
            "_view_module_version": "1.2.0",
            "_view_name": "StyleView",
            "bar_color": null,
            "description_width": ""
          }
        },
        "f4c8f5df31514377bb6c6fb6dbd0f192": {
          "model_module": "@jupyter-widgets/base",
          "model_name": "LayoutModel",
          "model_module_version": "1.2.0",
          "state": {
            "_model_module": "@jupyter-widgets/base",
            "_model_module_version": "1.2.0",
            "_model_name": "LayoutModel",
            "_view_count": null,
            "_view_module": "@jupyter-widgets/base",
            "_view_module_version": "1.2.0",
            "_view_name": "LayoutView",
            "align_content": null,
            "align_items": null,
            "align_self": null,
            "border": null,
            "bottom": null,
            "display": null,
            "flex": null,
            "flex_flow": null,
            "grid_area": null,
            "grid_auto_columns": null,
            "grid_auto_flow": null,
            "grid_auto_rows": null,
            "grid_column": null,
            "grid_gap": null,
            "grid_row": null,
            "grid_template_areas": null,
            "grid_template_columns": null,
            "grid_template_rows": null,
            "height": null,
            "justify_content": null,
            "justify_items": null,
            "left": null,
            "margin": null,
            "max_height": null,
            "max_width": null,
            "min_height": null,
            "min_width": null,
            "object_fit": null,
            "object_position": null,
            "order": null,
            "overflow": null,
            "overflow_x": null,
            "overflow_y": null,
            "padding": null,
            "right": null,
            "top": null,
            "visibility": null,
            "width": null
          }
        },
        "5e19d90a2fc243a7933763a82b5f4320": {
          "model_module": "@jupyter-widgets/controls",
          "model_name": "DescriptionStyleModel",
          "model_module_version": "1.5.0",
          "state": {
            "_model_module": "@jupyter-widgets/controls",
            "_model_module_version": "1.5.0",
            "_model_name": "DescriptionStyleModel",
            "_view_count": null,
            "_view_module": "@jupyter-widgets/base",
            "_view_module_version": "1.2.0",
            "_view_name": "StyleView",
            "description_width": ""
          }
        }
      }
    }
  },
  "cells": [
    {
      "cell_type": "markdown",
      "metadata": {
        "id": "view-in-github",
        "colab_type": "text"
      },
      "source": [
        "<a href=\"https://colab.research.google.com/github/Sandwhaletree/2023.05_Tibame/blob/main/A12_%E9%80%B2%E9%9A%8E%E6%B7%B1%E5%BA%A6%E5%AD%B8%E7%BF%92_%E6%9D%8E%E6%99%BA%E6%8F%9A/003_1_02_PyTorch_CNN_Pneumonia_Tips_0713.ipynb\" target=\"_parent\"><img src=\"https://colab.research.google.com/assets/colab-badge.svg\" alt=\"Open In Colab\"/></a>"
      ]
    },
    {
      "cell_type": "code",
      "metadata": {
        "id": "Svdyzcv-sxWS"
      },
      "source": [
        "import cv2\n",
        "import matplotlib.pyplot as plt\n",
        "import numpy as np\n",
        "import os # path\n",
        "from glob import glob # search file\n",
        "from tqdm.auto import tqdm\n",
        "from sklearn.model_selection import train_test_split\n",
        "\n",
        "# PyTorch\n",
        "import torch\n",
        "from torch import nn\n",
        "import torchvision\n",
        "from torchsummary import summary # model summary"
      ],
      "execution_count": 1,
      "outputs": []
    },
    {
      "cell_type": "code",
      "metadata": {
        "id": "yxqn5uBwtaPx",
        "colab": {
          "base_uri": "https://localhost:8080/",
          "height": 36
        },
        "outputId": "7419a031-9478-43f3-9d0d-cd93ddc28385"
      },
      "source": [
        "torch.__version__"
      ],
      "execution_count": 2,
      "outputs": [
        {
          "output_type": "execute_result",
          "data": {
            "text/plain": [
              "'2.0.1+cu118'"
            ],
            "application/vnd.google.colaboratory.intrinsic+json": {
              "type": "string"
            }
          },
          "metadata": {},
          "execution_count": 2
        }
      ]
    },
    {
      "cell_type": "code",
      "metadata": {
        "id": "JVaf9CQ2DQkV",
        "colab": {
          "base_uri": "https://localhost:8080/"
        },
        "outputId": "cc7cc413-bb68-4e72-9db1-7e56e9dbcdad"
      },
      "source": [
        "# Get cpu or gpu device for training.\n",
        "device = \"cuda\" if torch.cuda.is_available() else \"cpu\"\n",
        "print(f\"Using: {device}\")"
      ],
      "execution_count": 3,
      "outputs": [
        {
          "output_type": "stream",
          "name": "stdout",
          "text": [
            "Using: cuda\n"
          ]
        }
      ]
    },
    {
      "cell_type": "markdown",
      "metadata": {
        "id": "WRzgJskbtkB4"
      },
      "source": [
        "#### Download dataset"
      ]
    },
    {
      "cell_type": "code",
      "metadata": {
        "id": "WKKnnnkjtf8D",
        "colab": {
          "base_uri": "https://localhost:8080/"
        },
        "outputId": "9a67b208-ff4a-4362-c7c5-af641329d0f5"
      },
      "source": [
        "# download from google drive\n",
        "!pip install --upgrade gdown\n",
        "!gdown --fuzzy 1fIViA1w8MVJJZJcAjMwapHIYazuyTczE --output pneumonia.zip\n",
        "# unzip dataset file\n",
        "!unzip -q pneumonia.zip"
      ],
      "execution_count": 4,
      "outputs": [
        {
          "output_type": "stream",
          "name": "stdout",
          "text": [
            "Requirement already satisfied: gdown in /usr/local/lib/python3.10/dist-packages (4.6.6)\n",
            "Collecting gdown\n",
            "  Downloading gdown-4.7.1-py3-none-any.whl (15 kB)\n",
            "Requirement already satisfied: filelock in /usr/local/lib/python3.10/dist-packages (from gdown) (3.12.2)\n",
            "Requirement already satisfied: requests[socks] in /usr/local/lib/python3.10/dist-packages (from gdown) (2.27.1)\n",
            "Requirement already satisfied: six in /usr/local/lib/python3.10/dist-packages (from gdown) (1.16.0)\n",
            "Requirement already satisfied: tqdm in /usr/local/lib/python3.10/dist-packages (from gdown) (4.65.0)\n",
            "Requirement already satisfied: beautifulsoup4 in /usr/local/lib/python3.10/dist-packages (from gdown) (4.11.2)\n",
            "Requirement already satisfied: soupsieve>1.2 in /usr/local/lib/python3.10/dist-packages (from beautifulsoup4->gdown) (2.4.1)\n",
            "Requirement already satisfied: urllib3<1.27,>=1.21.1 in /usr/local/lib/python3.10/dist-packages (from requests[socks]->gdown) (1.26.16)\n",
            "Requirement already satisfied: certifi>=2017.4.17 in /usr/local/lib/python3.10/dist-packages (from requests[socks]->gdown) (2023.7.22)\n",
            "Requirement already satisfied: charset-normalizer~=2.0.0 in /usr/local/lib/python3.10/dist-packages (from requests[socks]->gdown) (2.0.12)\n",
            "Requirement already satisfied: idna<4,>=2.5 in /usr/local/lib/python3.10/dist-packages (from requests[socks]->gdown) (3.4)\n",
            "Requirement already satisfied: PySocks!=1.5.7,>=1.5.6 in /usr/local/lib/python3.10/dist-packages (from requests[socks]->gdown) (1.7.1)\n",
            "Installing collected packages: gdown\n",
            "  Attempting uninstall: gdown\n",
            "    Found existing installation: gdown 4.6.6\n",
            "    Uninstalling gdown-4.6.6:\n",
            "      Successfully uninstalled gdown-4.6.6\n",
            "Successfully installed gdown-4.7.1\n",
            "Downloading...\n",
            "From (uriginal): https://drive.google.com/uc?id=1fIViA1w8MVJJZJcAjMwapHIYazuyTczE\n",
            "From (redirected): https://drive.google.com/uc?id=1fIViA1w8MVJJZJcAjMwapHIYazuyTczE&confirm=t&uuid=0cc6952b-42a5-4964-9590-cd803ce0c1bb\n",
            "To: /content/pneumonia.zip\n",
            "100% 118M/118M [00:01<00:00, 61.9MB/s]\n"
          ]
        }
      ]
    },
    {
      "cell_type": "markdown",
      "metadata": {
        "id": "ILmiH24n-ZKN"
      },
      "source": [
        "### Data"
      ]
    },
    {
      "cell_type": "markdown",
      "metadata": {
        "id": "QZS1SQGstsLK"
      },
      "source": [
        "#### Check your data first"
      ]
    },
    {
      "cell_type": "code",
      "source": [
        "NUM_CLASS=3"
      ],
      "metadata": {
        "id": "-YkX5KWV57JX"
      },
      "execution_count": 27,
      "outputs": []
    },
    {
      "cell_type": "code",
      "metadata": {
        "id": "nitVe5_0tnVg",
        "colab": {
          "base_uri": "https://localhost:8080/"
        },
        "outputId": "d909447d-3ae4-41b8-bc80-f3b3ba317fa6"
      },
      "source": [
        "IMG_SIZE = 256 # 32x, 16x\n",
        "all_class = ['normal', 'bacteria', 'virus']\n",
        "class_map = {cls: i for i, cls in enumerate(all_class)}\n",
        "#  'normal':0, 'bacteria': 1, 'virus':2\n",
        "class_map"
      ],
      "execution_count": 5,
      "outputs": [
        {
          "output_type": "execute_result",
          "data": {
            "text/plain": [
              "{'normal': 0, 'bacteria': 1, 'virus': 2}"
            ]
          },
          "metadata": {},
          "execution_count": 5
        }
      ]
    },
    {
      "cell_type": "code",
      "metadata": {
        "id": "Pa1Ps80nt3MH"
      },
      "source": [
        "# read all paths\n",
        "# *: all\n",
        "img_paths_train = sorted(glob('pneumonia/train/*/*.jpeg'))\n",
        "# img_paths_train = glob('pneumonia/train/normal/*.jpeg') + glob('pneumonia/train/pneumonia/*.jpeg')\n",
        "\n",
        "img_paths_test = sorted(glob('pneumonia/val/*/*.jpeg'))"
      ],
      "execution_count": 6,
      "outputs": []
    },
    {
      "cell_type": "code",
      "source": [
        "img_paths_train[:3]"
      ],
      "metadata": {
        "id": "oLmr6XIevKY_",
        "colab": {
          "base_uri": "https://localhost:8080/"
        },
        "outputId": "6121077d-b2f7-4e73-adf2-b914c785d48e"
      },
      "execution_count": 7,
      "outputs": [
        {
          "output_type": "execute_result",
          "data": {
            "text/plain": [
              "['pneumonia/train/normal/IM-0158-0001.jpeg',\n",
              " 'pneumonia/train/normal/IM-0164-0001.jpeg',\n",
              " 'pneumonia/train/normal/IM-0199-0001.jpeg']"
            ]
          },
          "metadata": {},
          "execution_count": 7
        }
      ]
    },
    {
      "cell_type": "code",
      "source": [
        "# number of images\n",
        "len(img_paths_train), len(img_paths_test)"
      ],
      "metadata": {
        "id": "hC1OGufXz9Ti",
        "colab": {
          "base_uri": "https://localhost:8080/"
        },
        "outputId": "a6c88674-d857-4c5a-8191-0c8f73deee6e"
      },
      "execution_count": 8,
      "outputs": [
        {
          "output_type": "execute_result",
          "data": {
            "text/plain": [
              "(150, 100)"
            ]
          },
          "metadata": {},
          "execution_count": 8
        }
      ]
    },
    {
      "cell_type": "code",
      "source": [
        "# show image\n",
        "path = img_paths_train[100]\n",
        "img = cv2.imread(path)\n",
        "print(path)\n",
        "print(img.shape)\n",
        "plt.imshow(img)\n",
        "plt.show()\n"
      ],
      "metadata": {
        "id": "prZmpkTn0A5d",
        "colab": {
          "base_uri": "https://localhost:8080/",
          "height": 405
        },
        "outputId": "ca57315e-c214-46c7-ce42-4fcba1abec86"
      },
      "execution_count": 9,
      "outputs": [
        {
          "output_type": "stream",
          "name": "stdout",
          "text": [
            "pneumonia/train/pneumonia/person1010_virus_1695.jpeg\n",
            "(307, 502, 3)\n"
          ]
        },
        {
          "output_type": "display_data",
          "data": {
            "text/plain": [
              "<Figure size 640x480 with 1 Axes>"
            ],
            "image/png": "[encoded data removed]"
          },
          "metadata": {}
        }
      ]
    },
    {
      "cell_type": "code",
      "source": [
        "# Extract img class\n",
        "# os.sep: /\n",
        "print(path)\n",
        "print(path.split(os.sep))\n",
        "cls = path.split(os.sep)[-2]\n",
        "print(cls)"
      ],
      "metadata": {
        "colab": {
          "base_uri": "https://localhost:8080/"
        },
        "id": "fHJiftNWJ3R2",
        "outputId": "5167736e-f59d-48f8-a17e-a12b441a978b"
      },
      "execution_count": 10,
      "outputs": [
        {
          "output_type": "stream",
          "name": "stdout",
          "text": [
            "pneumonia/train/pneumonia/person1010_virus_1695.jpeg\n",
            "['pneumonia', 'train', 'pneumonia', 'person1010_virus_1695.jpeg']\n",
            "pneumonia\n"
          ]
        }
      ]
    },
    {
      "cell_type": "code",
      "source": [
        "\n",
        "# Get file class index\n",
        "\n",
        "# for pneumonia class\n",
        "if cls == 'pneumonia':\n",
        "    # get filename\n",
        "    filename = path.split(os.sep)[-1]\n",
        "    print(filename)\n",
        "    # get pneumonia class\n",
        "    cls_pneumonia = filename.split('_')[1]\n",
        "    print(cls_pneumonia)\n",
        "    cls_idx = class_map[cls_pneumonia]\n",
        "    print(cls_idx)\n",
        "# for normal class\n",
        "else:\n",
        "    cls_idx = class_map[cls]"
      ],
      "metadata": {
        "colab": {
          "base_uri": "https://localhost:8080/"
        },
        "id": "lUbzOsF5J4_c",
        "outputId": "3aa1809f-592f-4708-d821-4252784542e2"
      },
      "execution_count": 11,
      "outputs": [
        {
          "output_type": "stream",
          "name": "stdout",
          "text": [
            "person1010_virus_1695.jpeg\n",
            "virus\n",
            "2\n"
          ]
        }
      ]
    },
    {
      "cell_type": "code",
      "source": [
        "cls_idx"
      ],
      "metadata": {
        "colab": {
          "base_uri": "https://localhost:8080/"
        },
        "id": "q_j9qKBbJ6YW",
        "outputId": "a220dee9-fdc6-449c-d3e4-519f65bcb9ab"
      },
      "execution_count": 12,
      "outputs": [
        {
          "output_type": "execute_result",
          "data": {
            "text/plain": [
              "2"
            ]
          },
          "metadata": {},
          "execution_count": 12
        }
      ]
    },
    {
      "cell_type": "markdown",
      "metadata": {
        "id": "zXRWYWOlwREH"
      },
      "source": [
        "#### Dataset & DataLoader\n",
        "\n",
        "\n",
        "*   [torch.utils.data.Dataset](https://pytorch.org/docs/stable/data.html?highlight=dataset#torch.utils.data.Dataset)\n",
        "\n",
        "\n",
        "\n",
        "*   Must implement\n",
        "\n",
        "    1.   **\\_\\_len\\_\\_()**: size of dataset\n",
        "    2.   **\\_\\_getitem\\_\\_()**: load a data sample for a given index\n",
        "\n",
        "*   __getitem__() steps:\n",
        "    1. Get image path\n",
        "    2. Read image, resize\n",
        "    3. Real image label\n",
        "    4. convert image to tesnor and rescale to 0~1\n",
        "\n",
        "\n",
        "ref: [Datasets & DataLoaders](https://pytorch.org/tutorials/beginner/basics/data_tutorial.html)\n"
      ]
    },
    {
      "cell_type": "markdown",
      "source": [
        "Pixel value rescale\n",
        "\n",
        "*   0~1\n",
        "*   -1~+1 : (x/127.5) - 1\n",
        "* (x-x.mean()) / x.std()"
      ],
      "metadata": {
        "id": "JaoO3tBvJ-_e"
      }
    },
    {
      "cell_type": "markdown",
      "source": [
        "\n",
        "#### Dataset + Data Augmentation"
      ],
      "metadata": {
        "id": "U4xeEUX3WO9N"
      }
    },
    {
      "cell_type": "code",
      "metadata": {
        "id": "ITrkMdEHwQXT"
      },
      "source": [
        "import imgaug.augmenters as iaa\n",
        "import imgaug as ia\n",
        "\n",
        "class Dataset(torch.utils.data.Dataset):\n",
        "    def __init__(self, img_paths, img_size, class_map, aug):\n",
        "        self.img_paths = img_paths\n",
        "        self.img_size = img_size\n",
        "        self.class_map = class_map\n",
        "\n",
        "        self.seq = seq = iaa.Sequential([\n",
        "            iaa.Fliplr(0.5), # 50% horizontal flip\n",
        "            iaa.Flipud(0.5), # 50% vertical flip\n",
        "            iaa.Affine(\n",
        "                rotate=(-10, 10), # random rotate -10 ~ +10 degree\n",
        "                shear=(-16,16), # random shear -16 ~ +16 degree\n",
        "                scale={\"x\": (0.8, 1.2), \"y\": (0.8, 1.2)} # scale x, y: 80%~120%\n",
        "            ),\n",
        "        ])\n",
        "        self.aug = aug\n",
        "    def __len__(self):\n",
        "        \"\"\"number of samples\"\"\"\n",
        "        return len(self.img_paths)\n",
        "\n",
        "    def __getitem__(self, idx):\n",
        "        \"\"\"read 1 sample\"\"\"\n",
        "        # Read img\n",
        "        path = self.img_paths[idx] # get img path\n",
        "        img = cv2.imread(path) # read img\n",
        "        img = cv2.cvtColor(img, cv2.COLOR_BGR2RGB) # Convert to RGB\n",
        "        img = cv2.resize(img, (self.img_size, self.img_size)) # Resize iamge\n",
        "        if self.aug:\n",
        "            img = self.seq.augment_image(img)\n",
        "        img = img / 255. # 0~255 -> 0.~1.\n",
        "\n",
        "        # Read class index\n",
        "        cls = path.split(os.sep)[-2]\n",
        "        # for pneumonia class\n",
        "        if cls == 'pneumonia':\n",
        "            # get filename\n",
        "            filename = path.split(os.sep)[-1]\n",
        "            # get pneumonia class\n",
        "            cls = filename.split('_')[1]\n",
        "        cls_idx = self.class_map[cls]\n",
        "\n",
        "        # transform img to tensor\n",
        "        img = torch.tensor(img, dtype=torch.float)\n",
        "        # channel last -> channel first\n",
        "        # np.swapaxis()\n",
        "        img = img.permute(2, 0, 1) # (H, W, C) -> (C, H, W)\n",
        "\n",
        "        cls_idx = torch.tensor(cls_idx, dtype=torch.long)\n",
        "\n",
        "        return img, cls_idx"
      ],
      "execution_count": 13,
      "outputs": []
    },
    {
      "cell_type": "code",
      "source": [
        "img_paths_train"
      ],
      "metadata": {
        "colab": {
          "base_uri": "https://localhost:8080/"
        },
        "id": "F80MgwIEMo4P",
        "outputId": "821d7c27-04a1-4902-dad5-dda77366c1b3"
      },
      "execution_count": 14,
      "outputs": [
        {
          "output_type": "execute_result",
          "data": {
            "text/plain": [
              "['pneumonia/train/normal/IM-0158-0001.jpeg',\n",
              " 'pneumonia/train/normal/IM-0164-0001.jpeg',\n",
              " 'pneumonia/train/normal/IM-0199-0001.jpeg',\n",
              " 'pneumonia/train/normal/IM-0206-0001.jpeg',\n",
              " 'pneumonia/train/normal/IM-0209-0001.jpeg',\n",
              " 'pneumonia/train/normal/IM-0244-0001.jpeg',\n",
              " 'pneumonia/train/normal/IM-0311-0001.jpeg',\n",
              " 'pneumonia/train/normal/IM-0314-0001.jpeg',\n",
              " 'pneumonia/train/normal/IM-0324-0001.jpeg',\n",
              " 'pneumonia/train/normal/IM-0333-0001.jpeg',\n",
              " 'pneumonia/train/normal/IM-0356-0001.jpeg',\n",
              " 'pneumonia/train/normal/IM-0370-0001.jpeg',\n",
              " 'pneumonia/train/normal/IM-0409-0001.jpeg',\n",
              " 'pneumonia/train/normal/IM-0435-0001.jpeg',\n",
              " 'pneumonia/train/normal/IM-0458-0001.jpeg',\n",
              " 'pneumonia/train/normal/IM-0481-0001.jpeg',\n",
              " 'pneumonia/train/normal/IM-0488-0001.jpeg',\n",
              " 'pneumonia/train/normal/IM-0563-0001.jpeg',\n",
              " 'pneumonia/train/normal/IM-0584-0001.jpeg',\n",
              " 'pneumonia/train/normal/IM-0605-0001.jpeg',\n",
              " 'pneumonia/train/normal/IM-0608-0001-0001.jpeg',\n",
              " 'pneumonia/train/normal/IM-0629-0001.jpeg',\n",
              " 'pneumonia/train/normal/IM-0644-0001-0001.jpeg',\n",
              " 'pneumonia/train/normal/IM-0647-0001.jpeg',\n",
              " 'pneumonia/train/normal/IM-0651-0001.jpeg',\n",
              " 'pneumonia/train/normal/IM-0663-0001.jpeg',\n",
              " 'pneumonia/train/normal/IM-0686-0001.jpeg',\n",
              " 'pneumonia/train/normal/IM-0691-0001.jpeg',\n",
              " 'pneumonia/train/normal/IM-0693-0001.jpeg',\n",
              " 'pneumonia/train/normal/IM-0696-0001.jpeg',\n",
              " 'pneumonia/train/normal/IM-0730-0001.jpeg',\n",
              " 'pneumonia/train/normal/IM-0732-0001.jpeg',\n",
              " 'pneumonia/train/normal/IM-0739-0001.jpeg',\n",
              " 'pneumonia/train/normal/IM-0750-0001.jpeg',\n",
              " 'pneumonia/train/normal/NORMAL2-IM-0384-0001.jpeg',\n",
              " 'pneumonia/train/normal/NORMAL2-IM-0460-0001.jpeg',\n",
              " 'pneumonia/train/normal/NORMAL2-IM-0468-0001.jpeg',\n",
              " 'pneumonia/train/normal/NORMAL2-IM-0485-0001.jpeg',\n",
              " 'pneumonia/train/normal/NORMAL2-IM-0487-0001.jpeg',\n",
              " 'pneumonia/train/normal/NORMAL2-IM-0535-0001-0002.jpeg',\n",
              " 'pneumonia/train/normal/NORMAL2-IM-0554-0001.jpeg',\n",
              " 'pneumonia/train/normal/NORMAL2-IM-0558-0001.jpeg',\n",
              " 'pneumonia/train/normal/NORMAL2-IM-0588-0001.jpeg',\n",
              " 'pneumonia/train/normal/NORMAL2-IM-0665-0001.jpeg',\n",
              " 'pneumonia/train/normal/NORMAL2-IM-0690-0001.jpeg',\n",
              " 'pneumonia/train/normal/NORMAL2-IM-0707-0001.jpeg',\n",
              " 'pneumonia/train/normal/NORMAL2-IM-0719-0001.jpeg',\n",
              " 'pneumonia/train/normal/NORMAL2-IM-0723-0001.jpeg',\n",
              " 'pneumonia/train/normal/NORMAL2-IM-0725-0001.jpeg',\n",
              " 'pneumonia/train/normal/NORMAL2-IM-0727-0001.jpeg',\n",
              " 'pneumonia/train/normal/NORMAL2-IM-0730-0001.jpeg',\n",
              " 'pneumonia/train/normal/NORMAL2-IM-0736-0001.jpeg',\n",
              " 'pneumonia/train/normal/NORMAL2-IM-0741-0001.jpeg',\n",
              " 'pneumonia/train/normal/NORMAL2-IM-0744-0001.jpeg',\n",
              " 'pneumonia/train/normal/NORMAL2-IM-0746-0001.jpeg',\n",
              " 'pneumonia/train/normal/NORMAL2-IM-0753-0001.jpeg',\n",
              " 'pneumonia/train/normal/NORMAL2-IM-0757-0001.jpeg',\n",
              " 'pneumonia/train/normal/NORMAL2-IM-0765-0001.jpeg',\n",
              " 'pneumonia/train/normal/NORMAL2-IM-0771-0001.jpeg',\n",
              " 'pneumonia/train/normal/NORMAL2-IM-0772-0001.jpeg',\n",
              " 'pneumonia/train/normal/NORMAL2-IM-0790-0001.jpeg',\n",
              " 'pneumonia/train/normal/NORMAL2-IM-0824-0001.jpeg',\n",
              " 'pneumonia/train/normal/NORMAL2-IM-0829-0001.jpeg',\n",
              " 'pneumonia/train/normal/NORMAL2-IM-0867-0001.jpeg',\n",
              " 'pneumonia/train/normal/NORMAL2-IM-0872-0001.jpeg',\n",
              " 'pneumonia/train/normal/NORMAL2-IM-0885-0001.jpeg',\n",
              " 'pneumonia/train/normal/NORMAL2-IM-1064-0001.jpeg',\n",
              " 'pneumonia/train/normal/NORMAL2-IM-1067-0001-0001.jpeg',\n",
              " 'pneumonia/train/normal/NORMAL2-IM-1067-0001.jpeg',\n",
              " 'pneumonia/train/normal/NORMAL2-IM-1073-0001.jpeg',\n",
              " 'pneumonia/train/normal/NORMAL2-IM-1084-0001.jpeg',\n",
              " 'pneumonia/train/normal/NORMAL2-IM-1086-0001.jpeg',\n",
              " 'pneumonia/train/normal/NORMAL2-IM-1149-0001.jpeg',\n",
              " 'pneumonia/train/normal/NORMAL2-IM-1214-0001.jpeg',\n",
              " 'pneumonia/train/normal/NORMAL2-IM-1227-0001.jpeg',\n",
              " 'pneumonia/train/normal/NORMAL2-IM-1232-0001.jpeg',\n",
              " 'pneumonia/train/normal/NORMAL2-IM-1241-0001.jpeg',\n",
              " 'pneumonia/train/normal/NORMAL2-IM-1250-0001.jpeg',\n",
              " 'pneumonia/train/normal/NORMAL2-IM-1264-0001.jpeg',\n",
              " 'pneumonia/train/normal/NORMAL2-IM-1269-0001-0002.jpeg',\n",
              " 'pneumonia/train/normal/NORMAL2-IM-1270-0001.jpeg',\n",
              " 'pneumonia/train/normal/NORMAL2-IM-1305-0001.jpeg',\n",
              " 'pneumonia/train/normal/NORMAL2-IM-1326-0001.jpeg',\n",
              " 'pneumonia/train/normal/NORMAL2-IM-1345-0001-0002.jpeg',\n",
              " 'pneumonia/train/normal/NORMAL2-IM-1356-0001.jpeg',\n",
              " 'pneumonia/train/normal/NORMAL2-IM-1357-0001.jpeg',\n",
              " 'pneumonia/train/normal/NORMAL2-IM-1360-0001.jpeg',\n",
              " 'pneumonia/train/normal/NORMAL2-IM-1362-0001.jpeg',\n",
              " 'pneumonia/train/normal/NORMAL2-IM-1365-0001.jpeg',\n",
              " 'pneumonia/train/normal/NORMAL2-IM-1371-0001.jpeg',\n",
              " 'pneumonia/train/normal/NORMAL2-IM-1376-0001.jpeg',\n",
              " 'pneumonia/train/normal/NORMAL2-IM-1379-0001.jpeg',\n",
              " 'pneumonia/train/normal/NORMAL2-IM-1385-0001.jpeg',\n",
              " 'pneumonia/train/normal/NORMAL2-IM-1396-0001.jpeg',\n",
              " 'pneumonia/train/normal/NORMAL2-IM-1400-0001.jpeg',\n",
              " 'pneumonia/train/normal/NORMAL2-IM-1401-0001.jpeg',\n",
              " 'pneumonia/train/normal/NORMAL2-IM-1406-0001.jpeg',\n",
              " 'pneumonia/train/normal/NORMAL2-IM-1412-0001.jpeg',\n",
              " 'pneumonia/train/normal/NORMAL2-IM-1419-0001.jpeg',\n",
              " 'pneumonia/train/normal/NORMAL2-IM-1423-0001.jpeg',\n",
              " 'pneumonia/train/pneumonia/person1010_virus_1695.jpeg',\n",
              " 'pneumonia/train/pneumonia/person1131_bacteria_3073.jpeg',\n",
              " 'pneumonia/train/pneumonia/person1159_virus_1946.jpeg',\n",
              " 'pneumonia/train/pneumonia/person1177_virus_1999.jpeg',\n",
              " 'pneumonia/train/pneumonia/person1177_virus_2002.jpeg',\n",
              " 'pneumonia/train/pneumonia/person1287_bacteria_3250.jpeg',\n",
              " 'pneumonia/train/pneumonia/person1308_bacteria_3292.jpeg',\n",
              " 'pneumonia/train/pneumonia/person1478_bacteria_3848.jpeg',\n",
              " 'pneumonia/train/pneumonia/person1642_bacteria_4352.jpeg',\n",
              " 'pneumonia/train/pneumonia/person1644_bacteria_4361.jpeg',\n",
              " 'pneumonia/train/pneumonia/person1661_bacteria_4406.jpeg',\n",
              " 'pneumonia/train/pneumonia/person1668_bacteria_4420.jpeg',\n",
              " 'pneumonia/train/pneumonia/person1668_bacteria_4421.jpeg',\n",
              " 'pneumonia/train/pneumonia/person1677_bacteria_4443.jpeg',\n",
              " 'pneumonia/train/pneumonia/person1686_bacteria_4466.jpeg',\n",
              " 'pneumonia/train/pneumonia/person1689_bacteria_4473.jpeg',\n",
              " 'pneumonia/train/pneumonia/person1700_bacteria_4502.jpeg',\n",
              " 'pneumonia/train/pneumonia/person1705_bacteria_4515.jpeg',\n",
              " 'pneumonia/train/pneumonia/person1707_bacteria_4520.jpeg',\n",
              " 'pneumonia/train/pneumonia/person1722_bacteria_4547.jpeg',\n",
              " 'pneumonia/train/pneumonia/person1723_bacteria_4548.jpeg',\n",
              " 'pneumonia/train/pneumonia/person1725_bacteria_4550.jpeg',\n",
              " 'pneumonia/train/pneumonia/person1725_bacteria_4551.jpeg',\n",
              " 'pneumonia/train/pneumonia/person1749_bacteria_4590.jpeg',\n",
              " 'pneumonia/train/pneumonia/person1751_bacteria_4592.jpeg',\n",
              " 'pneumonia/train/pneumonia/person281_virus_578.jpeg',\n",
              " 'pneumonia/train/pneumonia/person293_virus_604.jpeg',\n",
              " 'pneumonia/train/pneumonia/person316_virus_641.jpeg',\n",
              " 'pneumonia/train/pneumonia/person320_virus_647.jpeg',\n",
              " 'pneumonia/train/pneumonia/person325_virus_665.jpeg',\n",
              " 'pneumonia/train/pneumonia/person326_virus_670.jpeg',\n",
              " 'pneumonia/train/pneumonia/person334_virus_689.jpeg',\n",
              " 'pneumonia/train/pneumonia/person342_virus_701.jpeg',\n",
              " 'pneumonia/train/pneumonia/person343_virus_704.jpeg',\n",
              " 'pneumonia/train/pneumonia/person354_bacteria_1635.jpeg',\n",
              " 'pneumonia/train/pneumonia/person414_virus_845.jpeg',\n",
              " 'pneumonia/train/pneumonia/person466_bacteria_1984.jpeg',\n",
              " 'pneumonia/train/pneumonia/person489_virus_995.jpeg',\n",
              " 'pneumonia/train/pneumonia/person516_bacteria_2191.jpeg',\n",
              " 'pneumonia/train/pneumonia/person516_bacteria_2192.jpeg',\n",
              " 'pneumonia/train/pneumonia/person592_bacteria_2434.jpeg',\n",
              " 'pneumonia/train/pneumonia/person598_bacteria_2453.jpeg',\n",
              " 'pneumonia/train/pneumonia/person675_bacteria_2569.jpeg',\n",
              " 'pneumonia/train/pneumonia/person67_bacteria_333.jpeg',\n",
              " 'pneumonia/train/pneumonia/person719_virus_1338.jpeg',\n",
              " 'pneumonia/train/pneumonia/person803_bacteria_2710.jpeg',\n",
              " 'pneumonia/train/pneumonia/person888_bacteria_2812.jpeg',\n",
              " 'pneumonia/train/pneumonia/person923_bacteria_2848.jpeg',\n",
              " 'pneumonia/train/pneumonia/person942_bacteria_2867.jpeg',\n",
              " 'pneumonia/train/pneumonia/person996_virus_1677.jpeg']"
            ]
          },
          "metadata": {},
          "execution_count": 14
        }
      ]
    },
    {
      "cell_type": "code",
      "metadata": {
        "id": "SZmZaXaUvoZc"
      },
      "source": [
        "# Build dataset\n",
        "train_ds = Dataset(img_paths_train, IMG_SIZE, class_map,aug=True)\n",
        "val_ds = Dataset(img_paths_test, IMG_SIZE, class_map, aug=True)"
      ],
      "execution_count": 18,
      "outputs": []
    },
    {
      "cell_type": "code",
      "metadata": {
        "id": "O72ikm4B0LH6",
        "colab": {
          "base_uri": "https://localhost:8080/"
        },
        "outputId": "84b8c794-465f-4952-c3c0-118bc44a1046"
      },
      "source": [
        "# Number of samples\n",
        "len(train_ds), len(val_ds)"
      ],
      "execution_count": 19,
      "outputs": [
        {
          "output_type": "execute_result",
          "data": {
            "text/plain": [
              "(150, 100)"
            ]
          },
          "metadata": {},
          "execution_count": 19
        }
      ]
    },
    {
      "cell_type": "code",
      "metadata": {
        "id": "0yBQQ_rJ0TmH"
      },
      "source": [
        "# Build DataLoaders\n",
        "BATCH_SIZE = 32\n",
        "train_loader = torch.utils.data.DataLoader(train_ds, BATCH_SIZE,\n",
        "                                           shuffle=True)\n",
        "val_loader = torch.utils.data.DataLoader(val_ds, BATCH_SIZE)"
      ],
      "execution_count": 20,
      "outputs": []
    },
    {
      "cell_type": "code",
      "source": [
        "img, label = train_ds[0]\n",
        "print(img.shape, label, all_class[label])\n",
        "\n",
        "img = img.permute(1, 2, 0) # (C, H, W) -> (H, W, C)\n",
        "plt.imshow(img)\n",
        "plt.show()"
      ],
      "metadata": {
        "id": "fH2_yFvZzS_r",
        "colab": {
          "base_uri": "https://localhost:8080/",
          "height": 453
        },
        "outputId": "303f942e-2690-4d8b-81c3-a82d07e130eb"
      },
      "execution_count": 21,
      "outputs": [
        {
          "output_type": "stream",
          "name": "stdout",
          "text": [
            "torch.Size([3, 256, 256]) tensor(0) normal\n"
          ]
        },
        {
          "output_type": "display_data",
          "data": {
            "text/plain": [
              "<Figure size 640x480 with 1 Axes>"
            ],
            "image/png": "[encoded data removed]"
          },
          "metadata": {}
        }
      ]
    },
    {
      "cell_type": "code",
      "metadata": {
        "id": "QUhD_qeW2sZv",
        "colab": {
          "base_uri": "https://localhost:8080/"
        },
        "outputId": "0aa6062b-52de-429d-8160-5462704186ad"
      },
      "source": [
        "img, label"
      ],
      "execution_count": 22,
      "outputs": [
        {
          "output_type": "execute_result",
          "data": {
            "text/plain": [
              "(tensor([[[0., 0., 0.],\n",
              "          [0., 0., 0.],\n",
              "          [0., 0., 0.],\n",
              "          ...,\n",
              "          [0., 0., 0.],\n",
              "          [0., 0., 0.],\n",
              "          [0., 0., 0.]],\n",
              " \n",
              "         [[0., 0., 0.],\n",
              "          [0., 0., 0.],\n",
              "          [0., 0., 0.],\n",
              "          ...,\n",
              "          [0., 0., 0.],\n",
              "          [0., 0., 0.],\n",
              "          [0., 0., 0.]],\n",
              " \n",
              "         [[0., 0., 0.],\n",
              "          [0., 0., 0.],\n",
              "          [0., 0., 0.],\n",
              "          ...,\n",
              "          [0., 0., 0.],\n",
              "          [0., 0., 0.],\n",
              "          [0., 0., 0.]],\n",
              " \n",
              "         ...,\n",
              " \n",
              "         [[0., 0., 0.],\n",
              "          [0., 0., 0.],\n",
              "          [0., 0., 0.],\n",
              "          ...,\n",
              "          [0., 0., 0.],\n",
              "          [0., 0., 0.],\n",
              "          [0., 0., 0.]],\n",
              " \n",
              "         [[0., 0., 0.],\n",
              "          [0., 0., 0.],\n",
              "          [0., 0., 0.],\n",
              "          ...,\n",
              "          [0., 0., 0.],\n",
              "          [0., 0., 0.],\n",
              "          [0., 0., 0.]],\n",
              " \n",
              "         [[0., 0., 0.],\n",
              "          [0., 0., 0.],\n",
              "          [0., 0., 0.],\n",
              "          ...,\n",
              "          [0., 0., 0.],\n",
              "          [0., 0., 0.],\n",
              "          [0., 0., 0.]]]),\n",
              " tensor(0))"
            ]
          },
          "metadata": {},
          "execution_count": 22
        }
      ]
    },
    {
      "cell_type": "markdown",
      "metadata": {
        "id": "GS9yclgz-rRa"
      },
      "source": [
        "### Model\n",
        "\n",
        "\n",
        "\n",
        "*   Must implement\n",
        "    1.   **\\_\\_init\\_\\_**(): layer **initialization**\n",
        "    2.   **forward**(): connect **Input** to **Ouput**\n",
        "\n",
        "\n",
        "\n",
        "*   Model architecture\n",
        "    1.   Feature extractor\n",
        "    2.   Flatten\n",
        "    3.   Classifier\n",
        "\n"
      ]
    },
    {
      "cell_type": "markdown",
      "source": [
        "### Model Tips\n",
        "\n",
        "1.   Batch Normalization\n",
        "2.   Dropout"
      ],
      "metadata": {
        "id": "L21Wy_1YWfdd"
      }
    },
    {
      "cell_type": "code",
      "metadata": {
        "id": "O00ZbgYe-3Zb"
      },
      "source": [
        "class ConvBN(nn.Module):\n",
        "    def __init__(self, cin, cout):\n",
        "        super().__init__()\n",
        "        self.conv = nn.Conv2d(cin, cout, kernel_size=3, padding='same')\n",
        "        self.bn = nn.BatchNorm2d(num_features=cout)\n",
        "        self.act = nn.ReLU()\n",
        "    def forward(self, x):\n",
        "        x = self.conv(x)\n",
        "        x = self.bn(x)\n",
        "        return self.act(x)\n",
        "\n",
        "class CNN(nn.Module):\n",
        "    def __init__(self, kernel_size=3):\n",
        "        super().__init__()\n",
        "        self.encoder = nn.Sequential(\n",
        "            ConvBN(3, 16),\n",
        "            ConvBN(16, 16),\n",
        "            nn.MaxPool2d(kernel_size=2),\n",
        "\n",
        "            ConvBN(16, 32),\n",
        "            ConvBN(32, 32),\n",
        "            nn.MaxPool2d(kernel_size=2),\n",
        "\n",
        "            ConvBN(32, 64),\n",
        "            ConvBN(64, 64),\n",
        "            nn.MaxPool2d(kernel_size=2),\n",
        "        )\n",
        "        self.flatten = nn.Flatten() # (64, 32, 32) -> (64*32*32)\n",
        "        self.classifier = nn.Sequential(\n",
        "            nn.Dropout(0.3),\n",
        "            nn.Linear(64*32*32, 256),\n",
        "            nn.Dropout(0.3),\n",
        "            nn.ReLU(),\n",
        "            nn.Linear(256, NUM_CLASS),\n",
        "        )\n",
        "    def forward(self, x):\n",
        "        x = self.encoder(x)\n",
        "        x = self.flatten(x)\n",
        "        x = self.classifier(x)\n",
        "        return x"
      ],
      "execution_count": 23,
      "outputs": []
    },
    {
      "cell_type": "code",
      "metadata": {
        "id": "ZDD8bg0qC_eO"
      },
      "source": [
        "# Build a model and move to GPU device\n",
        "model = CNN(kernel_size=7).to(device)"
      ],
      "execution_count": 28,
      "outputs": []
    },
    {
      "cell_type": "code",
      "metadata": {
        "id": "Xo1GYOPmFjeA",
        "colab": {
          "base_uri": "https://localhost:8080/"
        },
        "outputId": "a58dfc35-c2ad-420e-af85-06fa69124597"
      },
      "source": [
        "print(model)"
      ],
      "execution_count": 29,
      "outputs": [
        {
          "output_type": "stream",
          "name": "stdout",
          "text": [
            "CNN(\n",
            "  (encoder): Sequential(\n",
            "    (0): ConvBN(\n",
            "      (conv): Conv2d(3, 16, kernel_size=(3, 3), stride=(1, 1), padding=same)\n",
            "      (bn): BatchNorm2d(16, eps=1e-05, momentum=0.1, affine=True, track_running_stats=True)\n",
            "      (act): ReLU()\n",
            "    )\n",
            "    (1): ConvBN(\n",
            "      (conv): Conv2d(16, 16, kernel_size=(3, 3), stride=(1, 1), padding=same)\n",
            "      (bn): BatchNorm2d(16, eps=1e-05, momentum=0.1, affine=True, track_running_stats=True)\n",
            "      (act): ReLU()\n",
            "    )\n",
            "    (2): MaxPool2d(kernel_size=2, stride=2, padding=0, dilation=1, ceil_mode=False)\n",
            "    (3): ConvBN(\n",
            "      (conv): Conv2d(16, 32, kernel_size=(3, 3), stride=(1, 1), padding=same)\n",
            "      (bn): BatchNorm2d(32, eps=1e-05, momentum=0.1, affine=True, track_running_stats=True)\n",
            "      (act): ReLU()\n",
            "    )\n",
            "    (4): ConvBN(\n",
            "      (conv): Conv2d(32, 32, kernel_size=(3, 3), stride=(1, 1), padding=same)\n",
            "      (bn): BatchNorm2d(32, eps=1e-05, momentum=0.1, affine=True, track_running_stats=True)\n",
            "      (act): ReLU()\n",
            "    )\n",
            "    (5): MaxPool2d(kernel_size=2, stride=2, padding=0, dilation=1, ceil_mode=False)\n",
            "    (6): ConvBN(\n",
            "      (conv): Conv2d(32, 64, kernel_size=(3, 3), stride=(1, 1), padding=same)\n",
            "      (bn): BatchNorm2d(64, eps=1e-05, momentum=0.1, affine=True, track_running_stats=True)\n",
            "      (act): ReLU()\n",
            "    )\n",
            "    (7): ConvBN(\n",
            "      (conv): Conv2d(64, 64, kernel_size=(3, 3), stride=(1, 1), padding=same)\n",
            "      (bn): BatchNorm2d(64, eps=1e-05, momentum=0.1, affine=True, track_running_stats=True)\n",
            "      (act): ReLU()\n",
            "    )\n",
            "    (8): MaxPool2d(kernel_size=2, stride=2, padding=0, dilation=1, ceil_mode=False)\n",
            "  )\n",
            "  (flatten): Flatten(start_dim=1, end_dim=-1)\n",
            "  (classifier): Sequential(\n",
            "    (0): Dropout(p=0.3, inplace=False)\n",
            "    (1): Linear(in_features=65536, out_features=256, bias=True)\n",
            "    (2): Dropout(p=0.3, inplace=False)\n",
            "    (3): ReLU()\n",
            "    (4): Linear(in_features=256, out_features=3, bias=True)\n",
            "  )\n",
            ")\n"
          ]
        }
      ]
    },
    {
      "cell_type": "code",
      "metadata": {
        "id": "9-Fn_w_JDFDx",
        "colab": {
          "base_uri": "https://localhost:8080/"
        },
        "outputId": "da89c6b6-d99a-450e-98c5-70c9713e53c5"
      },
      "source": [
        "# Model summary\n",
        "summary(model, (3, IMG_SIZE, IMG_SIZE))"
      ],
      "execution_count": 30,
      "outputs": [
        {
          "output_type": "stream",
          "name": "stdout",
          "text": [
            "----------------------------------------------------------------\n",
            "        Layer (type)               Output Shape         Param #\n",
            "================================================================\n",
            "            Conv2d-1         [-1, 16, 256, 256]             448\n",
            "       BatchNorm2d-2         [-1, 16, 256, 256]              32\n",
            "              ReLU-3         [-1, 16, 256, 256]               0\n",
            "            ConvBN-4         [-1, 16, 256, 256]               0\n",
            "            Conv2d-5         [-1, 16, 256, 256]           2,320\n",
            "       BatchNorm2d-6         [-1, 16, 256, 256]              32\n",
            "              ReLU-7         [-1, 16, 256, 256]               0\n",
            "            ConvBN-8         [-1, 16, 256, 256]               0\n",
            "         MaxPool2d-9         [-1, 16, 128, 128]               0\n",
            "           Conv2d-10         [-1, 32, 128, 128]           4,640\n",
            "      BatchNorm2d-11         [-1, 32, 128, 128]              64\n",
            "             ReLU-12         [-1, 32, 128, 128]               0\n",
            "           ConvBN-13         [-1, 32, 128, 128]               0\n",
            "           Conv2d-14         [-1, 32, 128, 128]           9,248\n",
            "      BatchNorm2d-15         [-1, 32, 128, 128]              64\n",
            "             ReLU-16         [-1, 32, 128, 128]               0\n",
            "           ConvBN-17         [-1, 32, 128, 128]               0\n",
            "        MaxPool2d-18           [-1, 32, 64, 64]               0\n",
            "           Conv2d-19           [-1, 64, 64, 64]          18,496\n",
            "      BatchNorm2d-20           [-1, 64, 64, 64]             128\n",
            "             ReLU-21           [-1, 64, 64, 64]               0\n",
            "           ConvBN-22           [-1, 64, 64, 64]               0\n",
            "           Conv2d-23           [-1, 64, 64, 64]          36,928\n",
            "      BatchNorm2d-24           [-1, 64, 64, 64]             128\n",
            "             ReLU-25           [-1, 64, 64, 64]               0\n",
            "           ConvBN-26           [-1, 64, 64, 64]               0\n",
            "        MaxPool2d-27           [-1, 64, 32, 32]               0\n",
            "          Flatten-28                [-1, 65536]               0\n",
            "          Dropout-29                [-1, 65536]               0\n",
            "           Linear-30                  [-1, 256]      16,777,472\n",
            "          Dropout-31                  [-1, 256]               0\n",
            "             ReLU-32                  [-1, 256]               0\n",
            "           Linear-33                    [-1, 3]             771\n",
            "================================================================\n",
            "Total params: 16,850,771\n",
            "Trainable params: 16,850,771\n",
            "Non-trainable params: 0\n",
            "----------------------------------------------------------------\n",
            "Input size (MB): 0.75\n",
            "Forward/backward pass size (MB): 116.51\n",
            "Params size (MB): 64.28\n",
            "Estimated Total Size (MB): 181.54\n",
            "----------------------------------------------------------------\n"
          ]
        }
      ]
    },
    {
      "cell_type": "markdown",
      "metadata": {
        "id": "0u2TaN8B-iL_"
      },
      "source": [
        "### Training\n",
        "\n",
        "\n",
        "\n",
        "1.   Optimizer\n",
        "2.   Earlystoping\n",
        "\n"
      ]
    },
    {
      "cell_type": "code",
      "metadata": {
        "id": "lCOTekb23StB"
      },
      "source": [
        "loss_fn = nn.CrossEntropyLoss()\n",
        "optimizer = torch.optim.Adam(model.parameters())"
      ],
      "execution_count": 31,
      "outputs": []
    },
    {
      "cell_type": "code",
      "metadata": {
        "id": "oq_yWj7AFvKV"
      },
      "source": [
        "def train(dataloader, model, loss_fn, optimizer):\n",
        "    size = len(dataloader.dataset) # number of samples\n",
        "    num_batches = len(dataloader) # batches per epoch\n",
        "\n",
        "    model.train() # to training mode.\n",
        "    epoch_loss, epoch_correct = 0, 0\n",
        "    for batch_i, (x, y) in enumerate(tqdm(dataloader, leave=False)):\n",
        "        x, y = x.to(device), y.to(device) # move data to GPU\n",
        "\n",
        "        # zero the parameter gradients\n",
        "        optimizer.zero_grad()\n",
        "\n",
        "        # Compute prediction loss\n",
        "        pred = model(x)\n",
        "        loss = loss_fn(pred, y)\n",
        "\n",
        "        # Optimization by gradients\n",
        "        loss.backward() # backpropagation to compute gradients\n",
        "        optimizer.step() # update model params\n",
        "\n",
        "        # write to logs\n",
        "        epoch_loss += loss.item() # tensor -> python value\n",
        "        # (N, Class)\n",
        "        epoch_correct += (pred.argmax(dim=1) == y).sum().item()\n",
        "\n",
        "    # return avg loss of epoch, acc of epoch\n",
        "    return epoch_loss/num_batches, epoch_correct/size\n",
        "\n",
        "\n",
        "def test(dataloader, model, loss_fn):\n",
        "    size = len(dataloader.dataset) # number of samples\n",
        "    num_batches = len(dataloader) # batches per epoch\n",
        "\n",
        "    model.eval() # model to test mode.\n",
        "    epoch_loss, epoch_correct = 0, 0\n",
        "\n",
        "    # No gradient for test data\n",
        "    with torch.no_grad():\n",
        "        for batch_i, (x, y) in enumerate(dataloader):\n",
        "            x, y = x.to(device), y.to(device)\n",
        "\n",
        "            # Compute prediction loss\n",
        "            pred = model(x)\n",
        "            loss = loss_fn(pred, y)\n",
        "\n",
        "            # write to logs\n",
        "            epoch_loss += loss.item()\n",
        "            epoch_correct += (pred.argmax(1) == y).sum().item()\n",
        "\n",
        "    return epoch_loss/num_batches, epoch_correct/size"
      ],
      "execution_count": 32,
      "outputs": []
    },
    {
      "cell_type": "code",
      "metadata": {
        "id": "ZwpannDmF7v_",
        "colab": {
          "base_uri": "https://localhost:8080/",
          "height": 177,
          "referenced_widgets": [
            "3d6e66816fb34fedb222fdda06be068e",
            "40c57198ded644858545f8802495684f",
            "aaf8e221c6ee4b89bf793cf9844550b1",
            "b4aef5ba504d4c34b1d5e25f3a1c9788",
            "df544e66217441dc904f92eecdd54d17",
            "77048648560c470dbb3da1fa778fceb5",
            "72bd86b14f6e4eaf9963ceb0e3f40b94",
            "3a2f63f89c0a4319aa2d889b2dca7900",
            "2df0ce1c607c4a49b78f2e7883a6171d",
            "81f4e5048d0b4b029bfd6fbe2bc9e855",
            "1feecb75681f4da8804ce2753caab5ca",
            "869762ad45e34aeaac4024c3c5a1738f",
            "b33b0610ab3046be81a2c9750de0f1ca",
            "a5dcf85fbc894a50abd64385eca53e75",
            "4c967decaa5e4abfb230781762c4d5c9",
            "564260aa0a694bada9afc511954e7e1f",
            "38cffbbcd800488fb8bbd45479d9bf7f",
            "ed49a8877c2046e384813b9d1c88463e",
            "58ecc9c160644728afd746cfa59fee47",
            "f87f46ce28b242d6880f36a79048f5fa",
            "27b734482a2f49c6940e45f0afad5b0f",
            "04b526b72bf241228b468c4ddcc05d64",
            "de0290f5326f4d08baad13672b590ef2",
            "e0558596a71b4e75a7dd6334e0c05da0",
            "f3ea94ebe1244f73b110ee290f0e3c43",
            "5caf84ebb591438caa0be9eb4b4d82d3",
            "b74adbfeb7cd4ef7984994155ac20d99",
            "12df1bfd03b74317990f66d3025f46a7",
            "c5ac670842254e16aaea5d351ef71111",
            "afd934a4db7b4e45b39049e27bf05bb8",
            "2bc1ee47b9dc46b287403877ed12719c",
            "a226ca34c4f74d5fb295ab72654f63df",
            "e6a41577a0954d249954b66b7e9c684d",
            "4889ba24f9344660aa16a4ac636e4030",
            "4f33ac8088be4fd9a6855dccc7a28861",
            "ccda4b2528a648498ef5a70658ed9e99",
            "8b7cd94c819e4f608705c040a20e5f61",
            "a52cfb9673b645229cfa3d76818c0e60",
            "181324ce142e45969e2f7ba2c817ac14",
            "692561c80a38408f9d3ca7e3d32525d4",
            "bf5bcb1f15544aa39a47237348da5407",
            "d495ab7bf9c44eb9901a57cf1c828ffd",
            "17111d3981a44fbb846a13776396103f",
            "c9731d5f575d4165914723880b0540a2",
            "2d69e757e9fd4648a0138a502fa290f8",
            "d04d2d0bce55409dbba8a7938d8f9a67",
            "27a8062c260f463cbf2c22821892fa99",
            "2d63fddf698c4c38a0ced0e8c886ae7f",
            "269726a6a9694a1e9db2e4cc11438d4e",
            "3dbf5f0e278b419a8faf33119768549e",
            "fddcfb14d4bb44ad805579467efbf45f",
            "ceaf55b178cf4f48979b25fa14f4c652",
            "e05795dcc4e44ba9835809febbdf71fb",
            "b6dcf8aef3324479bd5fecbb51c45e16",
            "23fd5d4393fb442a84d359adf14e2f66",
            "ec909e989f4e4b4c8f73d33926336e2a",
            "768f8f7d1d2a4a4b8cc2c93df9b11754",
            "76755bf4a7b94c2f8f09b3e792b2fd3e",
            "6225eb7a260048c78980e92d7558c0ad",
            "006b9a52ddd1478ba120942e0108f973",
            "9df90272e3434e25925655a5930ab5d7",
            "2b0f8ad1642a400ba477f141c79f2855",
            "74c6be4a4ad2491ab3087723c669f997",
            "58598f5bdc0d41d2a325af7b9ff354ad",
            "e1e0f08bbec04244a2f27c510f4be674",
            "bdd367104aa3465b913dd3fe1d1019d7",
            "efeb0e1a29774e40809ee80a9254cd9f",
            "906cde8fa9e8422b84b86c3dd36e312f",
            "2071fcbf1f154420bacae56477ab8f51",
            "7ef1fa7515e44616a8b9f8071dbd3c3a",
            "2843d02620f143be932000c3b0abc56f",
            "65a96737a8b44bcfa261bf1aa505b12a",
            "466688b9652644449ca94ffce92bf943",
            "4d3c66c0f8cf4974aaa52b15b3d51821",
            "5fc52f9b232b4f59990ab29513dbe64e",
            "f4c8f5df31514377bb6c6fb6dbd0f192",
            "5e19d90a2fc243a7933763a82b5f4320"
          ]
        },
        "outputId": "fa86ade2-39f2-4aa8-b166-f400cacee1d9"
      },
      "source": [
        "EPOCHS = 100\n",
        "logs = {\n",
        "    'train_loss': [], 'train_acc': [], 'val_loss': [], 'val_acc': []\n",
        "}\n",
        "# Earlystopping\n",
        "patience = 5\n",
        "counter = 0\n",
        "best_loss = np.inf\n",
        "\n",
        "for epoch in tqdm(range(EPOCHS)):\n",
        "    train_loss, train_acc = train(train_loader, model, loss_fn, optimizer)\n",
        "    val_loss, val_acc = test(val_loader, model, loss_fn)\n",
        "\n",
        "    print(f'EPOCH: {epoch:04d} \\\n",
        "    train_loss: {train_loss:.4f}, train_acc: {train_acc:.3f} \\\n",
        "    val_loss: {val_loss:.4f}, val_acc: {val_acc:.3f} ')\n",
        "\n",
        "    logs['train_loss'].append(train_loss)\n",
        "    logs['train_acc'].append(train_acc)\n",
        "    logs['val_loss'].append(val_loss)\n",
        "    logs['val_acc'].append(val_acc)\n",
        "\n",
        "    torch.save(model.state_dict(), \"last.pth\")\n",
        "    # chcek improvement\n",
        "    if val_loss < best_loss:\n",
        "        counter = 0\n",
        "        best_loss = val_loss\n",
        "        torch.save(model.state_dict(), \"best.pth\")\n",
        "    else:\n",
        "        counter += 1\n",
        "    if counter >= patience:\n",
        "        print(\"Earlystop!\")\n",
        "        break"
      ],
      "execution_count": 33,
      "outputs": [
        {
          "output_type": "display_data",
          "data": {
            "text/plain": [
              "  0%|          | 0/100 [00:00<?, ?it/s]"
            ],
            "application/vnd.jupyter.widget-view+json": {
              "version_major": 2,
              "version_minor": 0,
              "model_id": "3d6e66816fb34fedb222fdda06be068e"
            }
          },
          "metadata": {}
        },
        {
          "output_type": "display_data",
          "data": {
            "text/plain": [
              "  0%|          | 0/5 [00:00<?, ?it/s]"
            ],
            "application/vnd.jupyter.widget-view+json": {
              "version_major": 2,
              "version_minor": 0,
              "model_id": "869762ad45e34aeaac4024c3c5a1738f"
            }
          },
          "metadata": {}
        },
        {
          "output_type": "stream",
          "name": "stdout",
          "text": [
            "EPOCH: 0000     train_loss: 13.2117, train_acc: 0.527     val_loss: 1.0886, val_acc: 0.500 \n"
          ]
        },
        {
          "output_type": "display_data",
          "data": {
            "text/plain": [
              "  0%|          | 0/5 [00:00<?, ?it/s]"
            ],
            "application/vnd.jupyter.widget-view+json": {
              "version_major": 2,
              "version_minor": 0,
              "model_id": "de0290f5326f4d08baad13672b590ef2"
            }
          },
          "metadata": {}
        },
        {
          "output_type": "stream",
          "name": "stdout",
          "text": [
            "EPOCH: 0001     train_loss: 3.3285, train_acc: 0.633     val_loss: 1.3088, val_acc: 0.280 \n"
          ]
        },
        {
          "output_type": "display_data",
          "data": {
            "text/plain": [
              "  0%|          | 0/5 [00:00<?, ?it/s]"
            ],
            "application/vnd.jupyter.widget-view+json": {
              "version_major": 2,
              "version_minor": 0,
              "model_id": "4889ba24f9344660aa16a4ac636e4030"
            }
          },
          "metadata": {}
        },
        {
          "output_type": "stream",
          "name": "stdout",
          "text": [
            "EPOCH: 0002     train_loss: 2.0667, train_acc: 0.780     val_loss: 1.6431, val_acc: 0.280 \n"
          ]
        },
        {
          "output_type": "display_data",
          "data": {
            "text/plain": [
              "  0%|          | 0/5 [00:00<?, ?it/s]"
            ],
            "application/vnd.jupyter.widget-view+json": {
              "version_major": 2,
              "version_minor": 0,
              "model_id": "2d69e757e9fd4648a0138a502fa290f8"
            }
          },
          "metadata": {}
        },
        {
          "output_type": "stream",
          "name": "stdout",
          "text": [
            "EPOCH: 0003     train_loss: 1.3774, train_acc: 0.767     val_loss: 1.5819, val_acc: 0.220 \n"
          ]
        },
        {
          "output_type": "display_data",
          "data": {
            "text/plain": [
              "  0%|          | 0/5 [00:00<?, ?it/s]"
            ],
            "application/vnd.jupyter.widget-view+json": {
              "version_major": 2,
              "version_minor": 0,
              "model_id": "ec909e989f4e4b4c8f73d33926336e2a"
            }
          },
          "metadata": {}
        },
        {
          "output_type": "stream",
          "name": "stdout",
          "text": [
            "EPOCH: 0004     train_loss: 0.9837, train_acc: 0.773     val_loss: 1.7118, val_acc: 0.280 \n"
          ]
        },
        {
          "output_type": "display_data",
          "data": {
            "text/plain": [
              "  0%|          | 0/5 [00:00<?, ?it/s]"
            ],
            "application/vnd.jupyter.widget-view+json": {
              "version_major": 2,
              "version_minor": 0,
              "model_id": "efeb0e1a29774e40809ee80a9254cd9f"
            }
          },
          "metadata": {}
        },
        {
          "output_type": "stream",
          "name": "stdout",
          "text": [
            "EPOCH: 0005     train_loss: 0.8489, train_acc: 0.753     val_loss: 1.9467, val_acc: 0.280 \n",
            "Earlystop!\n"
          ]
        }
      ]
    },
    {
      "cell_type": "markdown",
      "metadata": {
        "id": "nIarHaD-HWMi"
      },
      "source": [
        "#### Logs"
      ]
    },
    {
      "cell_type": "code",
      "metadata": {
        "id": "BfOJT0T1GLP5",
        "colab": {
          "base_uri": "https://localhost:8080/",
          "height": 468
        },
        "outputId": "d5413f4b-5060-4a58-ecda-c68b4560c733"
      },
      "source": [
        "# Plot loss curve\n",
        "plt.figure(figsize=(10, 5))\n",
        "plt.subplot(1, 2, 1)\n",
        "plt.title('Loss')\n",
        "plt.plot(logs['train_loss'])\n",
        "plt.plot(logs['val_loss'])\n",
        "plt.legend(['train_loss', 'val_loss'])\n",
        "# plot acc\n",
        "plt.subplot(1, 2, 2)\n",
        "plt.title('Accuracy')\n",
        "plt.plot(logs['train_acc'])\n",
        "plt.plot(logs['val_acc'])\n",
        "plt.legend(['train_acc', 'val_acc'])\n",
        "plt.show()"
      ],
      "execution_count": 34,
      "outputs": [
        {
          "output_type": "display_data",
          "data": {
            "text/plain": [
              "<Figure size 1000x500 with 2 Axes>"
            ],
            "image/png": "[encoded data removed]"
          },
          "metadata": {}
        }
      ]
    },
    {
      "cell_type": "markdown",
      "metadata": {
        "id": "L2seN6KMOVPk"
      },
      "source": [
        "#### Save and load the model\n",
        "\n",
        "\n",
        "\n",
        "1.   Save model weights only\n",
        "2.   Save with model class architecture\n",
        "\n"
      ]
    },
    {
      "cell_type": "markdown",
      "metadata": {
        "id": "VQngGiBtPmjY"
      },
      "source": [
        "1. Save model weights only"
      ]
    },
    {
      "cell_type": "code",
      "metadata": {
        "id": "CXMn0IImOW-f"
      },
      "source": [
        "# Save model weights\n",
        "PATH = './model_weights.pth'\n",
        "torch.save(model.state_dict(), PATH)"
      ],
      "execution_count": 35,
      "outputs": []
    },
    {
      "cell_type": "code",
      "metadata": {
        "id": "aq2znQ4DHZ_D",
        "colab": {
          "base_uri": "https://localhost:8080/"
        },
        "outputId": "5c551224-57f6-4f28-dbfc-13653d6516db"
      },
      "source": [
        "# load model weights\n",
        "model = CNN()\n",
        "model.load_state_dict(torch.load(PATH))"
      ],
      "execution_count": 36,
      "outputs": [
        {
          "output_type": "execute_result",
          "data": {
            "text/plain": [
              "<All keys matched successfully>"
            ]
          },
          "metadata": {},
          "execution_count": 36
        }
      ]
    },
    {
      "cell_type": "markdown",
      "metadata": {
        "id": "_f1wQsFLPvMF"
      },
      "source": [
        "2. Save with model class architecture"
      ]
    },
    {
      "cell_type": "code",
      "metadata": {
        "id": "X7H0YFd7P0RE"
      },
      "source": [
        "torch.save(model, 'model.pth')\n",
        "\n",
        "model = torch.load('model.pth')"
      ],
      "execution_count": 37,
      "outputs": []
    },
    {
      "cell_type": "markdown",
      "metadata": {
        "id": "BUbA3ZCqP9_z"
      },
      "source": [
        "#### Evaluation"
      ]
    },
    {
      "cell_type": "code",
      "metadata": {
        "id": "9IFSO9YLPS0S"
      },
      "source": [
        "model = model.to(device) # move model to GPU\n",
        "model.eval() # Set model to evaluation mode\n",
        "# Create temp tensor\n",
        "y_true = torch.tensor([], dtype=torch.long).to(device)\n",
        "y_pred_logits = torch.tensor([]).to(device)\n",
        "\n",
        "# deactivate autograd engine and reduce memory usage and speed up computations\n",
        "with torch.no_grad():\n",
        "    for x, y in val_loader:\n",
        "        x, y = x.to(device), y.to(device)\n",
        "\n",
        "        pred = model(x)\n",
        "        # Concatenate Ground truth and prediction\n",
        "        y_true = torch.cat((y_true, y), dim=0)\n",
        "        y_pred_logits = torch.cat((y_pred_logits, pred), dim=0)\n",
        "\n",
        "y_pred_cls = y_pred_logits.argmax(1) # get class idx with max prob (100, 3) -> (100, )\n",
        "y_pred_probs = nn.Softmax(dim=1)(y_pred_logits) # convert logits to probability\n",
        "\n",
        "# Move tensor to CPU and convert to np.ndarray\n",
        "y_true = y_true.cpu().numpy()\n",
        "y_pred_cls = y_pred_cls.cpu().numpy()\n",
        "y_pred_probs = y_pred_probs.cpu().numpy()\n"
      ],
      "execution_count": 38,
      "outputs": []
    },
    {
      "cell_type": "code",
      "metadata": {
        "id": "QBXgK9tsRncu",
        "colab": {
          "base_uri": "https://localhost:8080/"
        },
        "outputId": "d9f747ab-8143-40ff-b9f8-9be3c527689b"
      },
      "source": [
        "# Shape\n",
        "y_true.shape, y_pred_probs.shape, y_pred_cls.shape"
      ],
      "execution_count": 39,
      "outputs": [
        {
          "output_type": "execute_result",
          "data": {
            "text/plain": [
              "((100,), (100, 3), (100,))"
            ]
          },
          "metadata": {},
          "execution_count": 39
        }
      ]
    },
    {
      "cell_type": "code",
      "source": [
        "# calculate ACC\n",
        "acc = sum(y_true == y_pred_cls) / len(y_true)\n",
        "acc"
      ],
      "metadata": {
        "id": "NJExUbHp-RHG",
        "colab": {
          "base_uri": "https://localhost:8080/"
        },
        "outputId": "1497d793-585c-424b-b4d6-55cf31d80836"
      },
      "execution_count": 40,
      "outputs": [
        {
          "output_type": "execute_result",
          "data": {
            "text/plain": [
              "0.28"
            ]
          },
          "metadata": {},
          "execution_count": 40
        }
      ]
    },
    {
      "cell_type": "code",
      "source": [],
      "metadata": {
        "id": "C4Q2pWCoL6IT"
      },
      "execution_count": null,
      "outputs": []
    }
  ]
}