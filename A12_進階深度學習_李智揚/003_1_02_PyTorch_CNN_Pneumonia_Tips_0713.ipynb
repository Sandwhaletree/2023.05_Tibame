{
  "nbformat": 4,
  "nbformat_minor": 0,
  "metadata": {
    "colab": {
      "provenance": [],
      "gpuType": "T4",
      "include_colab_link": true
    },
    "kernelspec": {
      "name": "python3",
      "display_name": "Python 3"
    },
    "language_info": {
      "name": "python"
    },
    "accelerator": "GPU",
    "widgets": {
      "application/vnd.jupyter.widget-state+json": {
        "42e22f38574b403ea0fbf23701638300": {
          "model_module": "@jupyter-widgets/controls",
          "model_name": "HBoxModel",
          "model_module_version": "1.5.0",
          "state": {
            "_dom_classes": [],
            "_model_module": "@jupyter-widgets/controls",
            "_model_module_version": "1.5.0",
            "_model_name": "HBoxModel",
            "_view_count": null,
            "_view_module": "@jupyter-widgets/controls",
            "_view_module_version": "1.5.0",
            "_view_name": "HBoxView",
            "box_style": "",
            "children": [
              "IPY_MODEL_813ec8fadcf6444ebe01e5e348044399",
              "IPY_MODEL_8b7e53c0640e4061a52d8fddc0f66966",
              "IPY_MODEL_b5fa30a979364f91918aabba457e5d8d"
            ],
            "layout": "IPY_MODEL_b1771a31ba22457ba1b36a6a5d7720a2"
          }
        },
        "813ec8fadcf6444ebe01e5e348044399": {
          "model_module": "@jupyter-widgets/controls",
          "model_name": "HTMLModel",
          "model_module_version": "1.5.0",
          "state": {
            "_dom_classes": [],
            "_model_module": "@jupyter-widgets/controls",
            "_model_module_version": "1.5.0",
            "_model_name": "HTMLModel",
            "_view_count": null,
            "_view_module": "@jupyter-widgets/controls",
            "_view_module_version": "1.5.0",
            "_view_name": "HTMLView",
            "description": "",
            "description_tooltip": null,
            "layout": "IPY_MODEL_25f6064049944ac2b5dc8e90855a3eec",
            "placeholder": "​",
            "style": "IPY_MODEL_24465e1170044be799bb39feb72e8917",
            "value": "  7%"
          }
        },
        "8b7e53c0640e4061a52d8fddc0f66966": {
          "model_module": "@jupyter-widgets/controls",
          "model_name": "FloatProgressModel",
          "model_module_version": "1.5.0",
          "state": {
            "_dom_classes": [],
            "_model_module": "@jupyter-widgets/controls",
            "_model_module_version": "1.5.0",
            "_model_name": "FloatProgressModel",
            "_view_count": null,
            "_view_module": "@jupyter-widgets/controls",
            "_view_module_version": "1.5.0",
            "_view_name": "ProgressView",
            "bar_style": "",
            "description": "",
            "description_tooltip": null,
            "layout": "IPY_MODEL_fd1b9018ff7a4f6facf7213cf1ccbeef",
            "max": 100,
            "min": 0,
            "orientation": "horizontal",
            "style": "IPY_MODEL_75aa6ebe60c142fbb654304cb27d2cf2",
            "value": 7
          }
        },
        "b5fa30a979364f91918aabba457e5d8d": {
          "model_module": "@jupyter-widgets/controls",
          "model_name": "HTMLModel",
          "model_module_version": "1.5.0",
          "state": {
            "_dom_classes": [],
            "_model_module": "@jupyter-widgets/controls",
            "_model_module_version": "1.5.0",
            "_model_name": "HTMLModel",
            "_view_count": null,
            "_view_module": "@jupyter-widgets/controls",
            "_view_module_version": "1.5.0",
            "_view_name": "HTMLView",
            "description": "",
            "description_tooltip": null,
            "layout": "IPY_MODEL_d5b0b0f154ec40d396f3da4ba86c3774",
            "placeholder": "​",
            "style": "IPY_MODEL_c14980a3f0c44192b7253d5c9faa7a1e",
            "value": " 7/100 [00:58&lt;13:24,  8.66s/it]"
          }
        },
        "b1771a31ba22457ba1b36a6a5d7720a2": {
          "model_module": "@jupyter-widgets/base",
          "model_name": "LayoutModel",
          "model_module_version": "1.2.0",
          "state": {
            "_model_module": "@jupyter-widgets/base",
            "_model_module_version": "1.2.0",
            "_model_name": "LayoutModel",
            "_view_count": null,
            "_view_module": "@jupyter-widgets/base",
            "_view_module_version": "1.2.0",
            "_view_name": "LayoutView",
            "align_content": null,
            "align_items": null,
            "align_self": null,
            "border": null,
            "bottom": null,
            "display": null,
            "flex": null,
            "flex_flow": null,
            "grid_area": null,
            "grid_auto_columns": null,
            "grid_auto_flow": null,
            "grid_auto_rows": null,
            "grid_column": null,
            "grid_gap": null,
            "grid_row": null,
            "grid_template_areas": null,
            "grid_template_columns": null,
            "grid_template_rows": null,
            "height": null,
            "justify_content": null,
            "justify_items": null,
            "left": null,
            "margin": null,
            "max_height": null,
            "max_width": null,
            "min_height": null,
            "min_width": null,
            "object_fit": null,
            "object_position": null,
            "order": null,
            "overflow": null,
            "overflow_x": null,
            "overflow_y": null,
            "padding": null,
            "right": null,
            "top": null,
            "visibility": null,
            "width": null
          }
        },
        "25f6064049944ac2b5dc8e90855a3eec": {
          "model_module": "@jupyter-widgets/base",
          "model_name": "LayoutModel",
          "model_module_version": "1.2.0",
          "state": {
            "_model_module": "@jupyter-widgets/base",
            "_model_module_version": "1.2.0",
            "_model_name": "LayoutModel",
            "_view_count": null,
            "_view_module": "@jupyter-widgets/base",
            "_view_module_version": "1.2.0",
            "_view_name": "LayoutView",
            "align_content": null,
            "align_items": null,
            "align_self": null,
            "border": null,
            "bottom": null,
            "display": null,
            "flex": null,
            "flex_flow": null,
            "grid_area": null,
            "grid_auto_columns": null,
            "grid_auto_flow": null,
            "grid_auto_rows": null,
            "grid_column": null,
            "grid_gap": null,
            "grid_row": null,
            "grid_template_areas": null,
            "grid_template_columns": null,
            "grid_template_rows": null,
            "height": null,
            "justify_content": null,
            "justify_items": null,
            "left": null,
            "margin": null,
            "max_height": null,
            "max_width": null,
            "min_height": null,
            "min_width": null,
            "object_fit": null,
            "object_position": null,
            "order": null,
            "overflow": null,
            "overflow_x": null,
            "overflow_y": null,
            "padding": null,
            "right": null,
            "top": null,
            "visibility": null,
            "width": null
          }
        },
        "24465e1170044be799bb39feb72e8917": {
          "model_module": "@jupyter-widgets/controls",
          "model_name": "DescriptionStyleModel",
          "model_module_version": "1.5.0",
          "state": {
            "_model_module": "@jupyter-widgets/controls",
            "_model_module_version": "1.5.0",
            "_model_name": "DescriptionStyleModel",
            "_view_count": null,
            "_view_module": "@jupyter-widgets/base",
            "_view_module_version": "1.2.0",
            "_view_name": "StyleView",
            "description_width": ""
          }
        },
        "fd1b9018ff7a4f6facf7213cf1ccbeef": {
          "model_module": "@jupyter-widgets/base",
          "model_name": "LayoutModel",
          "model_module_version": "1.2.0",
          "state": {
            "_model_module": "@jupyter-widgets/base",
            "_model_module_version": "1.2.0",
            "_model_name": "LayoutModel",
            "_view_count": null,
            "_view_module": "@jupyter-widgets/base",
            "_view_module_version": "1.2.0",
            "_view_name": "LayoutView",
            "align_content": null,
            "align_items": null,
            "align_self": null,
            "border": null,
            "bottom": null,
            "display": null,
            "flex": null,
            "flex_flow": null,
            "grid_area": null,
            "grid_auto_columns": null,
            "grid_auto_flow": null,
            "grid_auto_rows": null,
            "grid_column": null,
            "grid_gap": null,
            "grid_row": null,
            "grid_template_areas": null,
            "grid_template_columns": null,
            "grid_template_rows": null,
            "height": null,
            "justify_content": null,
            "justify_items": null,
            "left": null,
            "margin": null,
            "max_height": null,
            "max_width": null,
            "min_height": null,
            "min_width": null,
            "object_fit": null,
            "object_position": null,
            "order": null,
            "overflow": null,
            "overflow_x": null,
            "overflow_y": null,
            "padding": null,
            "right": null,
            "top": null,
            "visibility": null,
            "width": null
          }
        },
        "75aa6ebe60c142fbb654304cb27d2cf2": {
          "model_module": "@jupyter-widgets/controls",
          "model_name": "ProgressStyleModel",
          "model_module_version": "1.5.0",
          "state": {
            "_model_module": "@jupyter-widgets/controls",
            "_model_module_version": "1.5.0",
            "_model_name": "ProgressStyleModel",
            "_view_count": null,
            "_view_module": "@jupyter-widgets/base",
            "_view_module_version": "1.2.0",
            "_view_name": "StyleView",
            "bar_color": null,
            "description_width": ""
          }
        },
        "d5b0b0f154ec40d396f3da4ba86c3774": {
          "model_module": "@jupyter-widgets/base",
          "model_name": "LayoutModel",
          "model_module_version": "1.2.0",
          "state": {
            "_model_module": "@jupyter-widgets/base",
            "_model_module_version": "1.2.0",
            "_model_name": "LayoutModel",
            "_view_count": null,
            "_view_module": "@jupyter-widgets/base",
            "_view_module_version": "1.2.0",
            "_view_name": "LayoutView",
            "align_content": null,
            "align_items": null,
            "align_self": null,
            "border": null,
            "bottom": null,
            "display": null,
            "flex": null,
            "flex_flow": null,
            "grid_area": null,
            "grid_auto_columns": null,
            "grid_auto_flow": null,
            "grid_auto_rows": null,
            "grid_column": null,
            "grid_gap": null,
            "grid_row": null,
            "grid_template_areas": null,
            "grid_template_columns": null,
            "grid_template_rows": null,
            "height": null,
            "justify_content": null,
            "justify_items": null,
            "left": null,
            "margin": null,
            "max_height": null,
            "max_width": null,
            "min_height": null,
            "min_width": null,
            "object_fit": null,
            "object_position": null,
            "order": null,
            "overflow": null,
            "overflow_x": null,
            "overflow_y": null,
            "padding": null,
            "right": null,
            "top": null,
            "visibility": null,
            "width": null
          }
        },
        "c14980a3f0c44192b7253d5c9faa7a1e": {
          "model_module": "@jupyter-widgets/controls",
          "model_name": "DescriptionStyleModel",
          "model_module_version": "1.5.0",
          "state": {
            "_model_module": "@jupyter-widgets/controls",
            "_model_module_version": "1.5.0",
            "_model_name": "DescriptionStyleModel",
            "_view_count": null,
            "_view_module": "@jupyter-widgets/base",
            "_view_module_version": "1.2.0",
            "_view_name": "StyleView",
            "description_width": ""
          }
        },
        "dec26c92805742218d2f25109f2ac48e": {
          "model_module": "@jupyter-widgets/controls",
          "model_name": "HBoxModel",
          "model_module_version": "1.5.0",
          "state": {
            "_dom_classes": [],
            "_model_module": "@jupyter-widgets/controls",
            "_model_module_version": "1.5.0",
            "_model_name": "HBoxModel",
            "_view_count": null,
            "_view_module": "@jupyter-widgets/controls",
            "_view_module_version": "1.5.0",
            "_view_name": "HBoxView",
            "box_style": "",
            "children": [
              "IPY_MODEL_950214a4e2644d2fbcbfe53b7bc03257",
              "IPY_MODEL_5fbe6e928e9d4611a210de8c30ff4555",
              "IPY_MODEL_6509bdcefd2347f884169483d0b76f9f"
            ],
            "layout": "IPY_MODEL_3f0cf48acf5f4d2eb7603a68f547941a"
          }
        },
        "950214a4e2644d2fbcbfe53b7bc03257": {
          "model_module": "@jupyter-widgets/controls",
          "model_name": "HTMLModel",
          "model_module_version": "1.5.0",
          "state": {
            "_dom_classes": [],
            "_model_module": "@jupyter-widgets/controls",
            "_model_module_version": "1.5.0",
            "_model_name": "HTMLModel",
            "_view_count": null,
            "_view_module": "@jupyter-widgets/controls",
            "_view_module_version": "1.5.0",
            "_view_name": "HTMLView",
            "description": "",
            "description_tooltip": null,
            "layout": "IPY_MODEL_87c8e86d6e3a474fbbb3682443ca4241",
            "placeholder": "​",
            "style": "IPY_MODEL_ffb8e219953f4998b8cbd7ba46a75acc",
            "value": "100%"
          }
        },
        "5fbe6e928e9d4611a210de8c30ff4555": {
          "model_module": "@jupyter-widgets/controls",
          "model_name": "FloatProgressModel",
          "model_module_version": "1.5.0",
          "state": {
            "_dom_classes": [],
            "_model_module": "@jupyter-widgets/controls",
            "_model_module_version": "1.5.0",
            "_model_name": "FloatProgressModel",
            "_view_count": null,
            "_view_module": "@jupyter-widgets/controls",
            "_view_module_version": "1.5.0",
            "_view_name": "ProgressView",
            "bar_style": "",
            "description": "",
            "description_tooltip": null,
            "layout": "IPY_MODEL_cf4daec8240140179ae00000848eb883",
            "max": 5,
            "min": 0,
            "orientation": "horizontal",
            "style": "IPY_MODEL_4f45db9c2fad4c288a940635d7beb047",
            "value": 5
          }
        },
        "6509bdcefd2347f884169483d0b76f9f": {
          "model_module": "@jupyter-widgets/controls",
          "model_name": "HTMLModel",
          "model_module_version": "1.5.0",
          "state": {
            "_dom_classes": [],
            "_model_module": "@jupyter-widgets/controls",
            "_model_module_version": "1.5.0",
            "_model_name": "HTMLModel",
            "_view_count": null,
            "_view_module": "@jupyter-widgets/controls",
            "_view_module_version": "1.5.0",
            "_view_name": "HTMLView",
            "description": "",
            "description_tooltip": null,
            "layout": "IPY_MODEL_899ea6356f424af0b5b85da164334210",
            "placeholder": "​",
            "style": "IPY_MODEL_356acaaacea34ff49ed4c0a0f052ff23",
            "value": " 5/5 [00:04&lt;00:00,  1.23it/s]"
          }
        },
        "3f0cf48acf5f4d2eb7603a68f547941a": {
          "model_module": "@jupyter-widgets/base",
          "model_name": "LayoutModel",
          "model_module_version": "1.2.0",
          "state": {
            "_model_module": "@jupyter-widgets/base",
            "_model_module_version": "1.2.0",
            "_model_name": "LayoutModel",
            "_view_count": null,
            "_view_module": "@jupyter-widgets/base",
            "_view_module_version": "1.2.0",
            "_view_name": "LayoutView",
            "align_content": null,
            "align_items": null,
            "align_self": null,
            "border": null,
            "bottom": null,
            "display": null,
            "flex": null,
            "flex_flow": null,
            "grid_area": null,
            "grid_auto_columns": null,
            "grid_auto_flow": null,
            "grid_auto_rows": null,
            "grid_column": null,
            "grid_gap": null,
            "grid_row": null,
            "grid_template_areas": null,
            "grid_template_columns": null,
            "grid_template_rows": null,
            "height": null,
            "justify_content": null,
            "justify_items": null,
            "left": null,
            "margin": null,
            "max_height": null,
            "max_width": null,
            "min_height": null,
            "min_width": null,
            "object_fit": null,
            "object_position": null,
            "order": null,
            "overflow": null,
            "overflow_x": null,
            "overflow_y": null,
            "padding": null,
            "right": null,
            "top": null,
            "visibility": "hidden",
            "width": null
          }
        },
        "87c8e86d6e3a474fbbb3682443ca4241": {
          "model_module": "@jupyter-widgets/base",
          "model_name": "LayoutModel",
          "model_module_version": "1.2.0",
          "state": {
            "_model_module": "@jupyter-widgets/base",
            "_model_module_version": "1.2.0",
            "_model_name": "LayoutModel",
            "_view_count": null,
            "_view_module": "@jupyter-widgets/base",
            "_view_module_version": "1.2.0",
            "_view_name": "LayoutView",
            "align_content": null,
            "align_items": null,
            "align_self": null,
            "border": null,
            "bottom": null,
            "display": null,
            "flex": null,
            "flex_flow": null,
            "grid_area": null,
            "grid_auto_columns": null,
            "grid_auto_flow": null,
            "grid_auto_rows": null,
            "grid_column": null,
            "grid_gap": null,
            "grid_row": null,
            "grid_template_areas": null,
            "grid_template_columns": null,
            "grid_template_rows": null,
            "height": null,
            "justify_content": null,
            "justify_items": null,
            "left": null,
            "margin": null,
            "max_height": null,
            "max_width": null,
            "min_height": null,
            "min_width": null,
            "object_fit": null,
            "object_position": null,
            "order": null,
            "overflow": null,
            "overflow_x": null,
            "overflow_y": null,
            "padding": null,
            "right": null,
            "top": null,
            "visibility": null,
            "width": null
          }
        },
        "ffb8e219953f4998b8cbd7ba46a75acc": {
          "model_module": "@jupyter-widgets/controls",
          "model_name": "DescriptionStyleModel",
          "model_module_version": "1.5.0",
          "state": {
            "_model_module": "@jupyter-widgets/controls",
            "_model_module_version": "1.5.0",
            "_model_name": "DescriptionStyleModel",
            "_view_count": null,
            "_view_module": "@jupyter-widgets/base",
            "_view_module_version": "1.2.0",
            "_view_name": "StyleView",
            "description_width": ""
          }
        },
        "cf4daec8240140179ae00000848eb883": {
          "model_module": "@jupyter-widgets/base",
          "model_name": "LayoutModel",
          "model_module_version": "1.2.0",
          "state": {
            "_model_module": "@jupyter-widgets/base",
            "_model_module_version": "1.2.0",
            "_model_name": "LayoutModel",
            "_view_count": null,
            "_view_module": "@jupyter-widgets/base",
            "_view_module_version": "1.2.0",
            "_view_name": "LayoutView",
            "align_content": null,
            "align_items": null,
            "align_self": null,
            "border": null,
            "bottom": null,
            "display": null,
            "flex": null,
            "flex_flow": null,
            "grid_area": null,
            "grid_auto_columns": null,
            "grid_auto_flow": null,
            "grid_auto_rows": null,
            "grid_column": null,
            "grid_gap": null,
            "grid_row": null,
            "grid_template_areas": null,
            "grid_template_columns": null,
            "grid_template_rows": null,
            "height": null,
            "justify_content": null,
            "justify_items": null,
            "left": null,
            "margin": null,
            "max_height": null,
            "max_width": null,
            "min_height": null,
            "min_width": null,
            "object_fit": null,
            "object_position": null,
            "order": null,
            "overflow": null,
            "overflow_x": null,
            "overflow_y": null,
            "padding": null,
            "right": null,
            "top": null,
            "visibility": null,
            "width": null
          }
        },
        "4f45db9c2fad4c288a940635d7beb047": {
          "model_module": "@jupyter-widgets/controls",
          "model_name": "ProgressStyleModel",
          "model_module_version": "1.5.0",
          "state": {
            "_model_module": "@jupyter-widgets/controls",
            "_model_module_version": "1.5.0",
            "_model_name": "ProgressStyleModel",
            "_view_count": null,
            "_view_module": "@jupyter-widgets/base",
            "_view_module_version": "1.2.0",
            "_view_name": "StyleView",
            "bar_color": null,
            "description_width": ""
          }
        },
        "899ea6356f424af0b5b85da164334210": {
          "model_module": "@jupyter-widgets/base",
          "model_name": "LayoutModel",
          "model_module_version": "1.2.0",
          "state": {
            "_model_module": "@jupyter-widgets/base",
            "_model_module_version": "1.2.0",
            "_model_name": "LayoutModel",
            "_view_count": null,
            "_view_module": "@jupyter-widgets/base",
            "_view_module_version": "1.2.0",
            "_view_name": "LayoutView",
            "align_content": null,
            "align_items": null,
            "align_self": null,
            "border": null,
            "bottom": null,
            "display": null,
            "flex": null,
            "flex_flow": null,
            "grid_area": null,
            "grid_auto_columns": null,
            "grid_auto_flow": null,
            "grid_auto_rows": null,
            "grid_column": null,
            "grid_gap": null,
            "grid_row": null,
            "grid_template_areas": null,
            "grid_template_columns": null,
            "grid_template_rows": null,
            "height": null,
            "justify_content": null,
            "justify_items": null,
            "left": null,
            "margin": null,
            "max_height": null,
            "max_width": null,
            "min_height": null,
            "min_width": null,
            "object_fit": null,
            "object_position": null,
            "order": null,
            "overflow": null,
            "overflow_x": null,
            "overflow_y": null,
            "padding": null,
            "right": null,
            "top": null,
            "visibility": null,
            "width": null
          }
        },
        "356acaaacea34ff49ed4c0a0f052ff23": {
          "model_module": "@jupyter-widgets/controls",
          "model_name": "DescriptionStyleModel",
          "model_module_version": "1.5.0",
          "state": {
            "_model_module": "@jupyter-widgets/controls",
            "_model_module_version": "1.5.0",
            "_model_name": "DescriptionStyleModel",
            "_view_count": null,
            "_view_module": "@jupyter-widgets/base",
            "_view_module_version": "1.2.0",
            "_view_name": "StyleView",
            "description_width": ""
          }
        },
        "3494044226a3402484260dd1eb172cf9": {
          "model_module": "@jupyter-widgets/controls",
          "model_name": "HBoxModel",
          "model_module_version": "1.5.0",
          "state": {
            "_dom_classes": [],
            "_model_module": "@jupyter-widgets/controls",
            "_model_module_version": "1.5.0",
            "_model_name": "HBoxModel",
            "_view_count": null,
            "_view_module": "@jupyter-widgets/controls",
            "_view_module_version": "1.5.0",
            "_view_name": "HBoxView",
            "box_style": "",
            "children": [
              "IPY_MODEL_1e53848c1ac3473da56ac5327c7ad3d6",
              "IPY_MODEL_d49adc1325db4411b437bf1783497632",
              "IPY_MODEL_24781ba72b0048fbbb6a1fbd1cc3be65"
            ],
            "layout": "IPY_MODEL_15d39446873b4438aa4d59a42b1a94ab"
          }
        },
        "1e53848c1ac3473da56ac5327c7ad3d6": {
          "model_module": "@jupyter-widgets/controls",
          "model_name": "HTMLModel",
          "model_module_version": "1.5.0",
          "state": {
            "_dom_classes": [],
            "_model_module": "@jupyter-widgets/controls",
            "_model_module_version": "1.5.0",
            "_model_name": "HTMLModel",
            "_view_count": null,
            "_view_module": "@jupyter-widgets/controls",
            "_view_module_version": "1.5.0",
            "_view_name": "HTMLView",
            "description": "",
            "description_tooltip": null,
            "layout": "IPY_MODEL_7a04489755eb4d0790bcbe423b9f17a9",
            "placeholder": "​",
            "style": "IPY_MODEL_d8dcdd32ffeb4c4484dd327c45e6a344",
            "value": "100%"
          }
        },
        "d49adc1325db4411b437bf1783497632": {
          "model_module": "@jupyter-widgets/controls",
          "model_name": "FloatProgressModel",
          "model_module_version": "1.5.0",
          "state": {
            "_dom_classes": [],
            "_model_module": "@jupyter-widgets/controls",
            "_model_module_version": "1.5.0",
            "_model_name": "FloatProgressModel",
            "_view_count": null,
            "_view_module": "@jupyter-widgets/controls",
            "_view_module_version": "1.5.0",
            "_view_name": "ProgressView",
            "bar_style": "",
            "description": "",
            "description_tooltip": null,
            "layout": "IPY_MODEL_4bc6ede2e2cf48e392e3b5a69a80f5bc",
            "max": 5,
            "min": 0,
            "orientation": "horizontal",
            "style": "IPY_MODEL_4728ebf943e040a0b935f964722ab434",
            "value": 5
          }
        },
        "24781ba72b0048fbbb6a1fbd1cc3be65": {
          "model_module": "@jupyter-widgets/controls",
          "model_name": "HTMLModel",
          "model_module_version": "1.5.0",
          "state": {
            "_dom_classes": [],
            "_model_module": "@jupyter-widgets/controls",
            "_model_module_version": "1.5.0",
            "_model_name": "HTMLModel",
            "_view_count": null,
            "_view_module": "@jupyter-widgets/controls",
            "_view_module_version": "1.5.0",
            "_view_name": "HTMLView",
            "description": "",
            "description_tooltip": null,
            "layout": "IPY_MODEL_09a447cb1b394540a93310a73e2dd9f0",
            "placeholder": "​",
            "style": "IPY_MODEL_ba969c8e22e14b2a93450e2f04e8c5fc",
            "value": " 5/5 [00:04&lt;00:00,  1.14it/s]"
          }
        },
        "15d39446873b4438aa4d59a42b1a94ab": {
          "model_module": "@jupyter-widgets/base",
          "model_name": "LayoutModel",
          "model_module_version": "1.2.0",
          "state": {
            "_model_module": "@jupyter-widgets/base",
            "_model_module_version": "1.2.0",
            "_model_name": "LayoutModel",
            "_view_count": null,
            "_view_module": "@jupyter-widgets/base",
            "_view_module_version": "1.2.0",
            "_view_name": "LayoutView",
            "align_content": null,
            "align_items": null,
            "align_self": null,
            "border": null,
            "bottom": null,
            "display": null,
            "flex": null,
            "flex_flow": null,
            "grid_area": null,
            "grid_auto_columns": null,
            "grid_auto_flow": null,
            "grid_auto_rows": null,
            "grid_column": null,
            "grid_gap": null,
            "grid_row": null,
            "grid_template_areas": null,
            "grid_template_columns": null,
            "grid_template_rows": null,
            "height": null,
            "justify_content": null,
            "justify_items": null,
            "left": null,
            "margin": null,
            "max_height": null,
            "max_width": null,
            "min_height": null,
            "min_width": null,
            "object_fit": null,
            "object_position": null,
            "order": null,
            "overflow": null,
            "overflow_x": null,
            "overflow_y": null,
            "padding": null,
            "right": null,
            "top": null,
            "visibility": "hidden",
            "width": null
          }
        },
        "7a04489755eb4d0790bcbe423b9f17a9": {
          "model_module": "@jupyter-widgets/base",
          "model_name": "LayoutModel",
          "model_module_version": "1.2.0",
          "state": {
            "_model_module": "@jupyter-widgets/base",
            "_model_module_version": "1.2.0",
            "_model_name": "LayoutModel",
            "_view_count": null,
            "_view_module": "@jupyter-widgets/base",
            "_view_module_version": "1.2.0",
            "_view_name": "LayoutView",
            "align_content": null,
            "align_items": null,
            "align_self": null,
            "border": null,
            "bottom": null,
            "display": null,
            "flex": null,
            "flex_flow": null,
            "grid_area": null,
            "grid_auto_columns": null,
            "grid_auto_flow": null,
            "grid_auto_rows": null,
            "grid_column": null,
            "grid_gap": null,
            "grid_row": null,
            "grid_template_areas": null,
            "grid_template_columns": null,
            "grid_template_rows": null,
            "height": null,
            "justify_content": null,
            "justify_items": null,
            "left": null,
            "margin": null,
            "max_height": null,
            "max_width": null,
            "min_height": null,
            "min_width": null,
            "object_fit": null,
            "object_position": null,
            "order": null,
            "overflow": null,
            "overflow_x": null,
            "overflow_y": null,
            "padding": null,
            "right": null,
            "top": null,
            "visibility": null,
            "width": null
          }
        },
        "d8dcdd32ffeb4c4484dd327c45e6a344": {
          "model_module": "@jupyter-widgets/controls",
          "model_name": "DescriptionStyleModel",
          "model_module_version": "1.5.0",
          "state": {
            "_model_module": "@jupyter-widgets/controls",
            "_model_module_version": "1.5.0",
            "_model_name": "DescriptionStyleModel",
            "_view_count": null,
            "_view_module": "@jupyter-widgets/base",
            "_view_module_version": "1.2.0",
            "_view_name": "StyleView",
            "description_width": ""
          }
        },
        "4bc6ede2e2cf48e392e3b5a69a80f5bc": {
          "model_module": "@jupyter-widgets/base",
          "model_name": "LayoutModel",
          "model_module_version": "1.2.0",
          "state": {
            "_model_module": "@jupyter-widgets/base",
            "_model_module_version": "1.2.0",
            "_model_name": "LayoutModel",
            "_view_count": null,
            "_view_module": "@jupyter-widgets/base",
            "_view_module_version": "1.2.0",
            "_view_name": "LayoutView",
            "align_content": null,
            "align_items": null,
            "align_self": null,
            "border": null,
            "bottom": null,
            "display": null,
            "flex": null,
            "flex_flow": null,
            "grid_area": null,
            "grid_auto_columns": null,
            "grid_auto_flow": null,
            "grid_auto_rows": null,
            "grid_column": null,
            "grid_gap": null,
            "grid_row": null,
            "grid_template_areas": null,
            "grid_template_columns": null,
            "grid_template_rows": null,
            "height": null,
            "justify_content": null,
            "justify_items": null,
            "left": null,
            "margin": null,
            "max_height": null,
            "max_width": null,
            "min_height": null,
            "min_width": null,
            "object_fit": null,
            "object_position": null,
            "order": null,
            "overflow": null,
            "overflow_x": null,
            "overflow_y": null,
            "padding": null,
            "right": null,
            "top": null,
            "visibility": null,
            "width": null
          }
        },
        "4728ebf943e040a0b935f964722ab434": {
          "model_module": "@jupyter-widgets/controls",
          "model_name": "ProgressStyleModel",
          "model_module_version": "1.5.0",
          "state": {
            "_model_module": "@jupyter-widgets/controls",
            "_model_module_version": "1.5.0",
            "_model_name": "ProgressStyleModel",
            "_view_count": null,
            "_view_module": "@jupyter-widgets/base",
            "_view_module_version": "1.2.0",
            "_view_name": "StyleView",
            "bar_color": null,
            "description_width": ""
          }
        },
        "09a447cb1b394540a93310a73e2dd9f0": {
          "model_module": "@jupyter-widgets/base",
          "model_name": "LayoutModel",
          "model_module_version": "1.2.0",
          "state": {
            "_model_module": "@jupyter-widgets/base",
            "_model_module_version": "1.2.0",
            "_model_name": "LayoutModel",
            "_view_count": null,
            "_view_module": "@jupyter-widgets/base",
            "_view_module_version": "1.2.0",
            "_view_name": "LayoutView",
            "align_content": null,
            "align_items": null,
            "align_self": null,
            "border": null,
            "bottom": null,
            "display": null,
            "flex": null,
            "flex_flow": null,
            "grid_area": null,
            "grid_auto_columns": null,
            "grid_auto_flow": null,
            "grid_auto_rows": null,
            "grid_column": null,
            "grid_gap": null,
            "grid_row": null,
            "grid_template_areas": null,
            "grid_template_columns": null,
            "grid_template_rows": null,
            "height": null,
            "justify_content": null,
            "justify_items": null,
            "left": null,
            "margin": null,
            "max_height": null,
            "max_width": null,
            "min_height": null,
            "min_width": null,
            "object_fit": null,
            "object_position": null,
            "order": null,
            "overflow": null,
            "overflow_x": null,
            "overflow_y": null,
            "padding": null,
            "right": null,
            "top": null,
            "visibility": null,
            "width": null
          }
        },
        "ba969c8e22e14b2a93450e2f04e8c5fc": {
          "model_module": "@jupyter-widgets/controls",
          "model_name": "DescriptionStyleModel",
          "model_module_version": "1.5.0",
          "state": {
            "_model_module": "@jupyter-widgets/controls",
            "_model_module_version": "1.5.0",
            "_model_name": "DescriptionStyleModel",
            "_view_count": null,
            "_view_module": "@jupyter-widgets/base",
            "_view_module_version": "1.2.0",
            "_view_name": "StyleView",
            "description_width": ""
          }
        },
        "8c3b0b3afaf54d298676e6e7aa6a56fb": {
          "model_module": "@jupyter-widgets/controls",
          "model_name": "HBoxModel",
          "model_module_version": "1.5.0",
          "state": {
            "_dom_classes": [],
            "_model_module": "@jupyter-widgets/controls",
            "_model_module_version": "1.5.0",
            "_model_name": "HBoxModel",
            "_view_count": null,
            "_view_module": "@jupyter-widgets/controls",
            "_view_module_version": "1.5.0",
            "_view_name": "HBoxView",
            "box_style": "",
            "children": [
              "IPY_MODEL_6b91165f50a043db9124a87ccc759875",
              "IPY_MODEL_c3179e435d7049f68d68c39d7913c624",
              "IPY_MODEL_4ab990cb21f44bc19965bd2e0dcfecab"
            ],
            "layout": "IPY_MODEL_8aaeb9113a5448919ed2483948448e26"
          }
        },
        "6b91165f50a043db9124a87ccc759875": {
          "model_module": "@jupyter-widgets/controls",
          "model_name": "HTMLModel",
          "model_module_version": "1.5.0",
          "state": {
            "_dom_classes": [],
            "_model_module": "@jupyter-widgets/controls",
            "_model_module_version": "1.5.0",
            "_model_name": "HTMLModel",
            "_view_count": null,
            "_view_module": "@jupyter-widgets/controls",
            "_view_module_version": "1.5.0",
            "_view_name": "HTMLView",
            "description": "",
            "description_tooltip": null,
            "layout": "IPY_MODEL_0763107ccc304851b7aa56e7d037e4c0",
            "placeholder": "​",
            "style": "IPY_MODEL_72f94d9d5b924a27bc32fe980ae5cd5a",
            "value": "100%"
          }
        },
        "c3179e435d7049f68d68c39d7913c624": {
          "model_module": "@jupyter-widgets/controls",
          "model_name": "FloatProgressModel",
          "model_module_version": "1.5.0",
          "state": {
            "_dom_classes": [],
            "_model_module": "@jupyter-widgets/controls",
            "_model_module_version": "1.5.0",
            "_model_name": "FloatProgressModel",
            "_view_count": null,
            "_view_module": "@jupyter-widgets/controls",
            "_view_module_version": "1.5.0",
            "_view_name": "ProgressView",
            "bar_style": "",
            "description": "",
            "description_tooltip": null,
            "layout": "IPY_MODEL_b202d873d18349869d4b5e5da987b265",
            "max": 5,
            "min": 0,
            "orientation": "horizontal",
            "style": "IPY_MODEL_93e4eff3a4694c7097b8a9a33198791c",
            "value": 5
          }
        },
        "4ab990cb21f44bc19965bd2e0dcfecab": {
          "model_module": "@jupyter-widgets/controls",
          "model_name": "HTMLModel",
          "model_module_version": "1.5.0",
          "state": {
            "_dom_classes": [],
            "_model_module": "@jupyter-widgets/controls",
            "_model_module_version": "1.5.0",
            "_model_name": "HTMLModel",
            "_view_count": null,
            "_view_module": "@jupyter-widgets/controls",
            "_view_module_version": "1.5.0",
            "_view_name": "HTMLView",
            "description": "",
            "description_tooltip": null,
            "layout": "IPY_MODEL_7a61b0343e904dbb8021f6539cda776c",
            "placeholder": "​",
            "style": "IPY_MODEL_db0a5de237854dbbb42950a6baa02015",
            "value": " 5/5 [00:04&lt;00:00,  1.20it/s]"
          }
        },
        "8aaeb9113a5448919ed2483948448e26": {
          "model_module": "@jupyter-widgets/base",
          "model_name": "LayoutModel",
          "model_module_version": "1.2.0",
          "state": {
            "_model_module": "@jupyter-widgets/base",
            "_model_module_version": "1.2.0",
            "_model_name": "LayoutModel",
            "_view_count": null,
            "_view_module": "@jupyter-widgets/base",
            "_view_module_version": "1.2.0",
            "_view_name": "LayoutView",
            "align_content": null,
            "align_items": null,
            "align_self": null,
            "border": null,
            "bottom": null,
            "display": null,
            "flex": null,
            "flex_flow": null,
            "grid_area": null,
            "grid_auto_columns": null,
            "grid_auto_flow": null,
            "grid_auto_rows": null,
            "grid_column": null,
            "grid_gap": null,
            "grid_row": null,
            "grid_template_areas": null,
            "grid_template_columns": null,
            "grid_template_rows": null,
            "height": null,
            "justify_content": null,
            "justify_items": null,
            "left": null,
            "margin": null,
            "max_height": null,
            "max_width": null,
            "min_height": null,
            "min_width": null,
            "object_fit": null,
            "object_position": null,
            "order": null,
            "overflow": null,
            "overflow_x": null,
            "overflow_y": null,
            "padding": null,
            "right": null,
            "top": null,
            "visibility": "hidden",
            "width": null
          }
        },
        "0763107ccc304851b7aa56e7d037e4c0": {
          "model_module": "@jupyter-widgets/base",
          "model_name": "LayoutModel",
          "model_module_version": "1.2.0",
          "state": {
            "_model_module": "@jupyter-widgets/base",
            "_model_module_version": "1.2.0",
            "_model_name": "LayoutModel",
            "_view_count": null,
            "_view_module": "@jupyter-widgets/base",
            "_view_module_version": "1.2.0",
            "_view_name": "LayoutView",
            "align_content": null,
            "align_items": null,
            "align_self": null,
            "border": null,
            "bottom": null,
            "display": null,
            "flex": null,
            "flex_flow": null,
            "grid_area": null,
            "grid_auto_columns": null,
            "grid_auto_flow": null,
            "grid_auto_rows": null,
            "grid_column": null,
            "grid_gap": null,
            "grid_row": null,
            "grid_template_areas": null,
            "grid_template_columns": null,
            "grid_template_rows": null,
            "height": null,
            "justify_content": null,
            "justify_items": null,
            "left": null,
            "margin": null,
            "max_height": null,
            "max_width": null,
            "min_height": null,
            "min_width": null,
            "object_fit": null,
            "object_position": null,
            "order": null,
            "overflow": null,
            "overflow_x": null,
            "overflow_y": null,
            "padding": null,
            "right": null,
            "top": null,
            "visibility": null,
            "width": null
          }
        },
        "72f94d9d5b924a27bc32fe980ae5cd5a": {
          "model_module": "@jupyter-widgets/controls",
          "model_name": "DescriptionStyleModel",
          "model_module_version": "1.5.0",
          "state": {
            "_model_module": "@jupyter-widgets/controls",
            "_model_module_version": "1.5.0",
            "_model_name": "DescriptionStyleModel",
            "_view_count": null,
            "_view_module": "@jupyter-widgets/base",
            "_view_module_version": "1.2.0",
            "_view_name": "StyleView",
            "description_width": ""
          }
        },
        "b202d873d18349869d4b5e5da987b265": {
          "model_module": "@jupyter-widgets/base",
          "model_name": "LayoutModel",
          "model_module_version": "1.2.0",
          "state": {
            "_model_module": "@jupyter-widgets/base",
            "_model_module_version": "1.2.0",
            "_model_name": "LayoutModel",
            "_view_count": null,
            "_view_module": "@jupyter-widgets/base",
            "_view_module_version": "1.2.0",
            "_view_name": "LayoutView",
            "align_content": null,
            "align_items": null,
            "align_self": null,
            "border": null,
            "bottom": null,
            "display": null,
            "flex": null,
            "flex_flow": null,
            "grid_area": null,
            "grid_auto_columns": null,
            "grid_auto_flow": null,
            "grid_auto_rows": null,
            "grid_column": null,
            "grid_gap": null,
            "grid_row": null,
            "grid_template_areas": null,
            "grid_template_columns": null,
            "grid_template_rows": null,
            "height": null,
            "justify_content": null,
            "justify_items": null,
            "left": null,
            "margin": null,
            "max_height": null,
            "max_width": null,
            "min_height": null,
            "min_width": null,
            "object_fit": null,
            "object_position": null,
            "order": null,
            "overflow": null,
            "overflow_x": null,
            "overflow_y": null,
            "padding": null,
            "right": null,
            "top": null,
            "visibility": null,
            "width": null
          }
        },
        "93e4eff3a4694c7097b8a9a33198791c": {
          "model_module": "@jupyter-widgets/controls",
          "model_name": "ProgressStyleModel",
          "model_module_version": "1.5.0",
          "state": {
            "_model_module": "@jupyter-widgets/controls",
            "_model_module_version": "1.5.0",
            "_model_name": "ProgressStyleModel",
            "_view_count": null,
            "_view_module": "@jupyter-widgets/base",
            "_view_module_version": "1.2.0",
            "_view_name": "StyleView",
            "bar_color": null,
            "description_width": ""
          }
        },
        "7a61b0343e904dbb8021f6539cda776c": {
          "model_module": "@jupyter-widgets/base",
          "model_name": "LayoutModel",
          "model_module_version": "1.2.0",
          "state": {
            "_model_module": "@jupyter-widgets/base",
            "_model_module_version": "1.2.0",
            "_model_name": "LayoutModel",
            "_view_count": null,
            "_view_module": "@jupyter-widgets/base",
            "_view_module_version": "1.2.0",
            "_view_name": "LayoutView",
            "align_content": null,
            "align_items": null,
            "align_self": null,
            "border": null,
            "bottom": null,
            "display": null,
            "flex": null,
            "flex_flow": null,
            "grid_area": null,
            "grid_auto_columns": null,
            "grid_auto_flow": null,
            "grid_auto_rows": null,
            "grid_column": null,
            "grid_gap": null,
            "grid_row": null,
            "grid_template_areas": null,
            "grid_template_columns": null,
            "grid_template_rows": null,
            "height": null,
            "justify_content": null,
            "justify_items": null,
            "left": null,
            "margin": null,
            "max_height": null,
            "max_width": null,
            "min_height": null,
            "min_width": null,
            "object_fit": null,
            "object_position": null,
            "order": null,
            "overflow": null,
            "overflow_x": null,
            "overflow_y": null,
            "padding": null,
            "right": null,
            "top": null,
            "visibility": null,
            "width": null
          }
        },
        "db0a5de237854dbbb42950a6baa02015": {
          "model_module": "@jupyter-widgets/controls",
          "model_name": "DescriptionStyleModel",
          "model_module_version": "1.5.0",
          "state": {
            "_model_module": "@jupyter-widgets/controls",
            "_model_module_version": "1.5.0",
            "_model_name": "DescriptionStyleModel",
            "_view_count": null,
            "_view_module": "@jupyter-widgets/base",
            "_view_module_version": "1.2.0",
            "_view_name": "StyleView",
            "description_width": ""
          }
        },
        "d75e378a3097436188256979f6c65b82": {
          "model_module": "@jupyter-widgets/controls",
          "model_name": "HBoxModel",
          "model_module_version": "1.5.0",
          "state": {
            "_dom_classes": [],
            "_model_module": "@jupyter-widgets/controls",
            "_model_module_version": "1.5.0",
            "_model_name": "HBoxModel",
            "_view_count": null,
            "_view_module": "@jupyter-widgets/controls",
            "_view_module_version": "1.5.0",
            "_view_name": "HBoxView",
            "box_style": "",
            "children": [
              "IPY_MODEL_464434c3943b411196fb86ff930434e2",
              "IPY_MODEL_7c751c8948ba4418a776909e1490bd21",
              "IPY_MODEL_c2c81c02a0a34c42b24052f9635e726d"
            ],
            "layout": "IPY_MODEL_8135d500aeab4593bf2cc26912788c9e"
          }
        },
        "464434c3943b411196fb86ff930434e2": {
          "model_module": "@jupyter-widgets/controls",
          "model_name": "HTMLModel",
          "model_module_version": "1.5.0",
          "state": {
            "_dom_classes": [],
            "_model_module": "@jupyter-widgets/controls",
            "_model_module_version": "1.5.0",
            "_model_name": "HTMLModel",
            "_view_count": null,
            "_view_module": "@jupyter-widgets/controls",
            "_view_module_version": "1.5.0",
            "_view_name": "HTMLView",
            "description": "",
            "description_tooltip": null,
            "layout": "IPY_MODEL_255146c45d84453ba64ebb8e7eea2717",
            "placeholder": "​",
            "style": "IPY_MODEL_0f9969ade9274249a623262dbf47145f",
            "value": "100%"
          }
        },
        "7c751c8948ba4418a776909e1490bd21": {
          "model_module": "@jupyter-widgets/controls",
          "model_name": "FloatProgressModel",
          "model_module_version": "1.5.0",
          "state": {
            "_dom_classes": [],
            "_model_module": "@jupyter-widgets/controls",
            "_model_module_version": "1.5.0",
            "_model_name": "FloatProgressModel",
            "_view_count": null,
            "_view_module": "@jupyter-widgets/controls",
            "_view_module_version": "1.5.0",
            "_view_name": "ProgressView",
            "bar_style": "",
            "description": "",
            "description_tooltip": null,
            "layout": "IPY_MODEL_3fb7415c38f54918b0c99a3f1b7397e8",
            "max": 5,
            "min": 0,
            "orientation": "horizontal",
            "style": "IPY_MODEL_df3882d8d4704a2a9b4ea970e3434471",
            "value": 5
          }
        },
        "c2c81c02a0a34c42b24052f9635e726d": {
          "model_module": "@jupyter-widgets/controls",
          "model_name": "HTMLModel",
          "model_module_version": "1.5.0",
          "state": {
            "_dom_classes": [],
            "_model_module": "@jupyter-widgets/controls",
            "_model_module_version": "1.5.0",
            "_model_name": "HTMLModel",
            "_view_count": null,
            "_view_module": "@jupyter-widgets/controls",
            "_view_module_version": "1.5.0",
            "_view_name": "HTMLView",
            "description": "",
            "description_tooltip": null,
            "layout": "IPY_MODEL_2393fea2ea8e4f2cbe6fa15fdb31fc40",
            "placeholder": "​",
            "style": "IPY_MODEL_870f33718c944a889a32856d19e2728d",
            "value": " 5/5 [00:04&lt;00:00,  1.21it/s]"
          }
        },
        "8135d500aeab4593bf2cc26912788c9e": {
          "model_module": "@jupyter-widgets/base",
          "model_name": "LayoutModel",
          "model_module_version": "1.2.0",
          "state": {
            "_model_module": "@jupyter-widgets/base",
            "_model_module_version": "1.2.0",
            "_model_name": "LayoutModel",
            "_view_count": null,
            "_view_module": "@jupyter-widgets/base",
            "_view_module_version": "1.2.0",
            "_view_name": "LayoutView",
            "align_content": null,
            "align_items": null,
            "align_self": null,
            "border": null,
            "bottom": null,
            "display": null,
            "flex": null,
            "flex_flow": null,
            "grid_area": null,
            "grid_auto_columns": null,
            "grid_auto_flow": null,
            "grid_auto_rows": null,
            "grid_column": null,
            "grid_gap": null,
            "grid_row": null,
            "grid_template_areas": null,
            "grid_template_columns": null,
            "grid_template_rows": null,
            "height": null,
            "justify_content": null,
            "justify_items": null,
            "left": null,
            "margin": null,
            "max_height": null,
            "max_width": null,
            "min_height": null,
            "min_width": null,
            "object_fit": null,
            "object_position": null,
            "order": null,
            "overflow": null,
            "overflow_x": null,
            "overflow_y": null,
            "padding": null,
            "right": null,
            "top": null,
            "visibility": "hidden",
            "width": null
          }
        },
        "255146c45d84453ba64ebb8e7eea2717": {
          "model_module": "@jupyter-widgets/base",
          "model_name": "LayoutModel",
          "model_module_version": "1.2.0",
          "state": {
            "_model_module": "@jupyter-widgets/base",
            "_model_module_version": "1.2.0",
            "_model_name": "LayoutModel",
            "_view_count": null,
            "_view_module": "@jupyter-widgets/base",
            "_view_module_version": "1.2.0",
            "_view_name": "LayoutView",
            "align_content": null,
            "align_items": null,
            "align_self": null,
            "border": null,
            "bottom": null,
            "display": null,
            "flex": null,
            "flex_flow": null,
            "grid_area": null,
            "grid_auto_columns": null,
            "grid_auto_flow": null,
            "grid_auto_rows": null,
            "grid_column": null,
            "grid_gap": null,
            "grid_row": null,
            "grid_template_areas": null,
            "grid_template_columns": null,
            "grid_template_rows": null,
            "height": null,
            "justify_content": null,
            "justify_items": null,
            "left": null,
            "margin": null,
            "max_height": null,
            "max_width": null,
            "min_height": null,
            "min_width": null,
            "object_fit": null,
            "object_position": null,
            "order": null,
            "overflow": null,
            "overflow_x": null,
            "overflow_y": null,
            "padding": null,
            "right": null,
            "top": null,
            "visibility": null,
            "width": null
          }
        },
        "0f9969ade9274249a623262dbf47145f": {
          "model_module": "@jupyter-widgets/controls",
          "model_name": "DescriptionStyleModel",
          "model_module_version": "1.5.0",
          "state": {
            "_model_module": "@jupyter-widgets/controls",
            "_model_module_version": "1.5.0",
            "_model_name": "DescriptionStyleModel",
            "_view_count": null,
            "_view_module": "@jupyter-widgets/base",
            "_view_module_version": "1.2.0",
            "_view_name": "StyleView",
            "description_width": ""
          }
        },
        "3fb7415c38f54918b0c99a3f1b7397e8": {
          "model_module": "@jupyter-widgets/base",
          "model_name": "LayoutModel",
          "model_module_version": "1.2.0",
          "state": {
            "_model_module": "@jupyter-widgets/base",
            "_model_module_version": "1.2.0",
            "_model_name": "LayoutModel",
            "_view_count": null,
            "_view_module": "@jupyter-widgets/base",
            "_view_module_version": "1.2.0",
            "_view_name": "LayoutView",
            "align_content": null,
            "align_items": null,
            "align_self": null,
            "border": null,
            "bottom": null,
            "display": null,
            "flex": null,
            "flex_flow": null,
            "grid_area": null,
            "grid_auto_columns": null,
            "grid_auto_flow": null,
            "grid_auto_rows": null,
            "grid_column": null,
            "grid_gap": null,
            "grid_row": null,
            "grid_template_areas": null,
            "grid_template_columns": null,
            "grid_template_rows": null,
            "height": null,
            "justify_content": null,
            "justify_items": null,
            "left": null,
            "margin": null,
            "max_height": null,
            "max_width": null,
            "min_height": null,
            "min_width": null,
            "object_fit": null,
            "object_position": null,
            "order": null,
            "overflow": null,
            "overflow_x": null,
            "overflow_y": null,
            "padding": null,
            "right": null,
            "top": null,
            "visibility": null,
            "width": null
          }
        },
        "df3882d8d4704a2a9b4ea970e3434471": {
          "model_module": "@jupyter-widgets/controls",
          "model_name": "ProgressStyleModel",
          "model_module_version": "1.5.0",
          "state": {
            "_model_module": "@jupyter-widgets/controls",
            "_model_module_version": "1.5.0",
            "_model_name": "ProgressStyleModel",
            "_view_count": null,
            "_view_module": "@jupyter-widgets/base",
            "_view_module_version": "1.2.0",
            "_view_name": "StyleView",
            "bar_color": null,
            "description_width": ""
          }
        },
        "2393fea2ea8e4f2cbe6fa15fdb31fc40": {
          "model_module": "@jupyter-widgets/base",
          "model_name": "LayoutModel",
          "model_module_version": "1.2.0",
          "state": {
            "_model_module": "@jupyter-widgets/base",
            "_model_module_version": "1.2.0",
            "_model_name": "LayoutModel",
            "_view_count": null,
            "_view_module": "@jupyter-widgets/base",
            "_view_module_version": "1.2.0",
            "_view_name": "LayoutView",
            "align_content": null,
            "align_items": null,
            "align_self": null,
            "border": null,
            "bottom": null,
            "display": null,
            "flex": null,
            "flex_flow": null,
            "grid_area": null,
            "grid_auto_columns": null,
            "grid_auto_flow": null,
            "grid_auto_rows": null,
            "grid_column": null,
            "grid_gap": null,
            "grid_row": null,
            "grid_template_areas": null,
            "grid_template_columns": null,
            "grid_template_rows": null,
            "height": null,
            "justify_content": null,
            "justify_items": null,
            "left": null,
            "margin": null,
            "max_height": null,
            "max_width": null,
            "min_height": null,
            "min_width": null,
            "object_fit": null,
            "object_position": null,
            "order": null,
            "overflow": null,
            "overflow_x": null,
            "overflow_y": null,
            "padding": null,
            "right": null,
            "top": null,
            "visibility": null,
            "width": null
          }
        },
        "870f33718c944a889a32856d19e2728d": {
          "model_module": "@jupyter-widgets/controls",
          "model_name": "DescriptionStyleModel",
          "model_module_version": "1.5.0",
          "state": {
            "_model_module": "@jupyter-widgets/controls",
            "_model_module_version": "1.5.0",
            "_model_name": "DescriptionStyleModel",
            "_view_count": null,
            "_view_module": "@jupyter-widgets/base",
            "_view_module_version": "1.2.0",
            "_view_name": "StyleView",
            "description_width": ""
          }
        },
        "ee8b228d81184277bdf0534514f1bd09": {
          "model_module": "@jupyter-widgets/controls",
          "model_name": "HBoxModel",
          "model_module_version": "1.5.0",
          "state": {
            "_dom_classes": [],
            "_model_module": "@jupyter-widgets/controls",
            "_model_module_version": "1.5.0",
            "_model_name": "HBoxModel",
            "_view_count": null,
            "_view_module": "@jupyter-widgets/controls",
            "_view_module_version": "1.5.0",
            "_view_name": "HBoxView",
            "box_style": "",
            "children": [
              "IPY_MODEL_c22f6fa115084484b72d6b5e177420b1",
              "IPY_MODEL_d5e7da264bce4de29b824b00e78f4f65",
              "IPY_MODEL_242bb7df125447f1b8086d44a0e8aa5c"
            ],
            "layout": "IPY_MODEL_f83be1c0cd7547ee89cb722c75c7716e"
          }
        },
        "c22f6fa115084484b72d6b5e177420b1": {
          "model_module": "@jupyter-widgets/controls",
          "model_name": "HTMLModel",
          "model_module_version": "1.5.0",
          "state": {
            "_dom_classes": [],
            "_model_module": "@jupyter-widgets/controls",
            "_model_module_version": "1.5.0",
            "_model_name": "HTMLModel",
            "_view_count": null,
            "_view_module": "@jupyter-widgets/controls",
            "_view_module_version": "1.5.0",
            "_view_name": "HTMLView",
            "description": "",
            "description_tooltip": null,
            "layout": "IPY_MODEL_dd18ca0195f14c8795a0d9c18fa7eb40",
            "placeholder": "​",
            "style": "IPY_MODEL_eac8cc107a0e4c51a857884b2ed4c4f1",
            "value": "100%"
          }
        },
        "d5e7da264bce4de29b824b00e78f4f65": {
          "model_module": "@jupyter-widgets/controls",
          "model_name": "FloatProgressModel",
          "model_module_version": "1.5.0",
          "state": {
            "_dom_classes": [],
            "_model_module": "@jupyter-widgets/controls",
            "_model_module_version": "1.5.0",
            "_model_name": "FloatProgressModel",
            "_view_count": null,
            "_view_module": "@jupyter-widgets/controls",
            "_view_module_version": "1.5.0",
            "_view_name": "ProgressView",
            "bar_style": "",
            "description": "",
            "description_tooltip": null,
            "layout": "IPY_MODEL_7f4fb5bfd092408fb62e59e5f3827fc3",
            "max": 5,
            "min": 0,
            "orientation": "horizontal",
            "style": "IPY_MODEL_5a9c97f889d94f7c96b9e460ca2c592f",
            "value": 5
          }
        },
        "242bb7df125447f1b8086d44a0e8aa5c": {
          "model_module": "@jupyter-widgets/controls",
          "model_name": "HTMLModel",
          "model_module_version": "1.5.0",
          "state": {
            "_dom_classes": [],
            "_model_module": "@jupyter-widgets/controls",
            "_model_module_version": "1.5.0",
            "_model_name": "HTMLModel",
            "_view_count": null,
            "_view_module": "@jupyter-widgets/controls",
            "_view_module_version": "1.5.0",
            "_view_name": "HTMLView",
            "description": "",
            "description_tooltip": null,
            "layout": "IPY_MODEL_849eef485f704346b820b5b715b703e7",
            "placeholder": "​",
            "style": "IPY_MODEL_269d741378234b3683105b529d3d78df",
            "value": " 5/5 [00:04&lt;00:00,  1.12it/s]"
          }
        },
        "f83be1c0cd7547ee89cb722c75c7716e": {
          "model_module": "@jupyter-widgets/base",
          "model_name": "LayoutModel",
          "model_module_version": "1.2.0",
          "state": {
            "_model_module": "@jupyter-widgets/base",
            "_model_module_version": "1.2.0",
            "_model_name": "LayoutModel",
            "_view_count": null,
            "_view_module": "@jupyter-widgets/base",
            "_view_module_version": "1.2.0",
            "_view_name": "LayoutView",
            "align_content": null,
            "align_items": null,
            "align_self": null,
            "border": null,
            "bottom": null,
            "display": null,
            "flex": null,
            "flex_flow": null,
            "grid_area": null,
            "grid_auto_columns": null,
            "grid_auto_flow": null,
            "grid_auto_rows": null,
            "grid_column": null,
            "grid_gap": null,
            "grid_row": null,
            "grid_template_areas": null,
            "grid_template_columns": null,
            "grid_template_rows": null,
            "height": null,
            "justify_content": null,
            "justify_items": null,
            "left": null,
            "margin": null,
            "max_height": null,
            "max_width": null,
            "min_height": null,
            "min_width": null,
            "object_fit": null,
            "object_position": null,
            "order": null,
            "overflow": null,
            "overflow_x": null,
            "overflow_y": null,
            "padding": null,
            "right": null,
            "top": null,
            "visibility": "hidden",
            "width": null
          }
        },
        "dd18ca0195f14c8795a0d9c18fa7eb40": {
          "model_module": "@jupyter-widgets/base",
          "model_name": "LayoutModel",
          "model_module_version": "1.2.0",
          "state": {
            "_model_module": "@jupyter-widgets/base",
            "_model_module_version": "1.2.0",
            "_model_name": "LayoutModel",
            "_view_count": null,
            "_view_module": "@jupyter-widgets/base",
            "_view_module_version": "1.2.0",
            "_view_name": "LayoutView",
            "align_content": null,
            "align_items": null,
            "align_self": null,
            "border": null,
            "bottom": null,
            "display": null,
            "flex": null,
            "flex_flow": null,
            "grid_area": null,
            "grid_auto_columns": null,
            "grid_auto_flow": null,
            "grid_auto_rows": null,
            "grid_column": null,
            "grid_gap": null,
            "grid_row": null,
            "grid_template_areas": null,
            "grid_template_columns": null,
            "grid_template_rows": null,
            "height": null,
            "justify_content": null,
            "justify_items": null,
            "left": null,
            "margin": null,
            "max_height": null,
            "max_width": null,
            "min_height": null,
            "min_width": null,
            "object_fit": null,
            "object_position": null,
            "order": null,
            "overflow": null,
            "overflow_x": null,
            "overflow_y": null,
            "padding": null,
            "right": null,
            "top": null,
            "visibility": null,
            "width": null
          }
        },
        "eac8cc107a0e4c51a857884b2ed4c4f1": {
          "model_module": "@jupyter-widgets/controls",
          "model_name": "DescriptionStyleModel",
          "model_module_version": "1.5.0",
          "state": {
            "_model_module": "@jupyter-widgets/controls",
            "_model_module_version": "1.5.0",
            "_model_name": "DescriptionStyleModel",
            "_view_count": null,
            "_view_module": "@jupyter-widgets/base",
            "_view_module_version": "1.2.0",
            "_view_name": "StyleView",
            "description_width": ""
          }
        },
        "7f4fb5bfd092408fb62e59e5f3827fc3": {
          "model_module": "@jupyter-widgets/base",
          "model_name": "LayoutModel",
          "model_module_version": "1.2.0",
          "state": {
            "_model_module": "@jupyter-widgets/base",
            "_model_module_version": "1.2.0",
            "_model_name": "LayoutModel",
            "_view_count": null,
            "_view_module": "@jupyter-widgets/base",
            "_view_module_version": "1.2.0",
            "_view_name": "LayoutView",
            "align_content": null,
            "align_items": null,
            "align_self": null,
            "border": null,
            "bottom": null,
            "display": null,
            "flex": null,
            "flex_flow": null,
            "grid_area": null,
            "grid_auto_columns": null,
            "grid_auto_flow": null,
            "grid_auto_rows": null,
            "grid_column": null,
            "grid_gap": null,
            "grid_row": null,
            "grid_template_areas": null,
            "grid_template_columns": null,
            "grid_template_rows": null,
            "height": null,
            "justify_content": null,
            "justify_items": null,
            "left": null,
            "margin": null,
            "max_height": null,
            "max_width": null,
            "min_height": null,
            "min_width": null,
            "object_fit": null,
            "object_position": null,
            "order": null,
            "overflow": null,
            "overflow_x": null,
            "overflow_y": null,
            "padding": null,
            "right": null,
            "top": null,
            "visibility": null,
            "width": null
          }
        },
        "5a9c97f889d94f7c96b9e460ca2c592f": {
          "model_module": "@jupyter-widgets/controls",
          "model_name": "ProgressStyleModel",
          "model_module_version": "1.5.0",
          "state": {
            "_model_module": "@jupyter-widgets/controls",
            "_model_module_version": "1.5.0",
            "_model_name": "ProgressStyleModel",
            "_view_count": null,
            "_view_module": "@jupyter-widgets/base",
            "_view_module_version": "1.2.0",
            "_view_name": "StyleView",
            "bar_color": null,
            "description_width": ""
          }
        },
        "849eef485f704346b820b5b715b703e7": {
          "model_module": "@jupyter-widgets/base",
          "model_name": "LayoutModel",
          "model_module_version": "1.2.0",
          "state": {
            "_model_module": "@jupyter-widgets/base",
            "_model_module_version": "1.2.0",
            "_model_name": "LayoutModel",
            "_view_count": null,
            "_view_module": "@jupyter-widgets/base",
            "_view_module_version": "1.2.0",
            "_view_name": "LayoutView",
            "align_content": null,
            "align_items": null,
            "align_self": null,
            "border": null,
            "bottom": null,
            "display": null,
            "flex": null,
            "flex_flow": null,
            "grid_area": null,
            "grid_auto_columns": null,
            "grid_auto_flow": null,
            "grid_auto_rows": null,
            "grid_column": null,
            "grid_gap": null,
            "grid_row": null,
            "grid_template_areas": null,
            "grid_template_columns": null,
            "grid_template_rows": null,
            "height": null,
            "justify_content": null,
            "justify_items": null,
            "left": null,
            "margin": null,
            "max_height": null,
            "max_width": null,
            "min_height": null,
            "min_width": null,
            "object_fit": null,
            "object_position": null,
            "order": null,
            "overflow": null,
            "overflow_x": null,
            "overflow_y": null,
            "padding": null,
            "right": null,
            "top": null,
            "visibility": null,
            "width": null
          }
        },
        "269d741378234b3683105b529d3d78df": {
          "model_module": "@jupyter-widgets/controls",
          "model_name": "DescriptionStyleModel",
          "model_module_version": "1.5.0",
          "state": {
            "_model_module": "@jupyter-widgets/controls",
            "_model_module_version": "1.5.0",
            "_model_name": "DescriptionStyleModel",
            "_view_count": null,
            "_view_module": "@jupyter-widgets/base",
            "_view_module_version": "1.2.0",
            "_view_name": "StyleView",
            "description_width": ""
          }
        },
        "186b5b25fd4043d9ad1a0c2168e4451d": {
          "model_module": "@jupyter-widgets/controls",
          "model_name": "HBoxModel",
          "model_module_version": "1.5.0",
          "state": {
            "_dom_classes": [],
            "_model_module": "@jupyter-widgets/controls",
            "_model_module_version": "1.5.0",
            "_model_name": "HBoxModel",
            "_view_count": null,
            "_view_module": "@jupyter-widgets/controls",
            "_view_module_version": "1.5.0",
            "_view_name": "HBoxView",
            "box_style": "",
            "children": [
              "IPY_MODEL_c083a46db45e4fd68a6da8ae9dc46dba",
              "IPY_MODEL_d82a4561851f4150beec165653d5ac54",
              "IPY_MODEL_165e408a2efc4da5819138d6d24a72a3"
            ],
            "layout": "IPY_MODEL_7d82b7358f6c4c3589f7570388fb71f9"
          }
        },
        "c083a46db45e4fd68a6da8ae9dc46dba": {
          "model_module": "@jupyter-widgets/controls",
          "model_name": "HTMLModel",
          "model_module_version": "1.5.0",
          "state": {
            "_dom_classes": [],
            "_model_module": "@jupyter-widgets/controls",
            "_model_module_version": "1.5.0",
            "_model_name": "HTMLModel",
            "_view_count": null,
            "_view_module": "@jupyter-widgets/controls",
            "_view_module_version": "1.5.0",
            "_view_name": "HTMLView",
            "description": "",
            "description_tooltip": null,
            "layout": "IPY_MODEL_b52d6730b08749d7b7bdc00f9e6579df",
            "placeholder": "​",
            "style": "IPY_MODEL_e15e0baff30d47a8920a6644e4a56034",
            "value": "100%"
          }
        },
        "d82a4561851f4150beec165653d5ac54": {
          "model_module": "@jupyter-widgets/controls",
          "model_name": "FloatProgressModel",
          "model_module_version": "1.5.0",
          "state": {
            "_dom_classes": [],
            "_model_module": "@jupyter-widgets/controls",
            "_model_module_version": "1.5.0",
            "_model_name": "FloatProgressModel",
            "_view_count": null,
            "_view_module": "@jupyter-widgets/controls",
            "_view_module_version": "1.5.0",
            "_view_name": "ProgressView",
            "bar_style": "",
            "description": "",
            "description_tooltip": null,
            "layout": "IPY_MODEL_80926dade23e486f8a158b578f937f61",
            "max": 5,
            "min": 0,
            "orientation": "horizontal",
            "style": "IPY_MODEL_22d0fcc3587442f49ee251d93d41e07c",
            "value": 5
          }
        },
        "165e408a2efc4da5819138d6d24a72a3": {
          "model_module": "@jupyter-widgets/controls",
          "model_name": "HTMLModel",
          "model_module_version": "1.5.0",
          "state": {
            "_dom_classes": [],
            "_model_module": "@jupyter-widgets/controls",
            "_model_module_version": "1.5.0",
            "_model_name": "HTMLModel",
            "_view_count": null,
            "_view_module": "@jupyter-widgets/controls",
            "_view_module_version": "1.5.0",
            "_view_name": "HTMLView",
            "description": "",
            "description_tooltip": null,
            "layout": "IPY_MODEL_1e26a9c32f0842da924e116b1c3f15fd",
            "placeholder": "​",
            "style": "IPY_MODEL_a7dbe44afb03446a9f3001b0de178e0c",
            "value": " 5/5 [00:04&lt;00:00,  1.23it/s]"
          }
        },
        "7d82b7358f6c4c3589f7570388fb71f9": {
          "model_module": "@jupyter-widgets/base",
          "model_name": "LayoutModel",
          "model_module_version": "1.2.0",
          "state": {
            "_model_module": "@jupyter-widgets/base",
            "_model_module_version": "1.2.0",
            "_model_name": "LayoutModel",
            "_view_count": null,
            "_view_module": "@jupyter-widgets/base",
            "_view_module_version": "1.2.0",
            "_view_name": "LayoutView",
            "align_content": null,
            "align_items": null,
            "align_self": null,
            "border": null,
            "bottom": null,
            "display": null,
            "flex": null,
            "flex_flow": null,
            "grid_area": null,
            "grid_auto_columns": null,
            "grid_auto_flow": null,
            "grid_auto_rows": null,
            "grid_column": null,
            "grid_gap": null,
            "grid_row": null,
            "grid_template_areas": null,
            "grid_template_columns": null,
            "grid_template_rows": null,
            "height": null,
            "justify_content": null,
            "justify_items": null,
            "left": null,
            "margin": null,
            "max_height": null,
            "max_width": null,
            "min_height": null,
            "min_width": null,
            "object_fit": null,
            "object_position": null,
            "order": null,
            "overflow": null,
            "overflow_x": null,
            "overflow_y": null,
            "padding": null,
            "right": null,
            "top": null,
            "visibility": "hidden",
            "width": null
          }
        },
        "b52d6730b08749d7b7bdc00f9e6579df": {
          "model_module": "@jupyter-widgets/base",
          "model_name": "LayoutModel",
          "model_module_version": "1.2.0",
          "state": {
            "_model_module": "@jupyter-widgets/base",
            "_model_module_version": "1.2.0",
            "_model_name": "LayoutModel",
            "_view_count": null,
            "_view_module": "@jupyter-widgets/base",
            "_view_module_version": "1.2.0",
            "_view_name": "LayoutView",
            "align_content": null,
            "align_items": null,
            "align_self": null,
            "border": null,
            "bottom": null,
            "display": null,
            "flex": null,
            "flex_flow": null,
            "grid_area": null,
            "grid_auto_columns": null,
            "grid_auto_flow": null,
            "grid_auto_rows": null,
            "grid_column": null,
            "grid_gap": null,
            "grid_row": null,
            "grid_template_areas": null,
            "grid_template_columns": null,
            "grid_template_rows": null,
            "height": null,
            "justify_content": null,
            "justify_items": null,
            "left": null,
            "margin": null,
            "max_height": null,
            "max_width": null,
            "min_height": null,
            "min_width": null,
            "object_fit": null,
            "object_position": null,
            "order": null,
            "overflow": null,
            "overflow_x": null,
            "overflow_y": null,
            "padding": null,
            "right": null,
            "top": null,
            "visibility": null,
            "width": null
          }
        },
        "e15e0baff30d47a8920a6644e4a56034": {
          "model_module": "@jupyter-widgets/controls",
          "model_name": "DescriptionStyleModel",
          "model_module_version": "1.5.0",
          "state": {
            "_model_module": "@jupyter-widgets/controls",
            "_model_module_version": "1.5.0",
            "_model_name": "DescriptionStyleModel",
            "_view_count": null,
            "_view_module": "@jupyter-widgets/base",
            "_view_module_version": "1.2.0",
            "_view_name": "StyleView",
            "description_width": ""
          }
        },
        "80926dade23e486f8a158b578f937f61": {
          "model_module": "@jupyter-widgets/base",
          "model_name": "LayoutModel",
          "model_module_version": "1.2.0",
          "state": {
            "_model_module": "@jupyter-widgets/base",
            "_model_module_version": "1.2.0",
            "_model_name": "LayoutModel",
            "_view_count": null,
            "_view_module": "@jupyter-widgets/base",
            "_view_module_version": "1.2.0",
            "_view_name": "LayoutView",
            "align_content": null,
            "align_items": null,
            "align_self": null,
            "border": null,
            "bottom": null,
            "display": null,
            "flex": null,
            "flex_flow": null,
            "grid_area": null,
            "grid_auto_columns": null,
            "grid_auto_flow": null,
            "grid_auto_rows": null,
            "grid_column": null,
            "grid_gap": null,
            "grid_row": null,
            "grid_template_areas": null,
            "grid_template_columns": null,
            "grid_template_rows": null,
            "height": null,
            "justify_content": null,
            "justify_items": null,
            "left": null,
            "margin": null,
            "max_height": null,
            "max_width": null,
            "min_height": null,
            "min_width": null,
            "object_fit": null,
            "object_position": null,
            "order": null,
            "overflow": null,
            "overflow_x": null,
            "overflow_y": null,
            "padding": null,
            "right": null,
            "top": null,
            "visibility": null,
            "width": null
          }
        },
        "22d0fcc3587442f49ee251d93d41e07c": {
          "model_module": "@jupyter-widgets/controls",
          "model_name": "ProgressStyleModel",
          "model_module_version": "1.5.0",
          "state": {
            "_model_module": "@jupyter-widgets/controls",
            "_model_module_version": "1.5.0",
            "_model_name": "ProgressStyleModel",
            "_view_count": null,
            "_view_module": "@jupyter-widgets/base",
            "_view_module_version": "1.2.0",
            "_view_name": "StyleView",
            "bar_color": null,
            "description_width": ""
          }
        },
        "1e26a9c32f0842da924e116b1c3f15fd": {
          "model_module": "@jupyter-widgets/base",
          "model_name": "LayoutModel",
          "model_module_version": "1.2.0",
          "state": {
            "_model_module": "@jupyter-widgets/base",
            "_model_module_version": "1.2.0",
            "_model_name": "LayoutModel",
            "_view_count": null,
            "_view_module": "@jupyter-widgets/base",
            "_view_module_version": "1.2.0",
            "_view_name": "LayoutView",
            "align_content": null,
            "align_items": null,
            "align_self": null,
            "border": null,
            "bottom": null,
            "display": null,
            "flex": null,
            "flex_flow": null,
            "grid_area": null,
            "grid_auto_columns": null,
            "grid_auto_flow": null,
            "grid_auto_rows": null,
            "grid_column": null,
            "grid_gap": null,
            "grid_row": null,
            "grid_template_areas": null,
            "grid_template_columns": null,
            "grid_template_rows": null,
            "height": null,
            "justify_content": null,
            "justify_items": null,
            "left": null,
            "margin": null,
            "max_height": null,
            "max_width": null,
            "min_height": null,
            "min_width": null,
            "object_fit": null,
            "object_position": null,
            "order": null,
            "overflow": null,
            "overflow_x": null,
            "overflow_y": null,
            "padding": null,
            "right": null,
            "top": null,
            "visibility": null,
            "width": null
          }
        },
        "a7dbe44afb03446a9f3001b0de178e0c": {
          "model_module": "@jupyter-widgets/controls",
          "model_name": "DescriptionStyleModel",
          "model_module_version": "1.5.0",
          "state": {
            "_model_module": "@jupyter-widgets/controls",
            "_model_module_version": "1.5.0",
            "_model_name": "DescriptionStyleModel",
            "_view_count": null,
            "_view_module": "@jupyter-widgets/base",
            "_view_module_version": "1.2.0",
            "_view_name": "StyleView",
            "description_width": ""
          }
        },
        "23ccb62e740d46ca81050b05d5a23329": {
          "model_module": "@jupyter-widgets/controls",
          "model_name": "HBoxModel",
          "model_module_version": "1.5.0",
          "state": {
            "_dom_classes": [],
            "_model_module": "@jupyter-widgets/controls",
            "_model_module_version": "1.5.0",
            "_model_name": "HBoxModel",
            "_view_count": null,
            "_view_module": "@jupyter-widgets/controls",
            "_view_module_version": "1.5.0",
            "_view_name": "HBoxView",
            "box_style": "",
            "children": [
              "IPY_MODEL_2e271724d8c846858e43a2f63dfb203c",
              "IPY_MODEL_126f7d5003e84bd09fd72a88e7acbcca",
              "IPY_MODEL_25274ec0a43b40e396edc5bd8bd6348f"
            ],
            "layout": "IPY_MODEL_0c9b24244fb14da083b3e594707f1679"
          }
        },
        "2e271724d8c846858e43a2f63dfb203c": {
          "model_module": "@jupyter-widgets/controls",
          "model_name": "HTMLModel",
          "model_module_version": "1.5.0",
          "state": {
            "_dom_classes": [],
            "_model_module": "@jupyter-widgets/controls",
            "_model_module_version": "1.5.0",
            "_model_name": "HTMLModel",
            "_view_count": null,
            "_view_module": "@jupyter-widgets/controls",
            "_view_module_version": "1.5.0",
            "_view_name": "HTMLView",
            "description": "",
            "description_tooltip": null,
            "layout": "IPY_MODEL_c70712bec20a43af82afdce80a5cd208",
            "placeholder": "​",
            "style": "IPY_MODEL_ec453578ad784ade8bfee99daf50e240",
            "value": "100%"
          }
        },
        "126f7d5003e84bd09fd72a88e7acbcca": {
          "model_module": "@jupyter-widgets/controls",
          "model_name": "FloatProgressModel",
          "model_module_version": "1.5.0",
          "state": {
            "_dom_classes": [],
            "_model_module": "@jupyter-widgets/controls",
            "_model_module_version": "1.5.0",
            "_model_name": "FloatProgressModel",
            "_view_count": null,
            "_view_module": "@jupyter-widgets/controls",
            "_view_module_version": "1.5.0",
            "_view_name": "ProgressView",
            "bar_style": "",
            "description": "",
            "description_tooltip": null,
            "layout": "IPY_MODEL_50b89f6921d8471c9f1d833b9e4fb5eb",
            "max": 5,
            "min": 0,
            "orientation": "horizontal",
            "style": "IPY_MODEL_dbf26c5e1cde4d8983efacf74ae82483",
            "value": 5
          }
        },
        "25274ec0a43b40e396edc5bd8bd6348f": {
          "model_module": "@jupyter-widgets/controls",
          "model_name": "HTMLModel",
          "model_module_version": "1.5.0",
          "state": {
            "_dom_classes": [],
            "_model_module": "@jupyter-widgets/controls",
            "_model_module_version": "1.5.0",
            "_model_name": "HTMLModel",
            "_view_count": null,
            "_view_module": "@jupyter-widgets/controls",
            "_view_module_version": "1.5.0",
            "_view_name": "HTMLView",
            "description": "",
            "description_tooltip": null,
            "layout": "IPY_MODEL_888c682e4ddb4058ae8e7644118d1094",
            "placeholder": "​",
            "style": "IPY_MODEL_41082923b8ac4254b28a7e02313fea9c",
            "value": " 5/5 [00:05&lt;00:00,  1.04s/it]"
          }
        },
        "0c9b24244fb14da083b3e594707f1679": {
          "model_module": "@jupyter-widgets/base",
          "model_name": "LayoutModel",
          "model_module_version": "1.2.0",
          "state": {
            "_model_module": "@jupyter-widgets/base",
            "_model_module_version": "1.2.0",
            "_model_name": "LayoutModel",
            "_view_count": null,
            "_view_module": "@jupyter-widgets/base",
            "_view_module_version": "1.2.0",
            "_view_name": "LayoutView",
            "align_content": null,
            "align_items": null,
            "align_self": null,
            "border": null,
            "bottom": null,
            "display": null,
            "flex": null,
            "flex_flow": null,
            "grid_area": null,
            "grid_auto_columns": null,
            "grid_auto_flow": null,
            "grid_auto_rows": null,
            "grid_column": null,
            "grid_gap": null,
            "grid_row": null,
            "grid_template_areas": null,
            "grid_template_columns": null,
            "grid_template_rows": null,
            "height": null,
            "justify_content": null,
            "justify_items": null,
            "left": null,
            "margin": null,
            "max_height": null,
            "max_width": null,
            "min_height": null,
            "min_width": null,
            "object_fit": null,
            "object_position": null,
            "order": null,
            "overflow": null,
            "overflow_x": null,
            "overflow_y": null,
            "padding": null,
            "right": null,
            "top": null,
            "visibility": "hidden",
            "width": null
          }
        },
        "c70712bec20a43af82afdce80a5cd208": {
          "model_module": "@jupyter-widgets/base",
          "model_name": "LayoutModel",
          "model_module_version": "1.2.0",
          "state": {
            "_model_module": "@jupyter-widgets/base",
            "_model_module_version": "1.2.0",
            "_model_name": "LayoutModel",
            "_view_count": null,
            "_view_module": "@jupyter-widgets/base",
            "_view_module_version": "1.2.0",
            "_view_name": "LayoutView",
            "align_content": null,
            "align_items": null,
            "align_self": null,
            "border": null,
            "bottom": null,
            "display": null,
            "flex": null,
            "flex_flow": null,
            "grid_area": null,
            "grid_auto_columns": null,
            "grid_auto_flow": null,
            "grid_auto_rows": null,
            "grid_column": null,
            "grid_gap": null,
            "grid_row": null,
            "grid_template_areas": null,
            "grid_template_columns": null,
            "grid_template_rows": null,
            "height": null,
            "justify_content": null,
            "justify_items": null,
            "left": null,
            "margin": null,
            "max_height": null,
            "max_width": null,
            "min_height": null,
            "min_width": null,
            "object_fit": null,
            "object_position": null,
            "order": null,
            "overflow": null,
            "overflow_x": null,
            "overflow_y": null,
            "padding": null,
            "right": null,
            "top": null,
            "visibility": null,
            "width": null
          }
        },
        "ec453578ad784ade8bfee99daf50e240": {
          "model_module": "@jupyter-widgets/controls",
          "model_name": "DescriptionStyleModel",
          "model_module_version": "1.5.0",
          "state": {
            "_model_module": "@jupyter-widgets/controls",
            "_model_module_version": "1.5.0",
            "_model_name": "DescriptionStyleModel",
            "_view_count": null,
            "_view_module": "@jupyter-widgets/base",
            "_view_module_version": "1.2.0",
            "_view_name": "StyleView",
            "description_width": ""
          }
        },
        "50b89f6921d8471c9f1d833b9e4fb5eb": {
          "model_module": "@jupyter-widgets/base",
          "model_name": "LayoutModel",
          "model_module_version": "1.2.0",
          "state": {
            "_model_module": "@jupyter-widgets/base",
            "_model_module_version": "1.2.0",
            "_model_name": "LayoutModel",
            "_view_count": null,
            "_view_module": "@jupyter-widgets/base",
            "_view_module_version": "1.2.0",
            "_view_name": "LayoutView",
            "align_content": null,
            "align_items": null,
            "align_self": null,
            "border": null,
            "bottom": null,
            "display": null,
            "flex": null,
            "flex_flow": null,
            "grid_area": null,
            "grid_auto_columns": null,
            "grid_auto_flow": null,
            "grid_auto_rows": null,
            "grid_column": null,
            "grid_gap": null,
            "grid_row": null,
            "grid_template_areas": null,
            "grid_template_columns": null,
            "grid_template_rows": null,
            "height": null,
            "justify_content": null,
            "justify_items": null,
            "left": null,
            "margin": null,
            "max_height": null,
            "max_width": null,
            "min_height": null,
            "min_width": null,
            "object_fit": null,
            "object_position": null,
            "order": null,
            "overflow": null,
            "overflow_x": null,
            "overflow_y": null,
            "padding": null,
            "right": null,
            "top": null,
            "visibility": null,
            "width": null
          }
        },
        "dbf26c5e1cde4d8983efacf74ae82483": {
          "model_module": "@jupyter-widgets/controls",
          "model_name": "ProgressStyleModel",
          "model_module_version": "1.5.0",
          "state": {
            "_model_module": "@jupyter-widgets/controls",
            "_model_module_version": "1.5.0",
            "_model_name": "ProgressStyleModel",
            "_view_count": null,
            "_view_module": "@jupyter-widgets/base",
            "_view_module_version": "1.2.0",
            "_view_name": "StyleView",
            "bar_color": null,
            "description_width": ""
          }
        },
        "888c682e4ddb4058ae8e7644118d1094": {
          "model_module": "@jupyter-widgets/base",
          "model_name": "LayoutModel",
          "model_module_version": "1.2.0",
          "state": {
            "_model_module": "@jupyter-widgets/base",
            "_model_module_version": "1.2.0",
            "_model_name": "LayoutModel",
            "_view_count": null,
            "_view_module": "@jupyter-widgets/base",
            "_view_module_version": "1.2.0",
            "_view_name": "LayoutView",
            "align_content": null,
            "align_items": null,
            "align_self": null,
            "border": null,
            "bottom": null,
            "display": null,
            "flex": null,
            "flex_flow": null,
            "grid_area": null,
            "grid_auto_columns": null,
            "grid_auto_flow": null,
            "grid_auto_rows": null,
            "grid_column": null,
            "grid_gap": null,
            "grid_row": null,
            "grid_template_areas": null,
            "grid_template_columns": null,
            "grid_template_rows": null,
            "height": null,
            "justify_content": null,
            "justify_items": null,
            "left": null,
            "margin": null,
            "max_height": null,
            "max_width": null,
            "min_height": null,
            "min_width": null,
            "object_fit": null,
            "object_position": null,
            "order": null,
            "overflow": null,
            "overflow_x": null,
            "overflow_y": null,
            "padding": null,
            "right": null,
            "top": null,
            "visibility": null,
            "width": null
          }
        },
        "41082923b8ac4254b28a7e02313fea9c": {
          "model_module": "@jupyter-widgets/controls",
          "model_name": "DescriptionStyleModel",
          "model_module_version": "1.5.0",
          "state": {
            "_model_module": "@jupyter-widgets/controls",
            "_model_module_version": "1.5.0",
            "_model_name": "DescriptionStyleModel",
            "_view_count": null,
            "_view_module": "@jupyter-widgets/base",
            "_view_module_version": "1.2.0",
            "_view_name": "StyleView",
            "description_width": ""
          }
        },
        "48383b8205214ce693f0ab28343f928c": {
          "model_module": "@jupyter-widgets/controls",
          "model_name": "HBoxModel",
          "model_module_version": "1.5.0",
          "state": {
            "_dom_classes": [],
            "_model_module": "@jupyter-widgets/controls",
            "_model_module_version": "1.5.0",
            "_model_name": "HBoxModel",
            "_view_count": null,
            "_view_module": "@jupyter-widgets/controls",
            "_view_module_version": "1.5.0",
            "_view_name": "HBoxView",
            "box_style": "",
            "children": [
              "IPY_MODEL_93d0e442534144a3ae7e1a8d8e844a49",
              "IPY_MODEL_bedc095314154e0ba38038ba5754fa12",
              "IPY_MODEL_b05316ef8d9845d1a385d3d9d4fd08b1"
            ],
            "layout": "IPY_MODEL_6cb6e8249a39496086029bb816d6edd9"
          }
        },
        "93d0e442534144a3ae7e1a8d8e844a49": {
          "model_module": "@jupyter-widgets/controls",
          "model_name": "HTMLModel",
          "model_module_version": "1.5.0",
          "state": {
            "_dom_classes": [],
            "_model_module": "@jupyter-widgets/controls",
            "_model_module_version": "1.5.0",
            "_model_name": "HTMLModel",
            "_view_count": null,
            "_view_module": "@jupyter-widgets/controls",
            "_view_module_version": "1.5.0",
            "_view_name": "HTMLView",
            "description": "",
            "description_tooltip": null,
            "layout": "IPY_MODEL_68fed1842c2344e385b433dd11849aea",
            "placeholder": "​",
            "style": "IPY_MODEL_4dfb7e64405a4c4dae028b3b451e7304",
            "value": "100%"
          }
        },
        "bedc095314154e0ba38038ba5754fa12": {
          "model_module": "@jupyter-widgets/controls",
          "model_name": "FloatProgressModel",
          "model_module_version": "1.5.0",
          "state": {
            "_dom_classes": [],
            "_model_module": "@jupyter-widgets/controls",
            "_model_module_version": "1.5.0",
            "_model_name": "FloatProgressModel",
            "_view_count": null,
            "_view_module": "@jupyter-widgets/controls",
            "_view_module_version": "1.5.0",
            "_view_name": "ProgressView",
            "bar_style": "",
            "description": "",
            "description_tooltip": null,
            "layout": "IPY_MODEL_a9e6ab26dac34196a2ad21ffbdb0d2c0",
            "max": 5,
            "min": 0,
            "orientation": "horizontal",
            "style": "IPY_MODEL_e3947ad3422347bfbe1f32a37afef4ce",
            "value": 5
          }
        },
        "b05316ef8d9845d1a385d3d9d4fd08b1": {
          "model_module": "@jupyter-widgets/controls",
          "model_name": "HTMLModel",
          "model_module_version": "1.5.0",
          "state": {
            "_dom_classes": [],
            "_model_module": "@jupyter-widgets/controls",
            "_model_module_version": "1.5.0",
            "_model_name": "HTMLModel",
            "_view_count": null,
            "_view_module": "@jupyter-widgets/controls",
            "_view_module_version": "1.5.0",
            "_view_name": "HTMLView",
            "description": "",
            "description_tooltip": null,
            "layout": "IPY_MODEL_828e0675033845f5a131f08bacbd0c2e",
            "placeholder": "​",
            "style": "IPY_MODEL_ea74d36733564c3a84df77174a29e76b",
            "value": " 5/5 [00:04&lt;00:00,  1.16it/s]"
          }
        },
        "6cb6e8249a39496086029bb816d6edd9": {
          "model_module": "@jupyter-widgets/base",
          "model_name": "LayoutModel",
          "model_module_version": "1.2.0",
          "state": {
            "_model_module": "@jupyter-widgets/base",
            "_model_module_version": "1.2.0",
            "_model_name": "LayoutModel",
            "_view_count": null,
            "_view_module": "@jupyter-widgets/base",
            "_view_module_version": "1.2.0",
            "_view_name": "LayoutView",
            "align_content": null,
            "align_items": null,
            "align_self": null,
            "border": null,
            "bottom": null,
            "display": null,
            "flex": null,
            "flex_flow": null,
            "grid_area": null,
            "grid_auto_columns": null,
            "grid_auto_flow": null,
            "grid_auto_rows": null,
            "grid_column": null,
            "grid_gap": null,
            "grid_row": null,
            "grid_template_areas": null,
            "grid_template_columns": null,
            "grid_template_rows": null,
            "height": null,
            "justify_content": null,
            "justify_items": null,
            "left": null,
            "margin": null,
            "max_height": null,
            "max_width": null,
            "min_height": null,
            "min_width": null,
            "object_fit": null,
            "object_position": null,
            "order": null,
            "overflow": null,
            "overflow_x": null,
            "overflow_y": null,
            "padding": null,
            "right": null,
            "top": null,
            "visibility": "hidden",
            "width": null
          }
        },
        "68fed1842c2344e385b433dd11849aea": {
          "model_module": "@jupyter-widgets/base",
          "model_name": "LayoutModel",
          "model_module_version": "1.2.0",
          "state": {
            "_model_module": "@jupyter-widgets/base",
            "_model_module_version": "1.2.0",
            "_model_name": "LayoutModel",
            "_view_count": null,
            "_view_module": "@jupyter-widgets/base",
            "_view_module_version": "1.2.0",
            "_view_name": "LayoutView",
            "align_content": null,
            "align_items": null,
            "align_self": null,
            "border": null,
            "bottom": null,
            "display": null,
            "flex": null,
            "flex_flow": null,
            "grid_area": null,
            "grid_auto_columns": null,
            "grid_auto_flow": null,
            "grid_auto_rows": null,
            "grid_column": null,
            "grid_gap": null,
            "grid_row": null,
            "grid_template_areas": null,
            "grid_template_columns": null,
            "grid_template_rows": null,
            "height": null,
            "justify_content": null,
            "justify_items": null,
            "left": null,
            "margin": null,
            "max_height": null,
            "max_width": null,
            "min_height": null,
            "min_width": null,
            "object_fit": null,
            "object_position": null,
            "order": null,
            "overflow": null,
            "overflow_x": null,
            "overflow_y": null,
            "padding": null,
            "right": null,
            "top": null,
            "visibility": null,
            "width": null
          }
        },
        "4dfb7e64405a4c4dae028b3b451e7304": {
          "model_module": "@jupyter-widgets/controls",
          "model_name": "DescriptionStyleModel",
          "model_module_version": "1.5.0",
          "state": {
            "_model_module": "@jupyter-widgets/controls",
            "_model_module_version": "1.5.0",
            "_model_name": "DescriptionStyleModel",
            "_view_count": null,
            "_view_module": "@jupyter-widgets/base",
            "_view_module_version": "1.2.0",
            "_view_name": "StyleView",
            "description_width": ""
          }
        },
        "a9e6ab26dac34196a2ad21ffbdb0d2c0": {
          "model_module": "@jupyter-widgets/base",
          "model_name": "LayoutModel",
          "model_module_version": "1.2.0",
          "state": {
            "_model_module": "@jupyter-widgets/base",
            "_model_module_version": "1.2.0",
            "_model_name": "LayoutModel",
            "_view_count": null,
            "_view_module": "@jupyter-widgets/base",
            "_view_module_version": "1.2.0",
            "_view_name": "LayoutView",
            "align_content": null,
            "align_items": null,
            "align_self": null,
            "border": null,
            "bottom": null,
            "display": null,
            "flex": null,
            "flex_flow": null,
            "grid_area": null,
            "grid_auto_columns": null,
            "grid_auto_flow": null,
            "grid_auto_rows": null,
            "grid_column": null,
            "grid_gap": null,
            "grid_row": null,
            "grid_template_areas": null,
            "grid_template_columns": null,
            "grid_template_rows": null,
            "height": null,
            "justify_content": null,
            "justify_items": null,
            "left": null,
            "margin": null,
            "max_height": null,
            "max_width": null,
            "min_height": null,
            "min_width": null,
            "object_fit": null,
            "object_position": null,
            "order": null,
            "overflow": null,
            "overflow_x": null,
            "overflow_y": null,
            "padding": null,
            "right": null,
            "top": null,
            "visibility": null,
            "width": null
          }
        },
        "e3947ad3422347bfbe1f32a37afef4ce": {
          "model_module": "@jupyter-widgets/controls",
          "model_name": "ProgressStyleModel",
          "model_module_version": "1.5.0",
          "state": {
            "_model_module": "@jupyter-widgets/controls",
            "_model_module_version": "1.5.0",
            "_model_name": "ProgressStyleModel",
            "_view_count": null,
            "_view_module": "@jupyter-widgets/base",
            "_view_module_version": "1.2.0",
            "_view_name": "StyleView",
            "bar_color": null,
            "description_width": ""
          }
        },
        "828e0675033845f5a131f08bacbd0c2e": {
          "model_module": "@jupyter-widgets/base",
          "model_name": "LayoutModel",
          "model_module_version": "1.2.0",
          "state": {
            "_model_module": "@jupyter-widgets/base",
            "_model_module_version": "1.2.0",
            "_model_name": "LayoutModel",
            "_view_count": null,
            "_view_module": "@jupyter-widgets/base",
            "_view_module_version": "1.2.0",
            "_view_name": "LayoutView",
            "align_content": null,
            "align_items": null,
            "align_self": null,
            "border": null,
            "bottom": null,
            "display": null,
            "flex": null,
            "flex_flow": null,
            "grid_area": null,
            "grid_auto_columns": null,
            "grid_auto_flow": null,
            "grid_auto_rows": null,
            "grid_column": null,
            "grid_gap": null,
            "grid_row": null,
            "grid_template_areas": null,
            "grid_template_columns": null,
            "grid_template_rows": null,
            "height": null,
            "justify_content": null,
            "justify_items": null,
            "left": null,
            "margin": null,
            "max_height": null,
            "max_width": null,
            "min_height": null,
            "min_width": null,
            "object_fit": null,
            "object_position": null,
            "order": null,
            "overflow": null,
            "overflow_x": null,
            "overflow_y": null,
            "padding": null,
            "right": null,
            "top": null,
            "visibility": null,
            "width": null
          }
        },
        "ea74d36733564c3a84df77174a29e76b": {
          "model_module": "@jupyter-widgets/controls",
          "model_name": "DescriptionStyleModel",
          "model_module_version": "1.5.0",
          "state": {
            "_model_module": "@jupyter-widgets/controls",
            "_model_module_version": "1.5.0",
            "_model_name": "DescriptionStyleModel",
            "_view_count": null,
            "_view_module": "@jupyter-widgets/base",
            "_view_module_version": "1.2.0",
            "_view_name": "StyleView",
            "description_width": ""
          }
        }
      }
    }
  },
  "cells": [
    {
      "cell_type": "markdown",
      "metadata": {
        "id": "view-in-github",
        "colab_type": "text"
      },
      "source": [
        "<a href=\"https://colab.research.google.com/github/Sandwhaletree/2023.05_Tibame/blob/main/A12_%E9%80%B2%E9%9A%8E%E6%B7%B1%E5%BA%A6%E5%AD%B8%E7%BF%92_%E6%9D%8E%E6%99%BA%E6%8F%9A/003_1_02_PyTorch_CNN_Pneumonia_Tips_0713.ipynb\" target=\"_parent\"><img src=\"https://colab.research.google.com/assets/colab-badge.svg\" alt=\"Open In Colab\"/></a>"
      ]
    },
    {
      "cell_type": "code",
      "metadata": {
        "id": "Svdyzcv-sxWS"
      },
      "source": [
        "import cv2\n",
        "import matplotlib.pyplot as plt\n",
        "import numpy as np\n",
        "import os # path\n",
        "from glob import glob # search file\n",
        "from tqdm.auto import tqdm\n",
        "from sklearn.model_selection import train_test_split\n",
        "\n",
        "# PyTorch\n",
        "import torch\n",
        "from torch import nn\n",
        "import torchvision\n",
        "from torchsummary import summary # model summary"
      ],
      "execution_count": null,
      "outputs": []
    },
    {
      "cell_type": "code",
      "metadata": {
        "id": "yxqn5uBwtaPx",
        "colab": {
          "base_uri": "https://localhost:8080/",
          "height": 37
        },
        "outputId": "5adae571-5176-4867-d022-ea9376b0d4c2"
      },
      "source": [
        "torch.__version__"
      ],
      "execution_count": null,
      "outputs": [
        {
          "output_type": "execute_result",
          "data": {
            "text/plain": [
              "'2.0.1+cu118'"
            ],
            "application/vnd.google.colaboratory.intrinsic+json": {
              "type": "string"
            }
          },
          "metadata": {},
          "execution_count": 2
        }
      ]
    },
    {
      "cell_type": "code",
      "metadata": {
        "id": "JVaf9CQ2DQkV",
        "colab": {
          "base_uri": "https://localhost:8080/"
        },
        "outputId": "0370b3cf-6b55-4581-b9f7-84ae46d16f02"
      },
      "source": [
        "# Get cpu or gpu device for training.\n",
        "device = \"cuda\" if torch.cuda.is_available() else \"cpu\"\n",
        "print(f\"Using: {device}\")"
      ],
      "execution_count": null,
      "outputs": [
        {
          "output_type": "stream",
          "name": "stdout",
          "text": [
            "Using: cuda\n"
          ]
        }
      ]
    },
    {
      "cell_type": "markdown",
      "metadata": {
        "id": "WRzgJskbtkB4"
      },
      "source": [
        "#### Download dataset"
      ]
    },
    {
      "cell_type": "code",
      "metadata": {
        "id": "WKKnnnkjtf8D",
        "colab": {
          "base_uri": "https://localhost:8080/"
        },
        "outputId": "34a1f5f8-a044-491a-de1a-12e509365cb1"
      },
      "source": [
        "# download from google drive\n",
        "!pip install --upgrade gdown\n",
        "!gdown --fuzzy 1fIViA1w8MVJJZJcAjMwapHIYazuyTczE --output pneumonia.zip\n",
        "# unzip dataset file\n",
        "!unzip -q pneumonia.zip"
      ],
      "execution_count": null,
      "outputs": [
        {
          "output_type": "stream",
          "name": "stdout",
          "text": [
            "Requirement already satisfied: gdown in /usr/local/lib/python3.10/dist-packages (4.6.6)\n",
            "Collecting gdown\n",
            "  Downloading gdown-4.7.1-py3-none-any.whl (15 kB)\n",
            "Requirement already satisfied: filelock in /usr/local/lib/python3.10/dist-packages (from gdown) (3.12.2)\n",
            "Requirement already satisfied: requests[socks] in /usr/local/lib/python3.10/dist-packages (from gdown) (2.27.1)\n",
            "Requirement already satisfied: six in /usr/local/lib/python3.10/dist-packages (from gdown) (1.16.0)\n",
            "Requirement already satisfied: tqdm in /usr/local/lib/python3.10/dist-packages (from gdown) (4.65.0)\n",
            "Requirement already satisfied: beautifulsoup4 in /usr/local/lib/python3.10/dist-packages (from gdown) (4.11.2)\n",
            "Requirement already satisfied: soupsieve>1.2 in /usr/local/lib/python3.10/dist-packages (from beautifulsoup4->gdown) (2.4.1)\n",
            "Requirement already satisfied: urllib3<1.27,>=1.21.1 in /usr/local/lib/python3.10/dist-packages (from requests[socks]->gdown) (1.26.16)\n",
            "Requirement already satisfied: certifi>=2017.4.17 in /usr/local/lib/python3.10/dist-packages (from requests[socks]->gdown) (2023.5.7)\n",
            "Requirement already satisfied: charset-normalizer~=2.0.0 in /usr/local/lib/python3.10/dist-packages (from requests[socks]->gdown) (2.0.12)\n",
            "Requirement already satisfied: idna<4,>=2.5 in /usr/local/lib/python3.10/dist-packages (from requests[socks]->gdown) (3.4)\n",
            "Requirement already satisfied: PySocks!=1.5.7,>=1.5.6 in /usr/local/lib/python3.10/dist-packages (from requests[socks]->gdown) (1.7.1)\n",
            "Installing collected packages: gdown\n",
            "  Attempting uninstall: gdown\n",
            "    Found existing installation: gdown 4.6.6\n",
            "    Uninstalling gdown-4.6.6:\n",
            "      Successfully uninstalled gdown-4.6.6\n",
            "Successfully installed gdown-4.7.1\n",
            "Downloading...\n",
            "From (uriginal): https://drive.google.com/uc?id=1fIViA1w8MVJJZJcAjMwapHIYazuyTczE\n",
            "From (redirected): https://drive.google.com/uc?id=1fIViA1w8MVJJZJcAjMwapHIYazuyTczE&confirm=t&uuid=92ad48ed-c385-4536-8cd9-15f9be904b1c\n",
            "To: /content/pneumonia.zip\n",
            "100% 118M/118M [00:02<00:00, 46.4MB/s]\n"
          ]
        }
      ]
    },
    {
      "cell_type": "markdown",
      "metadata": {
        "id": "ILmiH24n-ZKN"
      },
      "source": [
        "### Data"
      ]
    },
    {
      "cell_type": "markdown",
      "metadata": {
        "id": "QZS1SQGstsLK"
      },
      "source": [
        "#### Check your data first"
      ]
    },
    {
      "cell_type": "code",
      "metadata": {
        "id": "nitVe5_0tnVg",
        "colab": {
          "base_uri": "https://localhost:8080/"
        },
        "outputId": "fe1dd56c-bd93-4506-b116-7f8c314f890b"
      },
      "source": [
        "IMG_SIZE = 256 # 32x, 16x\n",
        "all_class = ['normal', 'bacteria', 'virus']\n",
        "class_map = {cls: i for i, cls in enumerate(all_class)}\n",
        "#  'normal':0, 'bacteria': 1, 'virus':2\n",
        "class_map"
      ],
      "execution_count": null,
      "outputs": [
        {
          "output_type": "execute_result",
          "data": {
            "text/plain": [
              "{'normal': 0, 'bacteria': 1, 'virus': 2}"
            ]
          },
          "metadata": {},
          "execution_count": 5
        }
      ]
    },
    {
      "cell_type": "code",
      "metadata": {
        "id": "Pa1Ps80nt3MH"
      },
      "source": [
        "# read all paths\n",
        "# *: all\n",
        "img_paths_train = sorted(glob('pneumonia/train/*/*.jpeg'))\n",
        "# img_paths_train = glob('pneumonia/train/normal/*.jpeg') + glob('pneumonia/train/pneumonia/*.jpeg')\n",
        "\n",
        "img_paths_test = sorted(glob('pneumonia/val/*/*.jpeg'))"
      ],
      "execution_count": null,
      "outputs": []
    },
    {
      "cell_type": "code",
      "source": [
        "img_paths_train[:3]"
      ],
      "metadata": {
        "id": "oLmr6XIevKY_",
        "colab": {
          "base_uri": "https://localhost:8080/"
        },
        "outputId": "3734b7af-da32-4ec8-d747-26e2738a2ac5"
      },
      "execution_count": null,
      "outputs": [
        {
          "output_type": "execute_result",
          "data": {
            "text/plain": [
              "['pneumonia/train/normal/IM-0158-0001.jpeg',\n",
              " 'pneumonia/train/normal/IM-0164-0001.jpeg',\n",
              " 'pneumonia/train/normal/IM-0199-0001.jpeg']"
            ]
          },
          "metadata": {},
          "execution_count": 7
        }
      ]
    },
    {
      "cell_type": "code",
      "source": [
        "# number of images\n",
        "len(img_paths_train), len(img_paths_test)"
      ],
      "metadata": {
        "id": "hC1OGufXz9Ti",
        "colab": {
          "base_uri": "https://localhost:8080/"
        },
        "outputId": "18cf4481-0728-4a45-a26a-5aaba2c6ae28"
      },
      "execution_count": null,
      "outputs": [
        {
          "output_type": "execute_result",
          "data": {
            "text/plain": [
              "(150, 100)"
            ]
          },
          "metadata": {},
          "execution_count": 8
        }
      ]
    },
    {
      "cell_type": "code",
      "source": [
        "# show image\n",
        "path = img_paths_train[100]\n",
        "img = cv2.imread(path)\n",
        "print(path)\n",
        "print(img.shape)\n",
        "plt.imshow(img)\n",
        "plt.show()\n"
      ],
      "metadata": {
        "id": "prZmpkTn0A5d",
        "colab": {
          "base_uri": "https://localhost:8080/",
          "height": 406
        },
        "outputId": "1a4d85c9-31a0-4ed3-c786-4fbc4c7bcb41"
      },
      "execution_count": null,
      "outputs": [
        {
          "output_type": "stream",
          "name": "stdout",
          "text": [
            "pneumonia/train/pneumonia/person1010_virus_1695.jpeg\n",
            "(307, 502, 3)\n"
          ]
        },
        {
          "output_type": "display_data",
          "data": {
            "text/plain": [
              "<Figure size 640x480 with 1 Axes>"
            ],
            "image/png": "[encoded data removed]"
          },
          "metadata": {}
        }
      ]
    },
    {
      "cell_type": "code",
      "source": [
        "# Extract img class\n",
        "# os.sep: /\n",
        "print(path)\n",
        "print(path.split(os.sep))\n",
        "cls = path.split(os.sep)[-2]\n",
        "print(cls)"
      ],
      "metadata": {
        "colab": {
          "base_uri": "https://localhost:8080/"
        },
        "id": "fHJiftNWJ3R2",
        "outputId": "8ecc2501-d639-4a88-cde4-c739d66e1eaa"
      },
      "execution_count": null,
      "outputs": [
        {
          "output_type": "stream",
          "name": "stdout",
          "text": [
            "pneumonia/train/pneumonia/person1010_virus_1695.jpeg\n",
            "['pneumonia', 'train', 'pneumonia', 'person1010_virus_1695.jpeg']\n",
            "pneumonia\n"
          ]
        }
      ]
    },
    {
      "cell_type": "code",
      "source": [
        "\n",
        "# Get file class index\n",
        "\n",
        "# for pneumonia class\n",
        "if cls == 'pneumonia':\n",
        "    # get filename\n",
        "    filename = path.split(os.sep)[-1]\n",
        "    print(filename)\n",
        "    # get pneumonia class\n",
        "    cls_pneumonia = filename.split('_')[1]\n",
        "    print(cls_pneumonia)\n",
        "    cls_idx = class_map[cls_pneumonia]\n",
        "    print(cls_idx)\n",
        "# for normal class\n",
        "else:\n",
        "    cls_idx = class_map[cls]"
      ],
      "metadata": {
        "colab": {
          "base_uri": "https://localhost:8080/"
        },
        "id": "lUbzOsF5J4_c",
        "outputId": "2d8d1a76-29ca-4b71-eae0-ee9680aac18b"
      },
      "execution_count": null,
      "outputs": [
        {
          "output_type": "stream",
          "name": "stdout",
          "text": [
            "person1010_virus_1695.jpeg\n",
            "virus\n",
            "2\n"
          ]
        }
      ]
    },
    {
      "cell_type": "code",
      "source": [
        "cls_idx"
      ],
      "metadata": {
        "colab": {
          "base_uri": "https://localhost:8080/"
        },
        "id": "q_j9qKBbJ6YW",
        "outputId": "635cd3ce-24a9-4dfe-bce1-66fcfe22abc7"
      },
      "execution_count": null,
      "outputs": [
        {
          "output_type": "execute_result",
          "data": {
            "text/plain": [
              "2"
            ]
          },
          "metadata": {},
          "execution_count": 12
        }
      ]
    },
    {
      "cell_type": "markdown",
      "metadata": {
        "id": "zXRWYWOlwREH"
      },
      "source": [
        "#### Dataset & DataLoader\n",
        "\n",
        "\n",
        "*   [torch.utils.data.Dataset](https://pytorch.org/docs/stable/data.html?highlight=dataset#torch.utils.data.Dataset)\n",
        "\n",
        "\n",
        "\n",
        "*   Must implement\n",
        "\n",
        "    1.   **\\_\\_len\\_\\_()**: size of dataset\n",
        "    2.   **\\_\\_getitem\\_\\_()**: load a data sample for a given index\n",
        "\n",
        "*   __getitem__() steps:\n",
        "    1. Get image path\n",
        "    2. Read image, resize\n",
        "    3. Real image label\n",
        "    4. convert image to tesnor and rescale to 0~1\n",
        "\n",
        "\n",
        "ref: [Datasets & DataLoaders](https://pytorch.org/tutorials/beginner/basics/data_tutorial.html)\n"
      ]
    },
    {
      "cell_type": "markdown",
      "source": [
        "Pixel value rescale\n",
        "\n",
        "*   0~1\n",
        "*   -1~+1 : (x/127.5) - 1\n",
        "* (x-x.mean()) / x.std()"
      ],
      "metadata": {
        "id": "JaoO3tBvJ-_e"
      }
    },
    {
      "cell_type": "markdown",
      "source": [
        "\n",
        "#### Dataset + Data Augmentation"
      ],
      "metadata": {
        "id": "U4xeEUX3WO9N"
      }
    },
    {
      "cell_type": "code",
      "metadata": {
        "id": "ITrkMdEHwQXT"
      },
      "source": [
        "import imgaug.augmenters as iaa\n",
        "import imgaug as ia\n",
        "\n",
        "class Dataset(torch.utils.data.Dataset):\n",
        "    def __init__(self, img_paths, img_size, class_map, aug):\n",
        "        self.img_paths = img_paths\n",
        "        self.img_size = img_size\n",
        "        self.class_map = class_map\n",
        "\n",
        "        self.seq = seq = iaa.Sequential([\n",
        "            iaa.Fliplr(0.5), # 50% horizontal flip\n",
        "            iaa.Flipud(0.5), # 50% vertical flip\n",
        "            iaa.Affine(\n",
        "                rotate=(-10, 10), # random rotate -10 ~ +10 degree\n",
        "                shear=(-16,16), # random shear -16 ~ +16 degree\n",
        "                scale={\"x\": (0.8, 1.2), \"y\": (0.8, 1.2)} # scale x, y: 80%~120%\n",
        "            ),\n",
        "        ])\n",
        "        self.aug = aug\n",
        "    def __len__(self):\n",
        "        \"\"\"number of samples\"\"\"\n",
        "        return len(self.img_paths)\n",
        "\n",
        "    def __getitem__(self, idx):\n",
        "        \"\"\"read 1 sample\"\"\"\n",
        "        # Read img\n",
        "        path = self.img_paths[idx] # get img path\n",
        "        img = cv2.imread(path) # read img\n",
        "        img = cv2.cvtColor(img, cv2.COLOR_BGR2RGB) # Convert to RGB\n",
        "        img = cv2.resize(img, (self.img_size, self.img_size)) # Resize iamge\n",
        "        if self.aug:\n",
        "            img = self.seq.augment_image(img)\n",
        "        img = img / 255. # 0~255 -> 0.~1.\n",
        "\n",
        "        # Read class index\n",
        "        cls = path.split(os.sep)[-2]\n",
        "        # for pneumonia class\n",
        "        if cls == 'pneumonia':\n",
        "            # get filename\n",
        "            filename = path.split(os.sep)[-1]\n",
        "            # get pneumonia class\n",
        "            cls = filename.split('_')[1]\n",
        "        cls_idx = self.class_map[cls]\n",
        "\n",
        "        # transform img to tensor\n",
        "        img = torch.tensor(img, dtype=torch.float)\n",
        "        # channel last -> channel first\n",
        "        # np.swapaxis()\n",
        "        img = img.permute(2, 0, 1) # (H, W, C) -> (C, H, W)\n",
        "\n",
        "        cls_idx = torch.tensor(cls_idx, dtype=torch.long)\n",
        "\n",
        "        return img, cls_idx"
      ],
      "execution_count": null,
      "outputs": []
    },
    {
      "cell_type": "code",
      "source": [
        "img_paths_train"
      ],
      "metadata": {
        "colab": {
          "base_uri": "https://localhost:8080/"
        },
        "id": "F80MgwIEMo4P",
        "outputId": "25482a40-7851-4363-a8c0-0bee1c53f519"
      },
      "execution_count": null,
      "outputs": [
        {
          "output_type": "execute_result",
          "data": {
            "text/plain": [
              "['pneumonia/train/normal/IM-0158-0001.jpeg',\n",
              " 'pneumonia/train/normal/IM-0164-0001.jpeg',\n",
              " 'pneumonia/train/normal/IM-0199-0001.jpeg',\n",
              " 'pneumonia/train/normal/IM-0206-0001.jpeg',\n",
              " 'pneumonia/train/normal/IM-0209-0001.jpeg',\n",
              " 'pneumonia/train/normal/IM-0244-0001.jpeg',\n",
              " 'pneumonia/train/normal/IM-0311-0001.jpeg',\n",
              " 'pneumonia/train/normal/IM-0314-0001.jpeg',\n",
              " 'pneumonia/train/normal/IM-0324-0001.jpeg',\n",
              " 'pneumonia/train/normal/IM-0333-0001.jpeg',\n",
              " 'pneumonia/train/normal/IM-0356-0001.jpeg',\n",
              " 'pneumonia/train/normal/IM-0370-0001.jpeg',\n",
              " 'pneumonia/train/normal/IM-0409-0001.jpeg',\n",
              " 'pneumonia/train/normal/IM-0435-0001.jpeg',\n",
              " 'pneumonia/train/normal/IM-0458-0001.jpeg',\n",
              " 'pneumonia/train/normal/IM-0481-0001.jpeg',\n",
              " 'pneumonia/train/normal/IM-0488-0001.jpeg',\n",
              " 'pneumonia/train/normal/IM-0563-0001.jpeg',\n",
              " 'pneumonia/train/normal/IM-0584-0001.jpeg',\n",
              " 'pneumonia/train/normal/IM-0605-0001.jpeg',\n",
              " 'pneumonia/train/normal/IM-0608-0001-0001.jpeg',\n",
              " 'pneumonia/train/normal/IM-0629-0001.jpeg',\n",
              " 'pneumonia/train/normal/IM-0644-0001-0001.jpeg',\n",
              " 'pneumonia/train/normal/IM-0647-0001.jpeg',\n",
              " 'pneumonia/train/normal/IM-0651-0001.jpeg',\n",
              " 'pneumonia/train/normal/IM-0663-0001.jpeg',\n",
              " 'pneumonia/train/normal/IM-0686-0001.jpeg',\n",
              " 'pneumonia/train/normal/IM-0691-0001.jpeg',\n",
              " 'pneumonia/train/normal/IM-0693-0001.jpeg',\n",
              " 'pneumonia/train/normal/IM-0696-0001.jpeg',\n",
              " 'pneumonia/train/normal/IM-0730-0001.jpeg',\n",
              " 'pneumonia/train/normal/IM-0732-0001.jpeg',\n",
              " 'pneumonia/train/normal/IM-0739-0001.jpeg',\n",
              " 'pneumonia/train/normal/IM-0750-0001.jpeg',\n",
              " 'pneumonia/train/normal/NORMAL2-IM-0384-0001.jpeg',\n",
              " 'pneumonia/train/normal/NORMAL2-IM-0460-0001.jpeg',\n",
              " 'pneumonia/train/normal/NORMAL2-IM-0468-0001.jpeg',\n",
              " 'pneumonia/train/normal/NORMAL2-IM-0485-0001.jpeg',\n",
              " 'pneumonia/train/normal/NORMAL2-IM-0487-0001.jpeg',\n",
              " 'pneumonia/train/normal/NORMAL2-IM-0535-0001-0002.jpeg',\n",
              " 'pneumonia/train/normal/NORMAL2-IM-0554-0001.jpeg',\n",
              " 'pneumonia/train/normal/NORMAL2-IM-0558-0001.jpeg',\n",
              " 'pneumonia/train/normal/NORMAL2-IM-0588-0001.jpeg',\n",
              " 'pneumonia/train/normal/NORMAL2-IM-0665-0001.jpeg',\n",
              " 'pneumonia/train/normal/NORMAL2-IM-0690-0001.jpeg',\n",
              " 'pneumonia/train/normal/NORMAL2-IM-0707-0001.jpeg',\n",
              " 'pneumonia/train/normal/NORMAL2-IM-0719-0001.jpeg',\n",
              " 'pneumonia/train/normal/NORMAL2-IM-0723-0001.jpeg',\n",
              " 'pneumonia/train/normal/NORMAL2-IM-0725-0001.jpeg',\n",
              " 'pneumonia/train/normal/NORMAL2-IM-0727-0001.jpeg',\n",
              " 'pneumonia/train/normal/NORMAL2-IM-0730-0001.jpeg',\n",
              " 'pneumonia/train/normal/NORMAL2-IM-0736-0001.jpeg',\n",
              " 'pneumonia/train/normal/NORMAL2-IM-0741-0001.jpeg',\n",
              " 'pneumonia/train/normal/NORMAL2-IM-0744-0001.jpeg',\n",
              " 'pneumonia/train/normal/NORMAL2-IM-0746-0001.jpeg',\n",
              " 'pneumonia/train/normal/NORMAL2-IM-0753-0001.jpeg',\n",
              " 'pneumonia/train/normal/NORMAL2-IM-0757-0001.jpeg',\n",
              " 'pneumonia/train/normal/NORMAL2-IM-0765-0001.jpeg',\n",
              " 'pneumonia/train/normal/NORMAL2-IM-0771-0001.jpeg',\n",
              " 'pneumonia/train/normal/NORMAL2-IM-0772-0001.jpeg',\n",
              " 'pneumonia/train/normal/NORMAL2-IM-0790-0001.jpeg',\n",
              " 'pneumonia/train/normal/NORMAL2-IM-0824-0001.jpeg',\n",
              " 'pneumonia/train/normal/NORMAL2-IM-0829-0001.jpeg',\n",
              " 'pneumonia/train/normal/NORMAL2-IM-0867-0001.jpeg',\n",
              " 'pneumonia/train/normal/NORMAL2-IM-0872-0001.jpeg',\n",
              " 'pneumonia/train/normal/NORMAL2-IM-0885-0001.jpeg',\n",
              " 'pneumonia/train/normal/NORMAL2-IM-1064-0001.jpeg',\n",
              " 'pneumonia/train/normal/NORMAL2-IM-1067-0001-0001.jpeg',\n",
              " 'pneumonia/train/normal/NORMAL2-IM-1067-0001.jpeg',\n",
              " 'pneumonia/train/normal/NORMAL2-IM-1073-0001.jpeg',\n",
              " 'pneumonia/train/normal/NORMAL2-IM-1084-0001.jpeg',\n",
              " 'pneumonia/train/normal/NORMAL2-IM-1086-0001.jpeg',\n",
              " 'pneumonia/train/normal/NORMAL2-IM-1149-0001.jpeg',\n",
              " 'pneumonia/train/normal/NORMAL2-IM-1214-0001.jpeg',\n",
              " 'pneumonia/train/normal/NORMAL2-IM-1227-0001.jpeg',\n",
              " 'pneumonia/train/normal/NORMAL2-IM-1232-0001.jpeg',\n",
              " 'pneumonia/train/normal/NORMAL2-IM-1241-0001.jpeg',\n",
              " 'pneumonia/train/normal/NORMAL2-IM-1250-0001.jpeg',\n",
              " 'pneumonia/train/normal/NORMAL2-IM-1264-0001.jpeg',\n",
              " 'pneumonia/train/normal/NORMAL2-IM-1269-0001-0002.jpeg',\n",
              " 'pneumonia/train/normal/NORMAL2-IM-1270-0001.jpeg',\n",
              " 'pneumonia/train/normal/NORMAL2-IM-1305-0001.jpeg',\n",
              " 'pneumonia/train/normal/NORMAL2-IM-1326-0001.jpeg',\n",
              " 'pneumonia/train/normal/NORMAL2-IM-1345-0001-0002.jpeg',\n",
              " 'pneumonia/train/normal/NORMAL2-IM-1356-0001.jpeg',\n",
              " 'pneumonia/train/normal/NORMAL2-IM-1357-0001.jpeg',\n",
              " 'pneumonia/train/normal/NORMAL2-IM-1360-0001.jpeg',\n",
              " 'pneumonia/train/normal/NORMAL2-IM-1362-0001.jpeg',\n",
              " 'pneumonia/train/normal/NORMAL2-IM-1365-0001.jpeg',\n",
              " 'pneumonia/train/normal/NORMAL2-IM-1371-0001.jpeg',\n",
              " 'pneumonia/train/normal/NORMAL2-IM-1376-0001.jpeg',\n",
              " 'pneumonia/train/normal/NORMAL2-IM-1379-0001.jpeg',\n",
              " 'pneumonia/train/normal/NORMAL2-IM-1385-0001.jpeg',\n",
              " 'pneumonia/train/normal/NORMAL2-IM-1396-0001.jpeg',\n",
              " 'pneumonia/train/normal/NORMAL2-IM-1400-0001.jpeg',\n",
              " 'pneumonia/train/normal/NORMAL2-IM-1401-0001.jpeg',\n",
              " 'pneumonia/train/normal/NORMAL2-IM-1406-0001.jpeg',\n",
              " 'pneumonia/train/normal/NORMAL2-IM-1412-0001.jpeg',\n",
              " 'pneumonia/train/normal/NORMAL2-IM-1419-0001.jpeg',\n",
              " 'pneumonia/train/normal/NORMAL2-IM-1423-0001.jpeg',\n",
              " 'pneumonia/train/pneumonia/person1010_virus_1695.jpeg',\n",
              " 'pneumonia/train/pneumonia/person1131_bacteria_3073.jpeg',\n",
              " 'pneumonia/train/pneumonia/person1159_virus_1946.jpeg',\n",
              " 'pneumonia/train/pneumonia/person1177_virus_1999.jpeg',\n",
              " 'pneumonia/train/pneumonia/person1177_virus_2002.jpeg',\n",
              " 'pneumonia/train/pneumonia/person1287_bacteria_3250.jpeg',\n",
              " 'pneumonia/train/pneumonia/person1308_bacteria_3292.jpeg',\n",
              " 'pneumonia/train/pneumonia/person1478_bacteria_3848.jpeg',\n",
              " 'pneumonia/train/pneumonia/person1642_bacteria_4352.jpeg',\n",
              " 'pneumonia/train/pneumonia/person1644_bacteria_4361.jpeg',\n",
              " 'pneumonia/train/pneumonia/person1661_bacteria_4406.jpeg',\n",
              " 'pneumonia/train/pneumonia/person1668_bacteria_4420.jpeg',\n",
              " 'pneumonia/train/pneumonia/person1668_bacteria_4421.jpeg',\n",
              " 'pneumonia/train/pneumonia/person1677_bacteria_4443.jpeg',\n",
              " 'pneumonia/train/pneumonia/person1686_bacteria_4466.jpeg',\n",
              " 'pneumonia/train/pneumonia/person1689_bacteria_4473.jpeg',\n",
              " 'pneumonia/train/pneumonia/person1700_bacteria_4502.jpeg',\n",
              " 'pneumonia/train/pneumonia/person1705_bacteria_4515.jpeg',\n",
              " 'pneumonia/train/pneumonia/person1707_bacteria_4520.jpeg',\n",
              " 'pneumonia/train/pneumonia/person1722_bacteria_4547.jpeg',\n",
              " 'pneumonia/train/pneumonia/person1723_bacteria_4548.jpeg',\n",
              " 'pneumonia/train/pneumonia/person1725_bacteria_4550.jpeg',\n",
              " 'pneumonia/train/pneumonia/person1725_bacteria_4551.jpeg',\n",
              " 'pneumonia/train/pneumonia/person1749_bacteria_4590.jpeg',\n",
              " 'pneumonia/train/pneumonia/person1751_bacteria_4592.jpeg',\n",
              " 'pneumonia/train/pneumonia/person281_virus_578.jpeg',\n",
              " 'pneumonia/train/pneumonia/person293_virus_604.jpeg',\n",
              " 'pneumonia/train/pneumonia/person316_virus_641.jpeg',\n",
              " 'pneumonia/train/pneumonia/person320_virus_647.jpeg',\n",
              " 'pneumonia/train/pneumonia/person325_virus_665.jpeg',\n",
              " 'pneumonia/train/pneumonia/person326_virus_670.jpeg',\n",
              " 'pneumonia/train/pneumonia/person334_virus_689.jpeg',\n",
              " 'pneumonia/train/pneumonia/person342_virus_701.jpeg',\n",
              " 'pneumonia/train/pneumonia/person343_virus_704.jpeg',\n",
              " 'pneumonia/train/pneumonia/person354_bacteria_1635.jpeg',\n",
              " 'pneumonia/train/pneumonia/person414_virus_845.jpeg',\n",
              " 'pneumonia/train/pneumonia/person466_bacteria_1984.jpeg',\n",
              " 'pneumonia/train/pneumonia/person489_virus_995.jpeg',\n",
              " 'pneumonia/train/pneumonia/person516_bacteria_2191.jpeg',\n",
              " 'pneumonia/train/pneumonia/person516_bacteria_2192.jpeg',\n",
              " 'pneumonia/train/pneumonia/person592_bacteria_2434.jpeg',\n",
              " 'pneumonia/train/pneumonia/person598_bacteria_2453.jpeg',\n",
              " 'pneumonia/train/pneumonia/person675_bacteria_2569.jpeg',\n",
              " 'pneumonia/train/pneumonia/person67_bacteria_333.jpeg',\n",
              " 'pneumonia/train/pneumonia/person719_virus_1338.jpeg',\n",
              " 'pneumonia/train/pneumonia/person803_bacteria_2710.jpeg',\n",
              " 'pneumonia/train/pneumonia/person888_bacteria_2812.jpeg',\n",
              " 'pneumonia/train/pneumonia/person923_bacteria_2848.jpeg',\n",
              " 'pneumonia/train/pneumonia/person942_bacteria_2867.jpeg',\n",
              " 'pneumonia/train/pneumonia/person996_virus_1677.jpeg']"
            ]
          },
          "metadata": {},
          "execution_count": 48
        }
      ]
    },
    {
      "cell_type": "code",
      "metadata": {
        "id": "SZmZaXaUvoZc"
      },
      "source": [
        "# Build dataset\n",
        "train_ds = Dataset(img_paths_train, IMG_SIZE, class_map)\n",
        "val_ds = Dataset(img_paths_test, IMG_SIZE, class_map)"
      ],
      "execution_count": null,
      "outputs": []
    },
    {
      "cell_type": "code",
      "metadata": {
        "id": "O72ikm4B0LH6",
        "colab": {
          "base_uri": "https://localhost:8080/"
        },
        "outputId": "ba9c08cd-e0d0-4e54-c289-27ff92470e0e"
      },
      "source": [
        "# Number of samples\n",
        "len(train_ds), len(val_ds)"
      ],
      "execution_count": null,
      "outputs": [
        {
          "output_type": "execute_result",
          "data": {
            "text/plain": [
              "(150, 100)"
            ]
          },
          "metadata": {},
          "execution_count": 50
        }
      ]
    },
    {
      "cell_type": "code",
      "metadata": {
        "id": "0yBQQ_rJ0TmH"
      },
      "source": [
        "# Build DataLoaders\n",
        "BATCH_SIZE = 32\n",
        "train_loader = torch.utils.data.DataLoader(train_ds, BATCH_SIZE,\n",
        "                                           shuffle=True)\n",
        "val_loader = torch.utils.data.DataLoader(val_ds, BATCH_SIZE)"
      ],
      "execution_count": null,
      "outputs": []
    },
    {
      "cell_type": "code",
      "source": [
        "img, label = train_ds[0]\n",
        "print(img.shape, label, all_class[label])\n",
        "\n",
        "img = img.permute(1, 2, 0) # (C, H, W) -> (H, W, C)\n",
        "plt.imshow(img)\n",
        "plt.show()"
      ],
      "metadata": {
        "id": "fH2_yFvZzS_r",
        "colab": {
          "base_uri": "https://localhost:8080/",
          "height": 453
        },
        "outputId": "aec41695-87dd-4fed-a6af-8db79cce072c"
      },
      "execution_count": null,
      "outputs": [
        {
          "output_type": "stream",
          "name": "stdout",
          "text": [
            "torch.Size([3, 256, 256]) tensor(0) normal\n"
          ]
        },
        {
          "output_type": "display_data",
          "data": {
            "text/plain": [
              "<Figure size 640x480 with 1 Axes>"
            ],
            "image/png": "[encoded data removed]"
          },
          "metadata": {}
        }
      ]
    },
    {
      "cell_type": "code",
      "metadata": {
        "id": "QUhD_qeW2sZv",
        "colab": {
          "base_uri": "https://localhost:8080/"
        },
        "outputId": "c7271a39-f071-4575-f0ea-cbaaa611650f"
      },
      "source": [
        "img, label"
      ],
      "execution_count": null,
      "outputs": [
        {
          "output_type": "execute_result",
          "data": {
            "text/plain": [
              "(tensor([[[0.0980, 0.0980, 0.0980],\n",
              "          [0.0706, 0.0706, 0.0706],\n",
              "          [0.0588, 0.0588, 0.0588],\n",
              "          ...,\n",
              "          [0.1451, 0.1451, 0.1451],\n",
              "          [0.1373, 0.1373, 0.1373],\n",
              "          [0.1490, 0.1490, 0.1490]],\n",
              " \n",
              "         [[0.1020, 0.1020, 0.1020],\n",
              "          [0.0745, 0.0745, 0.0745],\n",
              "          [0.0745, 0.0745, 0.0745],\n",
              "          ...,\n",
              "          [0.1686, 0.1686, 0.1686],\n",
              "          [0.1451, 0.1451, 0.1451],\n",
              "          [0.1373, 0.1373, 0.1373]],\n",
              " \n",
              "         [[0.1725, 0.1725, 0.1725],\n",
              "          [0.1647, 0.1647, 0.1647],\n",
              "          [0.1686, 0.1686, 0.1686],\n",
              "          ...,\n",
              "          [0.1569, 0.1569, 0.1569],\n",
              "          [0.1451, 0.1451, 0.1451],\n",
              "          [0.1412, 0.1412, 0.1412]],\n",
              " \n",
              "         ...,\n",
              " \n",
              "         [[0.0000, 0.0000, 0.0000],\n",
              "          [0.0000, 0.0000, 0.0000],\n",
              "          [0.0000, 0.0000, 0.0000],\n",
              "          ...,\n",
              "          [0.0000, 0.0000, 0.0000],\n",
              "          [0.0000, 0.0000, 0.0000],\n",
              "          [0.0000, 0.0000, 0.0000]],\n",
              " \n",
              "         [[0.0000, 0.0000, 0.0000],\n",
              "          [0.0000, 0.0000, 0.0000],\n",
              "          [0.0000, 0.0000, 0.0000],\n",
              "          ...,\n",
              "          [0.0000, 0.0000, 0.0000],\n",
              "          [0.0000, 0.0000, 0.0000],\n",
              "          [0.0000, 0.0000, 0.0000]],\n",
              " \n",
              "         [[0.0000, 0.0000, 0.0000],\n",
              "          [0.0000, 0.0000, 0.0000],\n",
              "          [0.0000, 0.0000, 0.0000],\n",
              "          ...,\n",
              "          [0.0000, 0.0000, 0.0000],\n",
              "          [0.0000, 0.0000, 0.0000],\n",
              "          [0.0000, 0.0000, 0.0000]]]),\n",
              " tensor(0))"
            ]
          },
          "metadata": {},
          "execution_count": 53
        }
      ]
    },
    {
      "cell_type": "markdown",
      "metadata": {
        "id": "GS9yclgz-rRa"
      },
      "source": [
        "### Model\n",
        "\n",
        "\n",
        "\n",
        "*   Must implement\n",
        "    1.   **\\_\\_init\\_\\_**(): layer **initialization**\n",
        "    2.   **forward**(): connect **Input** to **Ouput**\n",
        "\n",
        "\n",
        "\n",
        "*   Model architecture\n",
        "    1.   Feature extractor\n",
        "    2.   Flatten\n",
        "    3.   Classifier\n",
        "\n"
      ]
    },
    {
      "cell_type": "markdown",
      "source": [
        "### Model Tips\n",
        "\n",
        "1.   Batch Normalization\n",
        "2.   Dropout"
      ],
      "metadata": {
        "id": "L21Wy_1YWfdd"
      }
    },
    {
      "cell_type": "code",
      "metadata": {
        "id": "O00ZbgYe-3Zb"
      },
      "source": [
        "class ConvBN(nn.Module):\n",
        "    def __init__(self, cin, cout):\n",
        "        super().__init__()\n",
        "        self.conv = nn.Conv2d(cin, cout, kernel_size=3, padding='same')\n",
        "        self.bn = nn.BatchNorm2d(num_features=cout)\n",
        "        self.act = nn.ReLU()\n",
        "    def forward(self, x):\n",
        "        x = self.conv(x)\n",
        "        x = self.bn(x)\n",
        "        return self.act(x)\n",
        "\n",
        "class CNN(nn.Module):\n",
        "    def __init__(self, kernel_size=3):\n",
        "        super().__init__()\n",
        "        self.encoder = nn.Sequential(\n",
        "            ConvBN(3, 16),\n",
        "            ConvBN(16, 16),\n",
        "            nn.MaxPool2d(kernel_size=2),\n",
        "\n",
        "            ConvBN(16, 32),\n",
        "            ConvBN(32, 32),\n",
        "            nn.MaxPool2d(kernel_size=2),\n",
        "\n",
        "            ConvBN(32, 64),\n",
        "            ConvBN(64, 64),\n",
        "            nn.MaxPool2d(kernel_size=2),\n",
        "        )\n",
        "        self.flatten = nn.Flatten() # (64, 32, 32) -> (64*32*32)\n",
        "        self.classifier = nn.Sequential(\n",
        "            nn.Dropout(0.3),\n",
        "            nn.Linear(64*32*32, 256),\n",
        "            nn.Dropout(0.3),\n",
        "            nn.ReLU(),\n",
        "            nn.Linear(256, NUM_CLASS),\n",
        "        )\n",
        "    def forward(self, x):\n",
        "        x = self.encoder(x)\n",
        "        x = self.flatten(x)\n",
        "        x = self.classifier(x)\n",
        "        return x"
      ],
      "execution_count": null,
      "outputs": []
    },
    {
      "cell_type": "code",
      "metadata": {
        "id": "ZDD8bg0qC_eO"
      },
      "source": [
        "# Build a model and move to GPU device\n",
        "model = CNN(kernel_size=7).to(device)"
      ],
      "execution_count": null,
      "outputs": []
    },
    {
      "cell_type": "code",
      "metadata": {
        "id": "Xo1GYOPmFjeA",
        "colab": {
          "base_uri": "https://localhost:8080/"
        },
        "outputId": "55ef735c-84bc-408c-f65e-9b3fda61e4f1"
      },
      "source": [
        "print(model)"
      ],
      "execution_count": null,
      "outputs": [
        {
          "output_type": "stream",
          "name": "stdout",
          "text": [
            "CNN(\n",
            "  (feature_extractor): Sequential(\n",
            "    (0): Conv2d(3, 32, kernel_size=(7, 7), stride=(1, 1), padding=same)\n",
            "    (1): ReLU()\n",
            "    (2): Conv2d(32, 32, kernel_size=(7, 7), stride=(1, 1), padding=same)\n",
            "    (3): ReLU()\n",
            "    (4): MaxPool2d(kernel_size=2, stride=2, padding=0, dilation=1, ceil_mode=False)\n",
            "    (5): Conv2d(32, 64, kernel_size=(7, 7), stride=(1, 1), padding=same)\n",
            "    (6): ReLU()\n",
            "    (7): Conv2d(64, 64, kernel_size=(7, 7), stride=(1, 1), padding=same)\n",
            "    (8): ReLU()\n",
            "    (9): MaxPool2d(kernel_size=2, stride=2, padding=0, dilation=1, ceil_mode=False)\n",
            "    (10): Conv2d(64, 128, kernel_size=(7, 7), stride=(1, 1), padding=same)\n",
            "    (11): ReLU()\n",
            "    (12): Conv2d(128, 128, kernel_size=(7, 7), stride=(1, 1), padding=same)\n",
            "    (13): ReLU()\n",
            "    (14): MaxPool2d(kernel_size=2, stride=2, padding=0, dilation=1, ceil_mode=False)\n",
            "    (15): Conv2d(128, 256, kernel_size=(7, 7), stride=(1, 1), padding=same)\n",
            "    (16): ReLU()\n",
            "    (17): Conv2d(256, 256, kernel_size=(7, 7), stride=(1, 1), padding=same)\n",
            "    (18): ReLU()\n",
            "    (19): MaxPool2d(kernel_size=2, stride=2, padding=0, dilation=1, ceil_mode=False)\n",
            "  )\n",
            "  (flatten): Flatten(start_dim=1, end_dim=-1)\n",
            "  (classifier): Sequential(\n",
            "    (0): Linear(in_features=65536, out_features=3, bias=True)\n",
            "  )\n",
            ")\n"
          ]
        }
      ]
    },
    {
      "cell_type": "code",
      "metadata": {
        "id": "9-Fn_w_JDFDx",
        "colab": {
          "base_uri": "https://localhost:8080/"
        },
        "outputId": "1356619c-2fca-4286-8dfb-da5741769769"
      },
      "source": [
        "# Model summary\n",
        "summary(model, (3, IMG_SIZE, IMG_SIZE))"
      ],
      "execution_count": null,
      "outputs": [
        {
          "output_type": "stream",
          "name": "stdout",
          "text": [
            "----------------------------------------------------------------\n",
            "        Layer (type)               Output Shape         Param #\n",
            "================================================================\n",
            "            Conv2d-1         [-1, 32, 256, 256]           4,736\n",
            "              ReLU-2         [-1, 32, 256, 256]               0\n",
            "            Conv2d-3         [-1, 32, 256, 256]          50,208\n",
            "              ReLU-4         [-1, 32, 256, 256]               0\n",
            "         MaxPool2d-5         [-1, 32, 128, 128]               0\n",
            "            Conv2d-6         [-1, 64, 128, 128]         100,416\n",
            "              ReLU-7         [-1, 64, 128, 128]               0\n",
            "            Conv2d-8         [-1, 64, 128, 128]         200,768\n",
            "              ReLU-9         [-1, 64, 128, 128]               0\n",
            "        MaxPool2d-10           [-1, 64, 64, 64]               0\n",
            "           Conv2d-11          [-1, 128, 64, 64]         401,536\n",
            "             ReLU-12          [-1, 128, 64, 64]               0\n",
            "           Conv2d-13          [-1, 128, 64, 64]         802,944\n",
            "             ReLU-14          [-1, 128, 64, 64]               0\n",
            "        MaxPool2d-15          [-1, 128, 32, 32]               0\n",
            "           Conv2d-16          [-1, 256, 32, 32]       1,605,888\n",
            "             ReLU-17          [-1, 256, 32, 32]               0\n",
            "           Conv2d-18          [-1, 256, 32, 32]       3,211,520\n",
            "             ReLU-19          [-1, 256, 32, 32]               0\n",
            "        MaxPool2d-20          [-1, 256, 16, 16]               0\n",
            "          Flatten-21                [-1, 65536]               0\n",
            "           Linear-22                    [-1, 3]         196,611\n",
            "================================================================\n",
            "Total params: 6,574,627\n",
            "Trainable params: 6,574,627\n",
            "Non-trainable params: 0\n",
            "----------------------------------------------------------------\n",
            "Input size (MB): 0.75\n",
            "Forward/backward pass size (MB): 128.00\n",
            "Params size (MB): 25.08\n",
            "Estimated Total Size (MB): 153.83\n",
            "----------------------------------------------------------------\n"
          ]
        }
      ]
    },
    {
      "cell_type": "markdown",
      "metadata": {
        "id": "0u2TaN8B-iL_"
      },
      "source": [
        "### Training\n",
        "\n",
        "\n",
        "\n",
        "1.   Optimizer\n",
        "2.   Earlystoping\n",
        "\n"
      ]
    },
    {
      "cell_type": "code",
      "metadata": {
        "id": "lCOTekb23StB"
      },
      "source": [
        "loss_fn = nn.CrossEntropyLoss()\n",
        "optimizer = torch.optim.Adam(model.parameters())"
      ],
      "execution_count": null,
      "outputs": []
    },
    {
      "cell_type": "code",
      "metadata": {
        "id": "oq_yWj7AFvKV"
      },
      "source": [
        "def train(dataloader, model, loss_fn, optimizer):\n",
        "    size = len(dataloader.dataset) # number of samples\n",
        "    num_batches = len(dataloader) # batches per epoch\n",
        "\n",
        "    model.train() # to training mode.\n",
        "    epoch_loss, epoch_correct = 0, 0\n",
        "    for batch_i, (x, y) in enumerate(tqdm(dataloader, leave=False)):\n",
        "        x, y = x.to(device), y.to(device) # move data to GPU\n",
        "\n",
        "        # zero the parameter gradients\n",
        "        optimizer.zero_grad()\n",
        "\n",
        "        # Compute prediction loss\n",
        "        pred = model(x)\n",
        "        loss = loss_fn(pred, y)\n",
        "\n",
        "        # Optimization by gradients\n",
        "        loss.backward() # backpropagation to compute gradients\n",
        "        optimizer.step() # update model params\n",
        "\n",
        "        # write to logs\n",
        "        epoch_loss += loss.item() # tensor -> python value\n",
        "        # (N, Class)\n",
        "        epoch_correct += (pred.argmax(dim=1) == y).sum().item()\n",
        "\n",
        "    # return avg loss of epoch, acc of epoch\n",
        "    return epoch_loss/num_batches, epoch_correct/size\n",
        "\n",
        "\n",
        "def test(dataloader, model, loss_fn):\n",
        "    size = len(dataloader.dataset) # number of samples\n",
        "    num_batches = len(dataloader) # batches per epoch\n",
        "\n",
        "    model.eval() # model to test mode.\n",
        "    epoch_loss, epoch_correct = 0, 0\n",
        "\n",
        "    # No gradient for test data\n",
        "    with torch.no_grad():\n",
        "        for batch_i, (x, y) in enumerate(dataloader):\n",
        "            x, y = x.to(device), y.to(device)\n",
        "\n",
        "            # Compute prediction loss\n",
        "            pred = model(x)\n",
        "            loss = loss_fn(pred, y)\n",
        "\n",
        "            # write to logs\n",
        "            epoch_loss += loss.item()\n",
        "            epoch_correct += (pred.argmax(1) == y).sum().item()\n",
        "\n",
        "    return epoch_loss/num_batches, epoch_correct/size"
      ],
      "execution_count": null,
      "outputs": []
    },
    {
      "cell_type": "code",
      "metadata": {
        "id": "ZwpannDmF7v_",
        "colab": {
          "base_uri": "https://localhost:8080/",
          "height": 177,
          "referenced_widgets": [
            "42e22f38574b403ea0fbf23701638300",
            "813ec8fadcf6444ebe01e5e348044399",
            "8b7e53c0640e4061a52d8fddc0f66966",
            "b5fa30a979364f91918aabba457e5d8d",
            "b1771a31ba22457ba1b36a6a5d7720a2",
            "25f6064049944ac2b5dc8e90855a3eec",
            "24465e1170044be799bb39feb72e8917",
            "fd1b9018ff7a4f6facf7213cf1ccbeef",
            "75aa6ebe60c142fbb654304cb27d2cf2",
            "d5b0b0f154ec40d396f3da4ba86c3774",
            "c14980a3f0c44192b7253d5c9faa7a1e",
            "dec26c92805742218d2f25109f2ac48e",
            "950214a4e2644d2fbcbfe53b7bc03257",
            "5fbe6e928e9d4611a210de8c30ff4555",
            "6509bdcefd2347f884169483d0b76f9f",
            "3f0cf48acf5f4d2eb7603a68f547941a",
            "87c8e86d6e3a474fbbb3682443ca4241",
            "ffb8e219953f4998b8cbd7ba46a75acc",
            "cf4daec8240140179ae00000848eb883",
            "4f45db9c2fad4c288a940635d7beb047",
            "899ea6356f424af0b5b85da164334210",
            "356acaaacea34ff49ed4c0a0f052ff23",
            "3494044226a3402484260dd1eb172cf9",
            "1e53848c1ac3473da56ac5327c7ad3d6",
            "d49adc1325db4411b437bf1783497632",
            "24781ba72b0048fbbb6a1fbd1cc3be65",
            "15d39446873b4438aa4d59a42b1a94ab",
            "7a04489755eb4d0790bcbe423b9f17a9",
            "d8dcdd32ffeb4c4484dd327c45e6a344",
            "4bc6ede2e2cf48e392e3b5a69a80f5bc",
            "4728ebf943e040a0b935f964722ab434",
            "09a447cb1b394540a93310a73e2dd9f0",
            "ba969c8e22e14b2a93450e2f04e8c5fc",
            "8c3b0b3afaf54d298676e6e7aa6a56fb",
            "6b91165f50a043db9124a87ccc759875",
            "c3179e435d7049f68d68c39d7913c624",
            "4ab990cb21f44bc19965bd2e0dcfecab",
            "8aaeb9113a5448919ed2483948448e26",
            "0763107ccc304851b7aa56e7d037e4c0",
            "72f94d9d5b924a27bc32fe980ae5cd5a",
            "b202d873d18349869d4b5e5da987b265",
            "93e4eff3a4694c7097b8a9a33198791c",
            "7a61b0343e904dbb8021f6539cda776c",
            "db0a5de237854dbbb42950a6baa02015",
            "d75e378a3097436188256979f6c65b82",
            "464434c3943b411196fb86ff930434e2",
            "7c751c8948ba4418a776909e1490bd21",
            "c2c81c02a0a34c42b24052f9635e726d",
            "8135d500aeab4593bf2cc26912788c9e",
            "255146c45d84453ba64ebb8e7eea2717",
            "0f9969ade9274249a623262dbf47145f",
            "3fb7415c38f54918b0c99a3f1b7397e8",
            "df3882d8d4704a2a9b4ea970e3434471",
            "2393fea2ea8e4f2cbe6fa15fdb31fc40",
            "870f33718c944a889a32856d19e2728d",
            "ee8b228d81184277bdf0534514f1bd09",
            "c22f6fa115084484b72d6b5e177420b1",
            "d5e7da264bce4de29b824b00e78f4f65",
            "242bb7df125447f1b8086d44a0e8aa5c",
            "f83be1c0cd7547ee89cb722c75c7716e",
            "dd18ca0195f14c8795a0d9c18fa7eb40",
            "eac8cc107a0e4c51a857884b2ed4c4f1",
            "7f4fb5bfd092408fb62e59e5f3827fc3",
            "5a9c97f889d94f7c96b9e460ca2c592f",
            "849eef485f704346b820b5b715b703e7",
            "269d741378234b3683105b529d3d78df",
            "186b5b25fd4043d9ad1a0c2168e4451d",
            "c083a46db45e4fd68a6da8ae9dc46dba",
            "d82a4561851f4150beec165653d5ac54",
            "165e408a2efc4da5819138d6d24a72a3",
            "7d82b7358f6c4c3589f7570388fb71f9",
            "b52d6730b08749d7b7bdc00f9e6579df",
            "e15e0baff30d47a8920a6644e4a56034",
            "80926dade23e486f8a158b578f937f61",
            "22d0fcc3587442f49ee251d93d41e07c",
            "1e26a9c32f0842da924e116b1c3f15fd",
            "a7dbe44afb03446a9f3001b0de178e0c",
            "23ccb62e740d46ca81050b05d5a23329",
            "2e271724d8c846858e43a2f63dfb203c",
            "126f7d5003e84bd09fd72a88e7acbcca",
            "25274ec0a43b40e396edc5bd8bd6348f",
            "0c9b24244fb14da083b3e594707f1679",
            "c70712bec20a43af82afdce80a5cd208",
            "ec453578ad784ade8bfee99daf50e240",
            "50b89f6921d8471c9f1d833b9e4fb5eb",
            "dbf26c5e1cde4d8983efacf74ae82483",
            "888c682e4ddb4058ae8e7644118d1094",
            "41082923b8ac4254b28a7e02313fea9c",
            "48383b8205214ce693f0ab28343f928c",
            "93d0e442534144a3ae7e1a8d8e844a49",
            "bedc095314154e0ba38038ba5754fa12",
            "b05316ef8d9845d1a385d3d9d4fd08b1",
            "6cb6e8249a39496086029bb816d6edd9",
            "68fed1842c2344e385b433dd11849aea",
            "4dfb7e64405a4c4dae028b3b451e7304",
            "a9e6ab26dac34196a2ad21ffbdb0d2c0",
            "e3947ad3422347bfbe1f32a37afef4ce",
            "828e0675033845f5a131f08bacbd0c2e",
            "ea74d36733564c3a84df77174a29e76b"
          ]
        },
        "outputId": "3d273432-ab4b-4e48-e3aa-16d90daa5f73"
      },
      "source": [
        "EPOCHS = 100\n",
        "logs = {\n",
        "    'train_loss': [], 'train_acc': [], 'val_loss': [], 'val_acc': []\n",
        "}\n",
        "# Earlystopping\n",
        "patience = 5\n",
        "counter = 0\n",
        "best_loss = np.inf\n",
        "\n",
        "for epoch in tqdm(range(EPOCHS)):\n",
        "    train_loss, train_acc = train(train_loader, model, loss_fn, optimizer)\n",
        "    val_loss, val_acc = test(val_loader, model, loss_fn)\n",
        "\n",
        "    print(f'EPOCH: {epoch:04d} \\\n",
        "    train_loss: {train_loss:.4f}, train_acc: {train_acc:.3f} \\\n",
        "    val_loss: {val_loss:.4f}, val_acc: {val_acc:.3f} ')\n",
        "\n",
        "    logs['train_loss'].append(train_loss)\n",
        "    logs['train_acc'].append(train_acc)\n",
        "    logs['val_loss'].append(val_loss)\n",
        "    logs['val_acc'].append(val_acc)\n",
        "\n",
        "    torch.save(model.state_dict(), \"last.pth\")\n",
        "    # chcek improvement\n",
        "    if val_loss < best_loss:\n",
        "        counter = 0\n",
        "        best_loss = val_loss\n",
        "        torch.save(model.state_dict(), \"best.pth\")\n",
        "    else:\n",
        "        counter += 1\n",
        "    if counter >= patience:\n",
        "        print(\"Earlystop!\")\n",
        "        break"
      ],
      "execution_count": null,
      "outputs": [
        {
          "output_type": "display_data",
          "data": {
            "text/plain": [
              "  0%|          | 0/100 [00:00<?, ?it/s]"
            ],
            "application/vnd.jupyter.widget-view+json": {
              "version_major": 2,
              "version_minor": 0,
              "model_id": "42e22f38574b403ea0fbf23701638300"
            }
          },
          "metadata": {}
        },
        {
          "output_type": "display_data",
          "data": {
            "text/plain": [
              "  0%|          | 0/5 [00:00<?, ?it/s]"
            ],
            "application/vnd.jupyter.widget-view+json": {
              "version_major": 2,
              "version_minor": 0,
              "model_id": "dec26c92805742218d2f25109f2ac48e"
            }
          },
          "metadata": {}
        },
        {
          "output_type": "stream",
          "name": "stdout",
          "text": [
            "EPOCH: 0000     train_loss: 1.0910, train_acc: 0.540     val_loss: 1.0959, val_acc: 0.500 \n"
          ]
        },
        {
          "output_type": "display_data",
          "data": {
            "text/plain": [
              "  0%|          | 0/5 [00:00<?, ?it/s]"
            ],
            "application/vnd.jupyter.widget-view+json": {
              "version_major": 2,
              "version_minor": 0,
              "model_id": "3494044226a3402484260dd1eb172cf9"
            }
          },
          "metadata": {}
        },
        {
          "output_type": "stream",
          "name": "stdout",
          "text": [
            "EPOCH: 0001     train_loss: 1.0669, train_acc: 0.667     val_loss: 1.0935, val_acc: 0.500 \n"
          ]
        },
        {
          "output_type": "display_data",
          "data": {
            "text/plain": [
              "  0%|          | 0/5 [00:00<?, ?it/s]"
            ],
            "application/vnd.jupyter.widget-view+json": {
              "version_major": 2,
              "version_minor": 0,
              "model_id": "8c3b0b3afaf54d298676e6e7aa6a56fb"
            }
          },
          "metadata": {}
        },
        {
          "output_type": "stream",
          "name": "stdout",
          "text": [
            "EPOCH: 0002     train_loss: 1.0322, train_acc: 0.667     val_loss: 1.0939, val_acc: 0.500 \n"
          ]
        },
        {
          "output_type": "display_data",
          "data": {
            "text/plain": [
              "  0%|          | 0/5 [00:00<?, ?it/s]"
            ],
            "application/vnd.jupyter.widget-view+json": {
              "version_major": 2,
              "version_minor": 0,
              "model_id": "d75e378a3097436188256979f6c65b82"
            }
          },
          "metadata": {}
        },
        {
          "output_type": "stream",
          "name": "stdout",
          "text": [
            "EPOCH: 0003     train_loss: 0.9784, train_acc: 0.667     val_loss: 1.1093, val_acc: 0.500 \n"
          ]
        },
        {
          "output_type": "display_data",
          "data": {
            "text/plain": [
              "  0%|          | 0/5 [00:00<?, ?it/s]"
            ],
            "application/vnd.jupyter.widget-view+json": {
              "version_major": 2,
              "version_minor": 0,
              "model_id": "ee8b228d81184277bdf0534514f1bd09"
            }
          },
          "metadata": {}
        },
        {
          "output_type": "stream",
          "name": "stdout",
          "text": [
            "EPOCH: 0004     train_loss: 0.9232, train_acc: 0.667     val_loss: 1.1542, val_acc: 0.500 \n"
          ]
        },
        {
          "output_type": "display_data",
          "data": {
            "text/plain": [
              "  0%|          | 0/5 [00:00<?, ?it/s]"
            ],
            "application/vnd.jupyter.widget-view+json": {
              "version_major": 2,
              "version_minor": 0,
              "model_id": "186b5b25fd4043d9ad1a0c2168e4451d"
            }
          },
          "metadata": {}
        },
        {
          "output_type": "stream",
          "name": "stdout",
          "text": [
            "EPOCH: 0005     train_loss: 0.8733, train_acc: 0.667     val_loss: 1.2205, val_acc: 0.500 \n"
          ]
        },
        {
          "output_type": "display_data",
          "data": {
            "text/plain": [
              "  0%|          | 0/5 [00:00<?, ?it/s]"
            ],
            "application/vnd.jupyter.widget-view+json": {
              "version_major": 2,
              "version_minor": 0,
              "model_id": "23ccb62e740d46ca81050b05d5a23329"
            }
          },
          "metadata": {}
        },
        {
          "output_type": "stream",
          "name": "stdout",
          "text": [
            "EPOCH: 0006     train_loss: 0.8482, train_acc: 0.667     val_loss: 1.2926, val_acc: 0.500 \n"
          ]
        },
        {
          "output_type": "display_data",
          "data": {
            "text/plain": [
              "  0%|          | 0/5 [00:00<?, ?it/s]"
            ],
            "application/vnd.jupyter.widget-view+json": {
              "version_major": 2,
              "version_minor": 0,
              "model_id": "48383b8205214ce693f0ab28343f928c"
            }
          },
          "metadata": {}
        }
      ]
    },
    {
      "cell_type": "markdown",
      "metadata": {
        "id": "nIarHaD-HWMi"
      },
      "source": [
        "#### Logs"
      ]
    },
    {
      "cell_type": "code",
      "metadata": {
        "id": "BfOJT0T1GLP5",
        "colab": {
          "base_uri": "https://localhost:8080/"
        },
        "outputId": "616b4ca5-491c-45aa-fa42-39312a13cd4b"
      },
      "source": [
        "# Plot loss curve\n",
        "plt.figure(figsize=(10, 5))\n",
        "plt.subplot(1, 2, 1)\n",
        "plt.title('Loss')\n",
        "plt.plot(logs['train_loss'])\n",
        "plt.plot(logs['val_loss'])\n",
        "plt.legend(['train_loss', 'val_loss'])\n",
        "# plot acc\n",
        "plt.subplot(1, 2, 2)\n",
        "plt.title('Accuracy')\n",
        "plt.plot(logs['train_acc'])\n",
        "plt.plot(logs['val_acc'])\n",
        "plt.legend(['train_acc', 'val_acc'])\n",
        "plt.show()"
      ],
      "execution_count": null,
      "outputs": [
        {
          "output_type": "display_data",
          "data": {
            "text/plain": [
              "<Figure size 1000x500 with 2 Axes>"
            ],
            "image/png": "[encoded data removed]"
          },
          "metadata": {}
        }
      ]
    },
    {
      "cell_type": "markdown",
      "metadata": {
        "id": "L2seN6KMOVPk"
      },
      "source": [
        "#### Save and load the model\n",
        "\n",
        "\n",
        "\n",
        "1.   Save model weights only\n",
        "2.   Save with model class architecture\n",
        "\n"
      ]
    },
    {
      "cell_type": "markdown",
      "metadata": {
        "id": "VQngGiBtPmjY"
      },
      "source": [
        "1. Save model weights only"
      ]
    },
    {
      "cell_type": "code",
      "metadata": {
        "id": "CXMn0IImOW-f"
      },
      "source": [
        "# Save model weights\n",
        "PATH = './model_weights.pth'\n",
        "torch.save(model.state_dict(), PATH)"
      ],
      "execution_count": null,
      "outputs": []
    },
    {
      "cell_type": "code",
      "metadata": {
        "id": "aq2znQ4DHZ_D",
        "colab": {
          "base_uri": "https://localhost:8080/"
        },
        "outputId": "7a5414ec-4630-42d0-9c31-a63587a87e94"
      },
      "source": [
        "# load model weights\n",
        "model = CNN()\n",
        "model.load_state_dict(torch.load(PATH))"
      ],
      "execution_count": null,
      "outputs": [
        {
          "output_type": "execute_result",
          "data": {
            "text/plain": [
              "<All keys matched successfully>"
            ]
          },
          "metadata": {},
          "execution_count": 32
        }
      ]
    },
    {
      "cell_type": "markdown",
      "metadata": {
        "id": "_f1wQsFLPvMF"
      },
      "source": [
        "2. Save with model class architecture"
      ]
    },
    {
      "cell_type": "code",
      "metadata": {
        "id": "X7H0YFd7P0RE"
      },
      "source": [
        "torch.save(model, 'model.pth')\n",
        "\n",
        "model = torch.load('model.pth')"
      ],
      "execution_count": null,
      "outputs": []
    },
    {
      "cell_type": "markdown",
      "metadata": {
        "id": "BUbA3ZCqP9_z"
      },
      "source": [
        "#### Evaluation"
      ]
    },
    {
      "cell_type": "code",
      "metadata": {
        "id": "9IFSO9YLPS0S"
      },
      "source": [
        "model = model.to(device) # move model to GPU\n",
        "model.eval() # Set model to evaluation mode\n",
        "# Create temp tensor\n",
        "y_true = torch.tensor([], dtype=torch.long).to(device)\n",
        "y_pred_logits = torch.tensor([]).to(device)\n",
        "\n",
        "# deactivate autograd engine and reduce memory usage and speed up computations\n",
        "with torch.no_grad():\n",
        "    for x, y in val_loader:\n",
        "        x, y = x.to(device), y.to(device)\n",
        "\n",
        "        pred = model(x)\n",
        "        # Concatenate Ground truth and prediction\n",
        "        y_true = torch.cat((y_true, y), dim=0)\n",
        "        y_pred_logits = torch.cat((y_pred_logits, pred), dim=0)\n",
        "\n",
        "y_pred_cls = y_pred_logits.argmax(1) # get class idx with max prob (100, 3) -> (100, )\n",
        "y_pred_probs = nn.Softmax(dim=1)(y_pred_logits) # convert logits to probability\n",
        "\n",
        "# Move tensor to CPU and convert to np.ndarray\n",
        "y_true = y_true.cpu().numpy()\n",
        "y_pred_cls = y_pred_cls.cpu().numpy()\n",
        "y_pred_probs = y_pred_probs.cpu().numpy()\n"
      ],
      "execution_count": null,
      "outputs": []
    },
    {
      "cell_type": "code",
      "metadata": {
        "id": "QBXgK9tsRncu",
        "colab": {
          "base_uri": "https://localhost:8080/"
        },
        "outputId": "aeac0247-49fe-49a9-ff0d-1628e79cef43"
      },
      "source": [
        "# Shape\n",
        "y_true.shape, y_pred_probs.shape, y_pred_cls.shape"
      ],
      "execution_count": null,
      "outputs": [
        {
          "output_type": "execute_result",
          "data": {
            "text/plain": [
              "((360,), (360, 6), (360,))"
            ]
          },
          "metadata": {},
          "execution_count": 35
        }
      ]
    },
    {
      "cell_type": "code",
      "source": [
        "# calculate ACC\n",
        "acc = sum(y_true == y_pred_cls) / len(y_true)\n",
        "acc"
      ],
      "metadata": {
        "id": "NJExUbHp-RHG",
        "colab": {
          "base_uri": "https://localhost:8080/"
        },
        "outputId": "fcf74ef4-80f9-4b44-be26-a83af7db282b"
      },
      "execution_count": null,
      "outputs": [
        {
          "output_type": "execute_result",
          "data": {
            "text/plain": [
              "0.8472222222222222"
            ]
          },
          "metadata": {},
          "execution_count": 36
        }
      ]
    },
    {
      "cell_type": "code",
      "source": [],
      "metadata": {
        "id": "C4Q2pWCoL6IT"
      },
      "execution_count": null,
      "outputs": []
    }
  ]
}