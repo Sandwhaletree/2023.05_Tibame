{
  "nbformat": 4,
  "nbformat_minor": 0,
  "metadata": {
    "colab": {
      "provenance": [],
      "authorship_tag": "ABX9TyPYOot7fZAxgxhdKp0bBEUl",
      "include_colab_link": true
    },
    "kernelspec": {
      "name": "python3",
      "display_name": "Python 3"
    },
    "language_info": {
      "name": "python"
    }
  },
  "cells": [
    {
      "cell_type": "markdown",
      "metadata": {
        "id": "view-in-github",
        "colab_type": "text"
      },
      "source": [
        "<a href=\"https://colab.research.google.com/github/Sandwhaletree/2023.05_Tibame/blob/main/%E9%80%B2%E9%9A%8EDL_%E6%9D%8E%E6%99%BA%E6%8F%9A_Class/007_YOLOv8_BCCD_0718.ipynb\" target=\"_parent\"><img src=\"https://colab.research.google.com/assets/colab-badge.svg\" alt=\"Open In Colab\"/></a>"
      ]
    },
    {
      "cell_type": "code",
      "execution_count": null,
      "metadata": {
        "id": "U5LhurZtTOfd"
      },
      "outputs": [],
      "source": [
        "from glob import glob #在目錄中查找符合特定規則的文件路徑名\n",
        "import numpy as np\n",
        "import matplotlib.pyplot as plt\n",
        "import cv2\n",
        "from PIL import Image\n",
        "import os\n",
        "from tqdm.auto import tqdm #tqdm是一個快速，可擴展的Python進度條\n",
        "from sklearn.model_selection import train_test_split #train_test_split函數用於將數據集分割為訓練集和測試集\n",
        "\n",
        "import torch #開源的機器學習庫，提供了許多深度學習的功能\n",
        "from torch import nn #nn模組提供了許多用於建立神經網路的類和函數\n",
        "import torchvision #torchvision是一個處理圖像和視覺的torch包，提供了許多視覺圖像處理的工具和數據集\n",
        "from torchvision import models, transforms #models提供了許多預訓練的模型，如ResNet, VGG等。transforms提供了許多圖像預處理的方法\n",
        "from torchsummary import summary #torchsummary提供了一種用於顯示模型結構的方法\n",
        "\n",
        "print(\"PyTorch Version: \", torch.__version__) #PyTorch版本2.0.1+cu118\n",
        "print(\"Torchvision Version: \", torchvision.__version__) #Torchvision版本0.15.2+cu118"
      ]
    },
    {
      "cell_type": "code",
      "source": [
        "#設定模型的存儲路徑和選擇運算裝置\n",
        "MODEL_PATH = 'model.pth' #'model.pth': 這行程式碼是在設定模型的存儲路徑，這裡將模型的存儲路徑設定為當前目錄下的'model.pth'文件\n",
        "device = 'cuda' if torch.cuda.is_available() else 'cpu' #選擇運算裝置，如有gpu裝置設為cuda，否則為cpu\n",
        "print(f'device: {device}')"
      ],
      "metadata": {
        "id": "Yf2RVY9rTS37"
      },
      "execution_count": null,
      "outputs": []
    },
    {
      "cell_type": "markdown",
      "source": [
        "#### Download Dataset"
      ],
      "metadata": {
        "id": "FEqZdowzTUM9"
      }
    },
    {
      "cell_type": "code",
      "source": [
        "# Download dataset from GoogleDrive\n",
        "!pip install --upgrade gdown #gdown是一個可以從Google Drive下載文件的命令行工具\n",
        "!gdown --fuzzy 1kIef9G5Og7VgDPEHt_vIJMTKHdC7_0Kq --output \"./NEU_defect.zip\" #用gdown工具從Google Drive下載數據集 #這裡的1kIef9G5Og7VgDPEHt_vIJMTKHdC7_0Kq是Google Drive文件的ID，--output \"./NEU_defect.zip\"指定了下載的文件的存儲路徑和名稱\n",
        "!unzip -q \"./NEU_defect.zip\" #-q選項表示在解壓縮時不輸出任何信息，\"./NEU_defect.zip\"是要解壓縮的zip文件的路徑"
      ],
      "metadata": {
        "id": "utVZ4NSrTZNf"
      },
      "execution_count": null,
      "outputs": []
    },
    {
      "cell_type": "code",
      "source": [
        "IMG_SIZE = 200 # 128\n",
        "class_names = ['PS', 'Sc', 'RS', 'In', 'Cr', 'Pa']\n",
        "class_map = {name: i for i, name in enumerate(class_names)}\n",
        "print(class_map)\n",
        "NUM_CLASS = len(class_names)"
      ],
      "metadata": {
        "id": "M9r1HfXnTaH6"
      },
      "execution_count": null,
      "outputs": []
    },
    {
      "cell_type": "code",
      "source": [
        "# search .bmp file paths\n",
        "paths = glob(\"./NEU_defect/*.bmp\")\n",
        "print(\"number of samples\", len(paths))"
      ],
      "metadata": {
        "id": "v1orSsTaTanN"
      },
      "execution_count": null,
      "outputs": []
    },
    {
      "cell_type": "markdown",
      "source": [
        "#### Dataset & Dataloader"
      ],
      "metadata": {
        "id": "qIXDrVj_TbnY"
      }
    },
    {
      "cell_type": "code",
      "source": [
        "class NEUDataset(torch.utils.data.Dataset):\n",
        "    def __init__(self, img_paths, img_size, cls_map, transform):\n",
        "        self.img_paths = img_paths\n",
        "        self.img_size = img_size\n",
        "        self.cls_map = cls_map\n",
        "        self.transform = transform\n",
        "\n",
        "    def __len__(self):\n",
        "        \"\"\"number of samples\"\"\"\n",
        "        return len(self.img_paths)\n",
        "\n",
        "    def __getitem__(self, idx):\n",
        "        # Read img\n",
        "        path = self.img_paths[idx] # get img path\n",
        "        img = Image.open(path).convert('RGB')\n",
        "\n",
        "        # transform img\n",
        "        img = self.transform(img) #資料前處理\n",
        "\n",
        "        # Read class index\n",
        "        cls_name = path.split('/')[-1].split('_')[0]\n",
        "        cls_idx = self.cls_map[cls_name]\n",
        "        cls_idx = torch.tensor(cls_idx, dtype=torch.int64)\n",
        "        return img, cls_idx"
      ],
      "metadata": {
        "id": "jAdg0JaaTcbW"
      },
      "execution_count": null,
      "outputs": []
    },
    {
      "cell_type": "code",
      "source": [
        "# split dataset\n",
        "train_paths, val_paths = train_test_split(paths,\n",
        "    random_state=556,\n",
        "    test_size=0.2) #切20%資料\n",
        "\n",
        "len(train_paths), len(val_paths)"
      ],
      "metadata": {
        "id": "EeBeiBXmTdYn"
      },
      "execution_count": null,
      "outputs": []
    },
    {
      "cell_type": "code",
      "source": [
        "from torchvision.models import resnet50, ResNet50_Weights\n",
        "\n",
        "# Preprocess Transform\n",
        "transform =  ResNet50_Weights.DEFAULT.transforms() #DEFAULT找預設最好的參數給你\n",
        "\n",
        "# Build Dataset\n",
        "train_ds = NEUDataset(train_paths, IMG_SIZE, class_map,\n",
        "                      transform)\n",
        "val_ds = NEUDataset(val_paths, IMG_SIZE, class_map,\n",
        "                    transform)"
      ],
      "metadata": {
        "id": "Fm1OUiROTeZ5"
      },
      "execution_count": null,
      "outputs": []
    },
    {
      "cell_type": "code",
      "source": [
        "transform #先resize在切"
      ],
      "metadata": {
        "id": "93JHcqIGTfaY"
      },
      "execution_count": null,
      "outputs": []
    },
    {
      "cell_type": "code",
      "source": [
        "# Build dataloader\n",
        "BS = 32\n",
        "train_loader = torch.utils.data.DataLoader(train_ds, BS, shuffle=True)\n",
        "val_loader = torch.utils.data.DataLoader(val_ds, BS)"
      ],
      "metadata": {
        "id": "4NawqpwZTgK9"
      },
      "execution_count": null,
      "outputs": []
    },
    {
      "cell_type": "code",
      "source": [
        "# Visulize sample\n",
        "idx = np.random.randint(0, len(train_ds))\n",
        "img, cls = train_ds[idx]\n",
        "\n",
        "img_normalized = img.permute(1, 2, 0)\n",
        "plt.imshow(img_normalized)\n",
        "plt.show()\n",
        "\n",
        "# Convert back to original value\n",
        "img_raw = img.numpy().transpose(1, 2, 0) # (3, 256, 256) -> (256, 256, 3)\n",
        "mean = np.array([0.485, 0.456, 0.406])\n",
        "std = np.array([0.229, 0.224, 0.225])\n",
        "img_raw = std * img_raw + mean\n",
        "img_raw = np.clip(img_raw, 0, 1)\n",
        "plt.imshow(img_raw)\n",
        "plt.show()\n",
        "\n",
        "print('Class:', cls)"
      ],
      "metadata": {
        "id": "-CGoqLIBThBY"
      },
      "execution_count": null,
      "outputs": []
    },
    {
      "cell_type": "markdown",
      "source": [
        "#### Build Model\n",
        "\n",
        "Pick your favorite models: https://pytorch.org/vision/stable/models.html"
      ],
      "metadata": {
        "id": "WbfRWgDgTiSB"
      }
    },
    {
      "cell_type": "code",
      "source": [
        "model = models.resnet50(weights=ResNet50_Weights.DEFAULT) #ResNet50_Weights.DEFAULT與之前不同的地方\n",
        "print(model)"
      ],
      "metadata": {
        "id": "y6VOJcJBTi8j"
      },
      "execution_count": null,
      "outputs": []
    },
    {
      "cell_type": "code",
      "source": [
        "# replace classifier\n",
        "num_features = model.fc.in_features # len of feature vectors\n",
        "\n",
        "# # Freeze model\n",
        "# for param in model.parameters():\n",
        "#     param.requires_grad = False\n",
        "\n",
        "# Replace classifier\n",
        "model.fc = nn.Linear(num_features, 6)\n",
        "print(model.fc)\n"
      ],
      "metadata": {
        "id": "-SBeBYrsTkF9"
      },
      "execution_count": null,
      "outputs": []
    },
    {
      "cell_type": "code",
      "source": [
        "summary(model.to(device), (3, 224, 224))"
      ],
      "metadata": {
        "id": "ROmYBpgpTkqb"
      },
      "execution_count": null,
      "outputs": []
    },
    {
      "cell_type": "markdown",
      "source": [
        "#### Training"
      ],
      "metadata": {
        "id": "UJgZhhSKTlyQ"
      }
    },
    {
      "cell_type": "code",
      "source": [
        "def train_epoch(dataloader, model, loss_fn, optimizer):\n",
        "    size = len(dataloader.dataset) # number of samples\n",
        "    num_batches = len(dataloader) # batches per epoch\n",
        "\n",
        "    model.train() # to training mode.\n",
        "    epoch_loss, epoch_correct = 0, 0\n",
        "    for batch_i, (x, y) in enumerate(tqdm(dataloader, leave=False)):\n",
        "        x, y = x.to(device), y.to(device) # move data to GPU\n",
        "\n",
        "        # zero the parameter gradients\n",
        "        optimizer.zero_grad()\n",
        "\n",
        "        # Compute prediction loss\n",
        "        pred = model(x)\n",
        "        loss = loss_fn(pred, y)\n",
        "\n",
        "        # Optimization by gradients\n",
        "        loss.backward() # backpropagation to compute gradients\n",
        "        optimizer.step() # update model params\n",
        "\n",
        "        # write to logs\n",
        "        epoch_loss += loss.item() # tensor -> python value\n",
        "        # (N, Class)\n",
        "        epoch_correct += (pred.argmax(dim=1) == y).sum().item()\n",
        "\n",
        "    # return avg loss of epoch, acc of epoch\n",
        "    return epoch_loss/num_batches, epoch_correct/size\n",
        "\n",
        "\n",
        "def test_epoch(dataloader, model, loss_fn):\n",
        "    size = len(dataloader.dataset) # number of samples\n",
        "    num_batches = len(dataloader) # batches per epoch\n",
        "\n",
        "    model.eval() # model to test mode.\n",
        "    epoch_loss, epoch_correct = 0, 0\n",
        "\n",
        "    # No gradient for test data\n",
        "    with torch.no_grad():\n",
        "        for batch_i, (x, y) in enumerate(dataloader):\n",
        "            x, y = x.to(device), y.to(device)\n",
        "\n",
        "            # Compute prediction loss\n",
        "            pred = model(x)\n",
        "            loss = loss_fn(pred, y)\n",
        "\n",
        "            # write to logs\n",
        "            epoch_loss += loss.item()\n",
        "            epoch_correct += (pred.argmax(1) == y).sum().item()\n",
        "\n",
        "    return epoch_loss/num_batches, epoch_correct/size"
      ],
      "metadata": {
        "id": "rY6YhRpiTmlw"
      },
      "execution_count": null,
      "outputs": []
    },
    {
      "cell_type": "markdown",
      "source": [
        "```python\n",
        "from torchvision.models import resnet50, ResNet50_Weights\n",
        "\n",
        "resnet50(weights=ResNet50_Weights.IMAGENET1K_V1)\n",
        "resnet50(weights=ResNet50_Weights.IMAGENET1K_V2)\n",
        "resnet50(weights=ResNet50_Weights.DEFAULT)\n",
        "\n",
        "# Strings are also supported\n",
        "resnet50(weights=\"IMAGENET1K_V2\")\n",
        "\n",
        "# No weights - random initialization\n",
        "resnet50(weights=None)\n",
        "\n",
        "# Old version\n",
        "# pretrained weights:\n",
        "resnet50(weights=ResNet50_Weights.IMAGENET1K_V1)\n",
        "resnet50(weights=\"IMAGENET1K_V1\")\n",
        "resnet50(pretrained=True)  # deprecated\n",
        "resnet50(True)  # deprecated\n",
        "\n",
        "# no weights:\n",
        "resnet50(weights=None)\n",
        "resnet50()\n",
        "resnet50(pretrained=False)  # deprecated\n",
        "resnet50(False)  # deprecated\n",
        "```"
      ],
      "metadata": {
        "id": "WxPFdsR9TnnE"
      }
    },
    {
      "cell_type": "code",
      "source": [
        "def train(pretrained, freeze=False): #要不要做pretrained  要不要做freeze\n",
        "    # Model\n",
        "    if pretrained:\n",
        "        model = models.resnet50(weights=ResNet50_Weights.DEFAULT)\n",
        "    else:\n",
        "        model = models.resnet50(weights=None)\n",
        "\n",
        "    if freeze: #要不要做freeze\n",
        "        # Freeze model\n",
        "        for param in model.parameters():\n",
        "            param.requires_grad = False\n",
        "    # Replace classifier\n",
        "    num_features = model.fc.in_features # len of feature vectors\n",
        "    model.fc = nn.Linear(num_features, 6)\n",
        "    model = model.to(device)\n",
        "\n",
        "    loss_fn = nn.CrossEntropyLoss()\n",
        "    # lower learning rate for finetuning\n",
        "    optimizer = torch.optim.Adam(model.parameters(), lr=1e-4)\n",
        "\n",
        "    EPOCHS = 10\n",
        "    logs = {\n",
        "        'train_loss': [], 'train_acc': [], 'val_loss': [], 'val_acc': []\n",
        "    }\n",
        "    for epoch in tqdm(range(EPOCHS)):\n",
        "        train_loss, train_acc = train_epoch(train_loader, model, loss_fn, optimizer)\n",
        "        val_loss, val_acc = test_epoch(val_loader, model, loss_fn)\n",
        "\n",
        "        print(f'EPOCH: {epoch:04d} \\\n",
        "        train_loss: {train_loss:.4f}, train_acc: {train_acc:.3f} \\\n",
        "        val_loss: {val_loss:.4f}, val_acc: {val_acc:.3f} ')\n",
        "\n",
        "        logs['train_loss'].append(train_loss)\n",
        "        logs['train_acc'].append(train_acc)\n",
        "        logs['val_loss'].append(val_loss)\n",
        "        logs['val_acc'].append(val_acc)\n",
        "\n",
        "    # plot result\n",
        "    plt.figure(figsize=(6, 3))\n",
        "    plt.subplot(1, 2, 1)\n",
        "    plt.title('Loss')\n",
        "    plt.plot(logs['train_loss'])\n",
        "    plt.plot(logs['val_loss'])\n",
        "    plt.subplot(1, 2, 2)\n",
        "    plt.title('Acc.')\n",
        "    plt.plot(logs['train_acc'])\n",
        "    plt.plot(logs['val_acc'])\n",
        "    plt.show()\n",
        "\n",
        "    # Save model\n",
        "    torch.save(model, MODEL_PATH)"
      ],
      "metadata": {
        "id": "9zgxmFN_ToiA"
      },
      "execution_count": null,
      "outputs": []
    },
    {
      "cell_type": "code",
      "source": [
        "train(pretrained=False)\n",
        "train(pretrained=True)\n",
        "train(pretrained=True, freeze=True)"
      ],
      "metadata": {
        "id": "xYlNbkfxTpa9"
      },
      "execution_count": null,
      "outputs": []
    },
    {
      "cell_type": "markdown",
      "source": [
        "#### Ref:\n",
        "\n",
        "[Official: Transfer learning tutorials](https://pytorch.org/tutorials/beginner/transfer_learning_tutorial.html)\n",
        "\n",
        "[Official: Finetuning torchvision models tutorial](https://pytorch.org/tutorials/beginner/finetuning_torchvision_models_tutorial.html#load-data)\n",
        "\n",
        "[Accessing-and-modifying-different-layers-of-a-pretrained-model-in-pytorch](https://github.com/mortezamg63/Accessing-and-modifying-different-layers-of-a-pretrained-model-in-pytorch)"
      ],
      "metadata": {
        "id": "ORoYQBraTq6-"
      }
    },
    {
      "cell_type": "markdown",
      "source": [
        "#### Data Process"
      ],
      "metadata": {
        "id": "FiYxAlUXTVwI"
      }
    }
  ]
}