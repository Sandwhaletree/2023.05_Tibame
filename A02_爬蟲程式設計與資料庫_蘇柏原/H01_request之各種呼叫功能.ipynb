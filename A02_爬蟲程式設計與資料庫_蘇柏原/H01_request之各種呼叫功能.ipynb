{
  "nbformat": 4,
  "nbformat_minor": 0,
  "metadata": {
    "colab": {
      "provenance": [],
      "authorship_tag": "ABX9TyOmSXk/f3AmU6sTIcSiGjSn",
      "include_colab_link": true
    },
    "kernelspec": {
      "name": "python3",
      "display_name": "Python 3"
    },
    "language_info": {
      "name": "python"
    }
  },
  "cells": [
    {
      "cell_type": "markdown",
      "metadata": {
        "id": "view-in-github",
        "colab_type": "text"
      },
      "source": [
        "<a href=\"https://colab.research.google.com/github/Sandwhaletree/2023.05_Tibame/blob/main/A02_%E7%88%AC%E8%9F%B2%E7%A8%8B%E5%BC%8F%E8%A8%AD%E8%A8%88%E8%88%87%E8%B3%87%E6%96%99%E5%BA%AB_%E8%98%87%E6%9F%8F%E5%8E%9F/H01_request%E4%B9%8B%E5%90%84%E7%A8%AE%E5%91%BC%E5%8F%AB%E5%8A%9F%E8%83%BD.ipynb\" target=\"_parent\"><img src=\"https://colab.research.google.com/assets/colab-badge.svg\" alt=\"Open In Colab\"/></a>"
      ]
    },
    {
      "cell_type": "markdown",
      "source": [
        "##### HW1-嘗試用request之各種呼叫功能(head,get,post,delete,patch)尋找答案\n",
        "* 使用requests指令連線至[網址](http://teaching.bo-yuan.net/test/requests/)\n",
        "* 運用各種呼叫方式(head, get, post, put, delete, patch )找尋答案。\n",
        "* 完成後把操作過程中的所有指令保留在程式碼中，將檔案繳交上來"
      ],
      "metadata": {
        "id": "D6wGT5Z1HbSk"
      }
    },
    {
      "cell_type": "code",
      "execution_count": null,
      "metadata": {
        "colab": {
          "base_uri": "https://localhost:8080/"
        },
        "id": "IEo8uGb5HYMc",
        "outputId": "62c5922b-9da9-4808-b78b-b7ce1db2cd57"
      },
      "outputs": [
        {
          "output_type": "stream",
          "name": "stdout",
          "text": [
            "需要DELETE的操作。\n",
            "記得去PUT操作。\n",
            "PUT完了，也要PATCH資料。\n",
            "最後POST一筆資料吧。\n",
            "哈哈，答對了，請把操作過程中的所有指令保留在程式碼中，將檔案繳交上來。\n"
          ]
        }
      ],
      "source": [
        "import requests\n",
        "\n",
        "#需要DELETE的操作\n",
        "r1=requests.get('http://teaching.bo-yuan.net/test/requests/',params={\n",
        "    \"action\":\"action\"\n",
        "})\n",
        "print(r1.text)\n",
        "\n",
        "#記得去PUT操作\n",
        "r1=requests.delete('http://teaching.bo-yuan.net/test/requests/',params={\n",
        "    \"action\":\"action\",\n",
        "},data={\n",
        "    \"id\":\"id\"\n",
        "})\n",
        "print(r1.text)\n",
        "\n",
        "#PUT完了，也要PATCH資料\n",
        "r1=requests.put('http://teaching.bo-yuan.net/test/requests/',params={\n",
        "    \"action\":\"action\",\n",
        "},data={\n",
        "    \"id\":\"id\",\n",
        "    \"name\":\"name\"\n",
        "})\n",
        "print(r1.text)\n",
        "\n",
        "#最後POST一筆資料吧\n",
        "r1=requests.patch('http://teaching.bo-yuan.net/test/requests/',params={\n",
        "    \"action\":\"action\",\n",
        "},data={\n",
        "    \"id\":\"id\",\n",
        "    \"name\":\"name\",\n",
        "    \"address\":\"address\"\n",
        "})\n",
        "print(r1.text)\n",
        "\n",
        "#哈哈，答對了，請把操作過程中的所有指令保留在程式碼中，將檔案繳交上來\n",
        "r1=requests.post('http://teaching.bo-yuan.net/test/requests/',params={\n",
        "    \"action\":\"action\",\n",
        "},data={\n",
        "    \"id\":\"id\",\n",
        "    \"name\":\"name\",\n",
        "    \"address\":\"address\"\n",
        "})\n",
        "print(r1.text)\n"
      ]
    }
  ]
}