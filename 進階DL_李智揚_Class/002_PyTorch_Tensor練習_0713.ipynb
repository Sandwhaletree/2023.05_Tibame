{
  "nbformat": 4,
  "nbformat_minor": 0,
  "metadata": {
    "colab": {
      "provenance": [],
      "authorship_tag": "ABX9TyNdKxva0EINOcBYZMFIAt+W",
      "include_colab_link": true
    },
    "kernelspec": {
      "name": "python3",
      "display_name": "Python 3"
    },
    "language_info": {
      "name": "python"
    }
  },
  "cells": [
    {
      "cell_type": "markdown",
      "metadata": {
        "id": "view-in-github",
        "colab_type": "text"
      },
      "source": [
        "<a href=\"https://colab.research.google.com/github/Sandwhaletree/2023.05_Tibame/blob/main/%E9%80%B2%E9%9A%8EDL_%E6%9D%8E%E6%99%BA%E6%8F%9A_Class/002_PyTorch_Tensor_0713.ipynb\" target=\"_parent\"><img src=\"https://colab.research.google.com/assets/colab-badge.svg\" alt=\"Open In Colab\"/></a>"
      ]
    },
    {
      "cell_type": "code",
      "execution_count": 2,
      "metadata": {
        "id": "ONLRW6x2sO3E"
      },
      "outputs": [],
      "source": [
        "import torch #深度學習函式庫，針對強大的n維張量對象（類似於numpy的ndarrays）並且可以在GPU上運算\n",
        "import numpy as np"
      ]
    },
    {
      "cell_type": "markdown",
      "source": [
        "# torch.Tensor 多維矩陣(基本數據結構)\n",
        "\n",
        "A multi-dimensional matrix containing elements of a single data type."
      ],
      "metadata": {
        "id": "w_Vrrn_FsT63"
      }
    },
    {
      "cell_type": "markdown",
      "source": [
        "#### Tensor Initialization"
      ],
      "metadata": {
        "id": "fkcKNB5ZsVO5"
      }
    },
    {
      "cell_type": "markdown",
      "source": [
        "#### torch.tensor()\n",
        "* 將PYTHON LIST與NUMPY表格轉為torch可以用的資料"
      ],
      "metadata": {
        "id": "EVvUjhpwsWzy"
      }
    },
    {
      "cell_type": "code",
      "source": [
        "# from python list #將python list資料轉為torch\n",
        "a=torch.tensor([\n",
        "    [1., -1.],\n",
        "    [1., -1.]\n",
        "])\n",
        "a\n",
        "print(a.type())"
      ],
      "metadata": {
        "colab": {
          "base_uri": "https://localhost:8080/"
        },
        "id": "77k9E4BOsYDK",
        "outputId": "7c618730-e06c-4f35-dc44-ac0d349bd286"
      },
      "execution_count": 22,
      "outputs": [
        {
          "output_type": "stream",
          "name": "stdout",
          "text": [
            "torch.FloatTensor\n"
          ]
        }
      ]
    },
    {
      "cell_type": "code",
      "source": [
        "# from numpy.ndarray #將numpy.ndarray直接轉成張量\n",
        "a = np.array([\n",
        "    [1, 2, 3],\n",
        "    [4, 5, 6],\n",
        "])\n",
        "b=torch.tensor(a)\n",
        "print(b.type())"
      ],
      "metadata": {
        "colab": {
          "base_uri": "https://localhost:8080/"
        },
        "id": "NaLQZdztsY-3",
        "outputId": "903c2cb7-8b71-4385-8d4d-65615ee48f8d"
      },
      "execution_count": 24,
      "outputs": [
        {
          "output_type": "stream",
          "name": "stdout",
          "text": [
            "torch.LongTensor\n"
          ]
        }
      ]
    },
    {
      "cell_type": "code",
      "source": [
        "#將numpy.ndarray直接轉成張量\n",
        "a = np.array([\n",
        "    [1, 2, 3],\n",
        "    [4, 5, 6],\n",
        "])\n",
        "b=torch.from_numpy(a)\n",
        "print(b.type())"
      ],
      "metadata": {
        "colab": {
          "base_uri": "https://localhost:8080/"
        },
        "id": "sn-7hNb4wAao",
        "outputId": "c6632e2a-0851-44b5-a111-020717509ac2"
      },
      "execution_count": 27,
      "outputs": [
        {
          "output_type": "stream",
          "name": "stdout",
          "text": [
            "torch.LongTensor\n"
          ]
        }
      ]
    },
    {
      "cell_type": "code",
      "source": [
        "#將張量直接轉成numpy.ndarray\n",
        "a=torch.tensor([[1., -1.]])\n",
        "b=a.numpy()\n",
        "print(b.dtype)"
      ],
      "metadata": {
        "colab": {
          "base_uri": "https://localhost:8080/"
        },
        "id": "rG_ZGM8NxPMl",
        "outputId": "b670d733-123e-44d4-f998-6dab31946eeb"
      },
      "execution_count": 31,
      "outputs": [
        {
          "output_type": "stream",
          "name": "stdout",
          "text": [
            "float32\n"
          ]
        }
      ]
    },
    {
      "cell_type": "markdown",
      "source": [
        "##### torch.tensor()練習"
      ],
      "metadata": {
        "id": "XJp0X1E1SP6l"
      }
    },
    {
      "cell_type": "code",
      "source": [
        "# 0 維 tensor (scalar)\n",
        "d0=torch.tensor(1)\n",
        "d0\n",
        "print(d0.shape)\n",
        "print(d0.type())"
      ],
      "metadata": {
        "colab": {
          "base_uri": "https://localhost:8080/"
        },
        "id": "y93QOoEeSSMu",
        "outputId": "755e3f74-e043-4772-bf09-186bd9bdcaed"
      },
      "execution_count": 15,
      "outputs": [
        {
          "output_type": "stream",
          "name": "stdout",
          "text": [
            "torch.Size([])\n",
            "torch.LongTensor\n"
          ]
        }
      ]
    },
    {
      "cell_type": "code",
      "source": [
        "# 0 維 tensor (scalar)\n",
        "d0=torch.tensor(1, dtype=torch.int16)\n",
        "d0\n",
        "print(d0.shape)\n",
        "print(d0.type())"
      ],
      "metadata": {
        "colab": {
          "base_uri": "https://localhost:8080/"
        },
        "id": "XjYrWDJIT25Q",
        "outputId": "8d60abb9-effc-4d58-e032-66e0f21012e7"
      },
      "execution_count": 16,
      "outputs": [
        {
          "output_type": "stream",
          "name": "stdout",
          "text": [
            "torch.Size([])\n",
            "torch.ShortTensor\n"
          ]
        }
      ]
    },
    {
      "cell_type": "code",
      "source": [
        "# 1 維 tensor\n",
        "d1=torch.tensor([1,2,3], dtype=torch.float32)\n",
        "d1\n",
        "print(d1.shape)\n",
        "print(d1.type())"
      ],
      "metadata": {
        "colab": {
          "base_uri": "https://localhost:8080/"
        },
        "id": "c0fZCFvPVCdN",
        "outputId": "fd524b1e-277c-48a2-e217-02608a52bfd1"
      },
      "execution_count": 17,
      "outputs": [
        {
          "output_type": "stream",
          "name": "stdout",
          "text": [
            "torch.Size([3])\n",
            "torch.FloatTensor\n"
          ]
        }
      ]
    },
    {
      "cell_type": "code",
      "source": [
        "#2 維 tensor\n",
        "d2 = torch.tensor([[1.,2],[3,4]])\n",
        "print(d2.shape)\n",
        "print(d2.type())\n",
        "print(d2)"
      ],
      "metadata": {
        "colab": {
          "base_uri": "https://localhost:8080/"
        },
        "id": "lMO6Lx5zV_98",
        "outputId": "0a1d2b8d-3ade-40a4-c376-ab8e50848404"
      },
      "execution_count": 18,
      "outputs": [
        {
          "output_type": "stream",
          "name": "stdout",
          "text": [
            "torch.Size([2, 2])\n",
            "torch.FloatTensor\n",
            "tensor([[1., 2.],\n",
            "        [3., 4.]])\n"
          ]
        }
      ]
    },
    {
      "cell_type": "code",
      "source": [
        "#3維tensor (n-dimensional array)\n",
        "d3 = torch.tensor([[[1, 2, 3], [3, 4, 5]],\n",
        "\t\t\t\t\t\t\t\t\t [[5, 6, 7], [7, 8 ,9]]])\n",
        "print(d3.shape)\n",
        "print(d3.type())\n",
        "print(d3)"
      ],
      "metadata": {
        "colab": {
          "base_uri": "https://localhost:8080/"
        },
        "id": "kihtyEiXXmbD",
        "outputId": "8124e84a-1cd4-4c3f-929d-ff6df6880e75"
      },
      "execution_count": 20,
      "outputs": [
        {
          "output_type": "stream",
          "name": "stdout",
          "text": [
            "torch.Size([2, 2, 3])\n",
            "torch.LongTensor\n",
            "tensor([[[1, 2, 3],\n",
            "         [3, 4, 5]],\n",
            "\n",
            "        [[5, 6, 7],\n",
            "         [7, 8, 9]]])\n"
          ]
        }
      ]
    },
    {
      "cell_type": "markdown",
      "source": [
        "#### torch tensor dtype (data type) 資料形態(可指定或轉換)\n",
        "* 資料形態有時可以混用，有時卻不可以\n",
        "\n",
        "**Float浮點數**\n",
        "\n",
        "32-bit floating point: **torch.float**, torch.float32(常見)\n",
        "\n",
        "16-bit floating point: **torch.half**, torch.float16\n",
        "\n",
        "64-bit floating point: **torch.double**, torch.float64\n",
        "\n",
        "**Integer整數**\n",
        "\n",
        "32-bit integer (signed): torch.int32, **torch.int**(常見)\n",
        "\n",
        "64-bit integer (signed): torch.int64, **torch.long**(常見)\n",
        "\n",
        "8-bit integer (unsigned): torch.uint8\n",
        "\n",
        "8-bit integer (signed): torch.int8\n",
        "\n",
        "16-bit integer (signed): torch.int16, torch.short\n",
        "\n",
        "**Others其他**\n",
        "\n",
        "Boolean: torch.bool"
      ],
      "metadata": {
        "id": "NpSQW3ensaFu"
      }
    },
    {
      "cell_type": "code",
      "source": [
        "#判斷資料型態\n",
        "a = torch.tensor([\n",
        "    [1., -1.],\n",
        "    [1., -1.]\n",
        "])\n",
        "\n",
        "print(a.dtype)\n",
        "print(a)"
      ],
      "metadata": {
        "colab": {
          "base_uri": "https://localhost:8080/"
        },
        "id": "cio44-_FscCS",
        "outputId": "dff02719-eeb0-421e-9e38-d15d6d8aebb2"
      },
      "execution_count": null,
      "outputs": [
        {
          "output_type": "stream",
          "name": "stdout",
          "text": [
            "torch.float32\n",
            "tensor([[ 1., -1.],\n",
            "        [ 1., -1.]])\n"
          ]
        }
      ]
    },
    {
      "cell_type": "code",
      "source": [
        "#強制轉換為整數int\n",
        "a = torch.tensor([\n",
        "    [1., -1.],\n",
        "    [1., -1.]\n",
        "], dtype=torch.int)\n",
        "\n",
        "print(a)"
      ],
      "metadata": {
        "colab": {
          "base_uri": "https://localhost:8080/"
        },
        "id": "TV-aPCIOsdFQ",
        "outputId": "20a74416-d2cf-430f-b512-1c3fabde8212"
      },
      "execution_count": null,
      "outputs": [
        {
          "output_type": "stream",
          "name": "stdout",
          "text": [
            "tensor([[ 1, -1],\n",
            "        [ 1, -1]], dtype=torch.int32)\n"
          ]
        }
      ]
    },
    {
      "cell_type": "code",
      "source": [
        "#強制轉換為布林\n",
        "a = torch.tensor([\n",
        "    [1., 0.],\n",
        "    [1., 0.]\n",
        "], dtype=torch.bool)\n",
        "\n",
        "print(a)\n",
        "print(a.dtype)"
      ],
      "metadata": {
        "colab": {
          "base_uri": "https://localhost:8080/"
        },
        "id": "lbvFH3lqseF8",
        "outputId": "7549abf8-cb32-4714-b4d6-bf4464806ca6"
      },
      "execution_count": 13,
      "outputs": [
        {
          "output_type": "stream",
          "name": "stdout",
          "text": [
            "tensor([[ True, False],\n",
            "        [ True, False]])\n",
            "torch.bool\n"
          ]
        }
      ]
    },
    {
      "cell_type": "markdown",
      "source": [
        "#### torch.Tensor device 你可以決定要在哪個裝上使用 torch.Tensor\n",
        "\n",
        "**'cpu'**: CPU only\n",
        "\n",
        "**'cuda'**: GPU"
      ],
      "metadata": {
        "id": "eLfNjtmvsfDW"
      }
    },
    {
      "cell_type": "code",
      "source": [
        "#指定再哪個設備運行tensor\n",
        "print(torch.device('cuda:0')) #顯示卡看你用哪一個\n",
        "print(torch.device('cuda'))  # current cuda device(一般使用這個)\n",
        "print(torch.device('cpu')) #預設的cpu"
      ],
      "metadata": {
        "colab": {
          "base_uri": "https://localhost:8080/"
        },
        "id": "kdMSzGpLsf6x",
        "outputId": "550e0b36-cf1a-4697-f1eb-e29d14895e01"
      },
      "execution_count": null,
      "outputs": [
        {
          "output_type": "stream",
          "name": "stdout",
          "text": [
            "cuda:0\n",
            "cuda\n",
            "cpu\n"
          ]
        }
      ]
    },
    {
      "cell_type": "code",
      "source": [
        "#你現在有沒有用GPU?\n",
        "print(\"With GPU? :\", torch.cuda.is_available())"
      ],
      "metadata": {
        "colab": {
          "base_uri": "https://localhost:8080/"
        },
        "id": "6tvGivMzsg8R",
        "outputId": "8ac7fdbe-2032-4279-9d81-1d2a89010cec"
      },
      "execution_count": null,
      "outputs": [
        {
          "output_type": "stream",
          "name": "stdout",
          "text": [
            "With GPU? : False\n"
          ]
        }
      ]
    },
    {
      "cell_type": "code",
      "source": [
        "#如果你有gpu，就使用gpu，否則使用cpu\n",
        "device = 'cuda' if torch.cuda.is_available() else 'cpu'\n",
        "print('current device: ', device)"
      ],
      "metadata": {
        "colab": {
          "base_uri": "https://localhost:8080/"
        },
        "id": "HaSDfCLbsian",
        "outputId": "8ec7696a-a1e3-4632-bb98-195ca6b6c65d"
      },
      "execution_count": null,
      "outputs": [
        {
          "output_type": "stream",
          "name": "stdout",
          "text": [
            "current device:  cpu\n"
          ]
        }
      ]
    },
    {
      "cell_type": "markdown",
      "source": [
        "#### Change tensor dtype and device 轉換資料型態或轉換至裝置\n",
        "\n",
        ".to(dtype)\n",
        "\n",
        ".to(device)"
      ],
      "metadata": {
        "id": "LUFEtu70sjqU"
      }
    },
    {
      "cell_type": "code",
      "source": [
        "# dtype 資料型態轉換\n",
        "a = torch.tensor([\n",
        "    [1., -1.],\n",
        "    [1., -1.]\n",
        "])\n",
        "b = a.to(torch.int) #轉換方法1\n",
        "c = a.int() #轉換方法2\n",
        "\n",
        "print(a.dtype)\n",
        "print(b.dtype)\n",
        "print(c.dtype)"
      ],
      "metadata": {
        "colab": {
          "base_uri": "https://localhost:8080/"
        },
        "id": "4ndId3CjskhN",
        "outputId": "907907dc-8d99-47a3-dd8c-4cb14db2eced"
      },
      "execution_count": null,
      "outputs": [
        {
          "output_type": "stream",
          "name": "stdout",
          "text": [
            "torch.float32\n",
            "torch.int32\n",
            "torch.int32\n"
          ]
        }
      ]
    },
    {
      "cell_type": "code",
      "source": [
        "# device 裝置在CPU上面，現在你突然有GPU，\n",
        "a = torch.tensor([\n",
        "    [1., -1.],\n",
        "    [1., -1.]\n",
        "])\n",
        "print(a.device) #原本模型位置cpu\n",
        "\n",
        "if torch.cuda.is_available():\n",
        "    b = a.to(\"cuda\")\n",
        "    print(b.device) #般移後，模型現在位置在cuda:0"
      ],
      "metadata": {
        "colab": {
          "base_uri": "https://localhost:8080/"
        },
        "id": "nQLPxD0vslY-",
        "outputId": "51c6221c-4115-4c5d-d31c-f2b04f2d120a"
      },
      "execution_count": null,
      "outputs": [
        {
          "output_type": "stream",
          "name": "stdout",
          "text": [
            "cpu\n"
          ]
        }
      ]
    },
    {
      "cell_type": "code",
      "source": [
        "c = a.to(device)\n",
        "c.device"
      ],
      "metadata": {
        "colab": {
          "base_uri": "https://localhost:8080/"
        },
        "id": "Yt7eEQPZsmNM",
        "outputId": "3f128936-4096-43dd-df7b-6e21a53d8979"
      },
      "execution_count": null,
      "outputs": [
        {
          "output_type": "execute_result",
          "data": {
            "text/plain": [
              "device(type='cpu')"
            ]
          },
          "metadata": {},
          "execution_count": 16
        }
      ]
    },
    {
      "cell_type": "code",
      "source": [
        "# c = a.cuda()\n",
        "# d = a.cpu() #這樣寫死，之後要改會很難改"
      ],
      "metadata": {
        "colab": {
          "base_uri": "https://localhost:8080/",
          "height": 306
        },
        "id": "xp8ugW8Gsm3r",
        "outputId": "6b09bd35-cc07-4ca3-f23d-7a94ab0369c2"
      },
      "execution_count": null,
      "outputs": [
        {
          "output_type": "error",
          "ename": "RuntimeError",
          "evalue": "ignored",
          "traceback": [
            "\u001b[0;31m---------------------------------------------------------------------------\u001b[0m",
            "\u001b[0;31mRuntimeError\u001b[0m                              Traceback (most recent call last)",
            "\u001b[0;32m<ipython-input-18-1112c33a7396>\u001b[0m in \u001b[0;36m<cell line: 1>\u001b[0;34m()\u001b[0m\n\u001b[0;32m----> 1\u001b[0;31m \u001b[0mc\u001b[0m \u001b[0;34m=\u001b[0m \u001b[0ma\u001b[0m\u001b[0;34m.\u001b[0m\u001b[0mcuda\u001b[0m\u001b[0;34m(\u001b[0m\u001b[0;34m)\u001b[0m\u001b[0;34m\u001b[0m\u001b[0;34m\u001b[0m\u001b[0m\n\u001b[0m\u001b[1;32m      2\u001b[0m \u001b[0md\u001b[0m \u001b[0;34m=\u001b[0m \u001b[0ma\u001b[0m\u001b[0;34m.\u001b[0m\u001b[0mcpu\u001b[0m\u001b[0;34m(\u001b[0m\u001b[0;34m)\u001b[0m \u001b[0;31m#這樣寫死，之後要改會很難改\u001b[0m\u001b[0;34m\u001b[0m\u001b[0;34m\u001b[0m\u001b[0m\n",
            "\u001b[0;32m/usr/local/lib/python3.10/dist-packages/torch/cuda/__init__.py\u001b[0m in \u001b[0;36m_lazy_init\u001b[0;34m()\u001b[0m\n\u001b[1;32m    245\u001b[0m         \u001b[0;32mif\u001b[0m \u001b[0;34m'CUDA_MODULE_LOADING'\u001b[0m \u001b[0;32mnot\u001b[0m \u001b[0;32min\u001b[0m \u001b[0mos\u001b[0m\u001b[0;34m.\u001b[0m\u001b[0menviron\u001b[0m\u001b[0;34m:\u001b[0m\u001b[0;34m\u001b[0m\u001b[0;34m\u001b[0m\u001b[0m\n\u001b[1;32m    246\u001b[0m             \u001b[0mos\u001b[0m\u001b[0;34m.\u001b[0m\u001b[0menviron\u001b[0m\u001b[0;34m[\u001b[0m\u001b[0;34m'CUDA_MODULE_LOADING'\u001b[0m\u001b[0;34m]\u001b[0m \u001b[0;34m=\u001b[0m \u001b[0;34m'LAZY'\u001b[0m\u001b[0;34m\u001b[0m\u001b[0;34m\u001b[0m\u001b[0m\n\u001b[0;32m--> 247\u001b[0;31m         \u001b[0mtorch\u001b[0m\u001b[0;34m.\u001b[0m\u001b[0m_C\u001b[0m\u001b[0;34m.\u001b[0m\u001b[0m_cuda_init\u001b[0m\u001b[0;34m(\u001b[0m\u001b[0;34m)\u001b[0m\u001b[0;34m\u001b[0m\u001b[0;34m\u001b[0m\u001b[0m\n\u001b[0m\u001b[1;32m    248\u001b[0m         \u001b[0;31m# Some of the queued calls may reentrantly call _lazy_init();\u001b[0m\u001b[0;34m\u001b[0m\u001b[0;34m\u001b[0m\u001b[0m\n\u001b[1;32m    249\u001b[0m         \u001b[0;31m# we need to just return without initializing in that case.\u001b[0m\u001b[0;34m\u001b[0m\u001b[0;34m\u001b[0m\u001b[0m\n",
            "\u001b[0;31mRuntimeError\u001b[0m: Found no NVIDIA driver on your system. Please check that you have an NVIDIA GPU and installed a driver from http://www.nvidia.com/Download/index.aspx"
          ]
        }
      ]
    },
    {
      "cell_type": "markdown",
      "source": [
        "#### torch.Tensor.**item()** ;Tensor為高維度值\n",
        "\n",
        "get a Python number from a tensor containing a single value: 將tensor直接轉換成單一數值(tensor僅能有1個值，否則轉換會炸裂)"
      ],
      "metadata": {
        "id": "CnXqokTLsn7S"
      }
    },
    {
      "cell_type": "code",
      "source": [
        "x = torch.tensor([[1]])\n",
        "print(x.item())\n",
        "\n",
        "x = torch.tensor(2.5)\n",
        "print(x.item())"
      ],
      "metadata": {
        "colab": {
          "base_uri": "https://localhost:8080/"
        },
        "id": "eiRx13susoxo",
        "outputId": "d64f94dd-e2ef-4916-f5b9-44a6e70dcd5d"
      },
      "execution_count": null,
      "outputs": [
        {
          "output_type": "stream",
          "name": "stdout",
          "text": [
            "1\n",
            "2.5\n"
          ]
        }
      ]
    },
    {
      "cell_type": "markdown",
      "source": [
        "#### torch.Tensor.**numpy()** tensor轉numpy\n",
        "\n",
        "convert torch.Tensor to numpy array"
      ],
      "metadata": {
        "id": "Rbx_OSxDspv9"
      }
    },
    {
      "cell_type": "code",
      "source": [
        "x = torch.tensor([[1]]) #只能有一個參數，兩個參數就不能轉換\n",
        "print(type(x))\n",
        "\n",
        "y = x.numpy()\n",
        "print(type(y))"
      ],
      "metadata": {
        "colab": {
          "base_uri": "https://localhost:8080/"
        },
        "id": "cVIjAdmmsqox",
        "outputId": "11ce5152-913d-46c7-840e-2b3c28d4367d"
      },
      "execution_count": null,
      "outputs": [
        {
          "output_type": "stream",
          "name": "stdout",
          "text": [
            "<class 'torch.Tensor'>\n",
            "<class 'numpy.ndarray'>\n"
          ]
        }
      ]
    },
    {
      "cell_type": "markdown",
      "source": [
        "#### torch.Tensor.**shape**, **.size()**"
      ],
      "metadata": {
        "id": "7TWV3X9fsrv6"
      }
    },
    {
      "cell_type": "code",
      "source": [
        "a = torch.tensor([\n",
        "    [1., -1., 1.],\n",
        "    [1., -1., 1.]\n",
        "])\n",
        "\n",
        "print(a.shape) #shpae如果錯，整個模型運行就有問題；一定要對***\n",
        "print(a.size())\n",
        "\n",
        "print(a.dim()) #N-Dim矩陣；幾D矩陣，1D、2D、3D"
      ],
      "metadata": {
        "colab": {
          "base_uri": "https://localhost:8080/"
        },
        "id": "Dx8FPXXwssnQ",
        "outputId": "23c0a6c7-431c-4968-f72a-58b0ac06f4c5"
      },
      "execution_count": null,
      "outputs": [
        {
          "output_type": "stream",
          "name": "stdout",
          "text": [
            "torch.Size([2, 3])\n",
            "torch.Size([2, 3])\n",
            "2\n"
          ]
        }
      ]
    },
    {
      "cell_type": "markdown",
      "source": [
        "#### Reshape tensor\n",
        "\n",
        "torch.Tensor.**reshape(), view()**"
      ],
      "metadata": {
        "id": "gE2ILSLOstu7"
      }
    },
    {
      "cell_type": "code",
      "source": [
        "a = torch.tensor([\n",
        "    [0, 1, 2],\n",
        "    [3, 4, 5]\n",
        "])\n",
        "print('a: ',a.shape)\n",
        "\n",
        "b = a.reshape(3, 2)\n",
        "print('b: ',b.shape)\n",
        "\n",
        "c = a.view(3, 2)\n",
        "print('c: ',c.shape)\n",
        "\n",
        "d = a.reshape(-1, 2) #-1=自動計算大小\n",
        "print('d: ',d.shape)"
      ],
      "metadata": {
        "colab": {
          "base_uri": "https://localhost:8080/"
        },
        "id": "a067_CrPsuwO",
        "outputId": "56cd9460-e996-4d63-d337-30e48d6e9106"
      },
      "execution_count": null,
      "outputs": [
        {
          "output_type": "stream",
          "name": "stdout",
          "text": [
            "a:  torch.Size([2, 3])\n",
            "b:  torch.Size([3, 2])\n",
            "c:  torch.Size([3, 2])\n",
            "d:  torch.Size([3, 2])\n"
          ]
        }
      ]
    },
    {
      "cell_type": "code",
      "source": [
        "a=torch.rand(32,32,3)\n",
        "b=a.view(1,-1)\n",
        "print('b: ',b.shape)"
      ],
      "metadata": {
        "colab": {
          "base_uri": "https://localhost:8080/"
        },
        "id": "QwtJpYy-dn8J",
        "outputId": "687075fe-d7c0-4c3e-855d-3793fac9d9ad"
      },
      "execution_count": 42,
      "outputs": [
        {
          "output_type": "stream",
          "name": "stdout",
          "text": [
            "b:  torch.Size([1, 3072])\n"
          ]
        }
      ]
    },
    {
      "cell_type": "markdown",
      "source": [
        "**squeeze(), unsqueeze()**"
      ],
      "metadata": {
        "id": "EY6qEA3TswU2"
      }
    },
    {
      "cell_type": "code",
      "source": [
        "a = torch.tensor([\n",
        "    [0, 1, 2],\n",
        "    [3, 4, 5]\n",
        "])\n",
        "print(a.shape)\n",
        "\n",
        "b = a.reshape(2, 1, 3)\n",
        "print(b.shape)\n",
        "\n",
        "c = b.squeeze(dim=2) #將(2, 1, 3)的1擠掉；dim=索引位置\n",
        "print(c.shape)\n",
        "\n",
        "d = c.unsqueeze(-1) #將原本的值 1 加回；#擠不掉就會插入原本的值\n",
        "print(d.shape)"
      ],
      "metadata": {
        "colab": {
          "base_uri": "https://localhost:8080/"
        },
        "id": "xbHPeM0SsxOY",
        "outputId": "6d2bec10-e843-47a1-d111-73bfc96ce9e0"
      },
      "execution_count": 43,
      "outputs": [
        {
          "output_type": "stream",
          "name": "stdout",
          "text": [
            "torch.Size([2, 3])\n",
            "torch.Size([2, 1, 3])\n",
            "torch.Size([2, 1, 3])\n",
            "torch.Size([2, 1, 3, 1])\n"
          ]
        }
      ]
    },
    {
      "cell_type": "markdown",
      "source": [
        "**permute()** 調換dimension的方向"
      ],
      "metadata": {
        "id": "5l2Hu_YIsycj"
      }
    },
    {
      "cell_type": "code",
      "source": [
        "a = torch.tensor([\n",
        "    [0, 1, 2],\n",
        "    [3, 4, 5],\n",
        "    [0, 1, 2],\n",
        "    [3, 4, 5],\n",
        "])\n",
        "print(a.shape)\n",
        "\n",
        "b = a.reshape(2, 2, 3) # channel last (H, W, C)\n",
        "print(b.shape)\n",
        "b\n",
        "\n",
        "c = b.permute(0, 2, 1)\n",
        "print(\"permute(0, 2, 1) -> \", c.shape)\n",
        "\n",
        "d = b.permute(2, 0, 1)\n",
        "print(\"permute(2, 0, 1) -> \", d.shape) # channel first (C, H, W)"
      ],
      "metadata": {
        "colab": {
          "base_uri": "https://localhost:8080/"
        },
        "id": "of8fRAR0szch",
        "outputId": "e268e2a3-3348-439f-8277-da510da47ade"
      },
      "execution_count": 40,
      "outputs": [
        {
          "output_type": "stream",
          "name": "stdout",
          "text": [
            "torch.Size([4, 3])\n",
            "torch.Size([2, 2, 3])\n",
            "permute(0, 2, 1) ->  torch.Size([2, 3, 2])\n",
            "permute(2, 0, 1) ->  torch.Size([3, 2, 2])\n"
          ]
        }
      ]
    },
    {
      "cell_type": "markdown",
      "source": [
        "#### More Initialization 初始化方式"
      ],
      "metadata": {
        "id": "N69guYo0s0Ts"
      }
    },
    {
      "cell_type": "code",
      "source": [
        "a = torch.ones((2, 4), dtype=torch.int)\n",
        "a"
      ],
      "metadata": {
        "colab": {
          "base_uri": "https://localhost:8080/"
        },
        "id": "lrC1FOHHs1Y0",
        "outputId": "af4c35e9-f50e-40c1-dfa0-d7f396573300"
      },
      "execution_count": null,
      "outputs": [
        {
          "output_type": "execute_result",
          "data": {
            "text/plain": [
              "tensor([[1, 1, 1, 1],\n",
              "        [1, 1, 1, 1]], dtype=torch.int32)"
            ]
          },
          "metadata": {},
          "execution_count": 25
        }
      ]
    },
    {
      "cell_type": "code",
      "source": [
        "a = torch.zeros((2, 4), dtype=torch.int)\n",
        "a"
      ],
      "metadata": {
        "colab": {
          "base_uri": "https://localhost:8080/"
        },
        "id": "4xTtU4uOs2SL",
        "outputId": "00511ffa-f8f9-42a6-fb2a-c4734ea05a31"
      },
      "execution_count": null,
      "outputs": [
        {
          "output_type": "execute_result",
          "data": {
            "text/plain": [
              "tensor([[0, 0, 0, 0],\n",
              "        [0, 0, 0, 0]], dtype=torch.int32)"
            ]
          },
          "metadata": {},
          "execution_count": 26
        }
      ]
    },
    {
      "cell_type": "code",
      "source": [
        "# full\n",
        "a = torch.full((3, 4), 5566.)\n",
        "a"
      ],
      "metadata": {
        "colab": {
          "base_uri": "https://localhost:8080/"
        },
        "id": "XwRWwR_Es3A1",
        "outputId": "1c78f9df-3480-4f48-f9e1-61573cb149ec"
      },
      "execution_count": null,
      "outputs": [
        {
          "output_type": "execute_result",
          "data": {
            "text/plain": [
              "tensor([[5566., 5566., 5566., 5566.],\n",
              "        [5566., 5566., 5566., 5566.],\n",
              "        [5566., 5566., 5566., 5566.]])"
            ]
          },
          "metadata": {},
          "execution_count": 27
        }
      ]
    },
    {
      "cell_type": "code",
      "source": [
        "torch.arange(0, 10)"
      ],
      "metadata": {
        "colab": {
          "base_uri": "https://localhost:8080/"
        },
        "id": "cyjTvpQZs3wA",
        "outputId": "a4225ea2-a4d8-40c0-e92c-882634f44e64"
      },
      "execution_count": null,
      "outputs": [
        {
          "output_type": "execute_result",
          "data": {
            "text/plain": [
              "tensor([0, 1, 2, 3, 4, 5, 6, 7, 8, 9])"
            ]
          },
          "metadata": {},
          "execution_count": 28
        }
      ]
    },
    {
      "cell_type": "markdown",
      "source": [
        "#### Random Initialization 初始化隨機值"
      ],
      "metadata": {
        "id": "IKI6GKo3s4o6"
      }
    },
    {
      "cell_type": "code",
      "source": [
        "# normal ditribution, mean=0, std=1. #常態分佈 平均值0 標準差1\n",
        "a = torch.randn((3, 2))\n",
        "a"
      ],
      "metadata": {
        "colab": {
          "base_uri": "https://localhost:8080/"
        },
        "id": "Vo8hdL5_s51d",
        "outputId": "ed5720b9-52db-429c-a769-de6bb7021255"
      },
      "execution_count": null,
      "outputs": [
        {
          "output_type": "execute_result",
          "data": {
            "text/plain": [
              "tensor([[ 0.8989, -0.3978],\n",
              "        [ 2.2491, -0.1275],\n",
              "        [ 1.4074,  0.2818]])"
            ]
          },
          "metadata": {},
          "execution_count": 29
        }
      ]
    },
    {
      "cell_type": "code",
      "source": [
        "# normal ditribution\n",
        "a = torch.normal(mean=0, std=1, size=(3, 2))\n",
        "a"
      ],
      "metadata": {
        "colab": {
          "base_uri": "https://localhost:8080/"
        },
        "id": "H27ht9k6s6lv",
        "outputId": "2cb7db99-89de-4601-e3fd-6ecb3134f605"
      },
      "execution_count": null,
      "outputs": [
        {
          "output_type": "execute_result",
          "data": {
            "text/plain": [
              "tensor([[ 1.2317,  0.2220],\n",
              "        [ 1.0497, -1.0372],\n",
              "        [-1.9833, -0.1405]])"
            ]
          },
          "metadata": {},
          "execution_count": 30
        }
      ]
    },
    {
      "cell_type": "code",
      "source": [
        "# uniform distribution #均勻分布\n",
        "a = torch.rand((3, 2))\n",
        "a"
      ],
      "metadata": {
        "colab": {
          "base_uri": "https://localhost:8080/"
        },
        "id": "AOzWp10Ps7Mt",
        "outputId": "72edc78d-d127-4c52-d965-3214c89491fd"
      },
      "execution_count": null,
      "outputs": [
        {
          "output_type": "execute_result",
          "data": {
            "text/plain": [
              "tensor([[0.1067, 0.7697],\n",
              "        [0.7715, 0.6574],\n",
              "        [0.2926, 0.5659]])"
            ]
          },
          "metadata": {},
          "execution_count": 31
        }
      ]
    },
    {
      "cell_type": "code",
      "source": [
        "torch.randint(1, 7, (30,))"
      ],
      "metadata": {
        "colab": {
          "base_uri": "https://localhost:8080/"
        },
        "id": "Y_rmx7ONs8I0",
        "outputId": "b3110dfe-1a34-4150-8f1c-8319ec674464"
      },
      "execution_count": null,
      "outputs": [
        {
          "output_type": "execute_result",
          "data": {
            "text/plain": [
              "tensor([4, 1, 2, 6, 1, 4, 1, 1, 2, 2, 6, 6, 5, 1, 3, 6, 6, 2, 6, 3, 4, 2, 2, 6,\n",
              "        5, 2, 5, 4, 3, 6])"
            ]
          },
          "metadata": {},
          "execution_count": 32
        }
      ]
    },
    {
      "cell_type": "markdown",
      "source": [
        "### Tensor Indexing"
      ],
      "metadata": {
        "id": "ZRujDAODs9Rv"
      }
    },
    {
      "cell_type": "code",
      "source": [
        "# Initialize an example tensor\n",
        "x = torch.Tensor([\n",
        "    [[1, 2], [3, 4]],\n",
        "    [[5, 6], [7, 8]],\n",
        "    [[9, 10], [11, 12]]\n",
        "])\n",
        "x"
      ],
      "metadata": {
        "colab": {
          "base_uri": "https://localhost:8080/"
        },
        "id": "h4YDXCFXs-DC",
        "outputId": "4fe40ef7-b656-47ee-b6ca-9db64ab03601"
      },
      "execution_count": 32,
      "outputs": [
        {
          "output_type": "execute_result",
          "data": {
            "text/plain": [
              "tensor([[[ 1.,  2.],\n",
              "         [ 3.,  4.]],\n",
              "\n",
              "        [[ 5.,  6.],\n",
              "         [ 7.,  8.]],\n",
              "\n",
              "        [[ 9., 10.],\n",
              "         [11., 12.]]])"
            ]
          },
          "metadata": {},
          "execution_count": 32
        }
      ]
    },
    {
      "cell_type": "code",
      "source": [
        "x.shape"
      ],
      "metadata": {
        "colab": {
          "base_uri": "https://localhost:8080/"
        },
        "id": "xMFFvnUts-7D",
        "outputId": "145805c6-f7c7-4d04-c800-dd87fe3347ad"
      },
      "execution_count": 33,
      "outputs": [
        {
          "output_type": "execute_result",
          "data": {
            "text/plain": [
              "torch.Size([3, 2, 2])"
            ]
          },
          "metadata": {},
          "execution_count": 33
        }
      ]
    },
    {
      "cell_type": "code",
      "source": [
        "# Access the 0th element, which is the first row\n",
        "x[0] # Equivalent to x[0, :]"
      ],
      "metadata": {
        "colab": {
          "base_uri": "https://localhost:8080/"
        },
        "id": "7UqjE6Ebs_03",
        "outputId": "d663f028-ecf4-4b23-8328-a1b366cc396c"
      },
      "execution_count": null,
      "outputs": [
        {
          "output_type": "execute_result",
          "data": {
            "text/plain": [
              "tensor([[1., 2.],\n",
              "        [3., 4.]])"
            ]
          },
          "metadata": {},
          "execution_count": 36
        }
      ]
    },
    {
      "cell_type": "code",
      "source": [
        "# Get the top left element of each element in our tensor\n",
        "x[:, 0, 0]"
      ],
      "metadata": {
        "colab": {
          "base_uri": "https://localhost:8080/"
        },
        "id": "EOTw1CNNtGoZ",
        "outputId": "58792bf8-a1d3-42e5-bf59-8fa786dd075b"
      },
      "execution_count": null,
      "outputs": [
        {
          "output_type": "execute_result",
          "data": {
            "text/plain": [
              "tensor([1., 5., 9.])"
            ]
          },
          "metadata": {},
          "execution_count": 37
        }
      ]
    },
    {
      "cell_type": "code",
      "source": [
        "#獲取2、4\n",
        "x[0,:,1]"
      ],
      "metadata": {
        "colab": {
          "base_uri": "https://localhost:8080/"
        },
        "id": "8wg0nS9hPqgi",
        "outputId": "70add992-4058-450e-fb6d-da1e590f5025"
      },
      "execution_count": 37,
      "outputs": [
        {
          "output_type": "execute_result",
          "data": {
            "text/plain": [
              "tensor([2., 4.])"
            ]
          },
          "metadata": {},
          "execution_count": 37
        }
      ]
    },
    {
      "cell_type": "code",
      "source": [
        "# use item() to convert to Python scalar\n",
        "x[0, 0, 0], x[0, 0, 0].item()"
      ],
      "metadata": {
        "colab": {
          "base_uri": "https://localhost:8080/"
        },
        "id": "1dpWOev-tIaT",
        "outputId": "61c137a7-84e5-4fcc-8e8f-ca37ebcc6036"
      },
      "execution_count": null,
      "outputs": [
        {
          "output_type": "execute_result",
          "data": {
            "text/plain": [
              "(tensor(1.), 1.0)"
            ]
          },
          "metadata": {},
          "execution_count": 38
        }
      ]
    },
    {
      "cell_type": "markdown",
      "source": [
        "## Operations"
      ],
      "metadata": {
        "id": "SEWSFDCAtAgv"
      }
    },
    {
      "cell_type": "code",
      "source": [
        "# Create an example tensor\n",
        "x = torch.ones((3, 2, 2))\n",
        "x"
      ],
      "metadata": {
        "colab": {
          "base_uri": "https://localhost:8080/"
        },
        "id": "0CGQ0fg7tKVK",
        "outputId": "c21fa27f-8433-473f-e63b-087ea01d8c19"
      },
      "execution_count": 4,
      "outputs": [
        {
          "output_type": "execute_result",
          "data": {
            "text/plain": [
              "tensor([[[1., 1.],\n",
              "         [1., 1.]],\n",
              "\n",
              "        [[1., 1.],\n",
              "         [1., 1.]],\n",
              "\n",
              "        [[1., 1.],\n",
              "         [1., 1.]]])"
            ]
          },
          "metadata": {},
          "execution_count": 4
        }
      ]
    },
    {
      "cell_type": "code",
      "source": [
        "# Perform elementwise addition\n",
        "# Use - for subtraction\n",
        "x + 5566"
      ],
      "metadata": {
        "colab": {
          "base_uri": "https://localhost:8080/"
        },
        "id": "rMILzkbutLdn",
        "outputId": "de483774-8e12-4312-e617-533cd4265172"
      },
      "execution_count": null,
      "outputs": [
        {
          "output_type": "execute_result",
          "data": {
            "text/plain": [
              "tensor([[[5567., 5567.],\n",
              "         [5567., 5567.]],\n",
              "\n",
              "        [[5567., 5567.],\n",
              "         [5567., 5567.]],\n",
              "\n",
              "        [[5567., 5567.],\n",
              "         [5567., 5567.]]])"
            ]
          },
          "metadata": {},
          "execution_count": 40
        }
      ]
    },
    {
      "cell_type": "code",
      "source": [
        "b=torch.add(x,5566)\n",
        "b"
      ],
      "metadata": {
        "colab": {
          "base_uri": "https://localhost:8080/"
        },
        "id": "qj6gdse7Gy9X",
        "outputId": "e50c5205-7b67-497a-a076-0c80debac9b2"
      },
      "execution_count": 5,
      "outputs": [
        {
          "output_type": "execute_result",
          "data": {
            "text/plain": [
              "tensor([[[5567., 5567.],\n",
              "         [5567., 5567.]],\n",
              "\n",
              "        [[5567., 5567.],\n",
              "         [5567., 5567.]],\n",
              "\n",
              "        [[5567., 5567.],\n",
              "         [5567., 5567.]]])"
            ]
          },
          "metadata": {},
          "execution_count": 5
        }
      ]
    },
    {
      "cell_type": "code",
      "source": [
        "# Perform elementwise multiplication\n",
        "# Use / for division\n",
        "x * 2"
      ],
      "metadata": {
        "colab": {
          "base_uri": "https://localhost:8080/"
        },
        "id": "IjGfmW90tMR1",
        "outputId": "ecce09ff-65c1-4b61-912d-e54acfffe1af"
      },
      "execution_count": null,
      "outputs": [
        {
          "output_type": "execute_result",
          "data": {
            "text/plain": [
              "tensor([[[2., 2.],\n",
              "         [2., 2.]],\n",
              "\n",
              "        [[2., 2.],\n",
              "         [2., 2.]],\n",
              "\n",
              "        [[2., 2.],\n",
              "         [2., 2.]]])"
            ]
          },
          "metadata": {},
          "execution_count": 41
        }
      ]
    },
    {
      "cell_type": "code",
      "source": [
        "# Create a 4x3 tensor of 6s\n",
        "a = torch.ones((4,3)) * 6\n",
        "a, a.shape"
      ],
      "metadata": {
        "colab": {
          "base_uri": "https://localhost:8080/"
        },
        "id": "ODUnvSl3tNFj",
        "outputId": "b48535b4-b005-4cf4-afca-8177dab06c6f"
      },
      "execution_count": null,
      "outputs": [
        {
          "output_type": "execute_result",
          "data": {
            "text/plain": [
              "(tensor([[6., 6., 6.],\n",
              "         [6., 6., 6.],\n",
              "         [6., 6., 6.],\n",
              "         [6., 6., 6.]]),\n",
              " torch.Size([4, 3]))"
            ]
          },
          "metadata": {},
          "execution_count": 42
        }
      ]
    },
    {
      "cell_type": "code",
      "source": [
        "# Create a 1D tensor of 2s\n",
        "# b = torch.ones(3) * 2\n",
        "b = torch.tensor([1, 2, 3])\n",
        "b, b.shape"
      ],
      "metadata": {
        "colab": {
          "base_uri": "https://localhost:8080/"
        },
        "id": "luEuFpoRtN9j",
        "outputId": "a3734295-737a-4a5c-a02c-7cbab1776e13"
      },
      "execution_count": null,
      "outputs": [
        {
          "output_type": "execute_result",
          "data": {
            "text/plain": [
              "(tensor([1, 2, 3]), torch.Size([3]))"
            ]
          },
          "metadata": {},
          "execution_count": 43
        }
      ]
    },
    {
      "cell_type": "code",
      "source": [
        "# Broadcasting\n",
        "# Divide a by b\n",
        "c = a / b\n",
        "c, c.shape"
      ],
      "metadata": {
        "colab": {
          "base_uri": "https://localhost:8080/"
        },
        "id": "Jk2yENQctOrt",
        "outputId": "f32268c4-373a-4f6d-a2a3-95eeed708344"
      },
      "execution_count": null,
      "outputs": [
        {
          "output_type": "execute_result",
          "data": {
            "text/plain": [
              "(tensor([[6., 3., 2.],\n",
              "         [6., 3., 2.],\n",
              "         [6., 3., 2.],\n",
              "         [6., 3., 2.]]),\n",
              " torch.Size([4, 3]))"
            ]
          },
          "metadata": {},
          "execution_count": 44
        }
      ]
    },
    {
      "cell_type": "code",
      "source": [
        "# Create an example tensor #平均\n",
        "m = torch.tensor(\n",
        "    [\n",
        "     [1., 1.],\n",
        "     [2., 2.],\n",
        "     [3., 3.],\n",
        "     [4., 4.]\n",
        "    ]\n",
        ")\n",
        "print(\"shape, \", m.shape)\n",
        "print(f\"Mean: {m.mean()}\")\n",
        "print(f\"Mean in the 0th dimension: {m.mean(0)}\")\n",
        "print(f\"Mean in the 1st dimension: {m.mean(1)}\")"
      ],
      "metadata": {
        "colab": {
          "base_uri": "https://localhost:8080/"
        },
        "id": "pv2H_IietPvf",
        "outputId": "cb0e34b6-d4f4-4b10-f7a8-f6a3ee0a4427"
      },
      "execution_count": null,
      "outputs": [
        {
          "output_type": "stream",
          "name": "stdout",
          "text": [
            "shape,  torch.Size([4, 2])\n",
            "Mean: 2.5\n",
            "Mean in the 0th dimension: tensor([2.5000, 2.5000])\n",
            "Mean in the 1st dimension: tensor([1., 2., 3., 4.])\n"
          ]
        }
      ]
    },
    {
      "cell_type": "code",
      "source": [
        "# Concatenate in dimension 0 and 1 #想將a、a、a合併\n",
        "a_cat0 = torch.cat([a, a, a], dim=0)\n",
        "a_cat1 = torch.cat([a, a, a], dim=1)\n",
        "\n",
        "print(f\"Initial shape: {a.shape}\".format())\n",
        "print(f\"Shape after concatenation in dimension 0: {a_cat0.shape}\")\n",
        "print(f\"Shape after concatenation in dimension 1: {a_cat1.shape}\")"
      ],
      "metadata": {
        "colab": {
          "base_uri": "https://localhost:8080/"
        },
        "id": "kj01Qv3ntQsc",
        "outputId": "76843e01-7750-4f7e-de18-7fb9f8bba2cc"
      },
      "execution_count": null,
      "outputs": [
        {
          "output_type": "stream",
          "name": "stdout",
          "text": [
            "Initial shape: torch.Size([4, 3])\n",
            "Shape after concatenation in dimension 0: torch.Size([12, 3])\n",
            "Shape after concatenation in dimension 1: torch.Size([4, 9])\n"
          ]
        }
      ]
    },
    {
      "cell_type": "code",
      "source": [
        "# argmax, argmin\n",
        "a = torch.randint(0, 10, (4, 4))\n",
        "print(a)\n",
        "print(torch.argmax(a, dim=1)) #维度1上找到了矩阵a中每一行的最大值的索引"
      ],
      "metadata": {
        "colab": {
          "base_uri": "https://localhost:8080/"
        },
        "id": "J8x7QtBktRjB",
        "outputId": "38cfcfd6-2642-475b-ec66-61a41daab05b"
      },
      "execution_count": 3,
      "outputs": [
        {
          "output_type": "stream",
          "name": "stdout",
          "text": [
            "tensor([[0, 6, 8, 9],\n",
            "        [1, 1, 4, 4],\n",
            "        [2, 9, 8, 2],\n",
            "        [5, 6, 3, 3]])\n",
            "tensor([3, 2, 1, 1])\n"
          ]
        }
      ]
    },
    {
      "cell_type": "code",
      "source": [
        "# uniform distribution\n",
        "a = torch.rand((10, 3))\n",
        "print(a)\n",
        "a.argmax(1)"
      ],
      "metadata": {
        "colab": {
          "base_uri": "https://localhost:8080/"
        },
        "id": "-4RwPoExtSFM",
        "outputId": "56ea24f8-f6ef-44ff-c41b-77ba3f285319"
      },
      "execution_count": null,
      "outputs": [
        {
          "output_type": "stream",
          "name": "stdout",
          "text": [
            "tensor([[0.0131, 0.2912, 0.1800],\n",
            "        [0.4394, 0.6627, 0.9778],\n",
            "        [0.8549, 0.4729, 0.9872],\n",
            "        [0.5639, 0.2293, 0.0747],\n",
            "        [0.9936, 0.7459, 0.4019],\n",
            "        [0.5726, 0.2093, 0.3718],\n",
            "        [0.9569, 0.6959, 0.3107],\n",
            "        [0.8998, 0.5400, 0.0890],\n",
            "        [0.8767, 0.9089, 0.7349],\n",
            "        [0.2001, 0.9365, 0.1644]])\n"
          ]
        },
        {
          "output_type": "execute_result",
          "data": {
            "text/plain": [
              "tensor([1, 2, 2, 0, 0, 0, 0, 0, 1, 1])"
            ]
          },
          "metadata": {},
          "execution_count": 48
        }
      ]
    },
    {
      "cell_type": "code",
      "source": [
        "# matplotlib\n",
        "import matplotlib.pyplot as plt"
      ],
      "metadata": {
        "id": "P2yNOxqWtTG_"
      },
      "execution_count": 7,
      "outputs": []
    },
    {
      "cell_type": "code",
      "source": [
        "a = torch.randint(0, 10, (100,))\n",
        "\n",
        "plt.plot(a.numpy())\n",
        "#print(a.numpy())"
      ],
      "metadata": {
        "colab": {
          "base_uri": "https://localhost:8080/",
          "height": 447
        },
        "id": "l34GRI4LtTsv",
        "outputId": "d740164c-ba95-4adc-a12b-13addb66b282"
      },
      "execution_count": null,
      "outputs": [
        {
          "output_type": "execute_result",
          "data": {
            "text/plain": [
              "[<matplotlib.lines.Line2D at 0x7c3d50ef91e0>]"
            ]
          },
          "metadata": {},
          "execution_count": 50
        },
        {
          "output_type": "display_data",
          "data": {
            "text/plain": [
              "<Figure size 640x480 with 1 Axes>"
            ],
            "image/png": "[encoded data removed]"
          },
          "metadata": {}
        }
      ]
    },
    {
      "cell_type": "code",
      "source": [
        "a = torch.randint(0, 256, (10, 10, 3))\n",
        "\n",
        "plt.imshow(a)"
      ],
      "metadata": {
        "colab": {
          "base_uri": "https://localhost:8080/",
          "height": 447
        },
        "id": "FbWgG9qEtUrt",
        "outputId": "872bce3b-bf05-4808-df5a-8ecb3939633b"
      },
      "execution_count": 9,
      "outputs": [
        {
          "output_type": "execute_result",
          "data": {
            "text/plain": [
              "<matplotlib.image.AxesImage at 0x7d7835ca1630>"
            ]
          },
          "metadata": {},
          "execution_count": 9
        },
        {
          "output_type": "display_data",
          "data": {
            "text/plain": [
              "<Figure size 640x480 with 1 Axes>"
            ],
            "image/png": "[encoded data removed]"
          },
          "metadata": {}
        }
      ]
    }
  ]
}
