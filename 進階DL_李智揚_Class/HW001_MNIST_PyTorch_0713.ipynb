{
  "nbformat": 4,
  "nbformat_minor": 0,
  "metadata": {
    "colab": {
      "provenance": [],
      "gpuType": "T4",
      "include_colab_link": true
    },
    "kernelspec": {
      "display_name": "Python 3",
      "name": "python3"
    },
    "language_info": {
      "codemirror_mode": {
        "name": "ipython",
        "version": 3
      },
      "file_extension": ".py",
      "mimetype": "text/x-python",
      "name": "python",
      "nbconvert_exporter": "python",
      "pygments_lexer": "ipython3",
      "version": "3.6.4"
    },
    "accelerator": "GPU"
  },
  "cells": [
    {
      "cell_type": "markdown",
      "metadata": {
        "id": "view-in-github",
        "colab_type": "text"
      },
      "source": [
        "<a href=\"https://colab.research.google.com/github/Sandwhaletree/2023.05_Tibame/blob/main/%E9%80%B2%E9%9A%8EDL_%E6%9D%8E%E6%99%BA%E6%8F%9A_Class/HW001_MNIST_PyTorch_0713.ipynb\" target=\"_parent\"><img src=\"https://colab.research.google.com/assets/colab-badge.svg\" alt=\"Open In Colab\"/></a>"
      ]
    },
    {
      "cell_type": "markdown",
      "metadata": {
        "id": "cYG8xzuLr-HI"
      },
      "source": [
        "# [HW] MNIST\n",
        "\n",
        "https://www.kaggle.com/competitions/mnist-sai"
      ]
    },
    {
      "cell_type": "code",
      "metadata": {
        "id": "7JqIcnWvwMpc"
      },
      "source": [
        "# Basic module\n",
        "import numpy as np\n",
        "import matplotlib.pyplot as plt\n",
        "from tqdm.auto import tqdm # progress bar\n",
        "\n",
        "# PyTorch\n",
        "import torch\n",
        "import torch.nn as nn\n",
        "import torchvision\n",
        "from torchvision import transforms"
      ],
      "execution_count": null,
      "outputs": []
    },
    {
      "cell_type": "code",
      "metadata": {
        "id": "4LsiyFhmR_2N"
      },
      "source": [
        "# print version of PyTorch\n",
        "torch.__version__, torchvision.__version__"
      ],
      "execution_count": null,
      "outputs": []
    },
    {
      "cell_type": "code",
      "metadata": {
        "id": "gDg9Aq-aSCNF"
      },
      "source": [
        "# Define Parameters\n",
        "NUM_CLASS = 10\n",
        "IMG_SIZE = 28\n",
        "CHANNEL = 1\n",
        "BATCH_SIZE = 128"
      ],
      "execution_count": null,
      "outputs": []
    },
    {
      "cell_type": "markdown",
      "metadata": {
        "id": "WXajqeGESoSn"
      },
      "source": [
        "#### Prepare Dataset"
      ]
    },
    {
      "cell_type": "code",
      "metadata": {
        "id": "JNrVIx0k2Ivm"
      },
      "source": [
        "# download from google drive\n",
        "!pip install --upgrade gdown\n",
        "!gdown --id '1Pb9lxPjXBEq4O8KMzdemqehRtp_jr-Wy' --output mnist.npz"
      ],
      "execution_count": null,
      "outputs": []
    },
    {
      "cell_type": "code",
      "source": [
        "class MNISTDataset(torch.utils.data.Dataset):\n",
        "    def __init__(self, data, label):\n",
        "        self.x_data = data\n",
        "        self.y_label = label\n",
        "        self.transform = transforms.Compose([\n",
        "            transforms.ToTensor(),\n",
        "            transforms.transforms.Normalize((0.5,), (0.5,))\n",
        "        ])\n",
        "    def __len__(self):\n",
        "        return len(self.x_data)\n",
        "\n",
        "    def __getitem__(self, idx):\n",
        "        img = self.x_data[idx]\n",
        "        img = self.transform(img)\n",
        "\n",
        "        label = self.y_label[idx]\n",
        "        label = torch.tensor(label, dtype=torch.long)\n",
        "        return img, label"
      ],
      "metadata": {
        "id": "P56egp7gGz6W"
      },
      "execution_count": null,
      "outputs": []
    },
    {
      "cell_type": "code",
      "source": [
        "# Load Data from file\n",
        "with np.load('mnist.npz', allow_pickle=True) as f:\n",
        "    x_train, y_train = f['x_train'], f['y_train']\n",
        "    x_test = f['x_test']\n",
        "\n",
        "all_dataset = MNISTDataset(x_train, y_train)"
      ],
      "metadata": {
        "id": "tk-i3LODIGvN"
      },
      "execution_count": null,
      "outputs": []
    },
    {
      "cell_type": "code",
      "metadata": {
        "id": "s0PDCZGkwMpi"
      },
      "source": [
        "# number of data\n",
        "len(all_dataset)"
      ],
      "execution_count": null,
      "outputs": []
    },
    {
      "cell_type": "code",
      "metadata": {
        "id": "QHAhmYzz23TZ"
      },
      "source": [
        "# split dataset\n",
        "from sklearn.model_selection import train_test_split\n",
        "\n",
        "train_ds, val_ds = train_test_split(all_dataset,\n",
        "                                    test_size=0.2,\n",
        "                                    random_state=5566)\n",
        "\n",
        "len(train_ds), len(val_ds)"
      ],
      "execution_count": null,
      "outputs": []
    },
    {
      "cell_type": "markdown",
      "metadata": {
        "id": "8STKvep1eC4v"
      },
      "source": [
        "#### Build Model"
      ]
    },
    {
      "cell_type": "markdown",
      "metadata": {
        "id": "vtOqbCgkd9PZ"
      },
      "source": [
        "#### Training"
      ]
    },
    {
      "cell_type": "markdown",
      "source": [
        "#### Logs"
      ],
      "metadata": {
        "id": "RvOuxxNvLllZ"
      }
    },
    {
      "cell_type": "markdown",
      "metadata": {
        "id": "bLGijtIyzrf9"
      },
      "source": [
        "#### Generate file for Kaggle\n",
        "\n",
        "https://www.kaggle.com/competitions/mnist-sai"
      ]
    },
    {
      "cell_type": "code",
      "source": [
        "class MNISTTestDataset(torch.utils.data.Dataset):\n",
        "    def __init__(self, data):\n",
        "        self.x_data = data\n",
        "        self.transform = transforms.Compose([\n",
        "            transforms.ToTensor(),\n",
        "            transforms.transforms.Normalize((0.5,), (0.5,))\n",
        "        ])\n",
        "    def __len__(self):\n",
        "        return len(self.x_data)\n",
        "\n",
        "    def __getitem__(self, idx):\n",
        "        img = self.x_data[idx]\n",
        "        img = self.transform(img)\n",
        "        return img\n",
        "\n",
        "test_ds = MNISTTestDataset(x_test)\n",
        "test_loader = torch.utils.data.DataLoader(test_ds, BATCH_SIZE)"
      ],
      "metadata": {
        "id": "_KvKi_tGL7wf"
      },
      "execution_count": null,
      "outputs": []
    },
    {
      "cell_type": "code",
      "source": [
        "# Predict all data\n",
        "y_pred = []\n",
        "\n",
        "model.to(device)\n",
        "model.eval()\n",
        "\n",
        "with torch.no_grad():\n",
        "    for x in test_loader:\n",
        "        x = x.to(device)\n",
        "        pred = model(x)\n",
        "        y_pred.append(pred)\n",
        "\n",
        "y_pred = torch.cat(y_pred).argmax(1).cpu().numpy()\n",
        "y_pred.shape"
      ],
      "metadata": {
        "id": "ySyQiEDsMOOg"
      },
      "execution_count": null,
      "outputs": []
    },
    {
      "cell_type": "code",
      "metadata": {
        "id": "ZPX5mGWfzswS"
      },
      "source": [
        "import pandas as pd\n",
        "\n",
        "df = pd.DataFrame()\n",
        "df['Id'] = [str(i) for i in range(len(x_test))]\n",
        "df['Category'] = y_pred\n",
        "df.to_csv('result.csv', index=None)\n",
        "df"
      ],
      "execution_count": null,
      "outputs": []
    },
    {
      "cell_type": "code",
      "metadata": {
        "id": "guBMgShGz7jq"
      },
      "source": [],
      "execution_count": null,
      "outputs": []
    }
  ]
}