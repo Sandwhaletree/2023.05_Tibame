{
  "nbformat": 4,
  "nbformat_minor": 0,
  "metadata": {
    "colab": {
      "provenance": [],
      "authorship_tag": "ABX9TyMTrg26g2Mu8si9Gd+zpxpJ",
      "include_colab_link": true
    },
    "kernelspec": {
      "name": "python3",
      "display_name": "Python 3"
    },
    "language_info": {
      "name": "python"
    }
  },
  "cells": [
    {
      "cell_type": "markdown",
      "metadata": {
        "id": "view-in-github",
        "colab_type": "text"
      },
      "source": [
        "<a href=\"https://colab.research.google.com/github/Sandwhaletree/2023.05_Tibame/blob/main/%E9%80%B2%E9%9A%8EDL_%E6%9D%8E%E6%99%BA%E6%8F%9A_Class/003_CNN_models_PyTorch_0717.ipynb\" target=\"_parent\"><img src=\"https://colab.research.google.com/assets/colab-badge.svg\" alt=\"Open In Colab\"/></a>"
      ]
    },
    {
      "cell_type": "code",
      "execution_count": null,
      "metadata": {
        "id": "TRZvOlPvRZmC"
      },
      "outputs": [],
      "source": [
        "import torch\n",
        "from torch import nn\n",
        "import torchsummary\n",
        "import torchvision\n",
        "\n",
        "torch.__version__"
      ]
    },
    {
      "cell_type": "markdown",
      "source": [],
      "metadata": {
        "id": "ONps3wHERd2o"
      }
    },
    {
      "cell_type": "markdown",
      "source": [
        "#### AlexNet:\n",
        "https://pytorch.org/vision/stable/_modules/torchvision/models/alexnet.html#alexnet"
      ],
      "metadata": {
        "id": "0i_XQBtJReqG"
      }
    },
    {
      "cell_type": "code",
      "source": [
        "class AlexNet(nn.Module):\n",
        "    def __init__(self, num_classes: int = 1000) -> None:\n",
        "        super().__init__()\n",
        "        self.features = nn.Sequential(\n",
        "            nn.Conv2d(3, 64, kernel_size=11, stride=4, padding=2),\n",
        "            nn.ReLU(),\n",
        "            nn.MaxPool2d(kernel_size=3, stride=2),\n",
        "            nn.Conv2d(64, 192, kernel_size=5, padding=2),\n",
        "            nn.ReLU(),\n",
        "            nn.MaxPool2d(kernel_size=3, stride=2),\n",
        "            nn.Conv2d(192, 384, kernel_size=3, padding=1),\n",
        "            nn.ReLU(),\n",
        "            nn.Conv2d(384, 256, kernel_size=3, padding=1),\n",
        "            nn.ReLU(),\n",
        "            nn.Conv2d(256, 256, kernel_size=3, padding=1),\n",
        "            nn.ReLU(),\n",
        "            nn.MaxPool2d(kernel_size=3, stride=2),\n",
        "        )\n",
        "        self.flatten = nn.Flatten()\n",
        "        self.classifier = nn.Sequential(\n",
        "            nn.Dropout(),\n",
        "            nn.Linear(256 * 6 * 6, 4096),\n",
        "            nn.ReLU(),\n",
        "            nn.Dropout(),\n",
        "            nn.Linear(4096, 4096),\n",
        "            nn.ReLU(),\n",
        "            nn.Linear(4096, num_classes),\n",
        "        )\n",
        "\n",
        "    def forward(self, x):\n",
        "        x = self.features(x)\n",
        "        x = self.flatten(x)\n",
        "        x = self.classifier(x)\n",
        "        return x"
      ],
      "metadata": {
        "id": "eX1-OcI7Rgi0"
      },
      "execution_count": null,
      "outputs": []
    },
    {
      "cell_type": "code",
      "source": [
        "model = AlexNet()"
      ],
      "metadata": {
        "id": "663Cai7BRhGd"
      },
      "execution_count": null,
      "outputs": []
    },
    {
      "cell_type": "code",
      "source": [
        "print(model)"
      ],
      "metadata": {
        "id": "6famZmmvRhoO"
      },
      "execution_count": null,
      "outputs": []
    },
    {
      "cell_type": "code",
      "source": [
        "torchsummary.summary(model, (3, 224, 224))"
      ],
      "metadata": {
        "id": "IXIFnG4ARifu"
      },
      "execution_count": null,
      "outputs": []
    },
    {
      "cell_type": "markdown",
      "source": [
        "#### VGG\n",
        "https://pytorch.org/vision/stable/_modules/torchvision/models/vgg.html"
      ],
      "metadata": {
        "id": "Ek5Bnse1RjhE"
      }
    },
    {
      "cell_type": "code",
      "source": [
        "class VGG(nn.Module):\n",
        "    def __init__(self, num_classes=1000):\n",
        "        super().__init__()\n",
        "        self.features = nn.Sequential(\n",
        "            # Block 1\n",
        "            nn.Conv2d(3, 64, kernel_size=3, padding=1),\n",
        "            nn.ReLU(),\n",
        "            nn.Conv2d(64, 64, kernel_size=3, padding=1),\n",
        "            nn.ReLU(),\n",
        "            nn.MaxPool2d(kernel_size=2, stride=2),\n",
        "            # Block 2\n",
        "            nn.Conv2d(64, 128, kernel_size=3, padding=1),\n",
        "            nn.ReLU(),\n",
        "            nn.Conv2d(128, 128, kernel_size=3, padding=1),\n",
        "            nn.ReLU(),\n",
        "            nn.MaxPool2d(kernel_size=2, stride=2),\n",
        "            # Block 3\n",
        "            nn.Conv2d(128, 256, kernel_size=3, padding=1),\n",
        "            nn.ReLU(),\n",
        "            nn.Conv2d(256, 256, kernel_size=3, padding=1),\n",
        "            nn.ReLU(),\n",
        "            nn.Conv2d(256, 256, kernel_size=3, padding=1),\n",
        "            nn.ReLU(),\n",
        "            nn.MaxPool2d(kernel_size=2, stride=2),\n",
        "            # Block 4\n",
        "            nn.Conv2d(256, 512, kernel_size=3, padding=1),\n",
        "            nn.ReLU(),\n",
        "            nn.Conv2d(512, 512, kernel_size=3, padding=1),\n",
        "            nn.ReLU(),\n",
        "            nn.Conv2d(512, 512, kernel_size=3, padding=1),\n",
        "            nn.ReLU(),\n",
        "            nn.MaxPool2d(kernel_size=2, stride=2),\n",
        "            # Block 5\n",
        "            nn.Conv2d(512, 512, kernel_size=3, padding=1),\n",
        "            nn.ReLU(),\n",
        "            nn.Conv2d(512, 512, kernel_size=3, padding=1),\n",
        "            nn.ReLU(),\n",
        "            nn.Conv2d(512, 512, kernel_size=3, padding=1),\n",
        "            nn.ReLU(),\n",
        "            nn.MaxPool2d(kernel_size=2, stride=2),\n",
        "        )\n",
        "        self.flatten = nn.Flatten()\n",
        "        self.classifier = nn.Sequential(\n",
        "            nn.Linear(512 * 7 * 7, 4096),\n",
        "            nn.ReLU(),\n",
        "            nn.Linear(4096, 4096),\n",
        "            nn.ReLU(),\n",
        "            nn.Linear(4096, num_classes),\n",
        "        )\n",
        "    class VGG2(nn.Module) :\n",
        "        def_init_(self, num_classes=1000):\n",
        "        super(),__init__()\n",
        "        self.features = nn.Sequential(\n",
        "        Self.flatten = nn.Sequential(\n",
        "            nn.AdaptiveAvgpoo12d(1),\n",
        "            nn.Flatten(),\n",
        "        )\n",
        "        self.classifier = n.Sequential(\n",
        "        nn.Linear(512, 4096),\n",
        "        nn.ReLU(),\n",
        "        nn.Linear (4096, 4096),\n",
        "        nn .ReLU(),\n",
        "        nn.Linear(4096, num classes),\n",
        "        )\n",
        "    def forward(self, x: torch.Tensor) -> torch.Tensor:\n",
        "        x = self.features(x)\n",
        "        x = self.flatten(x)\n",
        "        x = self.classifier(x)\n",
        "        return x"
      ],
      "metadata": {
        "id": "TqHKVF5VRkqK"
      },
      "execution_count": null,
      "outputs": []
    },
    {
      "cell_type": "code",
      "source": [
        "model = VGG()"
      ],
      "metadata": {
        "id": "gpzvEC3dRlcH"
      },
      "execution_count": null,
      "outputs": []
    },
    {
      "cell_type": "code",
      "source": [
        "print(model)"
      ],
      "metadata": {
        "id": "dkCyd4B2RmTH"
      },
      "execution_count": null,
      "outputs": []
    },
    {
      "cell_type": "code",
      "source": [
        "torchsummary.summary(model, (3, 224, 224))"
      ],
      "metadata": {
        "id": "HzJrylPWRn1S"
      },
      "execution_count": null,
      "outputs": []
    },
    {
      "cell_type": "markdown",
      "source": [
        "#### Network in Network: Inception"
      ],
      "metadata": {
        "id": "tT8dD3XVRpA3"
      }
    },
    {
      "cell_type": "code",
      "source": [
        "# Basic Conv block\n",
        "class BasicConv2d(nn.Module):\n",
        "    def __init__(self, in_channels, out_channels, kernel_size,\n",
        "                 stride=1,\n",
        "                 padding=0,\n",
        "                 bn=False,\n",
        "                 activation=True):\n",
        "        super().__init__()\n",
        "        self.bn = nn.BatchNorm2d(num_features=out_channels) if bn else None\n",
        "        self.conv = nn.Conv2d(in_channels, out_channels, kernel_size,\n",
        "                              stride=stride,\n",
        "                              padding=padding)\n",
        "        self.activation = nn.ReLU() if activation else None\n",
        "    def forward(self, x):\n",
        "        x = self.conv(x)\n",
        "        if self.bn:\n",
        "            x = self.bn(x)\n",
        "        if self.activation:\n",
        "            return self.activation(x)\n",
        "        else:\n",
        "            return x\n",
        "\n",
        "# InceptionV1 module\n",
        "class Inception(nn.Module):\n",
        "    def __init__(\n",
        "        self,\n",
        "        in_channels,\n",
        "        ch1x1,\n",
        "        ch3x3red, ch3x3,\n",
        "        ch5x5red, ch5x5,\n",
        "        pool_proj):\n",
        "        super().__init__()\n",
        "        # branch 1x1\n",
        "        self.branch1 = BasicConv2d(in_channels, ch1x1, kernel_size=1)\n",
        "        # branch 3x3\n",
        "        self.branch2 = nn.Sequential(\n",
        "            BasicConv2d(in_channels, ch3x3red, kernel_size=1), # reduce chanels by 1x1 conv\n",
        "            BasicConv2d(ch3x3red, ch3x3, kernel_size=3, padding=1)\n",
        "        )\n",
        "        # branch 5x5\n",
        "        self.branch3 = nn.Sequential(\n",
        "            BasicConv2d(in_channels, ch5x5red, kernel_size=1), # reduce chanels by 1x1 conv\n",
        "            BasicConv2d(ch5x5red, ch5x5, kernel_size=5, padding=2)\n",
        "        )\n",
        "        # branch Pool\n",
        "        self.branch4 = nn.Sequential(\n",
        "            nn.MaxPool2d(kernel_size=3, stride=1, padding=1, ceil_mode=True),\n",
        "            BasicConv2d(in_channels, pool_proj, kernel_size=1)\n",
        "        )\n",
        "\n",
        "    def forward(self, x):\n",
        "        branch1 = self.branch1(x)\n",
        "        branch2 = self.branch2(x)\n",
        "        branch3 = self.branch3(x)\n",
        "        branch4 = self.branch4(x)\n",
        "        # concatenate feature dims\n",
        "        outputs = [branch1, branch2, branch3, branch4]\n",
        "        for b in outputs: print(b.shape)\n",
        "        return torch.cat(outputs, dim=1)"
      ],
      "metadata": {
        "id": "k69KAJcARqgf"
      },
      "execution_count": null,
      "outputs": []
    },
    {
      "cell_type": "markdown",
      "source": [
        "#### GoogLeNet (Inception v1)\n",
        "\n",
        "https://github.com/pytorch/vision/blob/master/torchvision/models/googlenet.py"
      ],
      "metadata": {
        "id": "Znt6Hf9MRraY"
      }
    },
    {
      "cell_type": "code",
      "source": [
        "model = Inception(in_channels=192,\n",
        "                  ch1x1=64,\n",
        "                  ch3x3red=96, ch3x3=128,\n",
        "                  ch5x5red=16, ch5x5=32,\n",
        "                  pool_proj=32)"
      ],
      "metadata": {
        "id": "hz_d5vVWRsEV"
      },
      "execution_count": null,
      "outputs": []
    },
    {
      "cell_type": "code",
      "source": [
        "torchsummary.summary(model, (192, 64, 64))"
      ],
      "metadata": {
        "id": "tGsM4DdzRspq"
      },
      "execution_count": null,
      "outputs": []
    },
    {
      "cell_type": "code",
      "source": [
        "print('\\nInception block output: ', model(torch.rand(1, 192, 64, 64)).shape)"
      ],
      "metadata": {
        "id": "KuG8IRtPRt5l"
      },
      "execution_count": null,
      "outputs": []
    },
    {
      "cell_type": "markdown",
      "source": [
        "# ResNet\n",
        "https://github.com/pytorch/vision/blob/master/torchvision/models/resnet.py\n",
        "\n",
        "https://pytorch.org/hub/pytorch_vision_resnet/\n"
      ],
      "metadata": {
        "id": "2izfqU0ERu6X"
      }
    },
    {
      "cell_type": "code",
      "source": [
        "class IdentityBlock(nn.Module):\n",
        "    def __init__(self, in_dims, out_dims, kernel_size, stride=1):\n",
        "        super().__init__()\n",
        "        filters1, filters2, filters3 = out_dims\n",
        "        self.conv1 = BasicConv2d(in_dims, filters1, kernel_size=1, stride=stride,\n",
        "                                 bn=True)\n",
        "        self.conv2 = BasicConv2d(filters1, filters2, kernel_size, padding='same', bn=True)\n",
        "        self.conv3 = BasicConv2d(filters2, filters3, kernel_size=1, bn=True, activation=False)\n",
        "        self.relu = nn.ReLU()\n",
        "\n",
        "    def forward(self, x):\n",
        "        shortcut = x\n",
        "        x = self.conv1(x)\n",
        "        x = self.conv2(x)\n",
        "        x = self.conv3(x)\n",
        "        x += shortcut # Add (x, shortcut) tensor\n",
        "        x = self.relu(x)\n",
        "        return x\n",
        "\n",
        "class ConvBlock(nn.Module):\n",
        "    def __init__(self, in_dims, out_dims, kernel_size, stride=1):\n",
        "        super().__init__()\n",
        "        filters1, filters2, filters3 = out_dims\n",
        "        self.conv1 = BasicConv2d(in_dims, filters1, kernel_size=1, stride=stride,\n",
        "                                 bn=True)\n",
        "        self.conv2 = BasicConv2d(filters1, filters2, kernel_size, padding='same', bn=True)\n",
        "        self.conv3 = BasicConv2d(filters2, filters3, kernel_size=1, bn=True, activation=False)\n",
        "        self.relu = nn.ReLU()\n",
        "        self.skip_branch = BasicConv2d(in_dims, filters3, kernel_size=1,\n",
        "                                       stride=stride,\n",
        "                                       bn=True, activation=False)\n",
        "    def forward(self, x):\n",
        "        shortcut = self.skip_branch(x)\n",
        "        x = self.conv1(x)\n",
        "        x = self.conv2(x)\n",
        "        x = self.conv3(x)\n",
        "        x += shortcut # Add (x, shortcut) tensor\n",
        "        x = self.relu(x)\n",
        "        return x"
      ],
      "metadata": {
        "id": "fz_UU9-6Rv6Z"
      },
      "execution_count": null,
      "outputs": []
    },
    {
      "cell_type": "code",
      "source": [
        "# The identity block is the block that has no conv layer at shortcut.\n",
        "resblock1 = IdentityBlock(in_dims=256, out_dims=[64, 64, 256], kernel_size=3, stride=1)\n",
        "torchsummary.summary(resblock1, (256, 64, 64))"
      ],
      "metadata": {
        "id": "NBoywSmNRws7"
      },
      "execution_count": null,
      "outputs": []
    },
    {
      "cell_type": "code",
      "source": [
        "# A block that has a conv layer at shortcut.\n",
        "resblock2 = ConvBlock(in_dims=256, out_dims=[64, 64, 256], kernel_size=3, stride=2)\n",
        "torchsummary.summary(resblock2, (256, 64, 64))"
      ],
      "metadata": {
        "id": "7IOMSHAGRxgm"
      },
      "execution_count": null,
      "outputs": []
    },
    {
      "cell_type": "code",
      "source": [
        "class ResNetSimple(nn.Module):\n",
        "    def __init__(self, num_classes=1000):\n",
        "        super().__init__()\n",
        "        self.features = nn.Sequential(\n",
        "            nn.ConstantPad2d(padding=3, value=0),\n",
        "            BasicConv2d(3, 64, kernel_size=7, stride=2, bn=True),\n",
        "            nn.ConstantPad2d(padding=1, value=0),\n",
        "            nn.MaxPool2d(kernel_size=3, stride=2),\n",
        "            # S1\n",
        "            ConvBlock(in_dims=64, out_dims=[64, 64, 256], kernel_size=3),\n",
        "            IdentityBlock(256, [64, 64, 256], 3),\n",
        "            IdentityBlock(256, [64, 64, 256], 3),\n",
        "            # S2\n",
        "            ConvBlock(256, [128, 128, 512], 3, stride=2),\n",
        "            IdentityBlock(512, [128, 128, 512], 3),\n",
        "            IdentityBlock(512, [128, 128, 512], 3),\n",
        "            IdentityBlock(512, [128, 128, 512], 3),\n",
        "            IdentityBlock(512, [128, 128, 512], 3),\n",
        "        )\n",
        "        self.avgpool = nn.AdaptiveAvgPool2d((1, 1))\n",
        "        self.classifier = nn.Linear(512, num_classes)\n",
        "\n",
        "    def forward(self, x):\n",
        "        x = self.features(x) # (bs, 512, 7, 7)\n",
        "        x = self.avgpool(x) # (bs, 512, 1, 1)\n",
        "        x = torch.flatten(x, 1) # (bs, 512)\n",
        "        x = self.classifier(x)\n",
        "        return x"
      ],
      "metadata": {
        "id": "eXVHG0I2Ryi9"
      },
      "execution_count": null,
      "outputs": []
    },
    {
      "cell_type": "code",
      "source": [
        "model = ResNetSimple()"
      ],
      "metadata": {
        "id": "tFvLl-3PRzOa"
      },
      "execution_count": null,
      "outputs": []
    },
    {
      "cell_type": "code",
      "source": [
        "torchsummary.summary(model, (3, 224, 224))"
      ],
      "metadata": {
        "id": "wQ9cTBQXR0KV"
      },
      "execution_count": null,
      "outputs": []
    },
    {
      "cell_type": "markdown",
      "source": [
        "#### [torchvision.models](https://pytorch.org/vision/stable/models.html) : Classification\n",
        "\n",
        "*   AlexNet\n",
        "*   VGG\n",
        "*   ResNet\n",
        "*   SqueezeNet\n",
        "*   DenseNet\n",
        "*   Inception v3\n",
        "*   GoogLeNet (InceptionV1)\n",
        "*   ShuffleNet v2\n",
        "*   MobileNetV2\n",
        "*   MobileNetV3\n",
        "*   ResNeXt\n",
        "*   Wide ResNet\n",
        "*   MNASNet\n"
      ],
      "metadata": {
        "id": "04krmsT1R2H_"
      }
    },
    {
      "cell_type": "markdown",
      "source": [
        "### Data Preprocess\n",
        "\n",
        "All pre-trained models expect input images normalized in the same way, i.e. mini-batches of 3-channel **RGB** images of shape **(3 x H x W)**, where H and W are expected to be **at least 224**. The images have to be loaded in to a range of **[0, 1]** and then normalized using **mean = [0.485, 0.456, 0.406] and std = [0.229, 0.224, 0.225]**. You can use the following transform to normalize:"
      ],
      "metadata": {
        "id": "C1mLYJ0AR3PD"
      }
    },
    {
      "cell_type": "code",
      "source": [
        "model = torchvision.models.resnet18()\n",
        "# model = torchvision.models.convnext_tiny()"
      ],
      "metadata": {
        "id": "JY7FhMPmR4YE"
      },
      "execution_count": null,
      "outputs": []
    },
    {
      "cell_type": "code",
      "source": [
        "print(model)"
      ],
      "metadata": {
        "id": "KFo6DMqBR44Y"
      },
      "execution_count": null,
      "outputs": []
    },
    {
      "cell_type": "code",
      "source": [
        "from torchvision import transforms\n",
        "from torchvision.models import resnet50, ResNet50_Weights\n",
        "\n",
        "normalize = transforms.Normalize(\n",
        "    mean=[0.485, 0.456, 0.406],\n",
        "    std=[0.229, 0.224, 0.225]\n",
        ")\n",
        "\n",
        "# Initialize the Weight Transforms\n",
        "weights = ResNet50_Weights.DEFAULT\n",
        "preprocess = weights.transforms()\n",
        "\n",
        "# Apply it to the input image\n",
        "img_transformed = preprocess(img)"
      ],
      "metadata": {
        "id": "TdHNQ49GR53d"
      },
      "execution_count": null,
      "outputs": []
    },
    {
      "cell_type": "code",
      "source": [
        "print(model)"
      ],
      "metadata": {
        "id": "Lo7rDm9aR6ZY"
      },
      "execution_count": null,
      "outputs": []
    },
    {
      "cell_type": "markdown",
      "source": [
        "#### Replace FC layer"
      ],
      "metadata": {
        "id": "lHgtl4vTR7MM"
      }
    },
    {
      "cell_type": "code",
      "source": [
        "model.fc = nn.Linear(2048, 5)"
      ],
      "metadata": {
        "id": "ARxefX7uR8B_"
      },
      "execution_count": null,
      "outputs": []
    },
    {
      "cell_type": "code",
      "source": [
        "# model.fc = nn.Linear(in_features=512, out_features=6)\n",
        "# print(model)"
      ],
      "metadata": {
        "id": "Av6wHCsgR8gf"
      },
      "execution_count": null,
      "outputs": []
    },
    {
      "cell_type": "code",
      "source": [
        "inputs = torch.randn(2, 3, 224, 224)\n",
        "outputs = model(inputs)\n",
        "print (outputs.shape)"
      ],
      "metadata": {
        "id": "7X8aw8EGR9sL"
      },
      "execution_count": null,
      "outputs": []
    },
    {
      "cell_type": "code",
      "source": [
        "model.classifier = nn.Sequential(\n",
        "    nn.Flatten(),\n",
        "    nn.Linear(in_features=768, out_features=6),\n",
        ")"
      ],
      "metadata": {
        "id": "yPNsDAnZR-kX"
      },
      "execution_count": null,
      "outputs": []
    },
    {
      "cell_type": "markdown",
      "source": [
        "#### Model summary"
      ],
      "metadata": {
        "id": "LNNUJ2pvR_mw"
      }
    },
    {
      "cell_type": "code",
      "source": [
        "torchsummary.summary(model, (3, 224, 224))"
      ],
      "metadata": {
        "id": "cD8ksUiYSAUF"
      },
      "execution_count": null,
      "outputs": []
    },
    {
      "cell_type": "code",
      "source": [],
      "metadata": {
        "id": "RMIQuhcCSBd8"
      },
      "execution_count": null,
      "outputs": []
    },
    {
      "cell_type": "markdown",
      "source": [
        "#### Simple inference"
      ],
      "metadata": {
        "id": "XDrb5tc5SB4j"
      }
    },
    {
      "cell_type": "code",
      "source": [
        "from urllib.request import urlretrieve\n",
        "url =\"https://github.com/Sandwhaletree/2023.05_Tibame/blob/main/%E9%80%B2%E9%9A%8EDL_%E6%9D%8E%E6%99%BA%E6%8F%9A_Class/Img/whale.jpg?raw=true\"\n",
        "urlretrieve(url, \"whale.jpg\")"
      ],
      "metadata": {
        "id": "-guTjNkSSC47"
      },
      "execution_count": null,
      "outputs": []
    },
    {
      "cell_type": "code",
      "source": [
        "from torchvision.io import read_image\n",
        "from torchvision.models import resnet50, ResNet50_Weights\n",
        "\n",
        "img = read_image(\"whale.jpg\")\n",
        "\n",
        "# Step 1: Initialize model with the best available weights\n",
        "weights = ResNet50_Weights.DEFAULT\n",
        "model = resnet50(weights=weights)\n",
        "model.eval()\n",
        "\n",
        "# Step 2: Initialize the inference transforms\n",
        "preprocess = weights.transforms()\n",
        "\n",
        "# Step 3: Apply inference preprocessing transforms\n",
        "batch = preprocess(img).unsqueeze(0)\n",
        "\n",
        "# Step 4: Use the model and print the predicted category\n",
        "prediction = model(batch).squeeze(0).softmax(0)\n",
        "class_id = prediction.argmax().item()\n",
        "score = prediction[class_id].item()\n",
        "category_name = weights.meta[\"categories\"][class_id]\n",
        "print(f\"{category_name}: {100 * score:.1f}%\")"
      ],
      "metadata": {
        "id": "uW66rRKVSEGp"
      },
      "execution_count": null,
      "outputs": []
    },
    {
      "cell_type": "code",
      "source": [
        "print(model.features[0][1])"
      ],
      "metadata": {
        "id": "72RmPufbSE85"
      },
      "execution_count": null,
      "outputs": []
    },
    {
      "cell_type": "code",
      "source": [
        "# Print module by module\n",
        "for i, m in enumerate(model.children()):\n",
        "    print(i, m)"
      ],
      "metadata": {
        "id": "3AQx7tzfSFdv"
      },
      "execution_count": null,
      "outputs": []
    },
    {
      "cell_type": "code",
      "source": [
        "# Print layer by layer\n",
        "for i, m in enumerate(model.modules()):\n",
        "    print(i, m)"
      ],
      "metadata": {
        "id": "6JsVYZPLSGxG"
      },
      "execution_count": null,
      "outputs": []
    }
  ]
}