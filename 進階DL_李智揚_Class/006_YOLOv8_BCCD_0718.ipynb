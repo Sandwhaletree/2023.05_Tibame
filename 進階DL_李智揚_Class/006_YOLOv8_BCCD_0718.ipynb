{
  "nbformat": 4,
  "nbformat_minor": 0,
  "metadata": {
    "colab": {
      "provenance": [],
      "authorship_tag": "ABX9TyNu1l/Cv138wbGYxP0bZyfY",
      "include_colab_link": true
    },
    "kernelspec": {
      "name": "python3",
      "display_name": "Python 3"
    },
    "language_info": {
      "name": "python"
    }
  },
  "cells": [
    {
      "cell_type": "markdown",
      "metadata": {
        "id": "view-in-github",
        "colab_type": "text"
      },
      "source": [
        "<a href=\"https://colab.research.google.com/github/Sandwhaletree/2023.05_Tibame/blob/main/%E9%80%B2%E9%9A%8EDL_%E6%9D%8E%E6%99%BA%E6%8F%9A_Class/006_YOLOv8_BCCD_0718.ipynb\" target=\"_parent\"><img src=\"https://colab.research.google.com/assets/colab-badge.svg\" alt=\"Open In Colab\"/></a>"
      ]
    },
    {
      "cell_type": "code",
      "execution_count": null,
      "metadata": {
        "id": "cTbvX-N5PjwS"
      },
      "outputs": [],
      "source": []
    },
    {
      "cell_type": "markdown",
      "source": [
        "# YOLOv8\n",
        "\n",
        "https://github.com/ultralytics/ultralytics"
      ],
      "metadata": {
        "id": "Kjri3WHYPl2a"
      }
    },
    {
      "cell_type": "code",
      "source": [
        "!pip install ultralytics"
      ],
      "metadata": {
        "id": "_uDpa2GqPmm3"
      },
      "execution_count": null,
      "outputs": []
    },
    {
      "cell_type": "code",
      "source": [
        "# download Blood Cell dataset\n",
        "!pip install --upgrade gdown\n",
        "!gdown --fuzzy '1EjOsWZTtqVCU4ZPDAl5qmuf0EhUMEaWT' -O dataset.zip\n"
      ],
      "metadata": {
        "id": "ROBLBCTtPnSf"
      },
      "execution_count": null,
      "outputs": []
    },
    {
      "cell_type": "code",
      "source": [
        "!mkdir datasets\n",
        "\n",
        "# unzip dataset\n",
        "!unzip -q dataset.zip -d datasets"
      ],
      "metadata": {
        "id": "VwEqKxrpPn6h"
      },
      "execution_count": null,
      "outputs": []
    },
    {
      "cell_type": "markdown",
      "source": [
        "Create yaml file in ./datasets dir\n",
        "\n",
        "```yaml\n",
        "path: ./\n",
        "train: train/images # 訓練圖片資料夾\n",
        "val: valid/images # 驗證圖片資料夾\n",
        "test: test/images # 測試圖片資料夾 (Optional)\n",
        "\n",
        "# number of classes\n",
        "nc: 3 # 類別數\n",
        "\n",
        "# class names\n",
        "names:\n",
        "    0: 'WBC'\n",
        "    1: 'RBC'\n",
        "    2: 'Platelets'"
      ],
      "metadata": {
        "id": "sl1P-BKvPplH"
      }
    },
    {
      "cell_type": "code",
      "source": [
        "from ultralytics import YOLO\n",
        "\n",
        "# Load a model\n",
        "# model = YOLO('yolov8n.yaml')  # build a new model from YAML\n",
        "model = YOLO('yolov8n.pt')  # load a pretrained model (recommended for training)\n",
        "# model = YOLO('yolov8n.yaml').load('yolov8n.pt')  # build from YAML and transfer weights"
      ],
      "metadata": {
        "id": "ZC8EsaxpPrMy"
      },
      "execution_count": null,
      "outputs": []
    },
    {
      "cell_type": "code",
      "source": [
        "# training\n",
        "# data: 相對dataset路徑\n",
        "model.train(data=\"datasets/bccd.yaml\", epochs=1)  # train the model"
      ],
      "metadata": {
        "id": "cjSoD33cPsRc"
      },
      "execution_count": null,
      "outputs": []
    },
    {
      "cell_type": "markdown",
      "source": [
        "#### Evaluation"
      ],
      "metadata": {
        "id": "YWmsDGvBPv0x"
      }
    },
    {
      "cell_type": "code",
      "source": [
        "metrics = model.val()  # evaluate model performance on the validation set\n",
        "print(metrics)"
      ],
      "metadata": {
        "id": "4cFXI2RTPwp5"
      },
      "execution_count": null,
      "outputs": []
    },
    {
      "cell_type": "markdown",
      "source": [
        "#### Evaluation"
      ],
      "metadata": {
        "id": "QnJS3NMlPyE-"
      }
    },
    {
      "cell_type": "code",
      "source": [
        "from ultralytics import YOLO\n",
        "from PIL import Image\n",
        "import cv2\n",
        "\n",
        "model = YOLO(\"/content/runs/detect/train4/weights/best.pt\")\n",
        "\n",
        "# accepts all formats - image/dir/Path/URL/video/PIL/ndarray. 0 for webcam\n",
        "# results = model.predict(source=\"0\")\n",
        "# results = model.predict(source=\"folder\", show=True) # Display preds. Accepts all YOLO predict arguments\n",
        "\n",
        "# from PIL\n",
        "im1 = Image.open(\"/content/datasets/test/images/BloodImage_00038_jpg.rf.63d04b5c9db95f32fa7669f72e4903ca.jpg\")\n",
        "results = model.predict(source=im1, save=True)  # save plotted images\n",
        "\n",
        "# # from ndarray\n",
        "# im2 = cv2.imread(\"bus.jpg\")\n",
        "# results = model.predict(source=im2, save=True, save_txt=True)  # save predictions as labels\n",
        "\n",
        "# # from list of PIL/ndarray\n",
        "# results = model.predict(source=[im1, im2])"
      ],
      "metadata": {
        "id": "r46XW9szP0Wr"
      },
      "execution_count": null,
      "outputs": []
    }
  ]
}