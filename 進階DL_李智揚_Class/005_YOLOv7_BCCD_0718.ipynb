{
  "nbformat": 4,
  "nbformat_minor": 0,
  "metadata": {
    "colab": {
      "provenance": [],
      "authorship_tag": "ABX9TyN0z45JMBZeujA75j/C01Af",
      "include_colab_link": true
    },
    "kernelspec": {
      "name": "python3",
      "display_name": "Python 3"
    },
    "language_info": {
      "name": "python"
    }
  },
  "cells": [
    {
      "cell_type": "markdown",
      "metadata": {
        "id": "view-in-github",
        "colab_type": "text"
      },
      "source": [
        "<a href=\"https://colab.research.google.com/github/Sandwhaletree/2023.05_Tibame/blob/main/%E9%80%B2%E9%9A%8EDL_%E6%9D%8E%E6%99%BA%E6%8F%9A_Class/005_YOLOv7_BCCD_0718.ipynb\" target=\"_parent\"><img src=\"https://colab.research.google.com/assets/colab-badge.svg\" alt=\"Open In Colab\"/></a>"
      ]
    },
    {
      "cell_type": "code",
      "execution_count": null,
      "metadata": {
        "id": "B2bdGBFcQJtc"
      },
      "outputs": [],
      "source": []
    },
    {
      "cell_type": "markdown",
      "source": [
        "#### YOLOv7"
      ],
      "metadata": {
        "id": "8Kuxo1iRQT0y"
      }
    },
    {
      "cell_type": "markdown",
      "source": [
        "下載github yolov7 repo\n",
        "\n",
        "* 官方：https://github.com/WongKinYiu/yolov7.git\n",
        "* Fork版本有些修改：https://github.com/taipingeric/yolov7.git"
      ],
      "metadata": {
        "id": "DDTpV3JlQVKl"
      }
    },
    {
      "cell_type": "code",
      "source": [],
      "metadata": {
        "id": "sXGnlzoLQWmM"
      },
      "execution_count": null,
      "outputs": []
    },
    {
      "cell_type": "code",
      "source": [
        "# download github repo\n",
        "!git clone https://github.com/taipingeric/yolov7.git"
      ],
      "metadata": {
        "id": "dilcfAAHQXtY"
      },
      "execution_count": null,
      "outputs": []
    },
    {
      "cell_type": "markdown",
      "source": [
        "#### Download dataset\n",
        "\n",
        "BCCD: https://public.roboflow.com/object-detection/bccd"
      ],
      "metadata": {
        "id": "J92WBsEwQYur"
      }
    },
    {
      "cell_type": "code",
      "source": [
        "# download Blood Cell dataset\n",
        "!pip install --upgrade gdown\n",
        "!gdown --fuzzy '1EjOsWZTtqVCU4ZPDAl5qmuf0EhUMEaWT' -O dataset.zip\n",
        "# unzip dataset\n",
        "!unzip -q dataset.zip"
      ],
      "metadata": {
        "id": "teylHYbkQZkI"
      },
      "execution_count": null,
      "outputs": []
    },
    {
      "cell_type": "markdown",
      "source": [
        "#### YOLOv7 支援格式1\n",
        "\n",
        "*   train\n",
        "    * images\n",
        "        * img1.jpg\n",
        "    * labels\n",
        "        * img1.txt\n",
        "*   valid\n",
        "    * 同train\n",
        "*   test\n",
        "    * 同train\n",
        "\n",
        "\n",
        "txt格式 (YOLOv5)\n",
        "\n",
        "**class id, x, y, width, height**\n",
        "\n",
        "x,y,w,h 皆為normalized數值 0~1\n",
        "```\n",
        "0 0.0515 0.0251 0.0710 0.0498\n",
        "1 0.3182 0.0465 0.0735 0.0902\n",
        "1 0.4197 0.0535 0.0655 0.0997\n",
        "```\n",
        "\n",
        "**yolov7/data/coco.yaml**\n",
        "```yaml\n",
        "train: ../train/images # 訓練圖片資料夾\n",
        "val: ../valid/images # 驗證圖片資料夾\n",
        "test: ../test/images # 測試圖片資料夾 (Optional)\n",
        "\n",
        "# number of classes\n",
        "nc: 3 # 類別數\n",
        "\n",
        "# class names\n",
        "names: ['Platelets', 'RBC', 'WBC']\n",
        "```"
      ],
      "metadata": {
        "id": "EmgIM-O1QbsS"
      }
    },
    {
      "cell_type": "markdown",
      "source": [
        "#### YOLOv7 支援格式2\n",
        "\n",
        "\n",
        "/coco128\n",
        "*   images\n",
        "    * train2017\n",
        "        * img1.jpg\n",
        "        * img2.jpg\n",
        "    * val2017\n",
        "        * img3.jpg\n",
        "*   labels\n",
        "    * train2017\n",
        "        * img1.txt\n",
        "        * img2.txt\n",
        "    * val2017\n",
        "        * img3.txt\n",
        "\n",
        "\n",
        "txt格式 (YOLOv5)\n",
        "\n",
        "**class id, x, y, width, height**\n",
        "\n",
        "x,y,w,h 皆為normalized數值 0~1\n",
        "```\n",
        "45 0.479492 0.688771 0.955609 0.5955\n",
        "45 0.736516 0.247188 0.498875 0.476417\n",
        "50 0.637063 0.732938 0.494125 0.510583\n",
        "45 0.339438 0.418896 0.678875 0.7815\n",
        "49 0.646836 0.132552 0.118047 0.096937\n",
        "49 0.773148 0.129802 0.090734 0.097229\n",
        "49 0.668297 0.226906 0.131281 0.146896\n",
        "49 0.642859 0.079219 0.148063 0.148062\n",
        "```"
      ],
      "metadata": {
        "id": "U8sMpSEGQdyy"
      }
    },
    {
      "cell_type": "markdown",
      "source": [
        "#### Training"
      ],
      "metadata": {
        "id": "afbnQrsqQfP0"
      }
    },
    {
      "cell_type": "code",
      "source": [
        "!pwd"
      ],
      "metadata": {
        "id": "qv7yO8U5Qf14"
      },
      "execution_count": null,
      "outputs": []
    },
    {
      "cell_type": "code",
      "source": [
        "# 切換至yolov7 repo\n",
        "%cd yolov7"
      ],
      "metadata": {
        "id": "W_OXIGuBQg5c"
      },
      "execution_count": null,
      "outputs": []
    },
    {
      "cell_type": "code",
      "source": [
        "!ls"
      ],
      "metadata": {
        "id": "0LTLWUfQQhVq"
      },
      "execution_count": null,
      "outputs": []
    },
    {
      "cell_type": "code",
      "source": [
        "# 安裝套件\n",
        "!pip install -r requirements.txt"
      ],
      "metadata": {
        "id": "tSAZHouZQh1y"
      },
      "execution_count": null,
      "outputs": []
    },
    {
      "cell_type": "markdown",
      "source": [
        "# 修改config檔\n",
        "\n",
        "\n",
        "\n",
        "1.   data config: **data/coco.yaml** (資料設定檔)\n",
        "    1.   刪除 ```download: bash ./scripts/get_coco.sh``` 避免下載COCO資料集\n",
        "    2.   將train: `./coco/train2017.txt` 替換成訓練的圖片資料夾\n",
        "    3.   nc: 80 替換成類別數 (BCCD: 3)\n",
        "    4.   names: 替換成類別名稱['WBC', 'RBC', 'Platelets']\n",
        "    5. 存檔\n",
        "\n",
        "```yaml\n",
        "train: ../train/images # 訓練圖片資料夾\n",
        "val: ../valid/images # 驗證圖片資料夾\n",
        "test: ../test/images # 測試圖片資料夾 (Optional)\n",
        "\n",
        "# number of classes\n",
        "nc: 3 # 類別數\n",
        "\n",
        "# class names\n",
        "names: ['Platelets', 'RBC', 'WBC',]\n",
        "```\n",
        "\n",
        "2.   model config: **cfg/training/yolov7.yaml** (模型設定檔)\n",
        "    1. nc: 80  替換成類別數\n",
        "    2. 存檔\n",
        "\n"
      ],
      "metadata": {
        "id": "9OpWSXPaQjzn"
      }
    },
    {
      "cell_type": "markdown",
      "source": [
        "#### Training\n",
        "\n",
        "--data: 資料集設定檔\n",
        "\n",
        "--img: img size\n",
        "\n",
        "--cfg: 模型架構 & 設定\n",
        "\n",
        "--weight: 初始參數\n",
        "\n",
        "--name: 實驗名稱\n",
        "\n",
        "--hyp：超參數\n",
        "\n",
        "--workers: maximum number of dataloader workers"
      ],
      "metadata": {
        "id": "6NEVyQ65QlgY"
      }
    },
    {
      "cell_type": "code",
      "source": [
        "!python train.py --workers 8 --device 0 --batch-size 8 --data data/coco.yaml --img 640 640 --cfg cfg/training/yolov7.yaml --weights '' --name yolov7 --hyp data/hyp.scratch.p5.yaml"
      ],
      "metadata": {
        "id": "1jEDlR0tQnMR"
      },
      "execution_count": null,
      "outputs": []
    },
    {
      "cell_type": "markdown",
      "source": [
        "在 runs/train/實驗名稱 中會存放每次訓練的結果與參數檔案"
      ],
      "metadata": {
        "id": "HdpUjLpUQpFN"
      }
    },
    {
      "cell_type": "markdown",
      "source": [
        "#### Transfer learning\n",
        "\n",
        "使用官方COCO pre-trained model做finetune"
      ],
      "metadata": {
        "id": "df36OSAdQqGG"
      }
    },
    {
      "cell_type": "code",
      "source": [
        "!pwd"
      ],
      "metadata": {
        "id": "0VagLBGyQrIv"
      },
      "execution_count": null,
      "outputs": []
    },
    {
      "cell_type": "code",
      "source": [
        "# 下載官方pre-trained參數\n",
        "!wget https://github.com/WongKinYiu/yolov7/releases/download/v0.1/yolov7.pt"
      ],
      "metadata": {
        "id": "AwzPZS1VQujN"
      },
      "execution_count": null,
      "outputs": []
    },
    {
      "cell_type": "code",
      "source": [
        "# finetune p5 models\n",
        "!python train.py --workers 8 --device 0 --batch-size 8 --data data/coco.yaml --img 640 640 --cfg cfg/training/yolov7.yaml --weights 'yolov7.pt' --name yolov7-transfer --hyp data/hyp.scratch.custom.yaml\n",
        "\n",
        "# finetune p6 models\n",
        "# python train_aux.py --workers 8 --device 0 --batch-size 16 --data data/custom.yaml --img 1280 1280 --cfg cfg/training/yolov7-w6-custom.yaml --weights 'yolov7-w6_training.pt' --name yolov7-w6-custom --hyp data/hyp.scratch.custom.yaml"
      ],
      "metadata": {
        "id": "gVQDh1HSQwU2"
      },
      "execution_count": null,
      "outputs": []
    },
    {
      "cell_type": "markdown",
      "source": [
        "#### Testing"
      ],
      "metadata": {
        "id": "C3TcIrmRQzqm"
      }
    },
    {
      "cell_type": "code",
      "source": [
        "# --weights: 測試參數檔案\n",
        "!python test.py --task \"test\" --data data/coco.yaml --img 640 --batch 8 --conf 0.001 --iou 0.65 --device 0 --weights \"/content/yolov7/runs/train/yolov7-transfer/weights/best.pt\" --name yolov7_640_val"
      ],
      "metadata": {
        "id": "yY8SlgCiQ1oR"
      },
      "execution_count": null,
      "outputs": []
    },
    {
      "cell_type": "markdown",
      "source": [
        "#### Inference\n",
        "\n",
        "下載官方參數檔"
      ],
      "metadata": {
        "id": "beSeUHLWQ3pN"
      }
    },
    {
      "cell_type": "code",
      "source": [
        "# !wget https://github.com/WongKinYiu/yolov7/releases/download/v0.1/yolov7.pt"
      ],
      "metadata": {
        "id": "YWjs6uqSQ5DY"
      },
      "execution_count": null,
      "outputs": []
    },
    {
      "cell_type": "markdown",
      "source": [
        "--save-txt: 輸出txt結果\n",
        "\n",
        "--save-conf: 在txt中輸出box confidence"
      ],
      "metadata": {
        "id": "ImPscPEIQ6T3"
      }
    },
    {
      "cell_type": "code",
      "source": [
        "# !python detect.py --weights \"/content/yolov7/runs/train/yolov7-transfer/weights/best.pt\" --conf 0.25 --img-size 640 --source '/content/test/images/BloodImage_00044_jpg.rf.589ee3d351cb6d9a3f7b7a942da5370a.jpg' --save-txt --save-conf\n",
        "!python detect.py --weights yolov7.pt --conf 0.25 --img-size 640 --source inference/images/horses.jpg --save-txt --save-conf"
      ],
      "metadata": {
        "id": "YLn1YO0hQ72y"
      },
      "execution_count": null,
      "outputs": []
    },
    {
      "cell_type": "markdown",
      "source": [
        "在runs/detect/exp*/  看照片偵測後的成果"
      ],
      "metadata": {
        "id": "jBBt8xFjQ9rf"
      }
    },
    {
      "cell_type": "markdown",
      "source": [
        "#### More configs\n",
        "\n",
        "cfg/training/yolov7.yaml"
      ],
      "metadata": {
        "id": "jAe4kN1qQ-mr"
      }
    },
    {
      "cell_type": "markdown",
      "source": [
        "```yaml\n",
        "# parameters\n",
        "nc: 80  # number of classes\n",
        "depth_multiple: 1.0  # model depth multiple\n",
        "width_multiple: 1.0  # layer channel multiple\n",
        "\n",
        "# anchors\n",
        "anchors:\n",
        "  - [12,16, 19,36, 40,28]  # P3/8\n",
        "  - [36,75, 76,55, 72,146]  # P4/16\n",
        "  - [142,110, 192,243, 459,401]  # P5/32\n",
        "\n",
        "# yolov7 backbone\n",
        "# Conv: ch_out, kernel, stride, padding, groups\n",
        "backbone:\n",
        "  # [from, number, module, args]\n",
        "  # Stage 0\n",
        "  [[-1, 1, Conv, [32, 3, 1]],  # 0\n",
        "   # Stage 1\n",
        "   [-1, 1, Conv, [64, 3, 2]],  # 1-P1/2\n",
        "   [-1, 1, Conv, [64, 3, 1]],\n",
        "   # Stage 2\n",
        "   [-1, 1, Conv, [128, 3, 2]],  # 3-P2/4\n",
        "   # ELAN, 256\n",
        "   [-1, 1, Conv, [64, 1, 1]],  # -6\n",
        "   [-2, 1, Conv, [64, 1, 1]],  # -5\n",
        "   [-1, 1, Conv, [64, 3, 1]],\n",
        "   [-1, 1, Conv, [64, 3, 1]],  # -3\n",
        "   [-1, 1, Conv, [64, 3, 1]],\n",
        "   [-1, 1, Conv, [64, 3, 1]],  # -1\n",
        "   [[-1, -3, -5, -6], 1, Concat, [1]],\n",
        "   [-1, 1, Conv, [256, 1, 1]],  # 11\n",
        "   # Stage 3\n",
        "   # Down c_out = 256\n",
        "   [-1, 1, MP, []], # MP: MaxPooling\n",
        "   [-1, 1, Conv, [128, 1, 1]],\n",
        "   [-3, 1, Conv, [128, 1, 1]],\n",
        "   [-1, 1, Conv, [128, 3, 2]],\n",
        "   [[-1, -3], 1, Concat, [1]],  # 16-P3/8\n",
        "   # ELAN, 512\n",
        "   [-1, 1, Conv, [128, 1, 1]],\n",
        "   [-2, 1, Conv, [128, 1, 1]],\n",
        "   [-1, 1, Conv, [128, 3, 1]],\n",
        "   [-1, 1, Conv, [128, 3, 1]],\n",
        "   [-1, 1, Conv, [128, 3, 1]],\n",
        "   [-1, 1, Conv, [128, 3, 1]],\n",
        "   [[-1, -3, -5, -6], 1, Concat, [1]],\n",
        "   [-1, 1, Conv, [512, 1, 1]],  # 24\n",
        "   # Stage 4\n",
        "   [-1, 1, MP, []],\n",
        "   [-1, 1, Conv, [256, 1, 1]],\n",
        "   [-3, 1, Conv, [256, 1, 1]],\n",
        "   [-1, 1, Conv, [256, 3, 2]],\n",
        "   [[-1, -3], 1, Concat, [1]],  # 29-P4/16\n",
        "   # ELAN, 1024\n",
        "   [-1, 1, Conv, [256, 1, 1]],\n",
        "   [-2, 1, Conv, [256, 1, 1]],\n",
        "   [-1, 1, Conv, [256, 3, 1]],\n",
        "   [-1, 1, Conv, [256, 3, 1]],\n",
        "   [-1, 1, Conv, [256, 3, 1]],\n",
        "   [-1, 1, Conv, [256, 3, 1]],\n",
        "   [[-1, -3, -5, -6], 1, Concat, [1]],\n",
        "   [-1, 1, Conv, [1024, 1, 1]],  # 37\n",
        "   # Stage 5\n",
        "   [-1, 1, MP, []],\n",
        "   [-1, 1, Conv, [512, 1, 1]],\n",
        "   [-3, 1, Conv, [512, 1, 1]],\n",
        "   [-1, 1, Conv, [512, 3, 2]],\n",
        "   [[-1, -3], 1, Concat, [1]],  # 42-P5/32\n",
        "   # ELAN, 1024\n",
        "   [-1, 1, Conv, [256, 1, 1]],\n",
        "   [-2, 1, Conv, [256, 1, 1]],\n",
        "   [-1, 1, Conv, [256, 3, 1]],\n",
        "   [-1, 1, Conv, [256, 3, 1]],\n",
        "   [-1, 1, Conv, [256, 3, 1]],\n",
        "   [-1, 1, Conv, [256, 3, 1]],\n",
        "   [[-1, -3, -5, -6], 1, Concat, [1]],\n",
        "   [-1, 1, Conv, [1024, 1, 1]],  # 50\n",
        "  ]\n",
        "\n",
        "# yolov7 head\n",
        "head:\n",
        "  # Stage: 5\n",
        "  [[-1, 1, SPPCSPC, [512]], # 51\n",
        "   # Stage 4\n",
        "   # *2 Up, 512\n",
        "   [-1, 1, Conv, [256, 1, 1]],\n",
        "   [-1, 1, nn.Upsample, [None, 2, 'nearest']],\n",
        "   [37, 1, Conv, [256, 1, 1]], # route backbone P4\n",
        "   [[-1, -2], 1, Concat, [1]],\n",
        "   # ELAN, 256\n",
        "   [-1, 1, Conv, [256, 1, 1]], # -6\n",
        "   [-2, 1, Conv, [256, 1, 1]], # -5\n",
        "   [-1, 1, Conv, [128, 3, 1]],\n",
        "   [-1, 1, Conv, [128, 3, 1]],\n",
        "   [-1, 1, Conv, [128, 3, 1]],\n",
        "   [-1, 1, Conv, [128, 3, 1]],\n",
        "   [[-1, -2, -3, -4, -5, -6], 1, Concat, [1]],\n",
        "   [-1, 1, Conv, [256, 1, 1]], # 63\n",
        "   # Stage 3\n",
        "   # *2 Up, 512\n",
        "   [-1, 1, Conv, [128, 1, 1]],\n",
        "   [-1, 1, nn.Upsample, [None, 2, 'nearest']],\n",
        "   [24, 1, Conv, [128, 1, 1]], # route backbone P3\n",
        "   [[-1, -2], 1, Concat, [1]],\n",
        "   # ELAN, 128\n",
        "   [-1, 1, Conv, [128, 1, 1]],\n",
        "   [-2, 1, Conv, [128, 1, 1]],\n",
        "   [-1, 1, Conv, [64, 3, 1]],\n",
        "   [-1, 1, Conv, [64, 3, 1]],\n",
        "   [-1, 1, Conv, [64, 3, 1]],\n",
        "   [-1, 1, Conv, [64, 3, 1]],\n",
        "   [[-1, -2, -3, -4, -5, -6], 1, Concat, [1]],\n",
        "   [-1, 1, Conv, [128, 1, 1]], # 75\n",
        "   # Stage 4\n",
        "   # Down, 512\n",
        "   [-1, 1, MP, []],\n",
        "   [-1, 1, Conv, [128, 1, 1]],\n",
        "   [-3, 1, Conv, [128, 1, 1]],\n",
        "   [-1, 1, Conv, [128, 3, 2]],\n",
        "   [[-1, -3, 63], 1, Concat, [1]],\n",
        "   # ELAN, 256\n",
        "   [-1, 1, Conv, [256, 1, 1]],\n",
        "   [-2, 1, Conv, [256, 1, 1]],\n",
        "   [-1, 1, Conv, [128, 3, 1]],\n",
        "   [-1, 1, Conv, [128, 3, 1]],\n",
        "   [-1, 1, Conv, [128, 3, 1]],\n",
        "   [-1, 1, Conv, [128, 3, 1]],\n",
        "   [[-1, -2, -3, -4, -5, -6], 1, Concat, [1]],\n",
        "   [-1, 1, Conv, [256, 1, 1]], # 88\n",
        "   # Stage 5\n",
        "   # Down, 1024\n",
        "   [-1, 1, MP, []],\n",
        "   [-1, 1, Conv, [256, 1, 1]],\n",
        "   [-3, 1, Conv, [256, 1, 1]],\n",
        "   [-1, 1, Conv, [256, 3, 2]],\n",
        "   [[-1, -3, 51], 1, Concat, [1]],\n",
        "   # ELAN, 512\n",
        "   [-1, 1, Conv, [512, 1, 1]],\n",
        "   [-2, 1, Conv, [512, 1, 1]],\n",
        "   [-1, 1, Conv, [256, 3, 1]],\n",
        "   [-1, 1, Conv, [256, 3, 1]],\n",
        "   [-1, 1, Conv, [256, 3, 1]],\n",
        "   [-1, 1, Conv, [256, 3, 1]],\n",
        "   [[-1, -2, -3, -4, -5, -6], 1, Concat, [1]],\n",
        "   [-1, 1, Conv, [512, 1, 1]], # 101\n",
        "\n",
        "   [75, 1, RepConv, [256, 3, 1]],\n",
        "   [88, 1, RepConv, [512, 3, 1]],\n",
        "   [101, 1, RepConv, [1024, 3, 1]],\n",
        "\n",
        "   [[102,103,104], 1, IDetect, [nc, anchors]],   # Detect(P3, P4, P5)\n",
        "  ]\n",
        "\n",
        "```"
      ],
      "metadata": {
        "id": "dwKhJW73RIbM"
      }
    },
    {
      "cell_type": "markdown",
      "source": [
        "#### Important Files\n",
        "\n",
        "yolov7\n",
        "\n",
        "\n",
        "\n",
        "*   train.py: 訓練script\n",
        "*   test.py: 測試script\n",
        "* detect.py: 偵測圖片或影片\n",
        "* cfg/: 模型架構設定檔\n",
        "* data/: 資料集設定檔\n",
        "    * coco.yaml: 範例格式\n",
        "    * hyp.*.yaml: 超參數設定\n",
        "* models/: 模型程式碼\n",
        "    * yolo.py\n",
        "        * parse_model: yaml config轉模型\n",
        "    * common.py: 網路層\n",
        "* paper/: 論文pdf (含附錄)\n",
        "* tools/: demo 筆記本檔\n",
        "* utils/: 其他程式碼\n"
      ],
      "metadata": {
        "id": "WhfJ9D_bRKa2"
      }
    }
  ]
}