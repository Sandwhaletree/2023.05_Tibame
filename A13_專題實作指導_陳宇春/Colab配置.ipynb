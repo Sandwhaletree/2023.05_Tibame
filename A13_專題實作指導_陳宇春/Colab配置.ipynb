{
  "nbformat": 4,
  "nbformat_minor": 0,
  "metadata": {
    "accelerator": "GPU",
    "colab": {
      "provenance": [],
      "include_colab_link": true
    },
    "kernelspec": {
      "display_name": "Python 3",
      "language": "python",
      "name": "python3"
    },
    "language_info": {
      "codemirror_mode": {
        "name": "ipython",
        "version": 3
      },
      "file_extension": ".py",
      "mimetype": "text/x-python",
      "name": "python",
      "nbconvert_exporter": "python",
      "pygments_lexer": "ipython3",
      "version": "3.7.4"
    }
  },
  "cells": [
    {
      "cell_type": "markdown",
      "metadata": {
        "id": "view-in-github",
        "colab_type": "text"
      },
      "source": [
        "<a href=\"https://colab.research.google.com/github/Sandwhaletree/2023.05_Tibame/blob/main/A13_%E5%B0%88%E9%A1%8C%E5%AF%A6%E4%BD%9C%E6%8C%87%E5%B0%8E_%E9%99%B3%E5%AE%87%E6%98%A5/Colab%E9%85%8D%E7%BD%AE.ipynb\" target=\"_parent\"><img src=\"https://colab.research.google.com/assets/colab-badge.svg\" alt=\"Open In Colab\"/></a>"
      ]
    },
    {
      "cell_type": "code",
      "metadata": {
        "id": "WiyjU0O4Uds2"
      },
      "source": [
        "# 在 Colab Notebooks 掛載 Google Drive 雲端硬碟\n",
        "\n",
        "from google.colab import drive\n",
        "drive.mount(\"/content/drive\", force_remount=True)"
      ],
      "execution_count": null,
      "outputs": []
    },
    {
      "cell_type": "code",
      "metadata": {
        "id": "l4-uDIKrUrx6"
      },
      "source": [
        "import os\n",
        "path =\"/content/drive/My Drive/Colab Notebooks\" # Google Drive 雲端工作目錄\n",
        "os.chdir(path)\n",
        "!ls"
      ],
      "execution_count": null,
      "outputs": []
    },
    {
      "cell_type": "code",
      "metadata": {
        "id": "5I5toCW8UsD5",
        "outputId": "d238f59b-7e36-41b2-ff4b-58efde8dd2e8",
        "colab": {
          "base_uri": "https://localhost:8080/",
          "height": 34
        }
      },
      "source": [
        "!pwd # 目前工作目錄"
      ],
      "execution_count": null,
      "outputs": [
        {
          "output_type": "stream",
          "text": [
            "/content/drive/My Drive/Colab Notebooks\n"
          ],
          "name": "stdout"
        }
      ]
    },
    {
      "cell_type": "code",
      "metadata": {
        "id": "NuULn2HEUsSB",
        "outputId": "b0da7bf8-3d6a-4372-9cb9-0dfa39aaab77",
        "colab": {
          "base_uri": "https://localhost:8080/",
          "height": 34
        }
      },
      "source": [
        "import keras, tensorflow, torch # 掛載 keras, tensorflow, torch 套件"
      ],
      "execution_count": null,
      "outputs": [
        {
          "output_type": "stream",
          "text": [
            "Using TensorFlow backend.\n"
          ],
          "name": "stderr"
        }
      ]
    },
    {
      "cell_type": "code",
      "metadata": {
        "id": "x29euFCIWpjb",
        "outputId": "9247fc2f-1b4b-44fe-ff40-cdb220e40717",
        "colab": {
          "base_uri": "https://localhost:8080/",
          "height": 67
        }
      },
      "source": [
        "print (\"keras version:\", keras.__version__)  # 目前 keras 版本\n",
        "print (\"tensorflow version:\", tensorflow.__version__)  # 目前 tensorflow 版本\n",
        "print (\"torch version:\", torch.__version__)  # 目前 torch 版本"
      ],
      "execution_count": null,
      "outputs": [
        {
          "output_type": "stream",
          "text": [
            "keras version: 2.3.1\n",
            "tensorflow version: 2.2.0\n",
            "torch version: 1.5.0+cu101\n"
          ],
          "name": "stdout"
        }
      ]
    },
    {
      "cell_type": "code",
      "metadata": {
        "id": "twq-P3xPYdks"
      },
      "source": [
        "!pip list # 目前 Colab 已裝好的全部套件"
      ],
      "execution_count": null,
      "outputs": []
    },
    {
      "cell_type": "code",
      "metadata": {
        "id": "yBdtr7R7ZvMc",
        "outputId": "5f7f8c4d-ca83-4a74-e41f-9ff9251f9b04",
        "colab": {
          "base_uri": "https://localhost:8080/",
          "height": 121
        }
      },
      "source": [
        "# 測試 Tensorflow GPU, Torch GPU 是否啟動運行\n",
        "\n",
        "import tensorflow as tf\n",
        "import torch\n",
        "\n",
        "print('Tensorflow GPU:', tf.test.is_gpu_available())  # Tensorflow GPU 是否啟動運行\n",
        "print('Torch GPU:', torch.cuda.is_available())  # Torch GPU 是否啟動運行"
      ],
      "execution_count": null,
      "outputs": [
        {
          "output_type": "stream",
          "text": [
            "WARNING:tensorflow:From <ipython-input-5-ff0e6dd0877e>:6: is_gpu_available (from tensorflow.python.framework.test_util) is deprecated and will be removed in a future version.\n",
            "Instructions for updating:\n",
            "Use `tf.config.list_physical_devices('GPU')` instead.\n",
            "Tensorflow GPU: True\n",
            "Torch GPU: True\n"
          ],
          "name": "stdout"
        }
      ]
    },
    {
      "cell_type": "code",
      "metadata": {
        "id": "0RVvrK_Pahez"
      },
      "source": [
        "# 這裡開始編寫你的程式碼\n"
      ],
      "execution_count": null,
      "outputs": []
    }
  ]
}